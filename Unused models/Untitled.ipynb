{
 "cells": [
  {
   "cell_type": "markdown",
   "metadata": {
    "toc": true
   },
   "source": [
    "<h1>Table of Contents<span class=\"tocSkip\"></span></h1>\n",
    "<div class=\"toc\"><ul class=\"toc-item\"></ul></div>"
   ]
  },
  {
   "cell_type": "markdown",
   "metadata": {},
   "source": [
    "# Gradio practice "
   ]
  },
  {
   "cell_type": "code",
   "execution_count": 1,
   "metadata": {},
   "outputs": [],
   "source": [
    "# Importing libraries\n",
    "import numpy as np\n",
    "import pandas as pd\n",
    "import seaborn as sns\n",
    "# Importing data\n",
    "iris=sns.load_dataset(\"iris\")"
   ]
  },
  {
   "cell_type": "code",
   "execution_count": 2,
   "metadata": {},
   "outputs": [
    {
     "data": {
      "text/plain": [
       "SVC(probability=True)"
      ]
     },
     "execution_count": 2,
     "metadata": {},
     "output_type": "execute_result"
    }
   ],
   "source": [
    "from sklearn.model_selection import train_test_split\n",
    "X=iris.drop(\"species\",axis=1)\n",
    "y=iris[\"species\"]\n",
    "X_train, X_test, y_train, y_test = train_test_split(X, y, test_size=0.25)\n",
    "\n",
    "from sklearn.svm import SVC\n",
    "model = SVC(probability=True)\n",
    "model.fit(X_train,y_train)"
   ]
  },
  {
   "cell_type": "code",
   "execution_count": 3,
   "metadata": {},
   "outputs": [],
   "source": [
    "def predict_flower(sepal_length, sepal_width, petal_length, petal_width):\n",
    "   df = pd.DataFrame.from_dict({'Sepal Length':[sepal_length],\n",
    "                                'Sepal Width': [sepal_width],\n",
    "                                'Petal Length': [petal_length],  \n",
    "                                'Petal Width': [petal_width]})\n",
    "   predict = model.predict_proba(df)[0]\n",
    "   return {model.classes_[i]: predict[i] for i in range(3)}"
   ]
  },
  {
   "cell_type": "code",
   "execution_count": null,
   "metadata": {},
   "outputs": [
    {
     "name": "stdout",
     "output_type": "stream",
     "text": [
      "Requirement already satisfied: gradio in c:\\users\\jkrug\\anaconda3\\envs\\learn-env\\lib\\site-packages (3.16.1)\n",
      "Requirement already satisfied: orjson in c:\\users\\jkrug\\anaconda3\\envs\\learn-env\\lib\\site-packages (from gradio) (3.8.5)\n",
      "Requirement already satisfied: typing-extensions in c:\\users\\jkrug\\anaconda3\\envs\\learn-env\\lib\\site-packages (from gradio) (4.4.0)\n",
      "Requirement already satisfied: pydub in c:\\users\\jkrug\\anaconda3\\envs\\learn-env\\lib\\site-packages (from gradio) (0.25.1)\n",
      "Requirement already satisfied: jinja2 in c:\\users\\jkrug\\anaconda3\\envs\\learn-env\\lib\\site-packages (from gradio) (2.11.2)\n",
      "Requirement already satisfied: markupsafe in c:\\users\\jkrug\\anaconda3\\envs\\learn-env\\lib\\site-packages (from gradio) (1.1.1)\n",
      "Requirement already satisfied: matplotlib in c:\\users\\jkrug\\anaconda3\\envs\\learn-env\\lib\\site-packages (from gradio) (3.3.1)\n",
      "Requirement already satisfied: fsspec in c:\\users\\jkrug\\anaconda3\\envs\\learn-env\\lib\\site-packages (from gradio) (2022.11.0)\n",
      "Requirement already satisfied: fastapi in c:\\users\\jkrug\\anaconda3\\envs\\learn-env\\lib\\site-packages (from gradio) (0.89.1)\n",
      "Requirement already satisfied: numpy in c:\\users\\jkrug\\anaconda3\\envs\\learn-env\\lib\\site-packages (from gradio) (1.18.5)\n",
      "Requirement already satisfied: httpx in c:\\users\\jkrug\\anaconda3\\envs\\learn-env\\lib\\site-packages (from gradio) (0.23.3)\n",
      "Requirement already satisfied: websockets>=10.0 in c:\\users\\jkrug\\anaconda3\\envs\\learn-env\\lib\\site-packages (from gradio) (10.4)\n",
      "Requirement already satisfied: pandas in c:\\users\\jkrug\\anaconda3\\envs\\learn-env\\lib\\site-packages (from gradio) (1.1.3)\n",
      "Requirement already satisfied: altair>=4.2.0 in c:\\users\\jkrug\\anaconda3\\envs\\learn-env\\lib\\site-packages (from gradio) (4.2.0)\n",
      "Requirement already satisfied: pycryptodome in c:\\users\\jkrug\\anaconda3\\envs\\learn-env\\lib\\site-packages (from gradio) (3.16.0)\n",
      "Requirement already satisfied: uvicorn in c:\\users\\jkrug\\anaconda3\\envs\\learn-env\\lib\\site-packages (from gradio) (0.20.0)\n",
      "Requirement already satisfied: ffmpy in c:\\users\\jkrug\\anaconda3\\envs\\learn-env\\lib\\site-packages (from gradio) (0.3.0)\n",
      "Requirement already satisfied: pillow in c:\\users\\jkrug\\anaconda3\\envs\\learn-env\\lib\\site-packages (from gradio) (8.0.0)\n",
      "Requirement already satisfied: python-multipart in c:\\users\\jkrug\\anaconda3\\envs\\learn-env\\lib\\site-packages (from gradio) (0.0.5)\n",
      "Requirement already satisfied: aiohttp in c:\\users\\jkrug\\anaconda3\\envs\\learn-env\\lib\\site-packages (from gradio) (3.6.3)\n",
      "Requirement already satisfied: pydantic in c:\\users\\jkrug\\anaconda3\\envs\\learn-env\\lib\\site-packages (from gradio) (1.10.4)\n",
      "Requirement already satisfied: pyyaml in c:\\users\\jkrug\\anaconda3\\envs\\learn-env\\lib\\site-packages (from gradio) (5.3.1)\n",
      "Requirement already satisfied: requests in c:\\users\\jkrug\\anaconda3\\envs\\learn-env\\lib\\site-packages (from gradio) (2.24.0)\n",
      "Requirement already satisfied: markdown-it-py[linkify,plugins] in c:\\users\\jkrug\\anaconda3\\envs\\learn-env\\lib\\site-packages (from gradio) (2.1.0)\n",
      "Requirement already satisfied: cycler>=0.10 in c:\\users\\jkrug\\anaconda3\\envs\\learn-env\\lib\\site-packages (from matplotlib->gradio) (0.10.0)\n",
      "Requirement already satisfied: certifi>=2020.06.20 in c:\\users\\jkrug\\anaconda3\\envs\\learn-env\\lib\\site-packages (from matplotlib->gradio) (2022.12.7)\n",
      "Requirement already satisfied: python-dateutil>=2.1 in c:\\users\\jkrug\\anaconda3\\envs\\learn-env\\lib\\site-packages (from matplotlib->gradio) (2.8.1)\n",
      "Requirement already satisfied: pyparsing!=2.0.4,!=2.1.2,!=2.1.6,>=2.0.3 in c:\\users\\jkrug\\anaconda3\\envs\\learn-env\\lib\\site-packages (from matplotlib->gradio) (2.4.7)\n",
      "Requirement already satisfied: kiwisolver>=1.0.1 in c:\\users\\jkrug\\anaconda3\\envs\\learn-env\\lib\\site-packages (from matplotlib->gradio) (1.2.0)\n",
      "Requirement already satisfied: starlette==0.22.0 in c:\\users\\jkrug\\anaconda3\\envs\\learn-env\\lib\\site-packages (from fastapi->gradio) (0.22.0)\n",
      "Requirement already satisfied: httpcore<0.17.0,>=0.15.0 in c:\\users\\jkrug\\anaconda3\\envs\\learn-env\\lib\\site-packages (from httpx->gradio) (0.16.3)\n",
      "Requirement already satisfied: sniffio in c:\\users\\jkrug\\anaconda3\\envs\\learn-env\\lib\\site-packages (from httpx->gradio) (1.3.0)\n",
      "Requirement already satisfied: rfc3986[idna2008]<2,>=1.3 in c:\\users\\jkrug\\anaconda3\\envs\\learn-env\\lib\\site-packages (from httpx->gradio) (1.5.0)\n",
      "Requirement already satisfied: pytz>=2017.2 in c:\\users\\jkrug\\anaconda3\\envs\\learn-env\\lib\\site-packages (from pandas->gradio) (2020.1)\n",
      "Requirement already satisfied: jsonschema>=3.0 in c:\\users\\jkrug\\anaconda3\\envs\\learn-env\\lib\\site-packages (from altair>=4.2.0->gradio) (3.2.0)\n",
      "Requirement already satisfied: toolz in c:\\users\\jkrug\\anaconda3\\envs\\learn-env\\lib\\site-packages (from altair>=4.2.0->gradio) (0.12.0)\n",
      "Requirement already satisfied: entrypoints in c:\\users\\jkrug\\anaconda3\\envs\\learn-env\\lib\\site-packages (from altair>=4.2.0->gradio) (0.3)\n",
      "Requirement already satisfied: h11>=0.8 in c:\\users\\jkrug\\anaconda3\\envs\\learn-env\\lib\\site-packages (from uvicorn->gradio) (0.14.0)\n",
      "Requirement already satisfied: click>=7.0 in c:\\users\\jkrug\\anaconda3\\envs\\learn-env\\lib\\site-packages (from uvicorn->gradio) (7.1.2)\n",
      "Requirement already satisfied: six>=1.4.0 in c:\\users\\jkrug\\anaconda3\\envs\\learn-env\\lib\\site-packages (from python-multipart->gradio) (1.15.0)\n",
      "Requirement already satisfied: multidict<5.0,>=4.5 in c:\\users\\jkrug\\anaconda3\\envs\\learn-env\\lib\\site-packages (from aiohttp->gradio) (4.7.5)\n",
      "Requirement already satisfied: async-timeout<4.0,>=3.0 in c:\\users\\jkrug\\anaconda3\\envs\\learn-env\\lib\\site-packages (from aiohttp->gradio) (3.0.1)\n",
      "Requirement already satisfied: yarl<1.6.0,>=1.0 in c:\\users\\jkrug\\anaconda3\\envs\\learn-env\\lib\\site-packages (from aiohttp->gradio) (1.5.1)\n",
      "Requirement already satisfied: chardet<4.0,>=2.0 in c:\\users\\jkrug\\anaconda3\\envs\\learn-env\\lib\\site-packages (from aiohttp->gradio) (3.0.4)\n",
      "Requirement already satisfied: attrs>=17.3.0 in c:\\users\\jkrug\\anaconda3\\envs\\learn-env\\lib\\site-packages (from aiohttp->gradio) (20.2.0)\n",
      "Requirement already satisfied: idna<3,>=2.5 in c:\\users\\jkrug\\anaconda3\\envs\\learn-env\\lib\\site-packages (from requests->gradio) (2.10)\n",
      "Requirement already satisfied: urllib3!=1.25.0,!=1.25.1,<1.26,>=1.21.1 in c:\\users\\jkrug\\anaconda3\\envs\\learn-env\\lib\\site-packages (from requests->gradio) (1.25.10)\n",
      "Requirement already satisfied: mdurl~=0.1 in c:\\users\\jkrug\\anaconda3\\envs\\learn-env\\lib\\site-packages (from markdown-it-py[linkify,plugins]->gradio) (0.1.2)\n",
      "Requirement already satisfied: linkify-it-py~=1.0; extra == \"linkify\" in c:\\users\\jkrug\\anaconda3\\envs\\learn-env\\lib\\site-packages (from markdown-it-py[linkify,plugins]->gradio) (1.0.3)\n",
      "Requirement already satisfied: mdit-py-plugins; extra == \"plugins\" in c:\\users\\jkrug\\anaconda3\\envs\\learn-env\\lib\\site-packages (from markdown-it-py[linkify,plugins]->gradio) (0.3.3)\n",
      "Requirement already satisfied: anyio<5,>=3.4.0 in c:\\users\\jkrug\\anaconda3\\envs\\learn-env\\lib\\site-packages (from starlette==0.22.0->fastapi->gradio) (3.6.2)\n",
      "Requirement already satisfied: pyrsistent>=0.14.0 in c:\\users\\jkrug\\anaconda3\\envs\\learn-env\\lib\\site-packages (from jsonschema>=3.0->altair>=4.2.0->gradio) (0.17.3)\n",
      "Requirement already satisfied: setuptools in c:\\users\\jkrug\\anaconda3\\envs\\learn-env\\lib\\site-packages (from jsonschema>=3.0->altair>=4.2.0->gradio) (50.3.0.post20201103)\n",
      "Requirement already satisfied: uc-micro-py in c:\\users\\jkrug\\anaconda3\\envs\\learn-env\\lib\\site-packages (from linkify-it-py~=1.0; extra == \"linkify\"->markdown-it-py[linkify,plugins]->gradio) (1.0.1)\n"
     ]
    },
    {
     "name": "stderr",
     "output_type": "stream",
     "text": [
      "C:\\Users\\jkrug\\anaconda3\\envs\\learn-env\\lib\\site-packages\\gradio\\inputs.py:89: UserWarning: Usage of gradio.inputs is deprecated, and will not be supported in the future, please import your component from gradio.components\n",
      "  warnings.warn(\n",
      "C:\\Users\\jkrug\\anaconda3\\envs\\learn-env\\lib\\site-packages\\gradio\\deprecation.py:40: UserWarning: `optional` parameter is deprecated, and it has no effect\n",
      "  warnings.warn(value)\n",
      "C:\\Users\\jkrug\\anaconda3\\envs\\learn-env\\lib\\site-packages\\gradio\\blocks.py:218: UserWarning: api_name predict already exists, using predict_1\n",
      "  warnings.warn(\n",
      "C:\\Users\\jkrug\\anaconda3\\envs\\learn-env\\lib\\site-packages\\gradio\\blocks.py:218: UserWarning: api_name predict already exists, using predict_2\n",
      "  warnings.warn(\n",
      "C:\\Users\\jkrug\\anaconda3\\envs\\learn-env\\lib\\site-packages\\gradio\\blocks.py:218: UserWarning: api_name predict already exists, using predict_3\n",
      "  warnings.warn(\n"
     ]
    },
    {
     "name": "stdout",
     "output_type": "stream",
     "text": [
      "Running on local URL:  http://127.0.0.1:7860\n",
      "\n",
      "Could not create share link, please check your internet connection.\n"
     ]
    },
    {
     "data": {
      "text/html": [
       "<div><iframe src=\"http://127.0.0.1:7860/\" width=\"100%\" height=\"500\" allow=\"autoplay; camera; microphone; clipboard-read; clipboard-write;\" frameborder=\"0\" allowfullscreen></iframe></div>"
      ],
      "text/plain": [
       "<IPython.core.display.HTML object>"
      ]
     },
     "metadata": {},
     "output_type": "display_data"
    }
   ],
   "source": [
    "# Installing and importing Gradio\n",
    "!pip install gradio\n",
    "import gradio as gr\n",
    "sepal_length = gr.inputs.Slider(minimum=0, maximum=10, default=5, label=\"sepal_length\")\n",
    "sepal_width = gr.inputs.Slider(minimum=0, maximum=10, default=5, label=\"sepal_width\")\n",
    "petal_length = gr.inputs.Slider(minimum=0, maximum=10, default=5, label=\"petal_length\")\n",
    "petal_width = gr.inputs.Slider(minimum=0, maximum=10, default=5, label=\"petal_width\")\n",
    "gr.Interface(predict_flower, [sepal_length, sepal_width, petal_length, petal_width], \"label\", live=True, interpretation=\"default\").launch(debug=True)"
   ]
  },
  {
   "cell_type": "code",
   "execution_count": null,
   "metadata": {},
   "outputs": [],
   "source": []
  }
 ],
 "metadata": {
  "kernelspec": {
   "display_name": "Python (learn-env)",
   "language": "python",
   "name": "lean-env"
  },
  "language_info": {
   "codemirror_mode": {
    "name": "ipython",
    "version": 3
   },
   "file_extension": ".py",
   "mimetype": "text/x-python",
   "name": "python",
   "nbconvert_exporter": "python",
   "pygments_lexer": "ipython3",
   "version": "3.8.5"
  },
  "toc": {
   "base_numbering": 1,
   "nav_menu": {},
   "number_sections": true,
   "sideBar": true,
   "skip_h1_title": true,
   "title_cell": "Table of Contents",
   "title_sidebar": "Contents",
   "toc_cell": true,
   "toc_position": {},
   "toc_section_display": true,
   "toc_window_display": false
  }
 },
 "nbformat": 4,
 "nbformat_minor": 4
}
