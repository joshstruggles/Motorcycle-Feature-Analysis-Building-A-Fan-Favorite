{
 "cells": [
  {
   "cell_type": "markdown",
   "metadata": {},
   "source": [
    "# Phase 3 Project\n",
    "\n",
    "Student: Joshua Ruggles<br>\n",
    "Instructor: Joe Comeaux/Morgan Jones<br>\n",
    "Data Science Flex"
   ]
  },
  {
   "cell_type": "markdown",
   "metadata": {
    "toc": true
   },
   "source": [
    "<h1>Table of Contents<span class=\"tocSkip\"></span></h1>\n",
    "<div class=\"toc\"><ul class=\"toc-item\"><li><span><a href=\"#Business-Problem\" data-toc-modified-id=\"Business-Problem-1\"><span class=\"toc-item-num\">1&nbsp;&nbsp;</span>Business Problem</a></span><ul class=\"toc-item\"><li><span><a href=\"#Ever-heard-of-'acabion'?\" data-toc-modified-id=\"Ever-heard-of-'acabion'?-1.1\"><span class=\"toc-item-num\">1.1&nbsp;&nbsp;</span>Ever heard of 'acabion'?</a></span></li></ul></li><li><span><a href=\"#Brands-you've-never-heard-of-aside,-what-are-we-looking-for?\" data-toc-modified-id=\"Brands-you've-never-heard-of-aside,-what-are-we-looking-for?-2\"><span class=\"toc-item-num\">2&nbsp;&nbsp;</span>Brands you've never heard of aside, what are we looking for?</a></span></li><li><span><a href=\"#What-makes-a-rating,-good?\" data-toc-modified-id=\"What-makes-a-rating,-good?-3\"><span class=\"toc-item-num\">3&nbsp;&nbsp;</span>What makes a rating, good?</a></span><ul class=\"toc-item\"><li><span><a href=\"#Yamaha-MT-07-&amp;-Suzuki-SV650\" data-toc-modified-id=\"Yamaha-MT-07-&amp;-Suzuki-SV650-3.1\"><span class=\"toc-item-num\">3.1&nbsp;&nbsp;</span>Yamaha MT-07 &amp; Suzuki SV650</a></span></li><li><span><a href=\"#Binary-values-for-'Rating'\" data-toc-modified-id=\"Binary-values-for-'Rating'-3.2\"><span class=\"toc-item-num\">3.2&nbsp;&nbsp;</span>Binary values for 'Rating'</a></span></li></ul></li><li><span><a href=\"#Preprocessing-data-for-train_test_split\" data-toc-modified-id=\"Preprocessing-data-for-train_test_split-4\"><span class=\"toc-item-num\">4&nbsp;&nbsp;</span>Preprocessing data for train_test_split</a></span><ul class=\"toc-item\"><li><span><a href=\"#Model-with-torque-numbers-intact\" data-toc-modified-id=\"Model-with-torque-numbers-intact-4.1\"><span class=\"toc-item-num\">4.1&nbsp;&nbsp;</span>Model with torque numbers intact</a></span></li><li><span><a href=\"#If-the-value-is-null,-it-has-to-go\" data-toc-modified-id=\"If-the-value-is-null,-it-has-to-go-4.2\"><span class=\"toc-item-num\">4.2&nbsp;&nbsp;</span>If the value is null, it has to go</a></span></li><li><span><a href=\"#Correlation-to-'Rating_'\" data-toc-modified-id=\"Correlation-to-'Rating_'-4.3\"><span class=\"toc-item-num\">4.3&nbsp;&nbsp;</span>Correlation to 'Rating_'</a></span></li><li><span><a href=\"#Dummy-categorical-columns\" data-toc-modified-id=\"Dummy-categorical-columns-4.4\"><span class=\"toc-item-num\">4.4&nbsp;&nbsp;</span>Dummy categorical columns</a></span></li><li><span><a href=\"#train_test_split\" data-toc-modified-id=\"train_test_split-4.5\"><span class=\"toc-item-num\">4.5&nbsp;&nbsp;</span>train_test_split</a></span></li></ul></li><li><span><a href=\"#Baseline-Models\" data-toc-modified-id=\"Baseline-Models-5\"><span class=\"toc-item-num\">5&nbsp;&nbsp;</span>Baseline Models</a></span><ul class=\"toc-item\"><li><span><a href=\"#Baseline-Model-1.0:\" data-toc-modified-id=\"Baseline-Model-1.0:-5.1\"><span class=\"toc-item-num\">5.1&nbsp;&nbsp;</span>Baseline Model 1.0:</a></span></li><li><span><a href=\"#KNN:-K-Nearest-Neighbors\" data-toc-modified-id=\"KNN:-K-Nearest-Neighbors-5.2\"><span class=\"toc-item-num\">5.2&nbsp;&nbsp;</span>KNN: K-Nearest-Neighbors</a></span></li><li><span><a href=\"#BaggingClassifier()-1.0:\" data-toc-modified-id=\"BaggingClassifier()-1.0:-5.3\"><span class=\"toc-item-num\">5.3&nbsp;&nbsp;</span>BaggingClassifier() 1.0:</a></span></li><li><span><a href=\"#BaggingClassifier()-2.0:\" data-toc-modified-id=\"BaggingClassifier()-2.0:-5.4\"><span class=\"toc-item-num\">5.4&nbsp;&nbsp;</span>BaggingClassifier() 2.0:</a></span></li><li><span><a href=\"#feature_importance-of-BaggingClassifier()-2.0\" data-toc-modified-id=\"feature_importance-of-BaggingClassifier()-2.0-5.5\"><span class=\"toc-item-num\">5.5&nbsp;&nbsp;</span>feature_importance of BaggingClassifier() 2.0</a></span></li></ul></li><li><span><a href=\"#The-Model\" data-toc-modified-id=\"The-Model-6\"><span class=\"toc-item-num\">6&nbsp;&nbsp;</span>The Model</a></span><ul class=\"toc-item\"><li><span><a href=\"#Harley-Davidson-Street-500:-Testing-a-'bad'-motorcycle\" data-toc-modified-id=\"Harley-Davidson-Street-500:-Testing-a-'bad'-motorcycle-6.1\"><span class=\"toc-item-num\">6.1&nbsp;&nbsp;</span>Harley-Davidson Street 500: Testing a 'bad' motorcycle</a></span><ul class=\"toc-item\"><li><span><a href=\"#Preprocessing-our-model-for-the-FI-Cruiser\" data-toc-modified-id=\"Preprocessing-our-model-for-the-FI-Cruiser-6.1.1\"><span class=\"toc-item-num\">6.1.1&nbsp;&nbsp;</span>Preprocessing our model for the FI Cruiser</a></span></li></ul></li><li><span><a href=\"#Fi's-Cruiser,-but-let's-make-it-good\" data-toc-modified-id=\"Fi's-Cruiser,-but-let's-make-it-good-6.2\"><span class=\"toc-item-num\">6.2&nbsp;&nbsp;</span>Fi's Cruiser, but let's make it good</a></span></li></ul></li></ul></div>"
   ]
  },
  {
   "cell_type": "markdown",
   "metadata": {},
   "source": [
    "# Project Overview\n",
    "\n",
    "For this project we will look at feature importance in the rating of a proposed new motorcycle. Specifically we will be using classification tools from sklearn. We will be utilizing the \"all_bikez_curated.csv\" file from Kaggle, curated by Emmanuel F. Werr"
   ]
  },
  {
   "cell_type": "markdown",
   "metadata": {},
   "source": [
    "## Business Problem\n",
    "Our data science team has been contracted by a fairly new up and coming motorcycle manufacturer, FI that is struggling to find their new formula for a 'fan favorite' motorcycle. \n",
    "<br><br>\n",
    "Being a company of motorcycle riders, they have tasked our team to come up with a plan to replicate the successes of platforms like the Yamaha MT-07 and the Suzuki SV650. FI's ultimate desire, figure out what makes a motorcycle that people want to ride.\n",
    "\n",
    "\n",
    "<img src=\"pictures/Andrew-SV650-1.webp\"  />\n",
    "<center>Tarmac to track: The SV650 affordably does it all<br>\n",
    "Suzuki SV650 on track, courtesy of Bennetts Insurance\n",
    "</center>"
   ]
  },
  {
   "cell_type": "markdown",
   "metadata": {},
   "source": [
    "Further reading: \n",
    "\n",
    "Yamaha MT-07:<br> https://www.motorcyclenews.com/bike-reviews/yamaha/mt-07/2021/<br><br>https://www.motorcyclenews.com/bike-reviews/yamaha/mt-07/2014/<br><br>\n",
    "https://www.youtube.com/watch?v=RUp2_7RhZEo\n",
    "\n",
    "Suzuki SV650:<br> https://www.44teeth.com/suzuki-sv650-best-bike-ever/ <br><br>https://timeless2wheels.com/604079/suzuki-sv650/"
   ]
  },
  {
   "cell_type": "code",
   "execution_count": 1,
   "metadata": {
    "scrolled": false
   },
   "outputs": [
    {
     "data": {
      "text/html": [
       "<div>\n",
       "<style scoped>\n",
       "    .dataframe tbody tr th:only-of-type {\n",
       "        vertical-align: middle;\n",
       "    }\n",
       "\n",
       "    .dataframe tbody tr th {\n",
       "        vertical-align: top;\n",
       "    }\n",
       "\n",
       "    .dataframe thead th {\n",
       "        text-align: right;\n",
       "    }\n",
       "</style>\n",
       "<table border=\"1\" class=\"dataframe\">\n",
       "  <thead>\n",
       "    <tr style=\"text-align: right;\">\n",
       "      <th></th>\n",
       "      <th>Brand</th>\n",
       "      <th>Model</th>\n",
       "      <th>Year</th>\n",
       "      <th>Category</th>\n",
       "      <th>Rating</th>\n",
       "      <th>Displacement (ccm)</th>\n",
       "      <th>Power (hp)</th>\n",
       "      <th>Torque (Nm)</th>\n",
       "      <th>Engine cylinder</th>\n",
       "      <th>Engine stroke</th>\n",
       "      <th>...</th>\n",
       "      <th>Dry weight (kg)</th>\n",
       "      <th>Wheelbase (mm)</th>\n",
       "      <th>Seat height (mm)</th>\n",
       "      <th>Front brakes</th>\n",
       "      <th>Rear brakes</th>\n",
       "      <th>Front tire</th>\n",
       "      <th>Rear tire</th>\n",
       "      <th>Front suspension</th>\n",
       "      <th>Rear suspension</th>\n",
       "      <th>Color options</th>\n",
       "    </tr>\n",
       "  </thead>\n",
       "  <tbody>\n",
       "    <tr>\n",
       "      <th>0</th>\n",
       "      <td>acabion</td>\n",
       "      <td>da vinci 650-vi</td>\n",
       "      <td>2011</td>\n",
       "      <td>Prototype / concept model</td>\n",
       "      <td>3.2</td>\n",
       "      <td>NaN</td>\n",
       "      <td>804.0</td>\n",
       "      <td>NaN</td>\n",
       "      <td>Electric</td>\n",
       "      <td>Electric</td>\n",
       "      <td>...</td>\n",
       "      <td>420.0</td>\n",
       "      <td>NaN</td>\n",
       "      <td>NaN</td>\n",
       "      <td>Single disc</td>\n",
       "      <td>Single disc</td>\n",
       "      <td>NaN</td>\n",
       "      <td>NaN</td>\n",
       "      <td>NaN</td>\n",
       "      <td>NaN</td>\n",
       "      <td>NaN</td>\n",
       "    </tr>\n",
       "    <tr>\n",
       "      <th>1</th>\n",
       "      <td>acabion</td>\n",
       "      <td>gtbo 55</td>\n",
       "      <td>2007</td>\n",
       "      <td>Sport</td>\n",
       "      <td>2.6</td>\n",
       "      <td>1300.0</td>\n",
       "      <td>541.0</td>\n",
       "      <td>420.0</td>\n",
       "      <td>In-line four</td>\n",
       "      <td>four-stroke</td>\n",
       "      <td>...</td>\n",
       "      <td>360.0</td>\n",
       "      <td>NaN</td>\n",
       "      <td>NaN</td>\n",
       "      <td>NaN</td>\n",
       "      <td>NaN</td>\n",
       "      <td>NaN</td>\n",
       "      <td>NaN</td>\n",
       "      <td>NaN</td>\n",
       "      <td>NaN</td>\n",
       "      <td>NaN</td>\n",
       "    </tr>\n",
       "    <tr>\n",
       "      <th>2</th>\n",
       "      <td>acabion</td>\n",
       "      <td>gtbo 600 daytona-vi</td>\n",
       "      <td>2011</td>\n",
       "      <td>Prototype / concept model</td>\n",
       "      <td>3.5</td>\n",
       "      <td>NaN</td>\n",
       "      <td>536.0</td>\n",
       "      <td>NaN</td>\n",
       "      <td>Electric</td>\n",
       "      <td>Electric</td>\n",
       "      <td>...</td>\n",
       "      <td>420.0</td>\n",
       "      <td>NaN</td>\n",
       "      <td>NaN</td>\n",
       "      <td>Single disc</td>\n",
       "      <td>Single disc</td>\n",
       "      <td>NaN</td>\n",
       "      <td>NaN</td>\n",
       "      <td>NaN</td>\n",
       "      <td>NaN</td>\n",
       "      <td>NaN</td>\n",
       "    </tr>\n",
       "    <tr>\n",
       "      <th>3</th>\n",
       "      <td>acabion</td>\n",
       "      <td>gtbo 600 daytona-vi</td>\n",
       "      <td>2021</td>\n",
       "      <td>Prototype / concept model</td>\n",
       "      <td>NaN</td>\n",
       "      <td>NaN</td>\n",
       "      <td>536.0</td>\n",
       "      <td>NaN</td>\n",
       "      <td>Electric</td>\n",
       "      <td>Electric</td>\n",
       "      <td>...</td>\n",
       "      <td>420.0</td>\n",
       "      <td>NaN</td>\n",
       "      <td>NaN</td>\n",
       "      <td>Single disc</td>\n",
       "      <td>Single disc</td>\n",
       "      <td>NaN</td>\n",
       "      <td>NaN</td>\n",
       "      <td>NaN</td>\n",
       "      <td>NaN</td>\n",
       "      <td>NaN</td>\n",
       "    </tr>\n",
       "    <tr>\n",
       "      <th>4</th>\n",
       "      <td>acabion</td>\n",
       "      <td>gtbo 70</td>\n",
       "      <td>2007</td>\n",
       "      <td>Prototype / concept model</td>\n",
       "      <td>3.1</td>\n",
       "      <td>1300.0</td>\n",
       "      <td>689.0</td>\n",
       "      <td>490.0</td>\n",
       "      <td>In-line four</td>\n",
       "      <td>four-stroke</td>\n",
       "      <td>...</td>\n",
       "      <td>300.0</td>\n",
       "      <td>NaN</td>\n",
       "      <td>NaN</td>\n",
       "      <td>NaN</td>\n",
       "      <td>NaN</td>\n",
       "      <td>NaN</td>\n",
       "      <td>NaN</td>\n",
       "      <td>NaN</td>\n",
       "      <td>NaN</td>\n",
       "      <td>Custom made.</td>\n",
       "    </tr>\n",
       "  </tbody>\n",
       "</table>\n",
       "<p>5 rows × 28 columns</p>\n",
       "</div>"
      ],
      "text/plain": [
       "     Brand                Model  Year                   Category  Rating  \\\n",
       "0  acabion      da vinci 650-vi  2011  Prototype / concept model     3.2   \n",
       "1  acabion              gtbo 55  2007                      Sport     2.6   \n",
       "2  acabion  gtbo 600 daytona-vi  2011  Prototype / concept model     3.5   \n",
       "3  acabion  gtbo 600 daytona-vi  2021  Prototype / concept model     NaN   \n",
       "4  acabion              gtbo 70  2007  Prototype / concept model     3.1   \n",
       "\n",
       "   Displacement (ccm)  Power (hp)  Torque (Nm) Engine cylinder Engine stroke  \\\n",
       "0                 NaN       804.0          NaN        Electric      Electric   \n",
       "1              1300.0       541.0        420.0    In-line four   four-stroke   \n",
       "2                 NaN       536.0          NaN        Electric      Electric   \n",
       "3                 NaN       536.0          NaN        Electric      Electric   \n",
       "4              1300.0       689.0        490.0    In-line four   four-stroke   \n",
       "\n",
       "   ... Dry weight (kg)  Wheelbase (mm) Seat height (mm)  Front brakes  \\\n",
       "0  ...           420.0             NaN              NaN   Single disc   \n",
       "1  ...           360.0             NaN              NaN           NaN   \n",
       "2  ...           420.0             NaN              NaN   Single disc   \n",
       "3  ...           420.0             NaN              NaN   Single disc   \n",
       "4  ...           300.0             NaN              NaN           NaN   \n",
       "\n",
       "   Rear brakes Front tire Rear tire Front suspension  Rear suspension  \\\n",
       "0  Single disc        NaN       NaN              NaN              NaN   \n",
       "1          NaN        NaN       NaN              NaN              NaN   \n",
       "2  Single disc        NaN       NaN              NaN              NaN   \n",
       "3  Single disc        NaN       NaN              NaN              NaN   \n",
       "4          NaN        NaN       NaN              NaN              NaN   \n",
       "\n",
       "   Color options  \n",
       "0            NaN  \n",
       "1            NaN  \n",
       "2            NaN  \n",
       "3            NaN  \n",
       "4   Custom made.  \n",
       "\n",
       "[5 rows x 28 columns]"
      ]
     },
     "execution_count": 1,
     "metadata": {},
     "output_type": "execute_result"
    }
   ],
   "source": [
    "# Import warnings \n",
    "import warnings\n",
    "warnings.filterwarnings('ignore')\n",
    "\n",
    "# Import pandas to read our data\n",
    "import pandas as pd\n",
    "# 'all_bikez_curated.csv', with a 'z'\n",
    "df = pd.read_csv('all_bikez_curated.csv')\n",
    "# Show our data \n",
    "df.head()"
   ]
  },
  {
   "cell_type": "code",
   "execution_count": 2,
   "metadata": {},
   "outputs": [],
   "source": [
    "'''\n",
    "In order to save us some effort down the road during the prediction phase of this notebook, let's \n",
    "create a variable, now that will mirror the model and train_test_split. \n",
    "'''\n",
    "ds = pd.read_csv('all_bikez_curated.csv')"
   ]
  },
  {
   "cell_type": "markdown",
   "metadata": {},
   "source": [
    "### Ever heard of 'acabion'? \n",
    "\n",
    "<img src=\"pictures/acabion_2.jpg\" />\n",
    "<center>Acabion GTBO450 (Not listed in dataset)</center>\n",
    "\n",
    "Let's look at the unique values for 'Brand' as it would immediately appear that we probably aren't familiar with all of these motorcycles. Also, at ~700 hp, this thing seems more plane than bike."
   ]
  },
  {
   "cell_type": "code",
   "execution_count": 3,
   "metadata": {},
   "outputs": [
    {
     "data": {
      "text/plain": [
       "array(['acabion', 'access', 'ace', 'adiva', 'adler', 'adly', 'aeon',\n",
       "       'aermacchi', 'agrati', 'ajp', 'ajs', 'alfer', 'alligator',\n",
       "       'allstate', 'alphasports', 'alta', 'amazonas', 'american eagle',\n",
       "       'american ironhorse', 'apc', 'aprilia', 'apsonic', 'arch',\n",
       "       'arctic cat', 'ardie', 'ariel', 'arlen ness', 'arqin', 'askoll',\n",
       "       'aspes', 'ather', 'atk', 'atlas honda', 'aurora',\n",
       "       'avanturaa choppers', 'avinton', 'avon', 'azel', 'bajaj', 'balkan',\n",
       "       'baltmotors', 'bamx', 'baotian', 'barossa', 'batavus', 'beeline',\n",
       "       'benelli', 'bennche', 'beta', 'better', 'big bear choppers',\n",
       "       'big dog', 'bimota', 'bintelli', 'black douglas', 'blackburne',\n",
       "       'blata', 'bluroc', 'bmc choppers', 'bmw', 'boom trikes', 'borile',\n",
       "       'boss hoss', 'bourget', 'bpg', 'brammo', 'bridgestone', 'britten',\n",
       "       'brixton', 'brockhouse', 'brough superior', 'brudeli', 'bsa',\n",
       "       'buccimoto', 'buell', 'bullit', 'bultaco', 'cagiva',\n",
       "       'california scooter', 'can-am', 'capirelli', 'cargobike', 'casal',\n",
       "       'caterham', 'ccm', 'cectek', 'cf moto', 'ch racing', 'chang-jiang',\n",
       "       'cheetah', 'cheney', 'christini', 'clarke', 'cleveland', 'clipic',\n",
       "       'clyno', 'cmc', 'cobra', 'combat motors', 'confederate',\n",
       "       'cosmos muscle bikes', 'cotton', 'coventry eagle', 'covingtons',\n",
       "       'cpi', 'cr&s', 'crocker', 'crp', 'csc motorcycles', 'csr',\n",
       "       'current motor', 'curtiss', 'cushman', 'cz', 'daelim', 'dafier',\n",
       "       'dafra', 'dam', 'damon', 'dandy', 'dayang', 'dayton', 'dayun',\n",
       "       'db motors', 'de dion-bouton', 'delfast', 'demak', 'derbi',\n",
       "       'derringer', 'df motor', 'dfang', 'di blasi', 'diamo', 'dihao',\n",
       "       'dinamo', 'dinli', 'dirico', 'dkw', 'dnepr', 'docker', 'dodge',\n",
       "       'dollar', 'donghai', 'douglas', 'drysdale', 'ducati', 'dürkopp',\n",
       "       'e-max', 'e-racer', 'e-ton', 'e-tropolis', 'eagle-wing', 'ebretti',\n",
       "       'eccity', 'ecosse', 'ecrp', 'eko', 'electric city',\n",
       "       'electric motion', 'emblem', 'emco', 'energica', 'enfield',\n",
       "       'erik buell racing', 'evader', 'evolet', 'evolve', 'excelsior',\n",
       "       'exile cycles', 'factory bike', 'falcon', 'fantic', 'fb mondial',\n",
       "       'fgr', 'fischer', 'flying merkel', 'flyrite choppers', 'fokamo',\n",
       "       'fosti', 'fuego', 'fx bikes', 'g&g', 'garelli', 'gas gas', 'geely',\n",
       "       'genata', 'generic', 'genuine scooter', 'geon', 'gg',\n",
       "       'ghezzi-brian', 'giantco', 'gibbs', 'gilera', 'goes', 'gogo moto',\n",
       "       'gogoro', 'govecs', 'grc moto', 'greentrans', 'greeves', 'gymotor',\n",
       "       'hadin', 'hamachi', 'hanway', 'haojin', 'haojue',\n",
       "       'harley-davidson', 'hartford', 'hdm', 'headbanger', 'heinkel',\n",
       "       'henderson', 'herald', 'hercules', 'hero', 'hesketh', 'highland',\n",
       "       'hildebrand-wolfmüller', 'hm', 'hodaka', 'honda', 'horex',\n",
       "       'horwin', 'hp power', 'hunter', 'husaberg', 'husqvarna', 'hyosung',\n",
       "       'ice bear', 'indian', 'innoscooter', 'intrepid', 'irbis',\n",
       "       'italika', 'italjet', 'italmoto', 'izh', 'izuka', 'james', 'janus',\n",
       "       'jawa', 'jawa-cz', 'jialing', 'jianshe', 'jincheng', 'jinlun',\n",
       "       'joerns motor', 'johammer', 'johnny pag', 'jonway', 'jordan',\n",
       "       'jotagas', 'jrl', 'junak', 'k2o', 'kabirdass', 'kangda', 'kanuni',\n",
       "       'kasinski', 'kawasaki', 'kayo', 'keeway', 'kenbo', 'kentoya',\n",
       "       'kikker 5150', 'kinetic', 'kinroad', 'kollter', 'kramit', 'krc',\n",
       "       'kreidler', 'ksr', 'ktm', 'kuba', 'kuberg', 'kumpan', 'kurazai',\n",
       "       'kymco', 'lambretta', 'lauge jensen', 'laverda', 'lea francis',\n",
       "       'lectrix', 'lehman trikes', 'lem', 'leonart', 'leonhardt',\n",
       "       'lexmoto', 'lifan', 'lightning', 'ligier', 'linhai', 'lintex',\n",
       "       'lit motors', 'lito', 'livewire', 'lml', 'lohia', 'loncin',\n",
       "       'longjia', 'lsl', 'luxxon', 'macbor', 'magnat debon', 'magni',\n",
       "       'mahindra', 'maico', 'malaguti', 'malanca',\n",
       "       'marine turbine technologies', 'marks', 'marsh', 'marusho', 'mash',\n",
       "       'matchless', 'mavizen', 'mbk', 'mbs', 'megelli', 'metisse', 'mgb',\n",
       "       'mh', 'midual', 'mikilon', 'millet', 'mini', 'minsk', 'mission',\n",
       "       'mitt', 'mm', 'modenas', 'monark', 'mondial', 'montesa',\n",
       "       'monto motors', 'moto gima', 'moto guzzi', 'moto morini',\n",
       "       'moto union/omv', 'motobi', 'motoczysz', 'motolevo', 'motom',\n",
       "       'motomel', 'motoposh', 'motorhispania', 'motorino',\n",
       "       'motors europe', 'mototrans', 'motowell', 'motus', 'mustang',\n",
       "       'muz', 'mv agusta', 'mz', 'münch', 'ncr', 'neander', 'neco',\n",
       "       'nembo', 'new hudson', 'nimbus', 'nipponia', 'niu', 'norton',\n",
       "       'nox', 'nsu', 'nuuk', 'ohvale', 'okinawa', 'opel', 'orcal',\n",
       "       'orient', 'orion', 'oset', 'ossa', 'otto bike', 'over', 'oxygen',\n",
       "       'pagsta', 'palmo', 'pannonia', 'panther', 'paton', 'peda',\n",
       "       'penton', 'peraves', 'perks and birch', 'peugeot', 'pgo',\n",
       "       'piaggio', 'pierce', 'pitster pro', 'polaris', 'polini', 'pope',\n",
       "       'power chief', 'praga', 'prc (pro racing cycles)',\n",
       "       'precision cycle works', 'pro-one', 'proeco', 'puch', 'puma',\n",
       "       'qingqi', 'qjmotor', 'qlink', 'qooder', 'quadro', 'quantya',\n",
       "       'raleigh', 'ravi piaggio', 'raybar', 'reading standard',\n",
       "       'red wing', 'redneck', 'revolt', 'rewaco', 'rhino', 'rickman',\n",
       "       'ridley', 'riedel', 'rieju', 'rikuo', 'road hopper', 'rockford',\n",
       "       'roehr', 'rokon', 'romet', 'roxon', 'royal alloy', 'royal pioneer',\n",
       "       'rucker performance', 'rudge', 'sachs', 'samurai chopper',\n",
       "       'sanglas', 'sanya', 'sarolea', 'saxon', 'saxxx', 'schickel',\n",
       "       'schwinn', 'scomadi', 'scorpa', 'scott', 'sears', 'seat', 'senke',\n",
       "       'serpento', 'shanyang', 'sherco', 'shineray', 'shinetime',\n",
       "       'siamoto', 'silence', 'silk', 'simplex', 'simson', 'sinnis',\n",
       "       'skygo', 'skyteam', 'sommer', 'sonik', 'sora', 'soriano', 'sparta',\n",
       "       'standbike', 'starway/chu lan', 'stealth', 'stels',\n",
       "       'sucker punch sallys', 'sukida', 'sunbeam', 'sundiro',\n",
       "       'super gato', 'super motor', 'super soco', 'suzuki', 'suzuko',\n",
       "       'svm', 'swaygo', 'swift', 'swm', 'sym', 'tacita', 'tank sports',\n",
       "       'tao motor', 'tauris', 'tayo', 'techo electra', 'terra modena',\n",
       "       'terrot', 'tgb', 'thumpstar', 'tiger', 'titan', 'tm racing',\n",
       "       'tohqi', 'tomberlin', 'tomos', 'tork', 'torrot', 'track',\n",
       "       'travertson', 'triton', 'triumph', 'troll', 'trs', 'tunturi',\n",
       "       'tvs', 'ultra', 'um', 'unu', 'ural', 'vahrenkamp', 'valenti',\n",
       "       'van veen', 'vastro', 'vectrix', 'veli', 'velocette', 'veloci',\n",
       "       'vent', 'vento', 'vertemati', 'vertigo', 'vervemoto', 'vespa',\n",
       "       'vetter', 'viarelli', 'vibgyor', 'victoria', 'victory', 'vincent',\n",
       "       'vins', 'viper', 'vmoto', 'voge', 'volta', 'von dutch', 'vor',\n",
       "       'voskhod', 'voxan', 'vuka', 'vyrus', 'wakan', 'werner',\n",
       "       'west coast choppers', 'whizzer', 'wk', 'wrm', 'wsk', 'wt motors',\n",
       "       'xingfu', 'xingyue', 'xispa', 'xmotos', 'xor', 'yadea', 'yale',\n",
       "       'yamaha', 'yangtze', 'yiben', 'yobykes', 'yuki', 'zanella', 'zero',\n",
       "       'zest', 'zev', 'znen', 'zongshen', 'zontes', 'zweirad-union',\n",
       "       'zündapp'], dtype=object)"
      ]
     },
     "execution_count": 3,
     "metadata": {},
     "output_type": "execute_result"
    }
   ],
   "source": [
    "# .unique() will give you a view of all of the potential outcomes in 'Brand'\n",
    "df['Brand'].unique()"
   ]
  },
  {
   "cell_type": "markdown",
   "metadata": {},
   "source": [
    "## Brands you've never heard of aside, what are we looking for? \n",
    "\n",
    "Though there have historically been a huge number of manufacturers with varying degrees of success, we're specifically looking for diamonds, regardless of country of origin, make, or model: if our goal is critical acclaim, let's then look at what the critics say, but let's first make sure that the critics actually said something. "
   ]
  },
  {
   "cell_type": "code",
   "execution_count": 4,
   "metadata": {},
   "outputs": [],
   "source": [
    "# Drop any null values in 'Rating'\n",
    "df = df.dropna(subset=['Rating'])"
   ]
  },
  {
   "cell_type": "code",
   "execution_count": 5,
   "metadata": {},
   "outputs": [
    {
     "data": {
      "text/html": [
       "<div>\n",
       "<style scoped>\n",
       "    .dataframe tbody tr th:only-of-type {\n",
       "        vertical-align: middle;\n",
       "    }\n",
       "\n",
       "    .dataframe tbody tr th {\n",
       "        vertical-align: top;\n",
       "    }\n",
       "\n",
       "    .dataframe thead th {\n",
       "        text-align: right;\n",
       "    }\n",
       "</style>\n",
       "<table border=\"1\" class=\"dataframe\">\n",
       "  <thead>\n",
       "    <tr style=\"text-align: right;\">\n",
       "      <th></th>\n",
       "      <th>Brand</th>\n",
       "      <th>Model</th>\n",
       "      <th>Year</th>\n",
       "      <th>Category</th>\n",
       "      <th>Rating</th>\n",
       "      <th>Displacement (ccm)</th>\n",
       "      <th>Power (hp)</th>\n",
       "      <th>Torque (Nm)</th>\n",
       "      <th>Engine cylinder</th>\n",
       "      <th>Engine stroke</th>\n",
       "      <th>...</th>\n",
       "      <th>Dry weight (kg)</th>\n",
       "      <th>Wheelbase (mm)</th>\n",
       "      <th>Seat height (mm)</th>\n",
       "      <th>Front brakes</th>\n",
       "      <th>Rear brakes</th>\n",
       "      <th>Front tire</th>\n",
       "      <th>Rear tire</th>\n",
       "      <th>Front suspension</th>\n",
       "      <th>Rear suspension</th>\n",
       "      <th>Color options</th>\n",
       "    </tr>\n",
       "  </thead>\n",
       "  <tbody>\n",
       "    <tr>\n",
       "      <th>0</th>\n",
       "      <td>acabion</td>\n",
       "      <td>da vinci 650-vi</td>\n",
       "      <td>2011</td>\n",
       "      <td>Prototype / concept model</td>\n",
       "      <td>3.2</td>\n",
       "      <td>NaN</td>\n",
       "      <td>804.0</td>\n",
       "      <td>NaN</td>\n",
       "      <td>Electric</td>\n",
       "      <td>Electric</td>\n",
       "      <td>...</td>\n",
       "      <td>420.0</td>\n",
       "      <td>NaN</td>\n",
       "      <td>NaN</td>\n",
       "      <td>Single disc</td>\n",
       "      <td>Single disc</td>\n",
       "      <td>NaN</td>\n",
       "      <td>NaN</td>\n",
       "      <td>NaN</td>\n",
       "      <td>NaN</td>\n",
       "      <td>NaN</td>\n",
       "    </tr>\n",
       "    <tr>\n",
       "      <th>1</th>\n",
       "      <td>acabion</td>\n",
       "      <td>gtbo 55</td>\n",
       "      <td>2007</td>\n",
       "      <td>Sport</td>\n",
       "      <td>2.6</td>\n",
       "      <td>1300.0</td>\n",
       "      <td>541.0</td>\n",
       "      <td>420.0</td>\n",
       "      <td>In-line four</td>\n",
       "      <td>four-stroke</td>\n",
       "      <td>...</td>\n",
       "      <td>360.0</td>\n",
       "      <td>NaN</td>\n",
       "      <td>NaN</td>\n",
       "      <td>NaN</td>\n",
       "      <td>NaN</td>\n",
       "      <td>NaN</td>\n",
       "      <td>NaN</td>\n",
       "      <td>NaN</td>\n",
       "      <td>NaN</td>\n",
       "      <td>NaN</td>\n",
       "    </tr>\n",
       "    <tr>\n",
       "      <th>2</th>\n",
       "      <td>acabion</td>\n",
       "      <td>gtbo 600 daytona-vi</td>\n",
       "      <td>2011</td>\n",
       "      <td>Prototype / concept model</td>\n",
       "      <td>3.5</td>\n",
       "      <td>NaN</td>\n",
       "      <td>536.0</td>\n",
       "      <td>NaN</td>\n",
       "      <td>Electric</td>\n",
       "      <td>Electric</td>\n",
       "      <td>...</td>\n",
       "      <td>420.0</td>\n",
       "      <td>NaN</td>\n",
       "      <td>NaN</td>\n",
       "      <td>Single disc</td>\n",
       "      <td>Single disc</td>\n",
       "      <td>NaN</td>\n",
       "      <td>NaN</td>\n",
       "      <td>NaN</td>\n",
       "      <td>NaN</td>\n",
       "      <td>NaN</td>\n",
       "    </tr>\n",
       "    <tr>\n",
       "      <th>4</th>\n",
       "      <td>acabion</td>\n",
       "      <td>gtbo 70</td>\n",
       "      <td>2007</td>\n",
       "      <td>Prototype / concept model</td>\n",
       "      <td>3.1</td>\n",
       "      <td>1300.0</td>\n",
       "      <td>689.0</td>\n",
       "      <td>490.0</td>\n",
       "      <td>In-line four</td>\n",
       "      <td>four-stroke</td>\n",
       "      <td>...</td>\n",
       "      <td>300.0</td>\n",
       "      <td>NaN</td>\n",
       "      <td>NaN</td>\n",
       "      <td>NaN</td>\n",
       "      <td>NaN</td>\n",
       "      <td>NaN</td>\n",
       "      <td>NaN</td>\n",
       "      <td>NaN</td>\n",
       "      <td>NaN</td>\n",
       "      <td>Custom made.</td>\n",
       "    </tr>\n",
       "    <tr>\n",
       "      <th>13</th>\n",
       "      <td>access</td>\n",
       "      <td>ams 8.57 lux lv</td>\n",
       "      <td>2016</td>\n",
       "      <td>ATV</td>\n",
       "      <td>3.9</td>\n",
       "      <td>781.0</td>\n",
       "      <td>56.3</td>\n",
       "      <td>NaN</td>\n",
       "      <td>Single cylinder</td>\n",
       "      <td>four-stroke</td>\n",
       "      <td>...</td>\n",
       "      <td>362.0</td>\n",
       "      <td>NaN</td>\n",
       "      <td>NaN</td>\n",
       "      <td>Single disc</td>\n",
       "      <td>Single disc</td>\n",
       "      <td>25/8-14</td>\n",
       "      <td>25/10-14</td>\n",
       "      <td>NaN</td>\n",
       "      <td>NaN</td>\n",
       "      <td>Black, white, red</td>\n",
       "    </tr>\n",
       "  </tbody>\n",
       "</table>\n",
       "<p>5 rows × 28 columns</p>\n",
       "</div>"
      ],
      "text/plain": [
       "      Brand                Model  Year                   Category  Rating  \\\n",
       "0   acabion      da vinci 650-vi  2011  Prototype / concept model     3.2   \n",
       "1   acabion              gtbo 55  2007                      Sport     2.6   \n",
       "2   acabion  gtbo 600 daytona-vi  2011  Prototype / concept model     3.5   \n",
       "4   acabion              gtbo 70  2007  Prototype / concept model     3.1   \n",
       "13   access      ams 8.57 lux lv  2016                        ATV     3.9   \n",
       "\n",
       "    Displacement (ccm)  Power (hp)  Torque (Nm)  Engine cylinder  \\\n",
       "0                  NaN       804.0          NaN         Electric   \n",
       "1               1300.0       541.0        420.0     In-line four   \n",
       "2                  NaN       536.0          NaN         Electric   \n",
       "4               1300.0       689.0        490.0     In-line four   \n",
       "13               781.0        56.3          NaN  Single cylinder   \n",
       "\n",
       "   Engine stroke  ... Dry weight (kg)  Wheelbase (mm) Seat height (mm)  \\\n",
       "0       Electric  ...           420.0             NaN              NaN   \n",
       "1    four-stroke  ...           360.0             NaN              NaN   \n",
       "2       Electric  ...           420.0             NaN              NaN   \n",
       "4    four-stroke  ...           300.0             NaN              NaN   \n",
       "13   four-stroke  ...           362.0             NaN              NaN   \n",
       "\n",
       "    Front brakes  Rear brakes Front tire  Rear tire Front suspension  \\\n",
       "0    Single disc  Single disc        NaN        NaN              NaN   \n",
       "1            NaN          NaN        NaN        NaN              NaN   \n",
       "2    Single disc  Single disc        NaN        NaN              NaN   \n",
       "4            NaN          NaN        NaN        NaN              NaN   \n",
       "13   Single disc  Single disc   25/8-14   25/10-14               NaN   \n",
       "\n",
       "    Rear suspension      Color options  \n",
       "0               NaN                NaN  \n",
       "1               NaN                NaN  \n",
       "2               NaN                NaN  \n",
       "4               NaN       Custom made.  \n",
       "13              NaN  Black, white, red  \n",
       "\n",
       "[5 rows x 28 columns]"
      ]
     },
     "execution_count": 5,
     "metadata": {},
     "output_type": "execute_result"
    }
   ],
   "source": [
    "# Preview first five rows and admire our work\n",
    "df.head()"
   ]
  },
  {
   "cell_type": "markdown",
   "metadata": {},
   "source": [
    "<div class=\"alert alert-block alert-info\">\n",
    "There are a few things that we should look into prior to making a train_test_split; what do we believe will contribute to a higher rating for a motorcycle? Is there any data here that we can identify that may or may not give us those answers? Specifically we should see if we can make any sense out of all of the null values in this dataset. \n",
    "</div>"
   ]
  },
  {
   "cell_type": "markdown",
   "metadata": {},
   "source": [
    "## What makes a rating, good? "
   ]
  },
  {
   "cell_type": "code",
   "execution_count": 6,
   "metadata": {},
   "outputs": [
    {
     "data": {
      "text/plain": [
       "array([3.2, 2.6, 3.5, 3.1, 3.9, 2.8, 2.9, 1.9, 3.4, 2.2, 3.3, 3. , 2.7,\n",
       "       2.5, 3.7, 2. , 3.6, 3.8, 2.1, 2.4, 4. , 4.1, 2.3, 1.8, 4.2, 1.7,\n",
       "       4.4, 1.4, 4.3, 4.6, 1.6, 4.5, 1.5])"
      ]
     },
     "execution_count": 6,
     "metadata": {},
     "output_type": "execute_result"
    }
   ],
   "source": [
    "# .unique() will give you all of the potential scores found in the 'Rating' column \n",
    "df['Rating'].unique()"
   ]
  },
  {
   "cell_type": "markdown",
   "metadata": {},
   "source": [
    "<div class=\"alert alert-block alert-info\">\n",
    "Since it would appear that our ratings work on a 5 point system, let's take a look at the motorcycles whose rating performance we would like to replicate: the Yamaha MT-07 and the Suzuki SV650.\n",
    "</div>"
   ]
  },
  {
   "cell_type": "markdown",
   "metadata": {},
   "source": [
    "### Yamaha MT-07 & Suzuki SV650\n",
    "\n",
    "If like me, you are an avid motorcycle rider, you know, have known, or are someone on one of these bikes. \n",
    "\n",
    "<center><img src=\"pictures/mt07.jpg\" alt=\"Drawing\" style=\"width: 500px;\"/> </center>\n",
    "\n",
    "<center>MT-07, courtesy of Yamaha Powersports</center>\n",
    "<!-- <img src=\"pictures/yamaha mt07.jfif\" />\n",
    "<img src=\"pictures/suzuki sv650.jfif\" /> -->\n"
   ]
  },
  {
   "cell_type": "code",
   "execution_count": 7,
   "metadata": {},
   "outputs": [
    {
     "data": {
      "text/html": [
       "<div>\n",
       "<style scoped>\n",
       "    .dataframe tbody tr th:only-of-type {\n",
       "        vertical-align: middle;\n",
       "    }\n",
       "\n",
       "    .dataframe tbody tr th {\n",
       "        vertical-align: top;\n",
       "    }\n",
       "\n",
       "    .dataframe thead th {\n",
       "        text-align: right;\n",
       "    }\n",
       "</style>\n",
       "<table border=\"1\" class=\"dataframe\">\n",
       "  <thead>\n",
       "    <tr style=\"text-align: right;\">\n",
       "      <th></th>\n",
       "      <th>Brand</th>\n",
       "      <th>Model</th>\n",
       "      <th>Year</th>\n",
       "      <th>Category</th>\n",
       "      <th>Rating</th>\n",
       "      <th>Displacement (ccm)</th>\n",
       "      <th>Power (hp)</th>\n",
       "      <th>Torque (Nm)</th>\n",
       "      <th>Engine cylinder</th>\n",
       "      <th>Engine stroke</th>\n",
       "      <th>...</th>\n",
       "      <th>Dry weight (kg)</th>\n",
       "      <th>Wheelbase (mm)</th>\n",
       "      <th>Seat height (mm)</th>\n",
       "      <th>Front brakes</th>\n",
       "      <th>Rear brakes</th>\n",
       "      <th>Front tire</th>\n",
       "      <th>Rear tire</th>\n",
       "      <th>Front suspension</th>\n",
       "      <th>Rear suspension</th>\n",
       "      <th>Color options</th>\n",
       "    </tr>\n",
       "  </thead>\n",
       "  <tbody>\n",
       "    <tr>\n",
       "      <th>35463</th>\n",
       "      <td>yamaha</td>\n",
       "      <td>mt-07</td>\n",
       "      <td>2014</td>\n",
       "      <td>Naked bike</td>\n",
       "      <td>3.5</td>\n",
       "      <td>689.0</td>\n",
       "      <td>47.3</td>\n",
       "      <td>87.5</td>\n",
       "      <td>Twin</td>\n",
       "      <td>four-stroke</td>\n",
       "      <td>...</td>\n",
       "      <td>175.0</td>\n",
       "      <td>1440.0</td>\n",
       "      <td>815.0</td>\n",
       "      <td>Double disc. Hydraulic.</td>\n",
       "      <td>Single disc. Hydraulic.</td>\n",
       "      <td>120/70-ZR17</td>\n",
       "      <td>180/55-ZR17</td>\n",
       "      <td>Telescopic forks</td>\n",
       "      <td>Swingarm, (Link type suspension)</td>\n",
       "      <td>Black, white</td>\n",
       "    </tr>\n",
       "  </tbody>\n",
       "</table>\n",
       "<p>1 rows × 28 columns</p>\n",
       "</div>"
      ],
      "text/plain": [
       "        Brand  Model  Year    Category  Rating  Displacement (ccm)  \\\n",
       "35463  yamaha  mt-07  2014  Naked bike     3.5               689.0   \n",
       "\n",
       "       Power (hp)  Torque (Nm) Engine cylinder Engine stroke  ...  \\\n",
       "35463        47.3         87.5            Twin   four-stroke  ...   \n",
       "\n",
       "      Dry weight (kg)  Wheelbase (mm) Seat height (mm)  \\\n",
       "35463           175.0          1440.0            815.0   \n",
       "\n",
       "                   Front brakes               Rear brakes    Front tire  \\\n",
       "35463  Double disc. Hydraulic.   Single disc. Hydraulic.   120/70-ZR17    \n",
       "\n",
       "          Rear tire  Front suspension                   Rear suspension  \\\n",
       "35463  180/55-ZR17   Telescopic forks  Swingarm, (Link type suspension)   \n",
       "\n",
       "       Color options  \n",
       "35463   Black, white  \n",
       "\n",
       "[1 rows x 28 columns]"
      ]
     },
     "execution_count": 7,
     "metadata": {},
     "output_type": "execute_result"
    }
   ],
   "source": [
    "# Find all included models that are an MT-07\n",
    "df_yamaha = df.loc[df['Model'] == 'mt-07']\n",
    "df_yamaha.head(1)"
   ]
  },
  {
   "cell_type": "code",
   "execution_count": 8,
   "metadata": {},
   "outputs": [
    {
     "data": {
      "text/html": [
       "<div>\n",
       "<style scoped>\n",
       "    .dataframe tbody tr th:only-of-type {\n",
       "        vertical-align: middle;\n",
       "    }\n",
       "\n",
       "    .dataframe tbody tr th {\n",
       "        vertical-align: top;\n",
       "    }\n",
       "\n",
       "    .dataframe thead th {\n",
       "        text-align: right;\n",
       "    }\n",
       "</style>\n",
       "<table border=\"1\" class=\"dataframe\">\n",
       "  <thead>\n",
       "    <tr style=\"text-align: right;\">\n",
       "      <th></th>\n",
       "      <th>Brand</th>\n",
       "      <th>Model</th>\n",
       "      <th>Year</th>\n",
       "      <th>Category</th>\n",
       "      <th>Rating</th>\n",
       "      <th>Displacement (ccm)</th>\n",
       "      <th>Power (hp)</th>\n",
       "      <th>Torque (Nm)</th>\n",
       "      <th>Engine cylinder</th>\n",
       "      <th>Engine stroke</th>\n",
       "      <th>...</th>\n",
       "      <th>Dry weight (kg)</th>\n",
       "      <th>Wheelbase (mm)</th>\n",
       "      <th>Seat height (mm)</th>\n",
       "      <th>Front brakes</th>\n",
       "      <th>Rear brakes</th>\n",
       "      <th>Front tire</th>\n",
       "      <th>Rear tire</th>\n",
       "      <th>Front suspension</th>\n",
       "      <th>Rear suspension</th>\n",
       "      <th>Color options</th>\n",
       "    </tr>\n",
       "  </thead>\n",
       "  <tbody>\n",
       "    <tr>\n",
       "      <th>30500</th>\n",
       "      <td>suzuki</td>\n",
       "      <td>sv650</td>\n",
       "      <td>2008</td>\n",
       "      <td>Naked bike</td>\n",
       "      <td>3.9</td>\n",
       "      <td>645.0</td>\n",
       "      <td>NaN</td>\n",
       "      <td>NaN</td>\n",
       "      <td>V2</td>\n",
       "      <td>four-stroke</td>\n",
       "      <td>...</td>\n",
       "      <td>168.0</td>\n",
       "      <td>1440.0</td>\n",
       "      <td>800.0</td>\n",
       "      <td>Double disc</td>\n",
       "      <td>Single disc</td>\n",
       "      <td>120/60-ZR17</td>\n",
       "      <td>160/60-ZR17</td>\n",
       "      <td>Telescopic, coil spring, oil damped, fully adj...</td>\n",
       "      <td>Link-type, 7-way adjustable spring preload</td>\n",
       "      <td>Blue, Gray</td>\n",
       "    </tr>\n",
       "  </tbody>\n",
       "</table>\n",
       "<p>1 rows × 28 columns</p>\n",
       "</div>"
      ],
      "text/plain": [
       "        Brand  Model  Year    Category  Rating  Displacement (ccm)  \\\n",
       "30500  suzuki  sv650  2008  Naked bike     3.9               645.0   \n",
       "\n",
       "       Power (hp)  Torque (Nm) Engine cylinder Engine stroke  ...  \\\n",
       "30500         NaN          NaN              V2   four-stroke  ...   \n",
       "\n",
       "      Dry weight (kg)  Wheelbase (mm) Seat height (mm)  Front brakes  \\\n",
       "30500           168.0          1440.0            800.0   Double disc   \n",
       "\n",
       "       Rear brakes    Front tire     Rear tire  \\\n",
       "30500  Single disc  120/60-ZR17   160/60-ZR17    \n",
       "\n",
       "                                        Front suspension  \\\n",
       "30500  Telescopic, coil spring, oil damped, fully adj...   \n",
       "\n",
       "                                  Rear suspension  Color options  \n",
       "30500  Link-type, 7-way adjustable spring preload     Blue, Gray  \n",
       "\n",
       "[1 rows x 28 columns]"
      ]
     },
     "execution_count": 8,
     "metadata": {},
     "output_type": "execute_result"
    }
   ],
   "source": [
    "# Find all models that have the name SV650\n",
    "df_suzuki = df.loc[df['Model'] == 'sv650']\n",
    "df_suzuki.head(1)"
   ]
  },
  {
   "cell_type": "code",
   "execution_count": 9,
   "metadata": {},
   "outputs": [],
   "source": [
    "# Bring in numpy\n",
    "import numpy as np"
   ]
  },
  {
   "cell_type": "code",
   "execution_count": 10,
   "metadata": {},
   "outputs": [
    {
     "name": "stdout",
     "output_type": "stream",
     "text": [
      "The average score of all year-model MT-07 in dataset:3.35\n"
     ]
    }
   ],
   "source": [
    "# Average of ratings scores for the MT-07\n",
    "yamaha_mean = np.mean(df_yamaha['Rating'].unique())\n",
    "print('The average score of all year-model MT-07 in dataset:{}'.format(yamaha_mean))"
   ]
  },
  {
   "cell_type": "code",
   "execution_count": 11,
   "metadata": {},
   "outputs": [
    {
     "name": "stdout",
     "output_type": "stream",
     "text": [
      "The average score of all year-model SV650 in dataset:3.457142857142857\n"
     ]
    }
   ],
   "source": [
    "# Average of ratings scores for the SV650\n",
    "suzuki_mean = np.mean(df_suzuki['Rating'].unique())\n",
    "print('The average score of all year-model SV650 in dataset:{}'.format(suzuki_mean))"
   ]
  },
  {
   "cell_type": "code",
   "execution_count": 12,
   "metadata": {},
   "outputs": [
    {
     "name": "stdout",
     "output_type": "stream",
     "text": [
      "Ultimately, this will be our ratings goal:3.4035714285714285\n"
     ]
    }
   ],
   "source": [
    "# Nothing fancy here, find the average of the two scores\n",
    "rating_success = (yamaha_mean + suzuki_mean) / 2\n",
    "print('Ultimately, this will be our ratings goal:{}'.format(rating_success))"
   ]
  },
  {
   "cell_type": "markdown",
   "metadata": {},
   "source": [
    "### Binary values for 'Rating'\n",
    "Now that we have an average score for 'Rating', let's make a new column that will give us binary results, 1 being a rating above 3.4, 0 being a rating below. "
   ]
  },
  {
   "cell_type": "code",
   "execution_count": 13,
   "metadata": {},
   "outputs": [
    {
     "data": {
      "text/plain": [
       "array([3.2, 2.6, 3.5, 3.1, 3.9, 2.8, 2.9, 1.9, 3.4, 2.2, 3.3, 3. , 2.7,\n",
       "       2.5, 3.7, 2. , 3.6, 3.8, 2.1, 2.4, 4. , 4.1, 2.3, 1.8, 4.2, 1.7,\n",
       "       4.4, 1.4, 4.3, 4.6, 1.6, 4.5, 1.5])"
      ]
     },
     "execution_count": 13,
     "metadata": {},
     "output_type": "execute_result"
    }
   ],
   "source": [
    "# Let's look for all of the unique values for the column 'Rating'\n",
    "df['Rating'].unique()"
   ]
  },
  {
   "cell_type": "code",
   "execution_count": 14,
   "metadata": {},
   "outputs": [],
   "source": [
    "# As detailed above, anything lower than 3.4 is outside of our target\n",
    "rating_num = np.where(df[\"Rating\"]>=(3.4), 1, 0)"
   ]
  },
  {
   "cell_type": "code",
   "execution_count": 15,
   "metadata": {},
   "outputs": [
    {
     "data": {
      "text/plain": [
       "array([0, 0, 1, ..., 1, 1, 0])"
      ]
     },
     "execution_count": 15,
     "metadata": {},
     "output_type": "execute_result"
    }
   ],
   "source": [
    "# Our \"Rating\" column will now return a '1' for bikes that got a rating of 3.4 or above, 0 for scores\n",
    "# below 3.4\n",
    "rating_num"
   ]
  },
  {
   "cell_type": "code",
   "execution_count": 16,
   "metadata": {},
   "outputs": [
    {
     "data": {
      "text/html": [
       "<div>\n",
       "<style scoped>\n",
       "    .dataframe tbody tr th:only-of-type {\n",
       "        vertical-align: middle;\n",
       "    }\n",
       "\n",
       "    .dataframe tbody tr th {\n",
       "        vertical-align: top;\n",
       "    }\n",
       "\n",
       "    .dataframe thead th {\n",
       "        text-align: right;\n",
       "    }\n",
       "</style>\n",
       "<table border=\"1\" class=\"dataframe\">\n",
       "  <thead>\n",
       "    <tr style=\"text-align: right;\">\n",
       "      <th></th>\n",
       "      <th>Rating_</th>\n",
       "    </tr>\n",
       "  </thead>\n",
       "  <tbody>\n",
       "    <tr>\n",
       "      <th>0</th>\n",
       "      <td>0</td>\n",
       "    </tr>\n",
       "    <tr>\n",
       "      <th>1</th>\n",
       "      <td>0</td>\n",
       "    </tr>\n",
       "    <tr>\n",
       "      <th>2</th>\n",
       "      <td>1</td>\n",
       "    </tr>\n",
       "    <tr>\n",
       "      <th>3</th>\n",
       "      <td>0</td>\n",
       "    </tr>\n",
       "    <tr>\n",
       "      <th>4</th>\n",
       "      <td>1</td>\n",
       "    </tr>\n",
       "  </tbody>\n",
       "</table>\n",
       "</div>"
      ],
      "text/plain": [
       "   Rating_\n",
       "0        0\n",
       "1        0\n",
       "2        1\n",
       "3        0\n",
       "4        1"
      ]
     },
     "execution_count": 16,
     "metadata": {},
     "output_type": "execute_result"
    }
   ],
   "source": [
    "# In order to attach this data to our current table we will need to make it into a dataframe\n",
    "data = pd.DataFrame(rating_num, columns = ['Rating_'])\n",
    "data.head()"
   ]
  },
  {
   "cell_type": "code",
   "execution_count": 17,
   "metadata": {},
   "outputs": [
    {
     "data": {
      "text/plain": [
       "Rating_\n",
       "1          13008\n",
       "0           8780\n",
       "dtype: int64"
      ]
     },
     "execution_count": 17,
     "metadata": {},
     "output_type": "execute_result"
    }
   ],
   "source": [
    "# Preview binary rating counts\n",
    "data.value_counts()"
   ]
  },
  {
   "cell_type": "code",
   "execution_count": 18,
   "metadata": {},
   "outputs": [
    {
     "data": {
      "text/html": [
       "<div>\n",
       "<style scoped>\n",
       "    .dataframe tbody tr th:only-of-type {\n",
       "        vertical-align: middle;\n",
       "    }\n",
       "\n",
       "    .dataframe tbody tr th {\n",
       "        vertical-align: top;\n",
       "    }\n",
       "\n",
       "    .dataframe thead th {\n",
       "        text-align: right;\n",
       "    }\n",
       "</style>\n",
       "<table border=\"1\" class=\"dataframe\">\n",
       "  <thead>\n",
       "    <tr style=\"text-align: right;\">\n",
       "      <th></th>\n",
       "      <th>Brand</th>\n",
       "      <th>Model</th>\n",
       "      <th>Year</th>\n",
       "      <th>Category</th>\n",
       "      <th>Displacement (ccm)</th>\n",
       "      <th>Power (hp)</th>\n",
       "      <th>Torque (Nm)</th>\n",
       "      <th>Engine cylinder</th>\n",
       "      <th>Engine stroke</th>\n",
       "      <th>Gearbox</th>\n",
       "      <th>...</th>\n",
       "      <th>Dry weight (kg)</th>\n",
       "      <th>Wheelbase (mm)</th>\n",
       "      <th>Seat height (mm)</th>\n",
       "      <th>Front brakes</th>\n",
       "      <th>Rear brakes</th>\n",
       "      <th>Front tire</th>\n",
       "      <th>Rear tire</th>\n",
       "      <th>Front suspension</th>\n",
       "      <th>Rear suspension</th>\n",
       "      <th>Color options</th>\n",
       "    </tr>\n",
       "  </thead>\n",
       "  <tbody>\n",
       "    <tr>\n",
       "      <th>0</th>\n",
       "      <td>acabion</td>\n",
       "      <td>da vinci 650-vi</td>\n",
       "      <td>2011</td>\n",
       "      <td>Prototype / concept model</td>\n",
       "      <td>NaN</td>\n",
       "      <td>804.0</td>\n",
       "      <td>NaN</td>\n",
       "      <td>Electric</td>\n",
       "      <td>Electric</td>\n",
       "      <td>NaN</td>\n",
       "      <td>...</td>\n",
       "      <td>420.0</td>\n",
       "      <td>NaN</td>\n",
       "      <td>NaN</td>\n",
       "      <td>Single disc</td>\n",
       "      <td>Single disc</td>\n",
       "      <td>NaN</td>\n",
       "      <td>NaN</td>\n",
       "      <td>NaN</td>\n",
       "      <td>NaN</td>\n",
       "      <td>NaN</td>\n",
       "    </tr>\n",
       "    <tr>\n",
       "      <th>1</th>\n",
       "      <td>acabion</td>\n",
       "      <td>gtbo 55</td>\n",
       "      <td>2007</td>\n",
       "      <td>Sport</td>\n",
       "      <td>1300.0</td>\n",
       "      <td>541.0</td>\n",
       "      <td>420.0</td>\n",
       "      <td>In-line four</td>\n",
       "      <td>four-stroke</td>\n",
       "      <td>6-speed</td>\n",
       "      <td>...</td>\n",
       "      <td>360.0</td>\n",
       "      <td>NaN</td>\n",
       "      <td>NaN</td>\n",
       "      <td>NaN</td>\n",
       "      <td>NaN</td>\n",
       "      <td>NaN</td>\n",
       "      <td>NaN</td>\n",
       "      <td>NaN</td>\n",
       "      <td>NaN</td>\n",
       "      <td>NaN</td>\n",
       "    </tr>\n",
       "    <tr>\n",
       "      <th>2</th>\n",
       "      <td>acabion</td>\n",
       "      <td>gtbo 600 daytona-vi</td>\n",
       "      <td>2011</td>\n",
       "      <td>Prototype / concept model</td>\n",
       "      <td>NaN</td>\n",
       "      <td>536.0</td>\n",
       "      <td>NaN</td>\n",
       "      <td>Electric</td>\n",
       "      <td>Electric</td>\n",
       "      <td>NaN</td>\n",
       "      <td>...</td>\n",
       "      <td>420.0</td>\n",
       "      <td>NaN</td>\n",
       "      <td>NaN</td>\n",
       "      <td>Single disc</td>\n",
       "      <td>Single disc</td>\n",
       "      <td>NaN</td>\n",
       "      <td>NaN</td>\n",
       "      <td>NaN</td>\n",
       "      <td>NaN</td>\n",
       "      <td>NaN</td>\n",
       "    </tr>\n",
       "    <tr>\n",
       "      <th>4</th>\n",
       "      <td>acabion</td>\n",
       "      <td>gtbo 70</td>\n",
       "      <td>2007</td>\n",
       "      <td>Prototype / concept model</td>\n",
       "      <td>1300.0</td>\n",
       "      <td>689.0</td>\n",
       "      <td>490.0</td>\n",
       "      <td>In-line four</td>\n",
       "      <td>four-stroke</td>\n",
       "      <td>6-speed</td>\n",
       "      <td>...</td>\n",
       "      <td>300.0</td>\n",
       "      <td>NaN</td>\n",
       "      <td>NaN</td>\n",
       "      <td>NaN</td>\n",
       "      <td>NaN</td>\n",
       "      <td>NaN</td>\n",
       "      <td>NaN</td>\n",
       "      <td>NaN</td>\n",
       "      <td>NaN</td>\n",
       "      <td>Custom made.</td>\n",
       "    </tr>\n",
       "    <tr>\n",
       "      <th>13</th>\n",
       "      <td>access</td>\n",
       "      <td>ams 8.57 lux lv</td>\n",
       "      <td>2016</td>\n",
       "      <td>ATV</td>\n",
       "      <td>781.0</td>\n",
       "      <td>56.3</td>\n",
       "      <td>NaN</td>\n",
       "      <td>Single cylinder</td>\n",
       "      <td>four-stroke</td>\n",
       "      <td>Automatic</td>\n",
       "      <td>...</td>\n",
       "      <td>362.0</td>\n",
       "      <td>NaN</td>\n",
       "      <td>NaN</td>\n",
       "      <td>Single disc</td>\n",
       "      <td>Single disc</td>\n",
       "      <td>25/8-14</td>\n",
       "      <td>25/10-14</td>\n",
       "      <td>NaN</td>\n",
       "      <td>NaN</td>\n",
       "      <td>Black, white, red</td>\n",
       "    </tr>\n",
       "  </tbody>\n",
       "</table>\n",
       "<p>5 rows × 27 columns</p>\n",
       "</div>"
      ],
      "text/plain": [
       "      Brand                Model  Year                   Category  \\\n",
       "0   acabion      da vinci 650-vi  2011  Prototype / concept model   \n",
       "1   acabion              gtbo 55  2007                      Sport   \n",
       "2   acabion  gtbo 600 daytona-vi  2011  Prototype / concept model   \n",
       "4   acabion              gtbo 70  2007  Prototype / concept model   \n",
       "13   access      ams 8.57 lux lv  2016                        ATV   \n",
       "\n",
       "    Displacement (ccm)  Power (hp)  Torque (Nm)  Engine cylinder  \\\n",
       "0                  NaN       804.0          NaN         Electric   \n",
       "1               1300.0       541.0        420.0     In-line four   \n",
       "2                  NaN       536.0          NaN         Electric   \n",
       "4               1300.0       689.0        490.0     In-line four   \n",
       "13               781.0        56.3          NaN  Single cylinder   \n",
       "\n",
       "   Engine stroke    Gearbox  ...  Dry weight (kg) Wheelbase (mm)  \\\n",
       "0       Electric        NaN  ...            420.0            NaN   \n",
       "1    four-stroke    6-speed  ...            360.0            NaN   \n",
       "2       Electric        NaN  ...            420.0            NaN   \n",
       "4    four-stroke    6-speed  ...            300.0            NaN   \n",
       "13   four-stroke  Automatic  ...            362.0            NaN   \n",
       "\n",
       "    Seat height (mm) Front brakes  Rear brakes Front tire  Rear tire  \\\n",
       "0                NaN  Single disc  Single disc        NaN        NaN   \n",
       "1                NaN          NaN          NaN        NaN        NaN   \n",
       "2                NaN  Single disc  Single disc        NaN        NaN   \n",
       "4                NaN          NaN          NaN        NaN        NaN   \n",
       "13               NaN  Single disc  Single disc   25/8-14   25/10-14    \n",
       "\n",
       "    Front suspension  Rear suspension      Color options  \n",
       "0                NaN              NaN                NaN  \n",
       "1                NaN              NaN                NaN  \n",
       "2                NaN              NaN                NaN  \n",
       "4                NaN              NaN       Custom made.  \n",
       "13               NaN              NaN  Black, white, red  \n",
       "\n",
       "[5 rows x 27 columns]"
      ]
     },
     "execution_count": 18,
     "metadata": {},
     "output_type": "execute_result"
    }
   ],
   "source": [
    "# Drop 'Rating' column \n",
    "df = df.drop(columns = 'Rating', axis =1)\n",
    "df.head()"
   ]
  },
  {
   "cell_type": "code",
   "execution_count": 19,
   "metadata": {},
   "outputs": [],
   "source": [
    "# Put our new 'Rating_' column into our dataframe\n",
    "df = pd.concat([df,data], axis =1)"
   ]
  },
  {
   "cell_type": "code",
   "execution_count": 20,
   "metadata": {
    "scrolled": true
   },
   "outputs": [
    {
     "data": {
      "text/html": [
       "<div>\n",
       "<style scoped>\n",
       "    .dataframe tbody tr th:only-of-type {\n",
       "        vertical-align: middle;\n",
       "    }\n",
       "\n",
       "    .dataframe tbody tr th {\n",
       "        vertical-align: top;\n",
       "    }\n",
       "\n",
       "    .dataframe thead th {\n",
       "        text-align: right;\n",
       "    }\n",
       "</style>\n",
       "<table border=\"1\" class=\"dataframe\">\n",
       "  <thead>\n",
       "    <tr style=\"text-align: right;\">\n",
       "      <th></th>\n",
       "      <th>Brand</th>\n",
       "      <th>Model</th>\n",
       "      <th>Year</th>\n",
       "      <th>Category</th>\n",
       "      <th>Displacement (ccm)</th>\n",
       "      <th>Power (hp)</th>\n",
       "      <th>Torque (Nm)</th>\n",
       "      <th>Engine cylinder</th>\n",
       "      <th>Engine stroke</th>\n",
       "      <th>Gearbox</th>\n",
       "      <th>...</th>\n",
       "      <th>Wheelbase (mm)</th>\n",
       "      <th>Seat height (mm)</th>\n",
       "      <th>Front brakes</th>\n",
       "      <th>Rear brakes</th>\n",
       "      <th>Front tire</th>\n",
       "      <th>Rear tire</th>\n",
       "      <th>Front suspension</th>\n",
       "      <th>Rear suspension</th>\n",
       "      <th>Color options</th>\n",
       "      <th>Rating_</th>\n",
       "    </tr>\n",
       "  </thead>\n",
       "  <tbody>\n",
       "    <tr>\n",
       "      <th>0</th>\n",
       "      <td>acabion</td>\n",
       "      <td>da vinci 650-vi</td>\n",
       "      <td>2011.0</td>\n",
       "      <td>Prototype / concept model</td>\n",
       "      <td>NaN</td>\n",
       "      <td>804.0</td>\n",
       "      <td>NaN</td>\n",
       "      <td>Electric</td>\n",
       "      <td>Electric</td>\n",
       "      <td>NaN</td>\n",
       "      <td>...</td>\n",
       "      <td>NaN</td>\n",
       "      <td>NaN</td>\n",
       "      <td>Single disc</td>\n",
       "      <td>Single disc</td>\n",
       "      <td>NaN</td>\n",
       "      <td>NaN</td>\n",
       "      <td>NaN</td>\n",
       "      <td>NaN</td>\n",
       "      <td>NaN</td>\n",
       "      <td>0.0</td>\n",
       "    </tr>\n",
       "    <tr>\n",
       "      <th>1</th>\n",
       "      <td>acabion</td>\n",
       "      <td>gtbo 55</td>\n",
       "      <td>2007.0</td>\n",
       "      <td>Sport</td>\n",
       "      <td>1300.0</td>\n",
       "      <td>541.0</td>\n",
       "      <td>420.0</td>\n",
       "      <td>In-line four</td>\n",
       "      <td>four-stroke</td>\n",
       "      <td>6-speed</td>\n",
       "      <td>...</td>\n",
       "      <td>NaN</td>\n",
       "      <td>NaN</td>\n",
       "      <td>NaN</td>\n",
       "      <td>NaN</td>\n",
       "      <td>NaN</td>\n",
       "      <td>NaN</td>\n",
       "      <td>NaN</td>\n",
       "      <td>NaN</td>\n",
       "      <td>NaN</td>\n",
       "      <td>0.0</td>\n",
       "    </tr>\n",
       "    <tr>\n",
       "      <th>2</th>\n",
       "      <td>acabion</td>\n",
       "      <td>gtbo 600 daytona-vi</td>\n",
       "      <td>2011.0</td>\n",
       "      <td>Prototype / concept model</td>\n",
       "      <td>NaN</td>\n",
       "      <td>536.0</td>\n",
       "      <td>NaN</td>\n",
       "      <td>Electric</td>\n",
       "      <td>Electric</td>\n",
       "      <td>NaN</td>\n",
       "      <td>...</td>\n",
       "      <td>NaN</td>\n",
       "      <td>NaN</td>\n",
       "      <td>Single disc</td>\n",
       "      <td>Single disc</td>\n",
       "      <td>NaN</td>\n",
       "      <td>NaN</td>\n",
       "      <td>NaN</td>\n",
       "      <td>NaN</td>\n",
       "      <td>NaN</td>\n",
       "      <td>1.0</td>\n",
       "    </tr>\n",
       "    <tr>\n",
       "      <th>3</th>\n",
       "      <td>NaN</td>\n",
       "      <td>NaN</td>\n",
       "      <td>NaN</td>\n",
       "      <td>NaN</td>\n",
       "      <td>NaN</td>\n",
       "      <td>NaN</td>\n",
       "      <td>NaN</td>\n",
       "      <td>NaN</td>\n",
       "      <td>NaN</td>\n",
       "      <td>NaN</td>\n",
       "      <td>...</td>\n",
       "      <td>NaN</td>\n",
       "      <td>NaN</td>\n",
       "      <td>NaN</td>\n",
       "      <td>NaN</td>\n",
       "      <td>NaN</td>\n",
       "      <td>NaN</td>\n",
       "      <td>NaN</td>\n",
       "      <td>NaN</td>\n",
       "      <td>NaN</td>\n",
       "      <td>0.0</td>\n",
       "    </tr>\n",
       "    <tr>\n",
       "      <th>4</th>\n",
       "      <td>acabion</td>\n",
       "      <td>gtbo 70</td>\n",
       "      <td>2007.0</td>\n",
       "      <td>Prototype / concept model</td>\n",
       "      <td>1300.0</td>\n",
       "      <td>689.0</td>\n",
       "      <td>490.0</td>\n",
       "      <td>In-line four</td>\n",
       "      <td>four-stroke</td>\n",
       "      <td>6-speed</td>\n",
       "      <td>...</td>\n",
       "      <td>NaN</td>\n",
       "      <td>NaN</td>\n",
       "      <td>NaN</td>\n",
       "      <td>NaN</td>\n",
       "      <td>NaN</td>\n",
       "      <td>NaN</td>\n",
       "      <td>NaN</td>\n",
       "      <td>NaN</td>\n",
       "      <td>Custom made.</td>\n",
       "      <td>1.0</td>\n",
       "    </tr>\n",
       "  </tbody>\n",
       "</table>\n",
       "<p>5 rows × 28 columns</p>\n",
       "</div>"
      ],
      "text/plain": [
       "     Brand                Model    Year                   Category  \\\n",
       "0  acabion      da vinci 650-vi  2011.0  Prototype / concept model   \n",
       "1  acabion              gtbo 55  2007.0                      Sport   \n",
       "2  acabion  gtbo 600 daytona-vi  2011.0  Prototype / concept model   \n",
       "3      NaN                  NaN     NaN                        NaN   \n",
       "4  acabion              gtbo 70  2007.0  Prototype / concept model   \n",
       "\n",
       "   Displacement (ccm)  Power (hp)  Torque (Nm) Engine cylinder Engine stroke  \\\n",
       "0                 NaN       804.0          NaN        Electric      Electric   \n",
       "1              1300.0       541.0        420.0    In-line four   four-stroke   \n",
       "2                 NaN       536.0          NaN        Electric      Electric   \n",
       "3                 NaN         NaN          NaN             NaN           NaN   \n",
       "4              1300.0       689.0        490.0    In-line four   four-stroke   \n",
       "\n",
       "   Gearbox  ...  Wheelbase (mm) Seat height (mm)  Front brakes  Rear brakes  \\\n",
       "0      NaN  ...             NaN              NaN   Single disc  Single disc   \n",
       "1  6-speed  ...             NaN              NaN           NaN          NaN   \n",
       "2      NaN  ...             NaN              NaN   Single disc  Single disc   \n",
       "3      NaN  ...             NaN              NaN           NaN          NaN   \n",
       "4  6-speed  ...             NaN              NaN           NaN          NaN   \n",
       "\n",
       "  Front tire Rear tire Front suspension  Rear suspension  Color options  \\\n",
       "0        NaN       NaN              NaN              NaN            NaN   \n",
       "1        NaN       NaN              NaN              NaN            NaN   \n",
       "2        NaN       NaN              NaN              NaN            NaN   \n",
       "3        NaN       NaN              NaN              NaN            NaN   \n",
       "4        NaN       NaN              NaN              NaN   Custom made.   \n",
       "\n",
       "   Rating_  \n",
       "0      0.0  \n",
       "1      0.0  \n",
       "2      1.0  \n",
       "3      0.0  \n",
       "4      1.0  \n",
       "\n",
       "[5 rows x 28 columns]"
      ]
     },
     "execution_count": 20,
     "metadata": {},
     "output_type": "execute_result"
    }
   ],
   "source": [
    "# Make sure it worked\n",
    "df.head()"
   ]
  },
  {
   "cell_type": "code",
   "execution_count": 21,
   "metadata": {},
   "outputs": [
    {
     "name": "stdout",
     "output_type": "stream",
     "text": [
      "<class 'pandas.core.frame.DataFrame'>\n",
      "Int64Index: 30541 entries, 0 to 38461\n",
      "Data columns (total 28 columns):\n",
      " #   Column               Non-Null Count  Dtype  \n",
      "---  ------               --------------  -----  \n",
      " 0   Brand                21788 non-null  object \n",
      " 1   Model                21784 non-null  object \n",
      " 2   Year                 21788 non-null  float64\n",
      " 3   Category             21788 non-null  object \n",
      " 4   Displacement (ccm)   21684 non-null  float64\n",
      " 5   Power (hp)           14892 non-null  float64\n",
      " 6   Torque (Nm)          10064 non-null  float64\n",
      " 7   Engine cylinder      21778 non-null  object \n",
      " 8   Engine stroke        21778 non-null  object \n",
      " 9   Gearbox              19569 non-null  object \n",
      " 10  Bore (mm)            17184 non-null  float64\n",
      " 11  Stroke (mm)          17184 non-null  object \n",
      " 12  Fuel capacity (lts)  18986 non-null  float64\n",
      " 13  Fuel system          14546 non-null  object \n",
      " 14  Fuel control         13444 non-null  object \n",
      " 15  Cooling system       19740 non-null  object \n",
      " 16  Transmission type    18547 non-null  object \n",
      " 17  Dry weight (kg)      12705 non-null  float64\n",
      " 18  Wheelbase (mm)       14347 non-null  float64\n",
      " 19  Seat height (mm)     14460 non-null  float64\n",
      " 20  Front brakes         20978 non-null  object \n",
      " 21  Rear brakes          20828 non-null  object \n",
      " 22  Front tire           17889 non-null  object \n",
      " 23  Rear tire            17899 non-null  object \n",
      " 24  Front suspension     13186 non-null  object \n",
      " 25  Rear suspension      13112 non-null  object \n",
      " 26  Color options        12322 non-null  object \n",
      " 27  Rating_              21788 non-null  float64\n",
      "dtypes: float64(10), object(18)\n",
      "memory usage: 6.8+ MB\n"
     ]
    }
   ],
   "source": [
    "# Preview data\n",
    "df.info()"
   ]
  },
  {
   "cell_type": "markdown",
   "metadata": {},
   "source": [
    "## Preprocessing data for train_test_split\n",
    "\n",
    "There's no replacement for displacement"
   ]
  },
  {
   "cell_type": "code",
   "execution_count": 22,
   "metadata": {},
   "outputs": [
    {
     "name": "stdout",
     "output_type": "stream",
     "text": [
      "124.0    810\n",
      "125.0    727\n",
      "249.0    722\n",
      "49.0     644\n",
      "998.0    307\n",
      "        ... \n",
      "464.0      1\n",
      "216.0      1\n",
      "329.6      1\n",
      "99.6       1\n",
      "59.9       1\n",
      "Name: Displacement (ccm), Length: 1083, dtype: int64\n",
      "\n",
      "There are 8857 null values in \"Displacement (ccm)\" \n"
     ]
    }
   ],
   "source": [
    "# 'Displacement (ccm)' would be how many cubic centimeters of engine displacement/size a bike's \n",
    "# engine has\n",
    "print(df['Displacement (ccm)'].value_counts())\n",
    "print()\n",
    "print('There are {} null values in \"Displacement (ccm)\" '.format(df['Displacement (ccm)'].isnull().sum()))"
   ]
  },
  {
   "cell_type": "markdown",
   "metadata": {},
   "source": [
    "<div class=\"alert alert-block alert-info\">\n",
    "Even though 8857 null values in 'Displacement (ccm)' would seem like a lot, engine displacement is an incredibly subjective parameter for a motorcycle. \n",
    "</div>"
   ]
  },
  {
   "cell_type": "code",
   "execution_count": 23,
   "metadata": {},
   "outputs": [],
   "source": [
    "# Drop null values for displacement\n",
    "df = df.dropna(subset =['Displacement (ccm)'])"
   ]
  },
  {
   "cell_type": "code",
   "execution_count": 24,
   "metadata": {},
   "outputs": [
    {
     "data": {
      "text/html": [
       "<div>\n",
       "<style scoped>\n",
       "    .dataframe tbody tr th:only-of-type {\n",
       "        vertical-align: middle;\n",
       "    }\n",
       "\n",
       "    .dataframe tbody tr th {\n",
       "        vertical-align: top;\n",
       "    }\n",
       "\n",
       "    .dataframe thead th {\n",
       "        text-align: right;\n",
       "    }\n",
       "</style>\n",
       "<table border=\"1\" class=\"dataframe\">\n",
       "  <thead>\n",
       "    <tr style=\"text-align: right;\">\n",
       "      <th></th>\n",
       "      <th>Brand</th>\n",
       "      <th>Model</th>\n",
       "      <th>Year</th>\n",
       "      <th>Category</th>\n",
       "      <th>Displacement (ccm)</th>\n",
       "      <th>Power (hp)</th>\n",
       "      <th>Torque (Nm)</th>\n",
       "      <th>Engine cylinder</th>\n",
       "      <th>Engine stroke</th>\n",
       "      <th>Gearbox</th>\n",
       "      <th>...</th>\n",
       "      <th>Wheelbase (mm)</th>\n",
       "      <th>Seat height (mm)</th>\n",
       "      <th>Front brakes</th>\n",
       "      <th>Rear brakes</th>\n",
       "      <th>Front tire</th>\n",
       "      <th>Rear tire</th>\n",
       "      <th>Front suspension</th>\n",
       "      <th>Rear suspension</th>\n",
       "      <th>Color options</th>\n",
       "      <th>Rating_</th>\n",
       "    </tr>\n",
       "  </thead>\n",
       "  <tbody>\n",
       "    <tr>\n",
       "      <th>1</th>\n",
       "      <td>acabion</td>\n",
       "      <td>gtbo 55</td>\n",
       "      <td>2007.0</td>\n",
       "      <td>Sport</td>\n",
       "      <td>1300.0</td>\n",
       "      <td>541.0</td>\n",
       "      <td>420.0</td>\n",
       "      <td>In-line four</td>\n",
       "      <td>four-stroke</td>\n",
       "      <td>6-speed</td>\n",
       "      <td>...</td>\n",
       "      <td>NaN</td>\n",
       "      <td>NaN</td>\n",
       "      <td>NaN</td>\n",
       "      <td>NaN</td>\n",
       "      <td>NaN</td>\n",
       "      <td>NaN</td>\n",
       "      <td>NaN</td>\n",
       "      <td>NaN</td>\n",
       "      <td>NaN</td>\n",
       "      <td>0.0</td>\n",
       "    </tr>\n",
       "    <tr>\n",
       "      <th>4</th>\n",
       "      <td>acabion</td>\n",
       "      <td>gtbo 70</td>\n",
       "      <td>2007.0</td>\n",
       "      <td>Prototype / concept model</td>\n",
       "      <td>1300.0</td>\n",
       "      <td>689.0</td>\n",
       "      <td>490.0</td>\n",
       "      <td>In-line four</td>\n",
       "      <td>four-stroke</td>\n",
       "      <td>6-speed</td>\n",
       "      <td>...</td>\n",
       "      <td>NaN</td>\n",
       "      <td>NaN</td>\n",
       "      <td>NaN</td>\n",
       "      <td>NaN</td>\n",
       "      <td>NaN</td>\n",
       "      <td>NaN</td>\n",
       "      <td>NaN</td>\n",
       "      <td>NaN</td>\n",
       "      <td>Custom made.</td>\n",
       "      <td>1.0</td>\n",
       "    </tr>\n",
       "    <tr>\n",
       "      <th>13</th>\n",
       "      <td>access</td>\n",
       "      <td>ams 8.57 lux lv</td>\n",
       "      <td>2016.0</td>\n",
       "      <td>ATV</td>\n",
       "      <td>781.0</td>\n",
       "      <td>56.3</td>\n",
       "      <td>NaN</td>\n",
       "      <td>Single cylinder</td>\n",
       "      <td>four-stroke</td>\n",
       "      <td>Automatic</td>\n",
       "      <td>...</td>\n",
       "      <td>NaN</td>\n",
       "      <td>NaN</td>\n",
       "      <td>Single disc</td>\n",
       "      <td>Single disc</td>\n",
       "      <td>25/8-14</td>\n",
       "      <td>25/10-14</td>\n",
       "      <td>NaN</td>\n",
       "      <td>NaN</td>\n",
       "      <td>Black, white, red</td>\n",
       "      <td>0.0</td>\n",
       "    </tr>\n",
       "    <tr>\n",
       "      <th>25</th>\n",
       "      <td>access</td>\n",
       "      <td>shade xtreme 850</td>\n",
       "      <td>2018.0</td>\n",
       "      <td>ATV</td>\n",
       "      <td>781.0</td>\n",
       "      <td>57.7</td>\n",
       "      <td>NaN</td>\n",
       "      <td>Single cylinder</td>\n",
       "      <td>four-stroke</td>\n",
       "      <td>Automatic</td>\n",
       "      <td>...</td>\n",
       "      <td>NaN</td>\n",
       "      <td>NaN</td>\n",
       "      <td>Single disc</td>\n",
       "      <td>Single disc</td>\n",
       "      <td>25/8-12</td>\n",
       "      <td>25/10-12</td>\n",
       "      <td>Independent</td>\n",
       "      <td>Independent</td>\n",
       "      <td>White, black</td>\n",
       "      <td>0.0</td>\n",
       "    </tr>\n",
       "    <tr>\n",
       "      <th>35</th>\n",
       "      <td>adiva</td>\n",
       "      <td>ad 125</td>\n",
       "      <td>2009.0</td>\n",
       "      <td>Scooter</td>\n",
       "      <td>124.0</td>\n",
       "      <td>14.8</td>\n",
       "      <td>12.0</td>\n",
       "      <td>Single cylinder</td>\n",
       "      <td>four-stroke</td>\n",
       "      <td>Automatic</td>\n",
       "      <td>...</td>\n",
       "      <td>1759.0</td>\n",
       "      <td>NaN</td>\n",
       "      <td>Single disc</td>\n",
       "      <td>Single disc</td>\n",
       "      <td>120/70-14</td>\n",
       "      <td>140/70-14</td>\n",
       "      <td>Telescopic fork</td>\n",
       "      <td>Twin shock</td>\n",
       "      <td>Silver, black</td>\n",
       "      <td>1.0</td>\n",
       "    </tr>\n",
       "  </tbody>\n",
       "</table>\n",
       "<p>5 rows × 28 columns</p>\n",
       "</div>"
      ],
      "text/plain": [
       "      Brand             Model    Year                   Category  \\\n",
       "1   acabion           gtbo 55  2007.0                      Sport   \n",
       "4   acabion           gtbo 70  2007.0  Prototype / concept model   \n",
       "13   access   ams 8.57 lux lv  2016.0                        ATV   \n",
       "25   access  shade xtreme 850  2018.0                        ATV   \n",
       "35    adiva            ad 125  2009.0                    Scooter   \n",
       "\n",
       "    Displacement (ccm)  Power (hp)  Torque (Nm)  Engine cylinder  \\\n",
       "1               1300.0       541.0        420.0     In-line four   \n",
       "4               1300.0       689.0        490.0     In-line four   \n",
       "13               781.0        56.3          NaN  Single cylinder   \n",
       "25               781.0        57.7          NaN  Single cylinder   \n",
       "35               124.0        14.8         12.0  Single cylinder   \n",
       "\n",
       "   Engine stroke    Gearbox  ...  Wheelbase (mm) Seat height (mm)  \\\n",
       "1    four-stroke    6-speed  ...             NaN              NaN   \n",
       "4    four-stroke    6-speed  ...             NaN              NaN   \n",
       "13   four-stroke  Automatic  ...             NaN              NaN   \n",
       "25   four-stroke  Automatic  ...             NaN              NaN   \n",
       "35   four-stroke  Automatic  ...          1759.0              NaN   \n",
       "\n",
       "    Front brakes  Rear brakes  Front tire   Rear tire Front suspension  \\\n",
       "1            NaN          NaN         NaN         NaN              NaN   \n",
       "4            NaN          NaN         NaN         NaN              NaN   \n",
       "13   Single disc  Single disc    25/8-14    25/10-14               NaN   \n",
       "25   Single disc  Single disc    25/8-12    25/10-12       Independent   \n",
       "35   Single disc  Single disc  120/70-14   140/70-14   Telescopic fork   \n",
       "\n",
       "    Rear suspension      Color options  Rating_  \n",
       "1               NaN                NaN      0.0  \n",
       "4               NaN       Custom made.      1.0  \n",
       "13              NaN  Black, white, red      0.0  \n",
       "25      Independent       White, black      0.0  \n",
       "35       Twin shock      Silver, black      1.0  \n",
       "\n",
       "[5 rows x 28 columns]"
      ]
     },
     "execution_count": 24,
     "metadata": {},
     "output_type": "execute_result"
    }
   ],
   "source": [
    "# Preview dataset and identify what other work needs to be done\n",
    "df.head()"
   ]
  },
  {
   "cell_type": "markdown",
   "metadata": {},
   "source": [
    "<div class=\"alert alert-block alert-info\">\n",
    "Now that we have preprocessed one column in our dataset, let's take a look at what other columns we should consider processing. \n",
    "</div>"
   ]
  },
  {
   "cell_type": "code",
   "execution_count": 25,
   "metadata": {},
   "outputs": [
    {
     "data": {
      "text/plain": [
       "0"
      ]
     },
     "execution_count": 25,
     "metadata": {},
     "output_type": "execute_result"
    }
   ],
   "source": [
    "# Number of null values in df['Displacement (ccm)']\n",
    "df['Displacement (ccm)'].isnull().sum()"
   ]
  },
  {
   "cell_type": "code",
   "execution_count": 26,
   "metadata": {},
   "outputs": [
    {
     "name": "stdout",
     "output_type": "stream",
     "text": [
      "<class 'pandas.core.frame.DataFrame'>\n",
      "Int64Index: 21684 entries, 1 to 38461\n",
      "Data columns (total 28 columns):\n",
      " #   Column               Non-Null Count  Dtype  \n",
      "---  ------               --------------  -----  \n",
      " 0   Brand                21684 non-null  object \n",
      " 1   Model                21680 non-null  object \n",
      " 2   Year                 21684 non-null  float64\n",
      " 3   Category             21684 non-null  object \n",
      " 4   Displacement (ccm)   21684 non-null  float64\n",
      " 5   Power (hp)           14804 non-null  float64\n",
      " 6   Torque (Nm)          10007 non-null  float64\n",
      " 7   Engine cylinder      21674 non-null  object \n",
      " 8   Engine stroke        21674 non-null  object \n",
      " 9   Gearbox              19511 non-null  object \n",
      " 10  Bore (mm)            17184 non-null  float64\n",
      " 11  Stroke (mm)          17184 non-null  object \n",
      " 12  Fuel capacity (lts)  18973 non-null  float64\n",
      " 13  Fuel system          14544 non-null  object \n",
      " 14  Fuel control         13442 non-null  object \n",
      " 15  Cooling system       19666 non-null  object \n",
      " 16  Transmission type    18505 non-null  object \n",
      " 17  Dry weight (kg)      12643 non-null  float64\n",
      " 18  Wheelbase (mm)       14277 non-null  float64\n",
      " 19  Seat height (mm)     14394 non-null  float64\n",
      " 20  Front brakes         20879 non-null  object \n",
      " 21  Rear brakes          20729 non-null  object \n",
      " 22  Front tire           17814 non-null  object \n",
      " 23  Rear tire            17824 non-null  object \n",
      " 24  Front suspension     13105 non-null  object \n",
      " 25  Rear suspension      13031 non-null  object \n",
      " 26  Color options        12237 non-null  object \n",
      " 27  Rating_              12989 non-null  float64\n",
      "dtypes: float64(10), object(18)\n",
      "memory usage: 4.8+ MB\n"
     ]
    }
   ],
   "source": [
    "# Preview data\n",
    "df.info()"
   ]
  },
  {
   "cell_type": "markdown",
   "metadata": {},
   "source": [
    "<div class=\"alert alert-block alert-warning\">\n",
    "There are a few considerations that we should make; there are 21684 total entries and we can assume that any column with fewer than that are null values. There are however a few things to keep in mind when rationalizing whether or not we should drop these values and ultimately, whether or not we should keep them at all. \n",
    "<br><br>    \n",
    "Looking specifically at 'Torque (Nm)', this would imply that the motorcycle in question has at one point or another been put on a dyno to read out torque specs. While this is typically considered the \"fun\" value in a bike, let's first make a model with all null values in 'Torque (Nm' expunged. Once we have that model created and fitted, let's also look at a model that does not take into account torque figures. \n",
    "</div>"
   ]
  },
  {
   "cell_type": "markdown",
   "metadata": {},
   "source": [
    "\n",
    "\n",
    "A dynamometer test is typically used to tell you the torque capabilities in your engine. Developed first in 1798, the technology has come a _long_ way since. <br><br>\n",
    "\n",
    "<img src=\"pictures/DIY_dyno_complete1.jpg.crdownload\" width = '500'/>\n",
    "<center>Photo of DIY Dyno build from skrunkwerks.com</center><br><br>\n",
    "Modern dynamometer testing is done by pushing air into the air filter (or turbo if you're on a drag monster) in order to simulate flow at speed and to push cool air into the radiator. By strapping the bike to the dyno, we are then able to get power readouts via sensors in the flywheel where the rear tire can put power to the device. <br><br>\n",
    "I suspect that the bikes that do not have a torque reading either did not get tested due to extenuating circumstances (smaller displacement bikes, cruisers, and dirt bikes are usually not tested) or, the modern dynamometer was not available for some years of model submission. "
   ]
  },
  {
   "cell_type": "markdown",
   "metadata": {},
   "source": [
    "### Model with torque numbers intact\n",
    "\n",
    "As suggested, we will first look at bikes that _have_ torque (nm) information. "
   ]
  },
  {
   "cell_type": "code",
   "execution_count": 27,
   "metadata": {},
   "outputs": [],
   "source": [
    "# Remove null values from df['Torque (Nm)']\n",
    "df = df.dropna(subset =['Torque (Nm)'])"
   ]
  },
  {
   "cell_type": "code",
   "execution_count": 28,
   "metadata": {},
   "outputs": [
    {
     "name": "stdout",
     "output_type": "stream",
     "text": [
      "<class 'pandas.core.frame.DataFrame'>\n",
      "Int64Index: 10007 entries, 1 to 38298\n",
      "Data columns (total 28 columns):\n",
      " #   Column               Non-Null Count  Dtype  \n",
      "---  ------               --------------  -----  \n",
      " 0   Brand                10007 non-null  object \n",
      " 1   Model                10005 non-null  object \n",
      " 2   Year                 10007 non-null  float64\n",
      " 3   Category             10007 non-null  object \n",
      " 4   Displacement (ccm)   10007 non-null  float64\n",
      " 5   Power (hp)           9092 non-null   float64\n",
      " 6   Torque (Nm)          10007 non-null  float64\n",
      " 7   Engine cylinder      10001 non-null  object \n",
      " 8   Engine stroke        10001 non-null  object \n",
      " 9   Gearbox              9045 non-null   object \n",
      " 10  Bore (mm)            7764 non-null   float64\n",
      " 11  Stroke (mm)          7764 non-null   object \n",
      " 12  Fuel capacity (lts)  8634 non-null   float64\n",
      " 13  Fuel system          7709 non-null   object \n",
      " 14  Fuel control         5886 non-null   object \n",
      " 15  Cooling system       8778 non-null   object \n",
      " 16  Transmission type    8338 non-null   object \n",
      " 17  Dry weight (kg)      7238 non-null   float64\n",
      " 18  Wheelbase (mm)       8068 non-null   float64\n",
      " 19  Seat height (mm)     8521 non-null   float64\n",
      " 20  Front brakes         9595 non-null   object \n",
      " 21  Rear brakes          9487 non-null   object \n",
      " 22  Front tire           8039 non-null   object \n",
      " 23  Rear tire            8023 non-null   object \n",
      " 24  Front suspension     6740 non-null   object \n",
      " 25  Rear suspension      6721 non-null   object \n",
      " 26  Color options        6585 non-null   object \n",
      " 27  Rating_              6219 non-null   float64\n",
      "dtypes: float64(10), object(18)\n",
      "memory usage: 2.2+ MB\n"
     ]
    }
   ],
   "source": [
    "# Preview our data to see what other columns need pruning\n",
    "df.info()"
   ]
  },
  {
   "cell_type": "markdown",
   "metadata": {},
   "source": [
    "<div class=\"alert alert-block alert-warning\">\n",
    "There are a few considerations that we should in regards to null values and whether or not we believe these should be included in the first place. Since we have not made these values into numbers via encoding and therefore cannot yet see correlation to our target, responsibly we should only address lines with FULL information. <br><br> \n",
    "    \n",
    "In other words, we should rid our dataset of null values prior to cutting out any column information. \n",
    "    \n",
    "<br>\n",
    "This isn't always the case, but for our purposes:\n",
    "</div>"
   ]
  },
  {
   "cell_type": "markdown",
   "metadata": {},
   "source": [
    "### If the value is null, it has to go"
   ]
  },
  {
   "cell_type": "markdown",
   "metadata": {},
   "source": [
    "Because 'Color options' would seem to be a pretty objective thing and typically motorcycle manufacturers have up to 4-5 years to introducing new colorways per generation model of bike, this will ultimately be unnecessary for our model. "
   ]
  },
  {
   "cell_type": "code",
   "execution_count": 29,
   "metadata": {},
   "outputs": [],
   "source": [
    "# Remove df['Color options']\n",
    "df = df.drop(columns = 'Color options', axis = 1)"
   ]
  },
  {
   "cell_type": "code",
   "execution_count": 30,
   "metadata": {},
   "outputs": [],
   "source": [
    "# Drop null values data that we intend on using for modeling\n",
    "df = df.dropna(subset =['Model', 'Power (hp)', 'Engine cylinder', 'Engine stroke', 'Gearbox', 'Bore (mm)', 'Stroke (mm)',\n",
    "                       'Fuel capacity (lts)', 'Fuel system', 'Fuel control', 'Cooling system', 'Transmission type', \n",
    "                       'Dry weight (kg)', 'Wheelbase (mm)', 'Seat height (mm)', 'Front brakes', 'Rear brakes', 'Front tire',\n",
    "                       'Rear tire', 'Front suspension', 'Rear suspension', 'Rating_'])"
   ]
  },
  {
   "cell_type": "code",
   "execution_count": 31,
   "metadata": {},
   "outputs": [
    {
     "data": {
      "text/html": [
       "<div>\n",
       "<style scoped>\n",
       "    .dataframe tbody tr th:only-of-type {\n",
       "        vertical-align: middle;\n",
       "    }\n",
       "\n",
       "    .dataframe tbody tr th {\n",
       "        vertical-align: top;\n",
       "    }\n",
       "\n",
       "    .dataframe thead th {\n",
       "        text-align: right;\n",
       "    }\n",
       "</style>\n",
       "<table border=\"1\" class=\"dataframe\">\n",
       "  <thead>\n",
       "    <tr style=\"text-align: right;\">\n",
       "      <th></th>\n",
       "      <th>Brand</th>\n",
       "      <th>Model</th>\n",
       "      <th>Year</th>\n",
       "      <th>Category</th>\n",
       "      <th>Displacement (ccm)</th>\n",
       "      <th>Power (hp)</th>\n",
       "      <th>Torque (Nm)</th>\n",
       "      <th>Engine cylinder</th>\n",
       "      <th>Engine stroke</th>\n",
       "      <th>Gearbox</th>\n",
       "      <th>...</th>\n",
       "      <th>Dry weight (kg)</th>\n",
       "      <th>Wheelbase (mm)</th>\n",
       "      <th>Seat height (mm)</th>\n",
       "      <th>Front brakes</th>\n",
       "      <th>Rear brakes</th>\n",
       "      <th>Front tire</th>\n",
       "      <th>Rear tire</th>\n",
       "      <th>Front suspension</th>\n",
       "      <th>Rear suspension</th>\n",
       "      <th>Rating_</th>\n",
       "    </tr>\n",
       "  </thead>\n",
       "  <tbody>\n",
       "    <tr>\n",
       "      <th>195</th>\n",
       "      <td>aeon</td>\n",
       "      <td>cobra 50</td>\n",
       "      <td>2012.0</td>\n",
       "      <td>ATV</td>\n",
       "      <td>49.3</td>\n",
       "      <td>3.0</td>\n",
       "      <td>3.7</td>\n",
       "      <td>Single cylinder</td>\n",
       "      <td>two-stroke</td>\n",
       "      <td>Automatic</td>\n",
       "      <td>...</td>\n",
       "      <td>129.0</td>\n",
       "      <td>1050.0</td>\n",
       "      <td>800.0</td>\n",
       "      <td>Expanding brake (drum brake)</td>\n",
       "      <td>Single disc</td>\n",
       "      <td>19/7-8</td>\n",
       "      <td>18/10-8</td>\n",
       "      <td>Dual hydraulic shock, Single A-arm</td>\n",
       "      <td>Single hydraulic shock, Unit swing arm</td>\n",
       "      <td>1.0</td>\n",
       "    </tr>\n",
       "    <tr>\n",
       "      <th>203</th>\n",
       "      <td>aeon</td>\n",
       "      <td>crossland x4 400</td>\n",
       "      <td>2012.0</td>\n",
       "      <td>ATV</td>\n",
       "      <td>346.0</td>\n",
       "      <td>20.1</td>\n",
       "      <td>30.0</td>\n",
       "      <td>Single cylinder</td>\n",
       "      <td>four-stroke</td>\n",
       "      <td>Automatic</td>\n",
       "      <td>...</td>\n",
       "      <td>236.0</td>\n",
       "      <td>1230.0</td>\n",
       "      <td>850.0</td>\n",
       "      <td>Double disc</td>\n",
       "      <td>Expanding brake (drum brake)</td>\n",
       "      <td>23/7-12</td>\n",
       "      <td>23/10-12</td>\n",
       "      <td>Double A-Arm</td>\n",
       "      <td>Swing Arm</td>\n",
       "      <td>1.0</td>\n",
       "    </tr>\n",
       "    <tr>\n",
       "      <th>226</th>\n",
       "      <td>aeon</td>\n",
       "      <td>urban 350i</td>\n",
       "      <td>2012.0</td>\n",
       "      <td>Scooter</td>\n",
       "      <td>313.0</td>\n",
       "      <td>22.8</td>\n",
       "      <td>30.0</td>\n",
       "      <td>Single cylinder</td>\n",
       "      <td>four-stroke</td>\n",
       "      <td>Automatic</td>\n",
       "      <td>...</td>\n",
       "      <td>177.0</td>\n",
       "      <td>1545.0</td>\n",
       "      <td>815.0</td>\n",
       "      <td>Single disc. Hydraulic</td>\n",
       "      <td>Single disc. Hydraulic</td>\n",
       "      <td>120/70-16</td>\n",
       "      <td>140/70-15</td>\n",
       "      <td>Telescopic fork</td>\n",
       "      <td>Dual-damper unit swing arm</td>\n",
       "      <td>1.0</td>\n",
       "    </tr>\n",
       "    <tr>\n",
       "      <th>361</th>\n",
       "      <td>ajp</td>\n",
       "      <td>pr4 125 enduro</td>\n",
       "      <td>2010.0</td>\n",
       "      <td>Enduro / offroad</td>\n",
       "      <td>124.0</td>\n",
       "      <td>12.5</td>\n",
       "      <td>8.5</td>\n",
       "      <td>Single cylinder</td>\n",
       "      <td>four-stroke</td>\n",
       "      <td>5-speed</td>\n",
       "      <td>...</td>\n",
       "      <td>105.0</td>\n",
       "      <td>1410.0</td>\n",
       "      <td>910.0</td>\n",
       "      <td>Single disc. 2 piston calliper</td>\n",
       "      <td>Single disc. 4 piston calliper</td>\n",
       "      <td>90/90-21</td>\n",
       "      <td>120/90-18</td>\n",
       "      <td>Paioli Hydraulic fork,</td>\n",
       "      <td>Sachs mono shock progressive action</td>\n",
       "      <td>1.0</td>\n",
       "    </tr>\n",
       "    <tr>\n",
       "      <th>365</th>\n",
       "      <td>ajp</td>\n",
       "      <td>pr4 125 sm</td>\n",
       "      <td>2010.0</td>\n",
       "      <td>Super motard</td>\n",
       "      <td>124.0</td>\n",
       "      <td>12.6</td>\n",
       "      <td>8.5</td>\n",
       "      <td>Single cylinder</td>\n",
       "      <td>four-stroke</td>\n",
       "      <td>5-speed</td>\n",
       "      <td>...</td>\n",
       "      <td>104.0</td>\n",
       "      <td>1410.0</td>\n",
       "      <td>910.0</td>\n",
       "      <td>Single disc. 2 piston caliper</td>\n",
       "      <td>Single disc. 2 piston caliper</td>\n",
       "      <td>100/80-17</td>\n",
       "      <td>130/70-17</td>\n",
       "      <td>Paioli Hydraulic fork,</td>\n",
       "      <td>Sachs mono shock progressive action</td>\n",
       "      <td>1.0</td>\n",
       "    </tr>\n",
       "  </tbody>\n",
       "</table>\n",
       "<p>5 rows × 27 columns</p>\n",
       "</div>"
      ],
      "text/plain": [
       "    Brand             Model    Year          Category  Displacement (ccm)  \\\n",
       "195  aeon          cobra 50  2012.0               ATV                49.3   \n",
       "203  aeon  crossland x4 400  2012.0               ATV               346.0   \n",
       "226  aeon        urban 350i  2012.0           Scooter               313.0   \n",
       "361   ajp    pr4 125 enduro  2010.0  Enduro / offroad               124.0   \n",
       "365   ajp        pr4 125 sm  2010.0      Super motard               124.0   \n",
       "\n",
       "     Power (hp)  Torque (Nm)  Engine cylinder Engine stroke    Gearbox  ...  \\\n",
       "195         3.0          3.7  Single cylinder    two-stroke  Automatic  ...   \n",
       "203        20.1         30.0  Single cylinder   four-stroke  Automatic  ...   \n",
       "226        22.8         30.0  Single cylinder   four-stroke  Automatic  ...   \n",
       "361        12.5          8.5  Single cylinder   four-stroke    5-speed  ...   \n",
       "365        12.6          8.5  Single cylinder   four-stroke    5-speed  ...   \n",
       "\n",
       "     Dry weight (kg) Wheelbase (mm)  Seat height (mm)  \\\n",
       "195            129.0         1050.0             800.0   \n",
       "203            236.0         1230.0             850.0   \n",
       "226            177.0         1545.0             815.0   \n",
       "361            105.0         1410.0             910.0   \n",
       "365            104.0         1410.0             910.0   \n",
       "\n",
       "                       Front brakes                     Rear brakes  \\\n",
       "195    Expanding brake (drum brake)                     Single disc   \n",
       "203                     Double disc    Expanding brake (drum brake)   \n",
       "226          Single disc. Hydraulic          Single disc. Hydraulic   \n",
       "361  Single disc. 2 piston calliper  Single disc. 4 piston calliper   \n",
       "365   Single disc. 2 piston caliper   Single disc. 2 piston caliper   \n",
       "\n",
       "     Front tire   Rear tire                    Front suspension  \\\n",
       "195     19/7-8     18/10-8   Dual hydraulic shock, Single A-arm   \n",
       "203    23/7-12    23/10-12                         Double A-Arm   \n",
       "226  120/70-16   140/70-15                      Telescopic fork   \n",
       "361   90/90-21   120/90-18               Paioli Hydraulic fork,   \n",
       "365  100/80-17   130/70-17               Paioli Hydraulic fork,   \n",
       "\n",
       "                            Rear suspension  Rating_  \n",
       "195  Single hydraulic shock, Unit swing arm      1.0  \n",
       "203                               Swing Arm      1.0  \n",
       "226              Dual-damper unit swing arm      1.0  \n",
       "361     Sachs mono shock progressive action      1.0  \n",
       "365     Sachs mono shock progressive action      1.0  \n",
       "\n",
       "[5 rows x 27 columns]"
      ]
     },
     "execution_count": 31,
     "metadata": {},
     "output_type": "execute_result"
    }
   ],
   "source": [
    "# Preview our new dataset\n",
    "df.head()"
   ]
  },
  {
   "cell_type": "code",
   "execution_count": 32,
   "metadata": {
    "scrolled": false
   },
   "outputs": [
    {
     "name": "stdout",
     "output_type": "stream",
     "text": [
      "<class 'pandas.core.frame.DataFrame'>\n",
      "Int64Index: 1367 entries, 195 to 21511\n",
      "Data columns (total 27 columns):\n",
      " #   Column               Non-Null Count  Dtype  \n",
      "---  ------               --------------  -----  \n",
      " 0   Brand                1367 non-null   object \n",
      " 1   Model                1367 non-null   object \n",
      " 2   Year                 1367 non-null   float64\n",
      " 3   Category             1367 non-null   object \n",
      " 4   Displacement (ccm)   1367 non-null   float64\n",
      " 5   Power (hp)           1367 non-null   float64\n",
      " 6   Torque (Nm)          1367 non-null   float64\n",
      " 7   Engine cylinder      1367 non-null   object \n",
      " 8   Engine stroke        1367 non-null   object \n",
      " 9   Gearbox              1367 non-null   object \n",
      " 10  Bore (mm)            1367 non-null   float64\n",
      " 11  Stroke (mm)          1367 non-null   object \n",
      " 12  Fuel capacity (lts)  1367 non-null   float64\n",
      " 13  Fuel system          1367 non-null   object \n",
      " 14  Fuel control         1367 non-null   object \n",
      " 15  Cooling system       1367 non-null   object \n",
      " 16  Transmission type    1367 non-null   object \n",
      " 17  Dry weight (kg)      1367 non-null   float64\n",
      " 18  Wheelbase (mm)       1367 non-null   float64\n",
      " 19  Seat height (mm)     1367 non-null   float64\n",
      " 20  Front brakes         1367 non-null   object \n",
      " 21  Rear brakes          1367 non-null   object \n",
      " 22  Front tire           1367 non-null   object \n",
      " 23  Rear tire            1367 non-null   object \n",
      " 24  Front suspension     1367 non-null   object \n",
      " 25  Rear suspension      1367 non-null   object \n",
      " 26  Rating_              1367 non-null   float64\n",
      "dtypes: float64(10), object(17)\n",
      "memory usage: 299.0+ KB\n"
     ]
    }
   ],
   "source": [
    "# Information on our new dataset\n",
    "df.info()"
   ]
  },
  {
   "cell_type": "markdown",
   "metadata": {},
   "source": [
    "### Correlation to 'Rating_'"
   ]
  },
  {
   "cell_type": "code",
   "execution_count": 33,
   "metadata": {},
   "outputs": [],
   "source": [
    "# What categories are highly correlated to 'Rating_'? \n",
    "preds = []\n",
    "for i in df.corr()['Rating_'].index:\n",
    "    if abs(df.corr()['Rating_'][i]) > 0:\n",
    "        preds.append(i)"
   ]
  },
  {
   "cell_type": "code",
   "execution_count": 34,
   "metadata": {
    "scrolled": true
   },
   "outputs": [
    {
     "data": {
      "text/html": [
       "<div>\n",
       "<style scoped>\n",
       "    .dataframe tbody tr th:only-of-type {\n",
       "        vertical-align: middle;\n",
       "    }\n",
       "\n",
       "    .dataframe tbody tr th {\n",
       "        vertical-align: top;\n",
       "    }\n",
       "\n",
       "    .dataframe thead th {\n",
       "        text-align: right;\n",
       "    }\n",
       "</style>\n",
       "<table border=\"1\" class=\"dataframe\">\n",
       "  <thead>\n",
       "    <tr style=\"text-align: right;\">\n",
       "      <th></th>\n",
       "      <th>Year</th>\n",
       "      <th>Displacement (ccm)</th>\n",
       "      <th>Power (hp)</th>\n",
       "      <th>Torque (Nm)</th>\n",
       "      <th>Bore (mm)</th>\n",
       "      <th>Fuel capacity (lts)</th>\n",
       "      <th>Dry weight (kg)</th>\n",
       "      <th>Wheelbase (mm)</th>\n",
       "      <th>Seat height (mm)</th>\n",
       "      <th>Rating_</th>\n",
       "    </tr>\n",
       "  </thead>\n",
       "  <tbody>\n",
       "    <tr>\n",
       "      <th>Year</th>\n",
       "      <td>1.000000</td>\n",
       "      <td>0.101227</td>\n",
       "      <td>0.073767</td>\n",
       "      <td>0.117446</td>\n",
       "      <td>0.062316</td>\n",
       "      <td>0.034674</td>\n",
       "      <td>0.083260</td>\n",
       "      <td>0.083516</td>\n",
       "      <td>-0.099398</td>\n",
       "      <td>0.035337</td>\n",
       "    </tr>\n",
       "    <tr>\n",
       "      <th>Displacement (ccm)</th>\n",
       "      <td>0.101227</td>\n",
       "      <td>1.000000</td>\n",
       "      <td>0.671160</td>\n",
       "      <td>0.963806</td>\n",
       "      <td>0.746311</td>\n",
       "      <td>0.630263</td>\n",
       "      <td>0.789542</td>\n",
       "      <td>0.697821</td>\n",
       "      <td>-0.239227</td>\n",
       "      <td>0.090216</td>\n",
       "    </tr>\n",
       "    <tr>\n",
       "      <th>Power (hp)</th>\n",
       "      <td>0.073767</td>\n",
       "      <td>0.671160</td>\n",
       "      <td>1.000000</td>\n",
       "      <td>0.808775</td>\n",
       "      <td>0.602769</td>\n",
       "      <td>0.543640</td>\n",
       "      <td>0.302619</td>\n",
       "      <td>0.336337</td>\n",
       "      <td>0.227368</td>\n",
       "      <td>0.028566</td>\n",
       "    </tr>\n",
       "    <tr>\n",
       "      <th>Torque (Nm)</th>\n",
       "      <td>0.117446</td>\n",
       "      <td>0.963806</td>\n",
       "      <td>0.808775</td>\n",
       "      <td>1.000000</td>\n",
       "      <td>0.747646</td>\n",
       "      <td>0.656416</td>\n",
       "      <td>0.702405</td>\n",
       "      <td>0.642212</td>\n",
       "      <td>-0.101722</td>\n",
       "      <td>0.076461</td>\n",
       "    </tr>\n",
       "    <tr>\n",
       "      <th>Bore (mm)</th>\n",
       "      <td>0.062316</td>\n",
       "      <td>0.746311</td>\n",
       "      <td>0.602769</td>\n",
       "      <td>0.747646</td>\n",
       "      <td>1.000000</td>\n",
       "      <td>0.452070</td>\n",
       "      <td>0.440687</td>\n",
       "      <td>0.512398</td>\n",
       "      <td>0.101386</td>\n",
       "      <td>0.114058</td>\n",
       "    </tr>\n",
       "    <tr>\n",
       "      <th>Fuel capacity (lts)</th>\n",
       "      <td>0.034674</td>\n",
       "      <td>0.630263</td>\n",
       "      <td>0.543640</td>\n",
       "      <td>0.656416</td>\n",
       "      <td>0.452070</td>\n",
       "      <td>1.000000</td>\n",
       "      <td>0.646671</td>\n",
       "      <td>0.573633</td>\n",
       "      <td>0.016516</td>\n",
       "      <td>0.085826</td>\n",
       "    </tr>\n",
       "    <tr>\n",
       "      <th>Dry weight (kg)</th>\n",
       "      <td>0.083260</td>\n",
       "      <td>0.789542</td>\n",
       "      <td>0.302619</td>\n",
       "      <td>0.702405</td>\n",
       "      <td>0.440687</td>\n",
       "      <td>0.646671</td>\n",
       "      <td>1.000000</td>\n",
       "      <td>0.786672</td>\n",
       "      <td>-0.455095</td>\n",
       "      <td>0.081160</td>\n",
       "    </tr>\n",
       "    <tr>\n",
       "      <th>Wheelbase (mm)</th>\n",
       "      <td>0.083516</td>\n",
       "      <td>0.697821</td>\n",
       "      <td>0.336337</td>\n",
       "      <td>0.642212</td>\n",
       "      <td>0.512398</td>\n",
       "      <td>0.573633</td>\n",
       "      <td>0.786672</td>\n",
       "      <td>1.000000</td>\n",
       "      <td>-0.296214</td>\n",
       "      <td>0.068911</td>\n",
       "    </tr>\n",
       "    <tr>\n",
       "      <th>Seat height (mm)</th>\n",
       "      <td>-0.099398</td>\n",
       "      <td>-0.239227</td>\n",
       "      <td>0.227368</td>\n",
       "      <td>-0.101722</td>\n",
       "      <td>0.101386</td>\n",
       "      <td>0.016516</td>\n",
       "      <td>-0.455095</td>\n",
       "      <td>-0.296214</td>\n",
       "      <td>1.000000</td>\n",
       "      <td>-0.071498</td>\n",
       "    </tr>\n",
       "    <tr>\n",
       "      <th>Rating_</th>\n",
       "      <td>0.035337</td>\n",
       "      <td>0.090216</td>\n",
       "      <td>0.028566</td>\n",
       "      <td>0.076461</td>\n",
       "      <td>0.114058</td>\n",
       "      <td>0.085826</td>\n",
       "      <td>0.081160</td>\n",
       "      <td>0.068911</td>\n",
       "      <td>-0.071498</td>\n",
       "      <td>1.000000</td>\n",
       "    </tr>\n",
       "  </tbody>\n",
       "</table>\n",
       "</div>"
      ],
      "text/plain": [
       "                         Year  Displacement (ccm)  Power (hp)  Torque (Nm)  \\\n",
       "Year                 1.000000            0.101227    0.073767     0.117446   \n",
       "Displacement (ccm)   0.101227            1.000000    0.671160     0.963806   \n",
       "Power (hp)           0.073767            0.671160    1.000000     0.808775   \n",
       "Torque (Nm)          0.117446            0.963806    0.808775     1.000000   \n",
       "Bore (mm)            0.062316            0.746311    0.602769     0.747646   \n",
       "Fuel capacity (lts)  0.034674            0.630263    0.543640     0.656416   \n",
       "Dry weight (kg)      0.083260            0.789542    0.302619     0.702405   \n",
       "Wheelbase (mm)       0.083516            0.697821    0.336337     0.642212   \n",
       "Seat height (mm)    -0.099398           -0.239227    0.227368    -0.101722   \n",
       "Rating_              0.035337            0.090216    0.028566     0.076461   \n",
       "\n",
       "                     Bore (mm)  Fuel capacity (lts)  Dry weight (kg)  \\\n",
       "Year                  0.062316             0.034674         0.083260   \n",
       "Displacement (ccm)    0.746311             0.630263         0.789542   \n",
       "Power (hp)            0.602769             0.543640         0.302619   \n",
       "Torque (Nm)           0.747646             0.656416         0.702405   \n",
       "Bore (mm)             1.000000             0.452070         0.440687   \n",
       "Fuel capacity (lts)   0.452070             1.000000         0.646671   \n",
       "Dry weight (kg)       0.440687             0.646671         1.000000   \n",
       "Wheelbase (mm)        0.512398             0.573633         0.786672   \n",
       "Seat height (mm)      0.101386             0.016516        -0.455095   \n",
       "Rating_               0.114058             0.085826         0.081160   \n",
       "\n",
       "                     Wheelbase (mm)  Seat height (mm)   Rating_  \n",
       "Year                       0.083516         -0.099398  0.035337  \n",
       "Displacement (ccm)         0.697821         -0.239227  0.090216  \n",
       "Power (hp)                 0.336337          0.227368  0.028566  \n",
       "Torque (Nm)                0.642212         -0.101722  0.076461  \n",
       "Bore (mm)                  0.512398          0.101386  0.114058  \n",
       "Fuel capacity (lts)        0.573633          0.016516  0.085826  \n",
       "Dry weight (kg)            0.786672         -0.455095  0.081160  \n",
       "Wheelbase (mm)             1.000000         -0.296214  0.068911  \n",
       "Seat height (mm)          -0.296214          1.000000 -0.071498  \n",
       "Rating_                    0.068911         -0.071498  1.000000  "
      ]
     },
     "execution_count": 34,
     "metadata": {},
     "output_type": "execute_result"
    }
   ],
   "source": [
    "# Correlation to 'Rating', all null values removed\n",
    "df[preds].corr()"
   ]
  },
  {
   "cell_type": "markdown",
   "metadata": {},
   "source": [
    "To round out our preprocessing step, we should take out any unnecessary information, like 'Brand' and 'Model'.  "
   ]
  },
  {
   "cell_type": "code",
   "execution_count": 35,
   "metadata": {},
   "outputs": [],
   "source": [
    "# Drop df['Brand']\n",
    "df = df.drop(columns = 'Brand', axis =1)"
   ]
  },
  {
   "cell_type": "code",
   "execution_count": 36,
   "metadata": {},
   "outputs": [],
   "source": [
    "# Drop df['Model']\n",
    "df = df.drop(columns = 'Model', axis =1)"
   ]
  },
  {
   "cell_type": "markdown",
   "metadata": {},
   "source": [
    "<div class=\"alert alert-block alert-info\">\n",
    "Now that we have pruned all null information from our data set let's address remaining categorical data by dummying them. "
   ]
  },
  {
   "cell_type": "markdown",
   "metadata": {},
   "source": [
    "### Dummy categorical columns\n",
    "\n",
    "Let's split our data into a categorical variable and dummy them into binary columns."
   ]
  },
  {
   "cell_type": "code",
   "execution_count": 37,
   "metadata": {
    "scrolled": true
   },
   "outputs": [
    {
     "data": {
      "text/html": [
       "<div>\n",
       "<style scoped>\n",
       "    .dataframe tbody tr th:only-of-type {\n",
       "        vertical-align: middle;\n",
       "    }\n",
       "\n",
       "    .dataframe tbody tr th {\n",
       "        vertical-align: top;\n",
       "    }\n",
       "\n",
       "    .dataframe thead th {\n",
       "        text-align: right;\n",
       "    }\n",
       "</style>\n",
       "<table border=\"1\" class=\"dataframe\">\n",
       "  <thead>\n",
       "    <tr style=\"text-align: right;\">\n",
       "      <th></th>\n",
       "      <th>Year</th>\n",
       "      <th>Displacement (ccm)</th>\n",
       "      <th>Power (hp)</th>\n",
       "      <th>Torque (Nm)</th>\n",
       "      <th>Bore (mm)</th>\n",
       "      <th>Fuel capacity (lts)</th>\n",
       "      <th>Dry weight (kg)</th>\n",
       "      <th>Wheelbase (mm)</th>\n",
       "      <th>Seat height (mm)</th>\n",
       "      <th>Rating_</th>\n",
       "      <th>...</th>\n",
       "      <th>Rear suspension_Öhlins Monoshock, fully adjustable (Pre-load - External Hydraulic Device, Compression, Rebound)</th>\n",
       "      <th>Rear suspension_Öhlins Racing monoshock with piggy-back, fully adjustable.</th>\n",
       "      <th>Rear suspension_Öhlins TTX monoshock with piggy-back, fully adjustable.</th>\n",
       "      <th>Rear suspension_Öhlins TTX preload-fully adjustable top and lower speed monoshock</th>\n",
       "      <th>Rear suspension_Öhlins TTX single shock absorber with piggy-back, Electronics management system Ohlins Smart EC 2.0 (OBTi).</th>\n",
       "      <th>Rear suspension_Öhlins fully adjustable monoshock, Aluminium casted single-sided swingarm.</th>\n",
       "      <th>Rear suspension_Öhlins mono-shock with integrated piggy-back, fully adjustable in spring preload with full adjustment</th>\n",
       "      <th>Rear suspension_Öhlins monoshock, pre-load and rebound adjustable</th>\n",
       "      <th>Rear suspension_Öhlins shock</th>\n",
       "      <th>Rear suspension_Öhlins, 300 mm wheel travel, adjustable pre-load, compression and rebound</th>\n",
       "    </tr>\n",
       "  </thead>\n",
       "  <tbody>\n",
       "    <tr>\n",
       "      <th>195</th>\n",
       "      <td>2012.0</td>\n",
       "      <td>49.3</td>\n",
       "      <td>3.0</td>\n",
       "      <td>3.7</td>\n",
       "      <td>40.0</td>\n",
       "      <td>5.0</td>\n",
       "      <td>129.0</td>\n",
       "      <td>1050.0</td>\n",
       "      <td>800.0</td>\n",
       "      <td>1.0</td>\n",
       "      <td>...</td>\n",
       "      <td>0</td>\n",
       "      <td>0</td>\n",
       "      <td>0</td>\n",
       "      <td>0</td>\n",
       "      <td>0</td>\n",
       "      <td>0</td>\n",
       "      <td>0</td>\n",
       "      <td>0</td>\n",
       "      <td>0</td>\n",
       "      <td>0</td>\n",
       "    </tr>\n",
       "    <tr>\n",
       "      <th>203</th>\n",
       "      <td>2012.0</td>\n",
       "      <td>346.0</td>\n",
       "      <td>20.1</td>\n",
       "      <td>30.0</td>\n",
       "      <td>82.0</td>\n",
       "      <td>14.0</td>\n",
       "      <td>236.0</td>\n",
       "      <td>1230.0</td>\n",
       "      <td>850.0</td>\n",
       "      <td>1.0</td>\n",
       "      <td>...</td>\n",
       "      <td>0</td>\n",
       "      <td>0</td>\n",
       "      <td>0</td>\n",
       "      <td>0</td>\n",
       "      <td>0</td>\n",
       "      <td>0</td>\n",
       "      <td>0</td>\n",
       "      <td>0</td>\n",
       "      <td>0</td>\n",
       "      <td>0</td>\n",
       "    </tr>\n",
       "    <tr>\n",
       "      <th>226</th>\n",
       "      <td>2012.0</td>\n",
       "      <td>313.0</td>\n",
       "      <td>22.8</td>\n",
       "      <td>30.0</td>\n",
       "      <td>78.0</td>\n",
       "      <td>13.5</td>\n",
       "      <td>177.0</td>\n",
       "      <td>1545.0</td>\n",
       "      <td>815.0</td>\n",
       "      <td>1.0</td>\n",
       "      <td>...</td>\n",
       "      <td>0</td>\n",
       "      <td>0</td>\n",
       "      <td>0</td>\n",
       "      <td>0</td>\n",
       "      <td>0</td>\n",
       "      <td>0</td>\n",
       "      <td>0</td>\n",
       "      <td>0</td>\n",
       "      <td>0</td>\n",
       "      <td>0</td>\n",
       "    </tr>\n",
       "    <tr>\n",
       "      <th>361</th>\n",
       "      <td>2010.0</td>\n",
       "      <td>124.0</td>\n",
       "      <td>12.5</td>\n",
       "      <td>8.5</td>\n",
       "      <td>56.5</td>\n",
       "      <td>7.5</td>\n",
       "      <td>105.0</td>\n",
       "      <td>1410.0</td>\n",
       "      <td>910.0</td>\n",
       "      <td>1.0</td>\n",
       "      <td>...</td>\n",
       "      <td>0</td>\n",
       "      <td>0</td>\n",
       "      <td>0</td>\n",
       "      <td>0</td>\n",
       "      <td>0</td>\n",
       "      <td>0</td>\n",
       "      <td>0</td>\n",
       "      <td>0</td>\n",
       "      <td>0</td>\n",
       "      <td>0</td>\n",
       "    </tr>\n",
       "    <tr>\n",
       "      <th>365</th>\n",
       "      <td>2010.0</td>\n",
       "      <td>124.0</td>\n",
       "      <td>12.6</td>\n",
       "      <td>8.5</td>\n",
       "      <td>59.5</td>\n",
       "      <td>7.5</td>\n",
       "      <td>104.0</td>\n",
       "      <td>1410.0</td>\n",
       "      <td>910.0</td>\n",
       "      <td>1.0</td>\n",
       "      <td>...</td>\n",
       "      <td>0</td>\n",
       "      <td>0</td>\n",
       "      <td>0</td>\n",
       "      <td>0</td>\n",
       "      <td>0</td>\n",
       "      <td>0</td>\n",
       "      <td>0</td>\n",
       "      <td>0</td>\n",
       "      <td>0</td>\n",
       "      <td>0</td>\n",
       "    </tr>\n",
       "  </tbody>\n",
       "</table>\n",
       "<p>5 rows × 2255 columns</p>\n",
       "</div>"
      ],
      "text/plain": [
       "       Year  Displacement (ccm)  Power (hp)  Torque (Nm)  Bore (mm)  \\\n",
       "195  2012.0                49.3         3.0          3.7       40.0   \n",
       "203  2012.0               346.0        20.1         30.0       82.0   \n",
       "226  2012.0               313.0        22.8         30.0       78.0   \n",
       "361  2010.0               124.0        12.5          8.5       56.5   \n",
       "365  2010.0               124.0        12.6          8.5       59.5   \n",
       "\n",
       "     Fuel capacity (lts)  Dry weight (kg)  Wheelbase (mm)  Seat height (mm)  \\\n",
       "195                  5.0            129.0          1050.0             800.0   \n",
       "203                 14.0            236.0          1230.0             850.0   \n",
       "226                 13.5            177.0          1545.0             815.0   \n",
       "361                  7.5            105.0          1410.0             910.0   \n",
       "365                  7.5            104.0          1410.0             910.0   \n",
       "\n",
       "     Rating_  ...  \\\n",
       "195      1.0  ...   \n",
       "203      1.0  ...   \n",
       "226      1.0  ...   \n",
       "361      1.0  ...   \n",
       "365      1.0  ...   \n",
       "\n",
       "     Rear suspension_Öhlins Monoshock, fully adjustable (Pre-load - External Hydraulic Device, Compression, Rebound)  \\\n",
       "195                                                  0                                                                 \n",
       "203                                                  0                                                                 \n",
       "226                                                  0                                                                 \n",
       "361                                                  0                                                                 \n",
       "365                                                  0                                                                 \n",
       "\n",
       "     Rear suspension_Öhlins Racing monoshock with piggy-back, fully adjustable.  \\\n",
       "195                                                  0                            \n",
       "203                                                  0                            \n",
       "226                                                  0                            \n",
       "361                                                  0                            \n",
       "365                                                  0                            \n",
       "\n",
       "     Rear suspension_Öhlins TTX monoshock with piggy-back, fully adjustable.  \\\n",
       "195                                                  0                         \n",
       "203                                                  0                         \n",
       "226                                                  0                         \n",
       "361                                                  0                         \n",
       "365                                                  0                         \n",
       "\n",
       "     Rear suspension_Öhlins TTX preload-fully adjustable top and lower speed monoshock  \\\n",
       "195                                                  0                                   \n",
       "203                                                  0                                   \n",
       "226                                                  0                                   \n",
       "361                                                  0                                   \n",
       "365                                                  0                                   \n",
       "\n",
       "     Rear suspension_Öhlins TTX single shock absorber with piggy-back, Electronics management system Ohlins Smart EC 2.0 (OBTi).  \\\n",
       "195                                                  0                                                                             \n",
       "203                                                  0                                                                             \n",
       "226                                                  0                                                                             \n",
       "361                                                  0                                                                             \n",
       "365                                                  0                                                                             \n",
       "\n",
       "     Rear suspension_Öhlins fully adjustable monoshock, Aluminium casted single-sided swingarm.  \\\n",
       "195                                                  0                                            \n",
       "203                                                  0                                            \n",
       "226                                                  0                                            \n",
       "361                                                  0                                            \n",
       "365                                                  0                                            \n",
       "\n",
       "     Rear suspension_Öhlins mono-shock with integrated piggy-back, fully adjustable in spring preload with full adjustment  \\\n",
       "195                                                  0                                                                       \n",
       "203                                                  0                                                                       \n",
       "226                                                  0                                                                       \n",
       "361                                                  0                                                                       \n",
       "365                                                  0                                                                       \n",
       "\n",
       "     Rear suspension_Öhlins monoshock, pre-load and rebound adjustable  \\\n",
       "195                                                  0                   \n",
       "203                                                  0                   \n",
       "226                                                  0                   \n",
       "361                                                  0                   \n",
       "365                                                  0                   \n",
       "\n",
       "     Rear suspension_Öhlins shock  \\\n",
       "195                             0   \n",
       "203                             0   \n",
       "226                             0   \n",
       "361                             0   \n",
       "365                             0   \n",
       "\n",
       "     Rear suspension_Öhlins, 300 mm wheel travel, adjustable pre-load, compression and rebound  \n",
       "195                                                  0                                          \n",
       "203                                                  0                                          \n",
       "226                                                  0                                          \n",
       "361                                                  0                                          \n",
       "365                                                  0                                          \n",
       "\n",
       "[5 rows x 2255 columns]"
      ]
     },
     "execution_count": 37,
     "metadata": {},
     "output_type": "execute_result"
    }
   ],
   "source": [
    "# Categorical/object columns can be found from df.info(), above\n",
    "categoricals = ['Category','Engine cylinder', 'Engine stroke', 'Gearbox', 'Stroke (mm)', 'Fuel system', 'Fuel control', \n",
    "                'Cooling system', 'Transmission type', 'Front brakes', 'Rear brakes', 'Front tire', 'Rear tire', \n",
    "                'Front suspension', 'Rear suspension']\n",
    "\n",
    "# Our dataframe needs to be encoded. OHE can also be utilized, for this time we will use \n",
    "# pd.get_dummies()\n",
    "df = pd.get_dummies(df, columns=categoricals)\n",
    "# Preview our dummied columns\n",
    "df.head()"
   ]
  },
  {
   "cell_type": "markdown",
   "metadata": {},
   "source": [
    "<div class=\"alert alert-block alert-success\">\n",
    "It looks like our columns were successfully dummied. Now we will need to split our data for modeling. \n",
    "</div>"
   ]
  },
  {
   "cell_type": "markdown",
   "metadata": {},
   "source": [
    "### train_test_split\n"
   ]
  },
  {
   "cell_type": "code",
   "execution_count": 38,
   "metadata": {},
   "outputs": [],
   "source": [
    "# target is 'y'\n",
    "target = df['Rating_']\n",
    "# X is the new name that we will use for our data. For testing purposes we may re-use \n",
    "#'df' if it produces better results.\n",
    "X = df.drop(columns = 'Rating_', axis =1)"
   ]
  },
  {
   "cell_type": "code",
   "execution_count": 39,
   "metadata": {},
   "outputs": [],
   "source": [
    "#import train_test_split\n",
    "from sklearn.model_selection import train_test_split\n",
    "\n",
    "# Create variables for modeling\n",
    "X_train, X_test, y_train, y_test = train_test_split (X, target, random_state = 42)"
   ]
  },
  {
   "cell_type": "markdown",
   "metadata": {},
   "source": [
    "## Baseline Models"
   ]
  },
  {
   "cell_type": "markdown",
   "metadata": {},
   "source": [
    "### Baseline Model 1.0: \n",
    "First we will try a single DecisionTree"
   ]
  },
  {
   "cell_type": "code",
   "execution_count": 40,
   "metadata": {},
   "outputs": [
    {
     "data": {
      "text/plain": [
       "DecisionTreeClassifier(random_state=42)"
      ]
     },
     "execution_count": 40,
     "metadata": {},
     "output_type": "execute_result"
    }
   ],
   "source": [
    "#import DecisionTreeClassifier\n",
    "from sklearn.tree import DecisionTreeClassifier \n",
    "dtc = DecisionTreeClassifier(random_state=42)  \n",
    "# fit classifier onto training data\n",
    "dtc.fit(X_train, y_train) "
   ]
  },
  {
   "cell_type": "code",
   "execution_count": 41,
   "metadata": {},
   "outputs": [
    {
     "name": "stdout",
     "output_type": "stream",
     "text": [
      "DecisionTree Model training score: 0.9892682926829268\n"
     ]
    }
   ],
   "source": [
    "print('DecisionTree Model training score: {}'.format(dtc.score(X_train, y_train)))"
   ]
  },
  {
   "cell_type": "code",
   "execution_count": 42,
   "metadata": {},
   "outputs": [
    {
     "name": "stdout",
     "output_type": "stream",
     "text": [
      "DecisionTree Model test score: 0.5789473684210527\n"
     ]
    }
   ],
   "source": [
    "print('DecisionTree Model test score: {}'.format(dtc.score(X_test, y_test)))"
   ]
  },
  {
   "cell_type": "markdown",
   "metadata": {},
   "source": [
    "<div class=\"alert alert-block alert-danger\">\n",
    "Our first model is built on a decision tree and the performance is not great; a training score that is nearly perfect paired with a test score of less than 60% would suggest that this first decision tree is overfitting to the data. This tree was created with no regard to hyperparameters, so let's call this our baseline model. In the notebook below we will see how we can improve it. \n",
    "</div>"
   ]
  },
  {
   "cell_type": "markdown",
   "metadata": {},
   "source": [
    "### KNN: K-Nearest-Neighbors\n",
    "KNN or K-Nearest-Neighbors is a distance based estimator; we will need to scale our data prior to modeling it in order to get best results. \n"
   ]
  },
  {
   "cell_type": "code",
   "execution_count": 43,
   "metadata": {},
   "outputs": [],
   "source": [
    "# This next step can be done without instantiating a pipeline but the tool makes the process simpler\n",
    "from sklearn.preprocessing import StandardScaler\n",
    "from sklearn.neighbors import KNeighborsClassifier\n",
    "from sklearn.pipeline import Pipeline\n",
    "\n",
    "\n",
    "knn_pipeline = Pipeline([('ss', StandardScaler()),\n",
    "                        ('knn', KNeighborsClassifier())])"
   ]
  },
  {
   "cell_type": "code",
   "execution_count": 44,
   "metadata": {},
   "outputs": [
    {
     "name": "stdout",
     "output_type": "stream",
     "text": [
      "KNN Training score:0.728780487804878\n",
      "KNN Test score:0.6052631578947368\n"
     ]
    }
   ],
   "source": [
    "# Fit our knn_pipeline onto our training data, testing data and then see scores\n",
    "knn_pipeline.fit(X_train,y_train)\n",
    "\n",
    "print('KNN Training score:{}'.format(knn_pipeline.score(X_train,y_train)))\n",
    "print('KNN Test score:{}'.format(knn_pipeline.score(X_test,y_test)))"
   ]
  },
  {
   "cell_type": "markdown",
   "metadata": {},
   "source": [
    "Performance on our KNN model is not bad, but let's see if there is something that can give us a better test performance. "
   ]
  },
  {
   "cell_type": "markdown",
   "metadata": {},
   "source": [
    "### BaggingClassifier() 1.0: \n",
    "\n",
    "Bagging is a form of ensemble model training. If you think of planting a DecisionTree, this is like planting ANOTHER DecisionTree and using different parts of the data to improve our score."
   ]
  },
  {
   "cell_type": "code",
   "execution_count": 45,
   "metadata": {},
   "outputs": [
    {
     "data": {
      "text/plain": [
       "BaggingClassifier(base_estimator=DecisionTreeClassifier(criterion='entropy',\n",
       "                                                        max_depth=6),\n",
       "                  n_estimators=30, random_state=42)"
      ]
     },
     "execution_count": 45,
     "metadata": {},
     "output_type": "execute_result"
    }
   ],
   "source": [
    "# import BaggingClassifier\n",
    "from sklearn.ensemble import BaggingClassifier\n",
    "b_tree =  BaggingClassifier(DecisionTreeClassifier(criterion='entropy', max_depth=6), \n",
    "                                 n_estimators=30, random_state = 42)\n",
    "# fit model on training data\n",
    "b_tree.fit(X_train, y_train)"
   ]
  },
  {
   "cell_type": "code",
   "execution_count": 46,
   "metadata": {
    "scrolled": true
   },
   "outputs": [
    {
     "name": "stdout",
     "output_type": "stream",
     "text": [
      "Bagged model training score: 0.7268292682926829\n"
     ]
    }
   ],
   "source": [
    "# Training data score\n",
    "print('Bagged model training score: {}'.format(b_tree.score(X_train, y_train)))\n"
   ]
  },
  {
   "cell_type": "code",
   "execution_count": 47,
   "metadata": {
    "scrolled": false
   },
   "outputs": [
    {
     "name": "stdout",
     "output_type": "stream",
     "text": [
      "Bagged model test score: 0.672514619883041\n"
     ]
    }
   ],
   "source": [
    "# Testing data score\n",
    "print('Bagged model test score: {}'.format(b_tree.score(X_test, y_test)))\n"
   ]
  },
  {
   "cell_type": "markdown",
   "metadata": {},
   "source": [
    "<div class=\"alert alert-block alert-success\">\n",
    "Our model has made improvements and does not appear to be overfitting. Since these are our best scores so far we should keep them in mind but for now let's move onto models 2.0.\n",
    "</div>"
   ]
  },
  {
   "cell_type": "markdown",
   "metadata": {},
   "source": [
    "### BaggingClassifier() 2.0: \n",
    "\n",
    "Let's lower n_estimators and max_depth"
   ]
  },
  {
   "cell_type": "code",
   "execution_count": 48,
   "metadata": {},
   "outputs": [
    {
     "data": {
      "text/plain": [
       "dict_keys(['base_estimator', 'bootstrap', 'bootstrap_features', 'max_features', 'max_samples', 'n_estimators', 'n_jobs', 'oob_score', 'random_state', 'verbose', 'warm_start'])"
      ]
     },
     "execution_count": 48,
     "metadata": {},
     "output_type": "execute_result"
    }
   ],
   "source": [
    "BaggingClassifier().get_params().keys()"
   ]
  },
  {
   "cell_type": "code",
   "execution_count": 49,
   "metadata": {},
   "outputs": [
    {
     "data": {
      "text/plain": [
       "BaggingClassifier(base_estimator=DecisionTreeClassifier(criterion='entropy',\n",
       "                                                        max_depth=5),\n",
       "                  n_estimators=20, random_state=42)"
      ]
     },
     "execution_count": 49,
     "metadata": {},
     "output_type": "execute_result"
    }
   ],
   "source": [
    "b_tree1 =  BaggingClassifier(DecisionTreeClassifier(criterion='entropy', max_depth=5), \n",
    "                                 n_estimators=20, random_state = 42, bootstrap=True)\n",
    "# fit model on training data\n",
    "b_tree1.fit(X_train, y_train)"
   ]
  },
  {
   "cell_type": "code",
   "execution_count": 50,
   "metadata": {
    "scrolled": true
   },
   "outputs": [
    {
     "name": "stdout",
     "output_type": "stream",
     "text": [
      "Bagged model training score: 0.713170731707317\n",
      "Bagged model test score: 0.6871345029239766\n"
     ]
    }
   ],
   "source": [
    "print('Bagged model training score: {}'.format(b_tree1.score(X_train, y_train)))\n",
    "print('Bagged model test score: {}'.format(b_tree1.score(X_test, y_test)))"
   ]
  },
  {
   "cell_type": "markdown",
   "metadata": {},
   "source": [
    "<div class=\"alert alert-block alert-success\">\n",
    "Great! Our model has improved around ~1.5% on our testing data.\n",
    "</div>"
   ]
  },
  {
   "cell_type": "code",
   "execution_count": 52,
   "metadata": {},
   "outputs": [
    {
     "name": "stdout",
     "output_type": "stream",
     "text": [
      "<class 'pandas.core.frame.DataFrame'>\n",
      "Int64Index: 1367 entries, 195 to 21511\n",
      "Columns: 2254 entries, Year to Rear suspension_Öhlins, 300 mm wheel travel, adjustable pre-load, compression and rebound\n",
      "dtypes: float64(9), uint8(2245)\n",
      "memory usage: 3.0 MB\n"
     ]
    }
   ],
   "source": [
    "X.info()"
   ]
  },
  {
   "cell_type": "code",
   "execution_count": 51,
   "metadata": {},
   "outputs": [
    {
     "ename": "NameError",
     "evalue": "name 'xx' is not defined",
     "output_type": "error",
     "traceback": [
      "\u001b[1;31m---------------------------------------------------------------------------\u001b[0m",
      "\u001b[1;31mNameError\u001b[0m                                 Traceback (most recent call last)",
      "\u001b[1;32m<ipython-input-51-ce3af7760f12>\u001b[0m in \u001b[0;36m<module>\u001b[1;34m\u001b[0m\n\u001b[1;32m----> 1\u001b[1;33m \u001b[0mxx\u001b[0m\u001b[1;33m\u001b[0m\u001b[1;33m\u001b[0m\u001b[0m\n\u001b[0m",
      "\u001b[1;31mNameError\u001b[0m: name 'xx' is not defined"
     ]
    }
   ],
   "source": [
    "xx"
   ]
  },
  {
   "cell_type": "markdown",
   "metadata": {},
   "source": [
    "# DecisionTree Model 2.0: Cross-Validation\n",
    "\n",
    "We will try using cross-validation to see if we can up the score of our base Decision Tree Model 1.0. Cross-validation assists with overfitting, and even though it did not appear that our model overfit the data, it is still worth a try.  "
   ]
  },
  {
   "cell_type": "code",
   "execution_count": null,
   "metadata": {},
   "outputs": [],
   "source": [
    "# import cross_val_score from sklearn\n",
    "from sklearn.model_selection import cross_val_score\n",
    "# We will re-use 'dtc', our DecisionTreeClassifier() from earlier\n",
    "\n",
    "dtc_cross_score = cross_val_score(dtc, X_train, y_train, cv = 5)\n",
    "mean_dtc_cross_score = np.mean(dtc_cross_score)\n",
    "\n",
    "print('Mean Cross-Validation Score:{}'.format(mean_dtc_cross_score))"
   ]
  },
  {
   "cell_type": "markdown",
   "metadata": {},
   "source": [
    "<div class=\"alert alert-block alert-danger\">\n",
    "The performance on this model is worse than the first base DecisionTree that we put together. We will scrap this version for now and move forward with our Bagged Decision Tree. \n",
    "</div>"
   ]
  },
  {
   "cell_type": "markdown",
   "metadata": {},
   "source": [
    "# RandomForestClassifier()\n",
    "We can identify and interpret feature importance from our second ensemble model, RandomForestClassifier() "
   ]
  },
  {
   "cell_type": "code",
   "execution_count": null,
   "metadata": {},
   "outputs": [],
   "source": [
    "# import RandomForestClassifier\n",
    "from sklearn.ensemble import RandomForestClassifier\n",
    "# forest variable, random_state = 42, max_depth = 5\n",
    "forest = RandomForestClassifier(random_state = 42, max_depth = 5)\n",
    "# fit classifier on training data\n",
    "forest.fit(X_train, y_train)"
   ]
  },
  {
   "cell_type": "code",
   "execution_count": null,
   "metadata": {
    "scrolled": true
   },
   "outputs": [],
   "source": [
    "print('RandomForest training score: {}'.format(forest.score(X_train, y_train)))"
   ]
  },
  {
   "cell_type": "code",
   "execution_count": null,
   "metadata": {},
   "outputs": [],
   "source": [
    "print('RandomForest testing score: {}'.format(forest.score(X_test,y_test)))"
   ]
  },
  {
   "cell_type": "markdown",
   "metadata": {},
   "source": [
    "<div class=\"alert alert-block alert-danger\">\n",
    "Though this would not appear to be a successful model, let's begin hyperparameter tuning to see if we can get a score of above, say 80% on both the training and testing data\n",
    "</div>"
   ]
  },
  {
   "cell_type": "markdown",
   "metadata": {},
   "source": [
    "# Hyperparameter tuning on RandomForestClassifier()"
   ]
  },
  {
   "cell_type": "code",
   "execution_count": null,
   "metadata": {},
   "outputs": [],
   "source": [
    "RandomForestClassifier().get_params().keys()"
   ]
  },
  {
   "cell_type": "code",
   "execution_count": null,
   "metadata": {
    "scrolled": true
   },
   "outputs": [],
   "source": [
    "# Set a new variable for our second version of the RandomForestClassifier()\n",
    "# As a reminder: \n",
    "# forest = RandomForestClassifier(random_state =42, max_depth = 5)\n",
    "forest1 = RandomForestClassifier(random_state =42, max_depth =5, n_estimators=10)\n",
    "    "
   ]
  },
  {
   "cell_type": "code",
   "execution_count": null,
   "metadata": {},
   "outputs": [],
   "source": [
    "forest1.fit(X_train,y_train)\n",
    "print('RandomForestClassifier training score n_estimators = 10: {}'.format(forest1.score(X_train, y_train)))\n",
    "print('RandomForestClassifier test score n_estimators =10: {}'.format(forest1.score(X_test, y_test)))"
   ]
  },
  {
   "cell_type": "code",
   "execution_count": null,
   "metadata": {
    "scrolled": true
   },
   "outputs": [],
   "source": [
    "forest2 = RandomForestClassifier(criterion = 'gini',random_state = 42, max_depth =5, n_estimators =50)\n",
    "forest2.fit(X_train,y_train)\n",
    "print('RandomForestClassifier training score n_estimators = 50: {}'.format(forest2.score(X_train, y_train)))\n",
    "print('RandomForestClassifier test score n_estimators =50: {}'.format(forest2.score(X_test, y_test)))"
   ]
  },
  {
   "cell_type": "markdown",
   "metadata": {},
   "source": [
    "<div class=\"alert alert-block alert-danger\">\n",
    "Not exactly what we had in mind. We have created an ensemble model but are having a hard time determining parameters that will increase score. For this, let's use Random Search. \n",
    "</div>"
   ]
  },
  {
   "cell_type": "markdown",
   "metadata": {},
   "source": [
    "# Random Search Training"
   ]
  },
  {
   "cell_type": "code",
   "execution_count": null,
   "metadata": {},
   "outputs": [],
   "source": [
    "# random_grid works the same way that a param_grid would: we will see what parameters are selected as \n",
    "# the 'best' parameters and build our next model based on these results. \n",
    "random_grid = {'bootstrap': [True, False],\n",
    "               'max_depth': [10,30,50,70,90,100, None],\n",
    "               'max_features': ['auto', 'sqrt'], \n",
    "               'n_estimators': [200, 400, 600]    \n",
    "}"
   ]
  },
  {
   "cell_type": "code",
   "execution_count": null,
   "metadata": {
    "scrolled": true
   },
   "outputs": [],
   "source": [
    "# This takes almost 20 minutes to run, Weird Al Yankovic's 'Sauerkraut' x 2 would be unbearable but...\n",
    "from sklearn.model_selection import RandomizedSearchCV\n",
    "rf = RandomForestClassifier()\n",
    "rf_cv = RandomizedSearchCV(estimator =rf,\n",
    "                          param_distributions = random_grid, \n",
    "                           n_iter = 100,\n",
    "                          cv = 3\n",
    "                          )\n",
    "rf_cv.fit(X_train, y_train)\n",
    "rf_cv.score(X_train, y_train)\n",
    "# Expected Output: 0.697560975609756"
   ]
  },
  {
   "cell_type": "code",
   "execution_count": null,
   "metadata": {
    "scrolled": true
   },
   "outputs": [],
   "source": [
    "# The best parameters in this first tuned model\n",
    "rf_cv.best_params_\n",
    "# Expected output: {'n_estimators': 600,\n",
    "#  'max_features': 'auto',\n",
    "#  'max_depth': 10,\n",
    "#  'bootstrap': False}"
   ]
  },
  {
   "cell_type": "markdown",
   "metadata": {},
   "source": [
    "<div class=\"alert alert-block alert-danger\">\n",
    "Thinking critically on these parameters then, 600 estimators was the most in our set, let's shoot for more in the following model, max_features: 'auto', max_depth: '(something in the single digits)', and 'bootstrap': False\n",
    "</div>"
   ]
  },
  {
   "cell_type": "markdown",
   "metadata": {},
   "source": [
    "# Random Search Training 2.0\n",
    "Again, taking into account the parameters that were selected as the 'best', let's expand on that idea by making our next set of parameters exploratory options referentially to our previous set of 'best_params'. "
   ]
  },
  {
   "cell_type": "code",
   "execution_count": null,
   "metadata": {},
   "outputs": [],
   "source": [
    "# Set new parameters for new random_grid1\n",
    "random_grid1 = {'bootstrap': [False],\n",
    "               'max_depth': [1,5,7,10],\n",
    "               'max_features': ['auto'], \n",
    "               'n_estimators': [600,800,1000,1200]    \n",
    "}"
   ]
  },
  {
   "cell_type": "code",
   "execution_count": null,
   "metadata": {
    "scrolled": true
   },
   "outputs": [],
   "source": [
    "rf_cv = RandomizedSearchCV(estimator =rf,\n",
    "                          param_distributions = random_grid1, \n",
    "                           n_iter = 100,\n",
    "                          cv = 3\n",
    "                          )\n",
    "rf_cv.fit(X_train, y_train)\n",
    "rf_cv.score(X_train, y_train)\n",
    "# Expected output: 0.7014634146341463"
   ]
  },
  {
   "cell_type": "code",
   "execution_count": null,
   "metadata": {},
   "outputs": [],
   "source": [
    "rf_cv.score(X_test, y_test)\n",
    "# Expected output: 0.6549707602339181"
   ]
  },
  {
   "cell_type": "code",
   "execution_count": null,
   "metadata": {
    "scrolled": true
   },
   "outputs": [],
   "source": [
    "rf_cv.best_params_\n",
    "# Expected output: {'n_estimators': 800,\n",
    "#  'max_features': 'auto',\n",
    "#  'max_depth': 10,\n",
    "#  'bootstrap': False}"
   ]
  },
  {
   "cell_type": "markdown",
   "metadata": {},
   "source": [
    "<div class=\"alert alert-block alert-danger\">\n",
    "Well there's a slight improvement, and we have gotten closer to the best score we've gotten so far from our BaggedClassifier(DecisionTreeClassifier()) but let's keep tuning. \n",
    "</div>"
   ]
  },
  {
   "cell_type": "markdown",
   "metadata": {},
   "source": [
    "# Random Search Training 3.0"
   ]
  },
  {
   "cell_type": "code",
   "execution_count": null,
   "metadata": {},
   "outputs": [],
   "source": [
    "random_grid2 = {'bootstrap': [False],\n",
    "               'max_depth': [10,11,12,13,14,15,16,17,18,19,20],\n",
    "               'max_features': ['auto'], \n",
    "               'n_estimators': [700, 750, 800, 850, 900]    \n",
    "}"
   ]
  },
  {
   "cell_type": "code",
   "execution_count": null,
   "metadata": {
    "scrolled": false
   },
   "outputs": [],
   "source": [
    "# 'Stairway to Heaven' like thrice\n",
    "rf_cv = RandomizedSearchCV(estimator =rf,\n",
    "                          param_distributions = random_grid2, \n",
    "                           n_iter = 100,\n",
    "                          cv = 5 # Changed from 3 to 5, probably accounts for the time\n",
    "                          )\n",
    "rf_cv.fit(X_train, y_train)\n",
    "rf_cv.score(X_train, y_train)\n",
    "# Expected output: 0.7346341463414634"
   ]
  },
  {
   "cell_type": "code",
   "execution_count": null,
   "metadata": {},
   "outputs": [],
   "source": [
    "rf_cv.score(X_test, y_test)\n",
    "# Expected output: 0.652046783625731"
   ]
  },
  {
   "cell_type": "code",
   "execution_count": null,
   "metadata": {
    "scrolled": false
   },
   "outputs": [],
   "source": [
    "rf_cv.best_params_\n",
    "#{'n_estimators': 900,\n",
    "#  'max_features': 'auto',\n",
    "#  'max_depth': 12,\n",
    "#  'bootstrap': False}"
   ]
  },
  {
   "cell_type": "code",
   "execution_count": null,
   "metadata": {},
   "outputs": [],
   "source": [
    "random_grid3 = {'bootstrap': [False],\n",
    "               'max_depth': [12],\n",
    "               'max_features': ['auto'], \n",
    "               'n_estimators': [900, 925, 950, 975]    \n",
    "}"
   ]
  },
  {
   "cell_type": "code",
   "execution_count": null,
   "metadata": {},
   "outputs": [],
   "source": [
    "# Stairway to Heaven twice?\n",
    "rf_cv = RandomizedSearchCV(estimator =rf,\n",
    "                          param_distributions = random_grid2, \n",
    "                           n_iter = 100,\n",
    "                          cv = 3 \n",
    "                          )\n",
    "rf_cv.fit(X_train, y_train)\n",
    "rf_cv.score(X_train, y_train)\n",
    "# Expected output: 0.7404878048780488"
   ]
  },
  {
   "cell_type": "code",
   "execution_count": null,
   "metadata": {},
   "outputs": [],
   "source": [
    "rf_cv.score(X_test, y_test)\n",
    "# Expected output: 0.6549707602339181"
   ]
  },
  {
   "cell_type": "markdown",
   "metadata": {},
   "source": [
    "# AdaboostClassifier\n",
    "While our model is performing at a rate that could be considered passable, let's try using an AdaboostClassifier to see if we can improve a model. "
   ]
  },
  {
   "cell_type": "code",
   "execution_count": null,
   "metadata": {},
   "outputs": [],
   "source": [
    "# import AdaBoostClassifier from sklearn\n",
    "from sklearn.ensemble import AdaBoostClassifier\n",
    "AdaBoostClassifier().get_params().keys()"
   ]
  },
  {
   "cell_type": "code",
   "execution_count": null,
   "metadata": {},
   "outputs": [],
   "source": [
    "# A pretty vanilla classifier to start\n",
    "ada = AdaBoostClassifier(random_state = 42)"
   ]
  },
  {
   "cell_type": "code",
   "execution_count": null,
   "metadata": {
    "scrolled": true
   },
   "outputs": [],
   "source": [
    "ada.fit(X_train, y_train)\n",
    "ada.score(X_train, y_train), ada.score(X_test, y_test)"
   ]
  },
  {
   "cell_type": "code",
   "execution_count": null,
   "metadata": {
    "scrolled": true
   },
   "outputs": [],
   "source": [
    "# ada1 is our first attempt at improving the vanilla AdaBoostClassifier()\n",
    "ada1 = AdaBoostClassifier(random_state = 42, learning_rate = 1.0, n_estimators = 300 )\n",
    "ada1.fit(X_train, y_train)\n",
    "ada1.score(X_train, y_train), ada1.score(X_test, y_test)\n",
    "# Expected output: (0.8907317073170732, 0.6432748538011696)"
   ]
  },
  {
   "cell_type": "code",
   "execution_count": null,
   "metadata": {
    "scrolled": true
   },
   "outputs": [],
   "source": [
    "# Trying out a learning_rate = 0.2, n_estimators = 300\n",
    "ada2 = AdaBoostClassifier(random_state = 42, learning_rate = 0.1, n_estimators = 100 )\n",
    "ada2.fit(X_train, y_train)\n",
    "ada2.score(X_train, y_train), ada2.score(X_test, y_test)\n",
    "# Expected output: (0.8126829268292682, 0.6491228070175439)"
   ]
  },
  {
   "cell_type": "code",
   "execution_count": null,
   "metadata": {
    "scrolled": true
   },
   "outputs": [],
   "source": [
    "# Using the proposed learning_rate = 0.000975 and n_estimators = 500\n",
    "ada3 = AdaBoostClassifier(random_state = 42, learning_rate = 0.1, n_estimators = 200 )\n",
    "ada3.fit(X_train, y_train)\n",
    "ada3.score(X_train, y_train), ada3.score(X_test, y_test)\n",
    "# Expected output: (0.6068292682926829, 0.6461988304093568)"
   ]
  },
  {
   "cell_type": "code",
   "execution_count": null,
   "metadata": {
    "scrolled": true
   },
   "outputs": [],
   "source": [
    "# n_estimators = 1500 to see if there is improvement by increasing n_estimators \n",
    "ada4 = AdaBoostClassifier(random_state = 42, learning_rate = 0.1, n_estimators = 150 )\n",
    "ada4.fit(X_train, y_train)\n",
    "ada4.score(X_train, y_train), ada4.score(X_test, y_test)\n",
    "# Expected output: (0.6253658536585366, 0.6578947368421053)"
   ]
  },
  {
   "cell_type": "markdown",
   "metadata": {},
   "source": [
    "<div class=\"alert alert-block alert-danger\">\n",
    "Unfortunately, since none of these models performed particularly well, we will move forward with ada4 and do some crossvalidation. First though, let's trying Gradient Boosting. \n",
    "</div>"
   ]
  },
  {
   "cell_type": "markdown",
   "metadata": {},
   "source": [
    "# Gradient Boosting"
   ]
  },
  {
   "cell_type": "code",
   "execution_count": null,
   "metadata": {},
   "outputs": [],
   "source": [
    "from sklearn.ensemble import GradientBoostingClassifier\n",
    "GradientBoostingClassifier().get_params().keys()"
   ]
  },
  {
   "cell_type": "code",
   "execution_count": null,
   "metadata": {},
   "outputs": [],
   "source": [
    "# This will serve as our vanilla GradientBoostingClassifier()\n",
    "gbt = GradientBoostingClassifier(random_state =42)\n",
    "gbt.fit(X_train, y_train)\n",
    "gbt.score(X_train, y_train), gbt.score(X_test, y_test)"
   ]
  },
  {
   "cell_type": "code",
   "execution_count": null,
   "metadata": {
    "scrolled": false
   },
   "outputs": [],
   "source": [
    "y2 = y_train - gbt.predict(X_train)\n",
    "y2"
   ]
  },
  {
   "cell_type": "code",
   "execution_count": null,
   "metadata": {},
   "outputs": [],
   "source": [
    "y_preds = gbt.predict(X_train) + gbt"
   ]
  },
  {
   "cell_type": "code",
   "execution_count": null,
   "metadata": {},
   "outputs": [],
   "source": [
    "gbt2 = GradientBoostingClassifier(random_state =42)\n",
    "gbt2.fit(X_train, y2)"
   ]
  },
  {
   "cell_type": "code",
   "execution_count": null,
   "metadata": {},
   "outputs": [],
   "source": [
    "gbt.score(X_train, y2), gbt.score(X_test, y_test)"
   ]
  },
  {
   "cell_type": "code",
   "execution_count": null,
   "metadata": {},
   "outputs": [],
   "source": [
    "parameter_grid = {}"
   ]
  },
  {
   "cell_type": "code",
   "execution_count": null,
   "metadata": {},
   "outputs": [],
   "source": [
    "from sklearn.model_selection import GridSearchCV\n",
    "clf = GridSearchCV(GradientBoostingClassifier(max_depth = 3, random_state = 42, learning_rate =1,\n",
    "                                             n_estimators = 25), parameter_grid,cv=3)"
   ]
  },
  {
   "cell_type": "code",
   "execution_count": null,
   "metadata": {
    "scrolled": true
   },
   "outputs": [],
   "source": [
    "\n",
    "gbt1 = GradientBoostingClassifier(criterion = 'friedman_mse', \n",
    "                                 learning_rate = 1, \n",
    "                                 n_estimators = 25, \n",
    "                                 random_state = 42)\n",
    "gbt1.fit(X_train, y_train)\n",
    "gbt1.score(X_train, y_train), gbt1.score(X_test, y_test)"
   ]
  },
  {
   "cell_type": "code",
   "execution_count": null,
   "metadata": {},
   "outputs": [],
   "source": [
    "clf.fit(X_train, y_train)\n",
    "clf.score(X_train,y_train), clf.score(X_test, y_test)"
   ]
  },
  {
   "cell_type": "code",
   "execution_count": null,
   "metadata": {
    "scrolled": true
   },
   "outputs": [],
   "source": [
    "clf.best_params_"
   ]
  },
  {
   "cell_type": "code",
   "execution_count": null,
   "metadata": {},
   "outputs": [],
   "source": [
    "def my_gradient_boosting_classifier(n_estimators, X, target, random_state=42):\n",
    "    # Save the iteratively trained models and residuals\n",
    "    trained_weak_learners = []\n",
    "    past_residuals = []\n",
    "    \n",
    "    # Initial conditions\n",
    "    new_y = target\n",
    "    past_residuals.append(new_y)\n",
    "    # Iteratively train model\n",
    "    for n in range(n_estimators):\n",
    "        # Train the new model on past residuals (note first model trains on y)\n",
    "        new_model = DecisionTreeClassifier(max_depth=2, random_state=random_state)\n",
    "        new_model.fit(X,new_y)\n",
    "        # Find the new residuals (used to train the next model)\n",
    "        new_y = new_y - new_model.predict(X) \n",
    "        # Save the (trained) model and the new residuals\n",
    "        trained_weak_learners.append(new_model)\n",
    "        past_residuals.append(new_y)\n",
    "        \n",
    "    return trained_weak_learners, past_residuals"
   ]
  },
  {
   "cell_type": "code",
   "execution_count": null,
   "metadata": {},
   "outputs": [],
   "source": [
    "m,ys = my_gradient_boosting_classifier(3, X_train, y_train)"
   ]
  },
  {
   "cell_type": "code",
   "execution_count": null,
   "metadata": {},
   "outputs": [],
   "source": [
    "ys"
   ]
  },
  {
   "cell_type": "code",
   "execution_count": null,
   "metadata": {},
   "outputs": [],
   "source": []
  },
  {
   "cell_type": "code",
   "execution_count": null,
   "metadata": {
    "scrolled": true
   },
   "outputs": [],
   "source": [
    "# Our mean training score\n",
    "dtc_training_score = dtc_grid_search.score(X_train, y_train)\n",
    "\n",
    "# Mean Test score\n",
    "dtc_testing_score = dtc_grid_search.score(X_test, y_test)\n",
    "\n",
    "print(f\"Mean Training Score: {dtc_training_score :.2%}\")\n",
    "print(f\"Mean Test Score: {dtc_testing_score :.2%}\")\n",
    "print(\"Best Parameter Combination Found During Grid Search:\")\n",
    "dtc_grid_search.best_params_"
   ]
  },
  {
   "cell_type": "markdown",
   "metadata": {},
   "source": [
    "# Bagging Classifier 2.0: Model Prediction"
   ]
  },
  {
   "cell_type": "code",
   "execution_count": null,
   "metadata": {},
   "outputs": [],
   "source": [
    "# Fit our BaggingClassifier/best performant model onto the entire set of data\n",
    "b_tree1.fit(X,target)"
   ]
  },
  {
   "cell_type": "code",
   "execution_count": null,
   "metadata": {},
   "outputs": [],
   "source": [
    "# Take a look at the number of columns\n",
    "X.info()"
   ]
  },
  {
   "cell_type": "code",
   "execution_count": null,
   "metadata": {},
   "outputs": [],
   "source": [
    "# Preview columns in X\n",
    "X.head()"
   ]
  },
  {
   "cell_type": "markdown",
   "metadata": {},
   "source": [
    "Looking at our table of possible predictions it begins to look clear that we will have to make these predictions on the original table, label encode or make predictions early on the data set and see what they are after encoding. "
   ]
  },
  {
   "cell_type": "markdown",
   "metadata": {},
   "source": [
    "## The Model\n",
    "\n",
    "So, we have done many things so far, but we will have to duplicate some of our efforts in order to get a prediction on whether or not a bike with certain features will be a ratings success or flop. Let's begin with the original data. "
   ]
  },
  {
   "cell_type": "code",
   "execution_count": null,
   "metadata": {},
   "outputs": [],
   "source": [
    "# ds will be our the dataset we fit our predictive model onto. \n",
    "ds = pd.read_csv('all_bikez_curated.csv')\n",
    "ds.head()"
   ]
  },
  {
   "cell_type": "code",
   "execution_count": null,
   "metadata": {
    "scrolled": false
   },
   "outputs": [],
   "source": [
    "ds.info()"
   ]
  },
  {
   "cell_type": "markdown",
   "metadata": {},
   "source": [
    "### Harley-Davidson Street 500: Testing a 'bad' motorcycle\n",
    "\n",
    "FI is our manufacturer's brand so let's use them for 'Brand', for now let's use motorcycle type as the 'Model'"
   ]
  },
  {
   "cell_type": "code",
   "execution_count": null,
   "metadata": {},
   "outputs": [],
   "source": [
    "# The only categorical column not included is 'Rating'\n",
    "categorical = ['Brand', 'Model', 'Year', 'Category', 'Rating', 'Engine cylinder', 'Engine stroke', \n",
    "                'Gearbox', 'Stroke (mm)', 'Fuel system', 'Fuel control', 'Cooling system', \n",
    "               'Transmission type', 'Front brakes', 'Rear brakes', 'Front tire', 'Rear tire',\n",
    "               'Front suspension', 'Rear suspension']\n",
    "\n",
    "continuous = ['Displacement (ccm)', 'Power (hp)', 'Torque (Nm)', 'Bore (mm)', 'Fuel capacity (lts)',\n",
    "             'Dry weight (kg)', 'Wheelbase (mm)', 'Seat height (mm)']"
   ]
  },
  {
   "cell_type": "code",
   "execution_count": null,
   "metadata": {
    "scrolled": true
   },
   "outputs": [],
   "source": [
    "# We will need to fill all of these below columns\n",
    "used_cols = [*categorical, *continuous]\n",
    "used_cols"
   ]
  },
  {
   "cell_type": "code",
   "execution_count": null,
   "metadata": {
    "scrolled": true
   },
   "outputs": [],
   "source": [
    "pd.set_option('max_columns', None)\n",
    "df_500 = ds.loc[ds['Model'] == 'street 500']\n",
    "df_500.head()"
   ]
  },
  {
   "cell_type": "code",
   "execution_count": null,
   "metadata": {},
   "outputs": [],
   "source": [
    "new_row_cruiser = pd.DataFrame(columns = used_cols)"
   ]
  },
  {
   "cell_type": "code",
   "execution_count": null,
   "metadata": {},
   "outputs": [],
   "source": [
    "# To test our model performance, let's pick a cruiser motorcycle that is sort of like the infamous\n",
    "# Harley-Davidson Street 500, a bike in infamy because of the amount used for MSF courses \n",
    "new_row_cruiser = new_row_cruiser.append({\n",
    "    'Brand': 'FI', \n",
    "    'Model': 'street 500',\n",
    "    'Year': '2014',\n",
    "    'Category': 'Custom / cruiser', \n",
    "    'Engine cylinder': 'V2', \n",
    "    'Engine stroke': ' four-stroke', \n",
    "    'Gearbox': '6-speed', \n",
    "    'Stroke (mm)': '66.0', \n",
    "    'Fuel capacity (lts)': 13.25, \n",
    "    'Fuel system': 'Injection. Mikuni Single Port Fuel Injection', \n",
    "    'Fuel control': 'Single Overhead Cams (SOHC)', \n",
    "    'Cooling system': 'Liquid', \n",
    "    'Transmission type': 'Belt', \n",
    "    'Dry weight (kg)': 206.4, \n",
    "    'Wheelbase (mm)': 1534.0, \n",
    "    'Seat height (mm)': 653.0, \n",
    "    'Displacement (ccm)': 500,\n",
    "    'Power (hp)': 50, \n",
    "    'Torque (Nm)': 40,\n",
    "    'Bore (mm)': 69.1,\n",
    "    'Front brakes': 'Single disc. Twin piston, floating caliper', \n",
    "    'Rear brakes': 'Single disc. Twin piston, floating caliper', \n",
    "    'Front tire': '100/80-R17', \n",
    "    'Rear tire': '140/75-R15', \n",
    "    'Front suspension': 'Telescopic fork', \n",
    "    'Rear suspension': 'Dual shocks'\n",
    "    \n",
    "},ignore_index = True)"
   ]
  },
  {
   "cell_type": "code",
   "execution_count": null,
   "metadata": {},
   "outputs": [],
   "source": [
    "new_row_cruiser"
   ]
  },
  {
   "cell_type": "markdown",
   "metadata": {},
   "source": [
    "#### Preprocessing our model for the FI Cruiser"
   ]
  },
  {
   "cell_type": "code",
   "execution_count": null,
   "metadata": {
    "scrolled": true
   },
   "outputs": [],
   "source": [
    "nrc = new_row_cruiser\n",
    "\n",
    "y_nrc = np.where(nrc['Rating']>=(3.4), 1,0)\n"
   ]
  },
  {
   "cell_type": "code",
   "execution_count": null,
   "metadata": {},
   "outputs": [],
   "source": [
    "nrc = nrc.drop(columns = 'Rating', axis = 1)\n",
    "nrc.head()"
   ]
  },
  {
   "cell_type": "code",
   "execution_count": null,
   "metadata": {
    "scrolled": true
   },
   "outputs": [],
   "source": [
    "nrc = pd.get_dummies(nrc, columns = categoricals)\n",
    "nrc.head()"
   ]
  },
  {
   "cell_type": "code",
   "execution_count": null,
   "metadata": {},
   "outputs": [],
   "source": [
    "nrc = nrc.drop(columns = 'Brand', axis =1)\n",
    "nrc = nrc.drop(columns = 'Year', axis =1)\n",
    "nrc = nrc.drop(columns = 'Model', axis =1)"
   ]
  },
  {
   "cell_type": "code",
   "execution_count": null,
   "metadata": {},
   "outputs": [],
   "source": [
    "b_tree1.fit(nrc, y_nrc)"
   ]
  },
  {
   "cell_type": "code",
   "execution_count": null,
   "metadata": {},
   "outputs": [],
   "source": [
    "b_tree1.predict(nrc)"
   ]
  },
  {
   "cell_type": "markdown",
   "metadata": {},
   "source": [
    "### Fi's Cruiser, but let's make it good"
   ]
  },
  {
   "cell_type": "code",
   "execution_count": null,
   "metadata": {},
   "outputs": [],
   "source": [
    "fi_cruiser = pd.DataFrame(columns = used_cols)\n",
    "\n",
    "fi_cruiser = new_row_cruiser.append({\n",
    "    'Brand': 'FI', \n",
    "    'Model': 'Cruiser',\n",
    "    'Year': '2023',\n",
    "    'Category': 'Custom / cruiser', \n",
    "    'Engine cylinder': 'V2', \n",
    "    'Engine stroke': ' four-stroke', \n",
    "    'Gearbox': '6-speed', \n",
    "    'Stroke (mm)': '66.0', \n",
    "    'Fuel capacity (lts)': 13.25, \n",
    "    'Fuel system': 'Injection. Mikuni Single Port Fuel Injection', \n",
    "    'Fuel control': 'Single Overhead Cams (SOHC)', \n",
    "    'Cooling system': 'Liquid', \n",
    "    'Transmission type': 'Belt', \n",
    "    'Dry weight (kg)': 206.4, \n",
    "    'Wheelbase (mm)': 1534.0, \n",
    "    'Seat height (mm)': 653.0, \n",
    "    'Displacement (ccm)': 500,\n",
    "    'Power (hp)': 50, \n",
    "    'Torque (Nm)': 40,\n",
    "    'Bore (mm)': 69.1,\n",
    "    'Front brakes': 'Single disc. Twin piston, floating caliper', \n",
    "    'Rear brakes': 'Single disc. Twin piston, floating caliper', \n",
    "    'Front tire': '100/80-R17', \n",
    "    'Rear tire': '140/75-R15', \n",
    "    'Front suspension': 'Telescopic fork', \n",
    "    'Rear suspension': 'Dual shocks'\n",
    "    \n",
    "},ignore_index = True)"
   ]
  }
 ],
 "metadata": {
  "kernelspec": {
   "display_name": "Python (learn-env)",
   "language": "python",
   "name": "lean-env"
  },
  "language_info": {
   "codemirror_mode": {
    "name": "ipython",
    "version": 3
   },
   "file_extension": ".py",
   "mimetype": "text/x-python",
   "name": "python",
   "nbconvert_exporter": "python",
   "pygments_lexer": "ipython3",
   "version": "3.8.5"
  },
  "toc": {
   "base_numbering": 1,
   "nav_menu": {},
   "number_sections": true,
   "sideBar": true,
   "skip_h1_title": true,
   "title_cell": "Table of Contents",
   "title_sidebar": "Contents",
   "toc_cell": true,
   "toc_position": {},
   "toc_section_display": true,
   "toc_window_display": false
  }
 },
 "nbformat": 4,
 "nbformat_minor": 4
}
