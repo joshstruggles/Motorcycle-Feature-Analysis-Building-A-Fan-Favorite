{
 "cells": [
  {
   "cell_type": "markdown",
   "metadata": {},
   "source": [
    "# Phase 3 Project\n",
    "\n",
    "Student: Joshua Ruggles<br>\n",
    "Instructor: Joe Comeaux/Morgan Jones<br>\n",
    "Data Science Flex"
   ]
  },
  {
   "cell_type": "markdown",
   "metadata": {
    "toc": true
   },
   "source": [
    "<h1>Table of Contents<span class=\"tocSkip\"></span></h1>\n",
    "<div class=\"toc\"><ul class=\"toc-item\"><li><span><a href=\"#Business-Problem\" data-toc-modified-id=\"Business-Problem-1\"><span class=\"toc-item-num\">1&nbsp;&nbsp;</span>Business Problem</a></span><ul class=\"toc-item\"><li><span><a href=\"#Ever-heard-of-'acabion'?\" data-toc-modified-id=\"Ever-heard-of-'acabion'?-1.1\"><span class=\"toc-item-num\">1.1&nbsp;&nbsp;</span>Ever heard of 'acabion'?</a></span></li></ul></li><li><span><a href=\"#Brands-you've-never-heard-of-aside,-what-are-we-looking-for?\" data-toc-modified-id=\"Brands-you've-never-heard-of-aside,-what-are-we-looking-for?-2\"><span class=\"toc-item-num\">2&nbsp;&nbsp;</span>Brands you've never heard of aside, what are we looking for?</a></span></li><li><span><a href=\"#What-makes-a-rating,-good?\" data-toc-modified-id=\"What-makes-a-rating,-good?-3\"><span class=\"toc-item-num\">3&nbsp;&nbsp;</span>What makes a rating, good?</a></span><ul class=\"toc-item\"><li><span><a href=\"#Yamaha-MT-07-&amp;-Suzuki-SV650\" data-toc-modified-id=\"Yamaha-MT-07-&amp;-Suzuki-SV650-3.1\"><span class=\"toc-item-num\">3.1&nbsp;&nbsp;</span>Yamaha MT-07 &amp; Suzuki SV650</a></span></li><li><span><a href=\"#Binary-values-for-'Rating'\" data-toc-modified-id=\"Binary-values-for-'Rating'-3.2\"><span class=\"toc-item-num\">3.2&nbsp;&nbsp;</span>Binary values for 'Rating'</a></span></li></ul></li><li><span><a href=\"#Preprocessing-:-Expert-opinion\" data-toc-modified-id=\"Preprocessing-:-Expert-opinion-4\"><span class=\"toc-item-num\">4&nbsp;&nbsp;</span>Preprocessing : Expert opinion</a></span><ul class=\"toc-item\"><li><span><a href=\"#One-thing-they-did-say-was-important:-Displacement-(ccm)\" data-toc-modified-id=\"One-thing-they-did-say-was-important:-Displacement-(ccm)-4.1\"><span class=\"toc-item-num\">4.1&nbsp;&nbsp;</span>One thing they did say was important: Displacement (ccm)</a></span></li><li><span><a href=\"#Missing-values-in-'Torque-(Nm)'\" data-toc-modified-id=\"Missing-values-in-'Torque-(Nm)'-4.2\"><span class=\"toc-item-num\">4.2&nbsp;&nbsp;</span>Missing values in 'Torque (Nm)'</a></span></li></ul></li><li><span><a href=\"#Removing-'Torque-(Nm)'\" data-toc-modified-id=\"Removing-'Torque-(Nm)'-5\"><span class=\"toc-item-num\">5&nbsp;&nbsp;</span>Removing 'Torque (Nm)'</a></span><ul class=\"toc-item\"><li><span><a href=\"#If-the-value-is-null,-it-has-to-go\" data-toc-modified-id=\"If-the-value-is-null,-it-has-to-go-5.1\"><span class=\"toc-item-num\">5.1&nbsp;&nbsp;</span>If the value is null, it has to go</a></span></li><li><span><a href=\"#Correlation-to-'Rating_'\" data-toc-modified-id=\"Correlation-to-'Rating_'-5.2\"><span class=\"toc-item-num\">5.2&nbsp;&nbsp;</span>Correlation to 'Rating_'</a></span></li><li><span><a href=\"#Dummy-categorical-columns\" data-toc-modified-id=\"Dummy-categorical-columns-5.3\"><span class=\"toc-item-num\">5.3&nbsp;&nbsp;</span>Dummy categorical columns</a></span></li><li><span><a href=\"#train_test_split\" data-toc-modified-id=\"train_test_split-5.4\"><span class=\"toc-item-num\">5.4&nbsp;&nbsp;</span>train_test_split</a></span></li></ul></li><li><span><a href=\"#Feature-Selection:\" data-toc-modified-id=\"Feature-Selection:-6\"><span class=\"toc-item-num\">6&nbsp;&nbsp;</span>Feature Selection:</a></span><ul class=\"toc-item\"><li><span><a href=\"#LinearRegression()-to-get-best-features\" data-toc-modified-id=\"LinearRegression()-to-get-best-features-6.1\"><span class=\"toc-item-num\">6.1&nbsp;&nbsp;</span>LinearRegression() to get best features</a></span></li><li><span><a href=\"#Interactions-at-their-best\" data-toc-modified-id=\"Interactions-at-their-best-6.2\"><span class=\"toc-item-num\">6.2&nbsp;&nbsp;</span>Interactions at their best</a></span></li></ul></li><li><span><a href=\"#Baseline-Models\" data-toc-modified-id=\"Baseline-Models-7\"><span class=\"toc-item-num\">7&nbsp;&nbsp;</span>Baseline Models</a></span><ul class=\"toc-item\"><li><span><a href=\"#Baseline-Model-1.0:\" data-toc-modified-id=\"Baseline-Model-1.0:-7.1\"><span class=\"toc-item-num\">7.1&nbsp;&nbsp;</span>Baseline Model 1.0:</a></span></li><li><span><a href=\"#KNN:-K-Nearest-Neighbors\" data-toc-modified-id=\"KNN:-K-Nearest-Neighbors-7.2\"><span class=\"toc-item-num\">7.2&nbsp;&nbsp;</span>KNN: K-Nearest-Neighbors</a></span></li><li><span><a href=\"#BaggingClassifier()-1.0:\" data-toc-modified-id=\"BaggingClassifier()-1.0:-7.3\"><span class=\"toc-item-num\">7.3&nbsp;&nbsp;</span>BaggingClassifier() 1.0:</a></span></li><li><span><a href=\"#BaggingClassifier()-2.0:\" data-toc-modified-id=\"BaggingClassifier()-2.0:-7.4\"><span class=\"toc-item-num\">7.4&nbsp;&nbsp;</span>BaggingClassifier() 2.0:</a></span></li></ul></li><li><span><a href=\"#The-Model\" data-toc-modified-id=\"The-Model-8\"><span class=\"toc-item-num\">8&nbsp;&nbsp;</span>The Model</a></span><ul class=\"toc-item\"><li><span><a href=\"#Harley-Davidson-Street-500:-Testing-a-'bad'-motorcycle\" data-toc-modified-id=\"Harley-Davidson-Street-500:-Testing-a-'bad'-motorcycle-8.1\"><span class=\"toc-item-num\">8.1&nbsp;&nbsp;</span>Harley-Davidson Street 500: Testing a 'bad' motorcycle</a></span><ul class=\"toc-item\"><li><span><a href=\"#Preprocessing-our-model-for-the-Fi-Cruiser\" data-toc-modified-id=\"Preprocessing-our-model-for-the-Fi-Cruiser-8.1.1\"><span class=\"toc-item-num\">8.1.1&nbsp;&nbsp;</span>Preprocessing our model for the Fi Cruiser</a></span></li></ul></li><li><span><a href=\"#Fi's-Cruiser,-but-let's-make-it-good\" data-toc-modified-id=\"Fi's-Cruiser,-but-let's-make-it-good-8.2\"><span class=\"toc-item-num\">8.2&nbsp;&nbsp;</span>Fi's Cruiser, but let's make it good</a></span></li></ul></li></ul></div>"
   ]
  },
  {
   "cell_type": "markdown",
   "metadata": {},
   "source": [
    "# Project Overview\n",
    "\n",
    "For this project we will look at feature importance in the rating of a proposed new motorcycle. Specifically we will be using classification tools from sklearn. We will be utilizing the \"all_bikez_curated.csv\" file from Kaggle, curated by Emmanuel F. Werr"
   ]
  },
  {
   "cell_type": "markdown",
   "metadata": {},
   "source": [
    "## Business Problem\n",
    "Our data science team has been contracted by a fairly new up and coming motorcycle manufacturer, Fi Motors that is struggling to find their new formula for a 'fan favorite' motorcycle. \n",
    "<br><br>\n",
    "Being a company of motorcycle riders, they have tasked our team to come up with a plan to replicate the successes of platforms like the Yamaha MT-07 and the Suzuki SV650. Fi Motor's ultimate desire, figure out what makes a motorcycle that people want to ride.\n",
    "\n",
    "\n",
    "<img src=\"pictures/Andrew-SV650-1.webp\"  />\n",
    "<center>Tarmac to track: The SV650 affordably does it all<br>\n",
    "Suzuki SV650 on track, courtesy of Bennetts Insurance\n",
    "</center>"
   ]
  },
  {
   "cell_type": "markdown",
   "metadata": {},
   "source": [
    "Further reading: \n",
    "\n",
    "Yamaha MT-07:<br> https://www.motorcyclenews.com/bike-reviews/yamaha/mt-07/2021/<br><br>https://www.motorcyclenews.com/bike-reviews/yamaha/mt-07/2014/<br><br>\n",
    "https://www.youtube.com/watch?v=RUp2_7RhZEo\n",
    "\n",
    "Suzuki SV650:<br> https://www.44teeth.com/suzuki-sv650-best-bike-ever/ <br><br>https://timeless2wheels.com/604079/suzuki-sv650/"
   ]
  },
  {
   "cell_type": "code",
   "execution_count": 1,
   "metadata": {
    "scrolled": false
   },
   "outputs": [
    {
     "data": {
      "text/html": [
       "<div>\n",
       "<style scoped>\n",
       "    .dataframe tbody tr th:only-of-type {\n",
       "        vertical-align: middle;\n",
       "    }\n",
       "\n",
       "    .dataframe tbody tr th {\n",
       "        vertical-align: top;\n",
       "    }\n",
       "\n",
       "    .dataframe thead th {\n",
       "        text-align: right;\n",
       "    }\n",
       "</style>\n",
       "<table border=\"1\" class=\"dataframe\">\n",
       "  <thead>\n",
       "    <tr style=\"text-align: right;\">\n",
       "      <th></th>\n",
       "      <th>Brand</th>\n",
       "      <th>Model</th>\n",
       "      <th>Year</th>\n",
       "      <th>Category</th>\n",
       "      <th>Rating</th>\n",
       "      <th>Displacement (ccm)</th>\n",
       "      <th>Power (hp)</th>\n",
       "      <th>Torque (Nm)</th>\n",
       "      <th>Engine cylinder</th>\n",
       "      <th>Engine stroke</th>\n",
       "      <th>...</th>\n",
       "      <th>Dry weight (kg)</th>\n",
       "      <th>Wheelbase (mm)</th>\n",
       "      <th>Seat height (mm)</th>\n",
       "      <th>Front brakes</th>\n",
       "      <th>Rear brakes</th>\n",
       "      <th>Front tire</th>\n",
       "      <th>Rear tire</th>\n",
       "      <th>Front suspension</th>\n",
       "      <th>Rear suspension</th>\n",
       "      <th>Color options</th>\n",
       "    </tr>\n",
       "  </thead>\n",
       "  <tbody>\n",
       "    <tr>\n",
       "      <th>0</th>\n",
       "      <td>acabion</td>\n",
       "      <td>da vinci 650-vi</td>\n",
       "      <td>2011</td>\n",
       "      <td>Prototype / concept model</td>\n",
       "      <td>3.2</td>\n",
       "      <td>NaN</td>\n",
       "      <td>804.0</td>\n",
       "      <td>NaN</td>\n",
       "      <td>Electric</td>\n",
       "      <td>Electric</td>\n",
       "      <td>...</td>\n",
       "      <td>420.0</td>\n",
       "      <td>NaN</td>\n",
       "      <td>NaN</td>\n",
       "      <td>Single disc</td>\n",
       "      <td>Single disc</td>\n",
       "      <td>NaN</td>\n",
       "      <td>NaN</td>\n",
       "      <td>NaN</td>\n",
       "      <td>NaN</td>\n",
       "      <td>NaN</td>\n",
       "    </tr>\n",
       "    <tr>\n",
       "      <th>1</th>\n",
       "      <td>acabion</td>\n",
       "      <td>gtbo 55</td>\n",
       "      <td>2007</td>\n",
       "      <td>Sport</td>\n",
       "      <td>2.6</td>\n",
       "      <td>1300.0</td>\n",
       "      <td>541.0</td>\n",
       "      <td>420.0</td>\n",
       "      <td>In-line four</td>\n",
       "      <td>four-stroke</td>\n",
       "      <td>...</td>\n",
       "      <td>360.0</td>\n",
       "      <td>NaN</td>\n",
       "      <td>NaN</td>\n",
       "      <td>NaN</td>\n",
       "      <td>NaN</td>\n",
       "      <td>NaN</td>\n",
       "      <td>NaN</td>\n",
       "      <td>NaN</td>\n",
       "      <td>NaN</td>\n",
       "      <td>NaN</td>\n",
       "    </tr>\n",
       "    <tr>\n",
       "      <th>2</th>\n",
       "      <td>acabion</td>\n",
       "      <td>gtbo 600 daytona-vi</td>\n",
       "      <td>2011</td>\n",
       "      <td>Prototype / concept model</td>\n",
       "      <td>3.5</td>\n",
       "      <td>NaN</td>\n",
       "      <td>536.0</td>\n",
       "      <td>NaN</td>\n",
       "      <td>Electric</td>\n",
       "      <td>Electric</td>\n",
       "      <td>...</td>\n",
       "      <td>420.0</td>\n",
       "      <td>NaN</td>\n",
       "      <td>NaN</td>\n",
       "      <td>Single disc</td>\n",
       "      <td>Single disc</td>\n",
       "      <td>NaN</td>\n",
       "      <td>NaN</td>\n",
       "      <td>NaN</td>\n",
       "      <td>NaN</td>\n",
       "      <td>NaN</td>\n",
       "    </tr>\n",
       "    <tr>\n",
       "      <th>3</th>\n",
       "      <td>acabion</td>\n",
       "      <td>gtbo 600 daytona-vi</td>\n",
       "      <td>2021</td>\n",
       "      <td>Prototype / concept model</td>\n",
       "      <td>NaN</td>\n",
       "      <td>NaN</td>\n",
       "      <td>536.0</td>\n",
       "      <td>NaN</td>\n",
       "      <td>Electric</td>\n",
       "      <td>Electric</td>\n",
       "      <td>...</td>\n",
       "      <td>420.0</td>\n",
       "      <td>NaN</td>\n",
       "      <td>NaN</td>\n",
       "      <td>Single disc</td>\n",
       "      <td>Single disc</td>\n",
       "      <td>NaN</td>\n",
       "      <td>NaN</td>\n",
       "      <td>NaN</td>\n",
       "      <td>NaN</td>\n",
       "      <td>NaN</td>\n",
       "    </tr>\n",
       "    <tr>\n",
       "      <th>4</th>\n",
       "      <td>acabion</td>\n",
       "      <td>gtbo 70</td>\n",
       "      <td>2007</td>\n",
       "      <td>Prototype / concept model</td>\n",
       "      <td>3.1</td>\n",
       "      <td>1300.0</td>\n",
       "      <td>689.0</td>\n",
       "      <td>490.0</td>\n",
       "      <td>In-line four</td>\n",
       "      <td>four-stroke</td>\n",
       "      <td>...</td>\n",
       "      <td>300.0</td>\n",
       "      <td>NaN</td>\n",
       "      <td>NaN</td>\n",
       "      <td>NaN</td>\n",
       "      <td>NaN</td>\n",
       "      <td>NaN</td>\n",
       "      <td>NaN</td>\n",
       "      <td>NaN</td>\n",
       "      <td>NaN</td>\n",
       "      <td>Custom made.</td>\n",
       "    </tr>\n",
       "  </tbody>\n",
       "</table>\n",
       "<p>5 rows × 28 columns</p>\n",
       "</div>"
      ],
      "text/plain": [
       "     Brand                Model  Year                   Category  Rating  \\\n",
       "0  acabion      da vinci 650-vi  2011  Prototype / concept model     3.2   \n",
       "1  acabion              gtbo 55  2007                      Sport     2.6   \n",
       "2  acabion  gtbo 600 daytona-vi  2011  Prototype / concept model     3.5   \n",
       "3  acabion  gtbo 600 daytona-vi  2021  Prototype / concept model     NaN   \n",
       "4  acabion              gtbo 70  2007  Prototype / concept model     3.1   \n",
       "\n",
       "   Displacement (ccm)  Power (hp)  Torque (Nm) Engine cylinder Engine stroke  \\\n",
       "0                 NaN       804.0          NaN        Electric      Electric   \n",
       "1              1300.0       541.0        420.0    In-line four   four-stroke   \n",
       "2                 NaN       536.0          NaN        Electric      Electric   \n",
       "3                 NaN       536.0          NaN        Electric      Electric   \n",
       "4              1300.0       689.0        490.0    In-line four   four-stroke   \n",
       "\n",
       "   ... Dry weight (kg)  Wheelbase (mm) Seat height (mm)  Front brakes  \\\n",
       "0  ...           420.0             NaN              NaN   Single disc   \n",
       "1  ...           360.0             NaN              NaN           NaN   \n",
       "2  ...           420.0             NaN              NaN   Single disc   \n",
       "3  ...           420.0             NaN              NaN   Single disc   \n",
       "4  ...           300.0             NaN              NaN           NaN   \n",
       "\n",
       "   Rear brakes Front tire Rear tire Front suspension  Rear suspension  \\\n",
       "0  Single disc        NaN       NaN              NaN              NaN   \n",
       "1          NaN        NaN       NaN              NaN              NaN   \n",
       "2  Single disc        NaN       NaN              NaN              NaN   \n",
       "3  Single disc        NaN       NaN              NaN              NaN   \n",
       "4          NaN        NaN       NaN              NaN              NaN   \n",
       "\n",
       "   Color options  \n",
       "0            NaN  \n",
       "1            NaN  \n",
       "2            NaN  \n",
       "3            NaN  \n",
       "4   Custom made.  \n",
       "\n",
       "[5 rows x 28 columns]"
      ]
     },
     "execution_count": 1,
     "metadata": {},
     "output_type": "execute_result"
    }
   ],
   "source": [
    "# Import warnings \n",
    "import warnings\n",
    "warnings.filterwarnings('ignore')\n",
    "\n",
    "# Import pandas to read our data\n",
    "import pandas as pd\n",
    "# 'all_bikez_curated.csv', with a 'z'\n",
    "df = pd.read_csv('all_bikez_curated.csv')\n",
    "# Show our data \n",
    "df.head()"
   ]
  },
  {
   "cell_type": "code",
   "execution_count": 2,
   "metadata": {},
   "outputs": [],
   "source": [
    "'''\n",
    "In order to save us some effort down the road during the prediction phase of this notebook, let's \n",
    "create another set of vanilla data. \n",
    "'''\n",
    "ds = pd.read_csv('all_bikez_curated.csv')"
   ]
  },
  {
   "cell_type": "markdown",
   "metadata": {},
   "source": [
    "### Ever heard of 'acabion'? \n",
    "\n",
    "<img src=\"pictures/acabion_2.jpg\" />\n",
    "<center>Acabion GTBO450 (Not listed in dataset)</center>\n",
    "\n",
    "Let's look at the unique values for 'Brand' as it would immediately appear that we probably aren't familiar with all of these motorcycles. Also, at ~700 hp, this thing seems more plane than bike."
   ]
  },
  {
   "cell_type": "code",
   "execution_count": 3,
   "metadata": {},
   "outputs": [
    {
     "data": {
      "text/plain": [
       "array(['acabion', 'access', 'ace', 'adiva', 'adler', 'adly', 'aeon',\n",
       "       'aermacchi', 'agrati', 'ajp', 'ajs', 'alfer', 'alligator',\n",
       "       'allstate', 'alphasports', 'alta', 'amazonas', 'american eagle',\n",
       "       'american ironhorse', 'apc', 'aprilia', 'apsonic', 'arch',\n",
       "       'arctic cat', 'ardie', 'ariel', 'arlen ness', 'arqin', 'askoll',\n",
       "       'aspes', 'ather', 'atk', 'atlas honda', 'aurora',\n",
       "       'avanturaa choppers', 'avinton', 'avon', 'azel', 'bajaj', 'balkan',\n",
       "       'baltmotors', 'bamx', 'baotian', 'barossa', 'batavus', 'beeline',\n",
       "       'benelli', 'bennche', 'beta', 'better', 'big bear choppers',\n",
       "       'big dog', 'bimota', 'bintelli', 'black douglas', 'blackburne',\n",
       "       'blata', 'bluroc', 'bmc choppers', 'bmw', 'boom trikes', 'borile',\n",
       "       'boss hoss', 'bourget', 'bpg', 'brammo', 'bridgestone', 'britten',\n",
       "       'brixton', 'brockhouse', 'brough superior', 'brudeli', 'bsa',\n",
       "       'buccimoto', 'buell', 'bullit', 'bultaco', 'cagiva',\n",
       "       'california scooter', 'can-am', 'capirelli', 'cargobike', 'casal',\n",
       "       'caterham', 'ccm', 'cectek', 'cf moto', 'ch racing', 'chang-jiang',\n",
       "       'cheetah', 'cheney', 'christini', 'clarke', 'cleveland', 'clipic',\n",
       "       'clyno', 'cmc', 'cobra', 'combat motors', 'confederate',\n",
       "       'cosmos muscle bikes', 'cotton', 'coventry eagle', 'covingtons',\n",
       "       'cpi', 'cr&s', 'crocker', 'crp', 'csc motorcycles', 'csr',\n",
       "       'current motor', 'curtiss', 'cushman', 'cz', 'daelim', 'dafier',\n",
       "       'dafra', 'dam', 'damon', 'dandy', 'dayang', 'dayton', 'dayun',\n",
       "       'db motors', 'de dion-bouton', 'delfast', 'demak', 'derbi',\n",
       "       'derringer', 'df motor', 'dfang', 'di blasi', 'diamo', 'dihao',\n",
       "       'dinamo', 'dinli', 'dirico', 'dkw', 'dnepr', 'docker', 'dodge',\n",
       "       'dollar', 'donghai', 'douglas', 'drysdale', 'ducati', 'dürkopp',\n",
       "       'e-max', 'e-racer', 'e-ton', 'e-tropolis', 'eagle-wing', 'ebretti',\n",
       "       'eccity', 'ecosse', 'ecrp', 'eko', 'electric city',\n",
       "       'electric motion', 'emblem', 'emco', 'energica', 'enfield',\n",
       "       'erik buell racing', 'evader', 'evolet', 'evolve', 'excelsior',\n",
       "       'exile cycles', 'factory bike', 'falcon', 'fantic', 'fb mondial',\n",
       "       'fgr', 'fischer', 'flying merkel', 'flyrite choppers', 'fokamo',\n",
       "       'fosti', 'fuego', 'fx bikes', 'g&g', 'garelli', 'gas gas', 'geely',\n",
       "       'genata', 'generic', 'genuine scooter', 'geon', 'gg',\n",
       "       'ghezzi-brian', 'giantco', 'gibbs', 'gilera', 'goes', 'gogo moto',\n",
       "       'gogoro', 'govecs', 'grc moto', 'greentrans', 'greeves', 'gymotor',\n",
       "       'hadin', 'hamachi', 'hanway', 'haojin', 'haojue',\n",
       "       'harley-davidson', 'hartford', 'hdm', 'headbanger', 'heinkel',\n",
       "       'henderson', 'herald', 'hercules', 'hero', 'hesketh', 'highland',\n",
       "       'hildebrand-wolfmüller', 'hm', 'hodaka', 'honda', 'horex',\n",
       "       'horwin', 'hp power', 'hunter', 'husaberg', 'husqvarna', 'hyosung',\n",
       "       'ice bear', 'indian', 'innoscooter', 'intrepid', 'irbis',\n",
       "       'italika', 'italjet', 'italmoto', 'izh', 'izuka', 'james', 'janus',\n",
       "       'jawa', 'jawa-cz', 'jialing', 'jianshe', 'jincheng', 'jinlun',\n",
       "       'joerns motor', 'johammer', 'johnny pag', 'jonway', 'jordan',\n",
       "       'jotagas', 'jrl', 'junak', 'k2o', 'kabirdass', 'kangda', 'kanuni',\n",
       "       'kasinski', 'kawasaki', 'kayo', 'keeway', 'kenbo', 'kentoya',\n",
       "       'kikker 5150', 'kinetic', 'kinroad', 'kollter', 'kramit', 'krc',\n",
       "       'kreidler', 'ksr', 'ktm', 'kuba', 'kuberg', 'kumpan', 'kurazai',\n",
       "       'kymco', 'lambretta', 'lauge jensen', 'laverda', 'lea francis',\n",
       "       'lectrix', 'lehman trikes', 'lem', 'leonart', 'leonhardt',\n",
       "       'lexmoto', 'lifan', 'lightning', 'ligier', 'linhai', 'lintex',\n",
       "       'lit motors', 'lito', 'livewire', 'lml', 'lohia', 'loncin',\n",
       "       'longjia', 'lsl', 'luxxon', 'macbor', 'magnat debon', 'magni',\n",
       "       'mahindra', 'maico', 'malaguti', 'malanca',\n",
       "       'marine turbine technologies', 'marks', 'marsh', 'marusho', 'mash',\n",
       "       'matchless', 'mavizen', 'mbk', 'mbs', 'megelli', 'metisse', 'mgb',\n",
       "       'mh', 'midual', 'mikilon', 'millet', 'mini', 'minsk', 'mission',\n",
       "       'mitt', 'mm', 'modenas', 'monark', 'mondial', 'montesa',\n",
       "       'monto motors', 'moto gima', 'moto guzzi', 'moto morini',\n",
       "       'moto union/omv', 'motobi', 'motoczysz', 'motolevo', 'motom',\n",
       "       'motomel', 'motoposh', 'motorhispania', 'motorino',\n",
       "       'motors europe', 'mototrans', 'motowell', 'motus', 'mustang',\n",
       "       'muz', 'mv agusta', 'mz', 'münch', 'ncr', 'neander', 'neco',\n",
       "       'nembo', 'new hudson', 'nimbus', 'nipponia', 'niu', 'norton',\n",
       "       'nox', 'nsu', 'nuuk', 'ohvale', 'okinawa', 'opel', 'orcal',\n",
       "       'orient', 'orion', 'oset', 'ossa', 'otto bike', 'over', 'oxygen',\n",
       "       'pagsta', 'palmo', 'pannonia', 'panther', 'paton', 'peda',\n",
       "       'penton', 'peraves', 'perks and birch', 'peugeot', 'pgo',\n",
       "       'piaggio', 'pierce', 'pitster pro', 'polaris', 'polini', 'pope',\n",
       "       'power chief', 'praga', 'prc (pro racing cycles)',\n",
       "       'precision cycle works', 'pro-one', 'proeco', 'puch', 'puma',\n",
       "       'qingqi', 'qjmotor', 'qlink', 'qooder', 'quadro', 'quantya',\n",
       "       'raleigh', 'ravi piaggio', 'raybar', 'reading standard',\n",
       "       'red wing', 'redneck', 'revolt', 'rewaco', 'rhino', 'rickman',\n",
       "       'ridley', 'riedel', 'rieju', 'rikuo', 'road hopper', 'rockford',\n",
       "       'roehr', 'rokon', 'romet', 'roxon', 'royal alloy', 'royal pioneer',\n",
       "       'rucker performance', 'rudge', 'sachs', 'samurai chopper',\n",
       "       'sanglas', 'sanya', 'sarolea', 'saxon', 'saxxx', 'schickel',\n",
       "       'schwinn', 'scomadi', 'scorpa', 'scott', 'sears', 'seat', 'senke',\n",
       "       'serpento', 'shanyang', 'sherco', 'shineray', 'shinetime',\n",
       "       'siamoto', 'silence', 'silk', 'simplex', 'simson', 'sinnis',\n",
       "       'skygo', 'skyteam', 'sommer', 'sonik', 'sora', 'soriano', 'sparta',\n",
       "       'standbike', 'starway/chu lan', 'stealth', 'stels',\n",
       "       'sucker punch sallys', 'sukida', 'sunbeam', 'sundiro',\n",
       "       'super gato', 'super motor', 'super soco', 'suzuki', 'suzuko',\n",
       "       'svm', 'swaygo', 'swift', 'swm', 'sym', 'tacita', 'tank sports',\n",
       "       'tao motor', 'tauris', 'tayo', 'techo electra', 'terra modena',\n",
       "       'terrot', 'tgb', 'thumpstar', 'tiger', 'titan', 'tm racing',\n",
       "       'tohqi', 'tomberlin', 'tomos', 'tork', 'torrot', 'track',\n",
       "       'travertson', 'triton', 'triumph', 'troll', 'trs', 'tunturi',\n",
       "       'tvs', 'ultra', 'um', 'unu', 'ural', 'vahrenkamp', 'valenti',\n",
       "       'van veen', 'vastro', 'vectrix', 'veli', 'velocette', 'veloci',\n",
       "       'vent', 'vento', 'vertemati', 'vertigo', 'vervemoto', 'vespa',\n",
       "       'vetter', 'viarelli', 'vibgyor', 'victoria', 'victory', 'vincent',\n",
       "       'vins', 'viper', 'vmoto', 'voge', 'volta', 'von dutch', 'vor',\n",
       "       'voskhod', 'voxan', 'vuka', 'vyrus', 'wakan', 'werner',\n",
       "       'west coast choppers', 'whizzer', 'wk', 'wrm', 'wsk', 'wt motors',\n",
       "       'xingfu', 'xingyue', 'xispa', 'xmotos', 'xor', 'yadea', 'yale',\n",
       "       'yamaha', 'yangtze', 'yiben', 'yobykes', 'yuki', 'zanella', 'zero',\n",
       "       'zest', 'zev', 'znen', 'zongshen', 'zontes', 'zweirad-union',\n",
       "       'zündapp'], dtype=object)"
      ]
     },
     "execution_count": 3,
     "metadata": {},
     "output_type": "execute_result"
    }
   ],
   "source": [
    "# .unique() will give you a view of all of the potential outcomes in 'Brand'\n",
    "df['Brand'].unique()"
   ]
  },
  {
   "cell_type": "markdown",
   "metadata": {},
   "source": [
    "## Brands you've never heard of aside, what are we looking for? \n",
    "\n",
    "Though there have historically been a huge number of manufacturers with varying degrees of success, we're specifically looking for diamonds, regardless of country of origin, make, or model: if our goal is critical acclaim, let's then look at what the critics say, but let's first make sure that the critics actually said something. "
   ]
  },
  {
   "cell_type": "code",
   "execution_count": 4,
   "metadata": {},
   "outputs": [],
   "source": [
    "# Drop any null values in 'Rating'\n",
    "df = df.dropna(subset=['Rating'])"
   ]
  },
  {
   "cell_type": "code",
   "execution_count": 5,
   "metadata": {},
   "outputs": [
    {
     "data": {
      "text/html": [
       "<div>\n",
       "<style scoped>\n",
       "    .dataframe tbody tr th:only-of-type {\n",
       "        vertical-align: middle;\n",
       "    }\n",
       "\n",
       "    .dataframe tbody tr th {\n",
       "        vertical-align: top;\n",
       "    }\n",
       "\n",
       "    .dataframe thead th {\n",
       "        text-align: right;\n",
       "    }\n",
       "</style>\n",
       "<table border=\"1\" class=\"dataframe\">\n",
       "  <thead>\n",
       "    <tr style=\"text-align: right;\">\n",
       "      <th></th>\n",
       "      <th>Brand</th>\n",
       "      <th>Model</th>\n",
       "      <th>Year</th>\n",
       "      <th>Category</th>\n",
       "      <th>Rating</th>\n",
       "      <th>Displacement (ccm)</th>\n",
       "      <th>Power (hp)</th>\n",
       "      <th>Torque (Nm)</th>\n",
       "      <th>Engine cylinder</th>\n",
       "      <th>Engine stroke</th>\n",
       "      <th>...</th>\n",
       "      <th>Dry weight (kg)</th>\n",
       "      <th>Wheelbase (mm)</th>\n",
       "      <th>Seat height (mm)</th>\n",
       "      <th>Front brakes</th>\n",
       "      <th>Rear brakes</th>\n",
       "      <th>Front tire</th>\n",
       "      <th>Rear tire</th>\n",
       "      <th>Front suspension</th>\n",
       "      <th>Rear suspension</th>\n",
       "      <th>Color options</th>\n",
       "    </tr>\n",
       "  </thead>\n",
       "  <tbody>\n",
       "    <tr>\n",
       "      <th>0</th>\n",
       "      <td>acabion</td>\n",
       "      <td>da vinci 650-vi</td>\n",
       "      <td>2011</td>\n",
       "      <td>Prototype / concept model</td>\n",
       "      <td>3.2</td>\n",
       "      <td>NaN</td>\n",
       "      <td>804.0</td>\n",
       "      <td>NaN</td>\n",
       "      <td>Electric</td>\n",
       "      <td>Electric</td>\n",
       "      <td>...</td>\n",
       "      <td>420.0</td>\n",
       "      <td>NaN</td>\n",
       "      <td>NaN</td>\n",
       "      <td>Single disc</td>\n",
       "      <td>Single disc</td>\n",
       "      <td>NaN</td>\n",
       "      <td>NaN</td>\n",
       "      <td>NaN</td>\n",
       "      <td>NaN</td>\n",
       "      <td>NaN</td>\n",
       "    </tr>\n",
       "    <tr>\n",
       "      <th>1</th>\n",
       "      <td>acabion</td>\n",
       "      <td>gtbo 55</td>\n",
       "      <td>2007</td>\n",
       "      <td>Sport</td>\n",
       "      <td>2.6</td>\n",
       "      <td>1300.0</td>\n",
       "      <td>541.0</td>\n",
       "      <td>420.0</td>\n",
       "      <td>In-line four</td>\n",
       "      <td>four-stroke</td>\n",
       "      <td>...</td>\n",
       "      <td>360.0</td>\n",
       "      <td>NaN</td>\n",
       "      <td>NaN</td>\n",
       "      <td>NaN</td>\n",
       "      <td>NaN</td>\n",
       "      <td>NaN</td>\n",
       "      <td>NaN</td>\n",
       "      <td>NaN</td>\n",
       "      <td>NaN</td>\n",
       "      <td>NaN</td>\n",
       "    </tr>\n",
       "    <tr>\n",
       "      <th>2</th>\n",
       "      <td>acabion</td>\n",
       "      <td>gtbo 600 daytona-vi</td>\n",
       "      <td>2011</td>\n",
       "      <td>Prototype / concept model</td>\n",
       "      <td>3.5</td>\n",
       "      <td>NaN</td>\n",
       "      <td>536.0</td>\n",
       "      <td>NaN</td>\n",
       "      <td>Electric</td>\n",
       "      <td>Electric</td>\n",
       "      <td>...</td>\n",
       "      <td>420.0</td>\n",
       "      <td>NaN</td>\n",
       "      <td>NaN</td>\n",
       "      <td>Single disc</td>\n",
       "      <td>Single disc</td>\n",
       "      <td>NaN</td>\n",
       "      <td>NaN</td>\n",
       "      <td>NaN</td>\n",
       "      <td>NaN</td>\n",
       "      <td>NaN</td>\n",
       "    </tr>\n",
       "    <tr>\n",
       "      <th>4</th>\n",
       "      <td>acabion</td>\n",
       "      <td>gtbo 70</td>\n",
       "      <td>2007</td>\n",
       "      <td>Prototype / concept model</td>\n",
       "      <td>3.1</td>\n",
       "      <td>1300.0</td>\n",
       "      <td>689.0</td>\n",
       "      <td>490.0</td>\n",
       "      <td>In-line four</td>\n",
       "      <td>four-stroke</td>\n",
       "      <td>...</td>\n",
       "      <td>300.0</td>\n",
       "      <td>NaN</td>\n",
       "      <td>NaN</td>\n",
       "      <td>NaN</td>\n",
       "      <td>NaN</td>\n",
       "      <td>NaN</td>\n",
       "      <td>NaN</td>\n",
       "      <td>NaN</td>\n",
       "      <td>NaN</td>\n",
       "      <td>Custom made.</td>\n",
       "    </tr>\n",
       "    <tr>\n",
       "      <th>13</th>\n",
       "      <td>access</td>\n",
       "      <td>ams 8.57 lux lv</td>\n",
       "      <td>2016</td>\n",
       "      <td>ATV</td>\n",
       "      <td>3.9</td>\n",
       "      <td>781.0</td>\n",
       "      <td>56.3</td>\n",
       "      <td>NaN</td>\n",
       "      <td>Single cylinder</td>\n",
       "      <td>four-stroke</td>\n",
       "      <td>...</td>\n",
       "      <td>362.0</td>\n",
       "      <td>NaN</td>\n",
       "      <td>NaN</td>\n",
       "      <td>Single disc</td>\n",
       "      <td>Single disc</td>\n",
       "      <td>25/8-14</td>\n",
       "      <td>25/10-14</td>\n",
       "      <td>NaN</td>\n",
       "      <td>NaN</td>\n",
       "      <td>Black, white, red</td>\n",
       "    </tr>\n",
       "  </tbody>\n",
       "</table>\n",
       "<p>5 rows × 28 columns</p>\n",
       "</div>"
      ],
      "text/plain": [
       "      Brand                Model  Year                   Category  Rating  \\\n",
       "0   acabion      da vinci 650-vi  2011  Prototype / concept model     3.2   \n",
       "1   acabion              gtbo 55  2007                      Sport     2.6   \n",
       "2   acabion  gtbo 600 daytona-vi  2011  Prototype / concept model     3.5   \n",
       "4   acabion              gtbo 70  2007  Prototype / concept model     3.1   \n",
       "13   access      ams 8.57 lux lv  2016                        ATV     3.9   \n",
       "\n",
       "    Displacement (ccm)  Power (hp)  Torque (Nm)  Engine cylinder  \\\n",
       "0                  NaN       804.0          NaN         Electric   \n",
       "1               1300.0       541.0        420.0     In-line four   \n",
       "2                  NaN       536.0          NaN         Electric   \n",
       "4               1300.0       689.0        490.0     In-line four   \n",
       "13               781.0        56.3          NaN  Single cylinder   \n",
       "\n",
       "   Engine stroke  ... Dry weight (kg)  Wheelbase (mm) Seat height (mm)  \\\n",
       "0       Electric  ...           420.0             NaN              NaN   \n",
       "1    four-stroke  ...           360.0             NaN              NaN   \n",
       "2       Electric  ...           420.0             NaN              NaN   \n",
       "4    four-stroke  ...           300.0             NaN              NaN   \n",
       "13   four-stroke  ...           362.0             NaN              NaN   \n",
       "\n",
       "    Front brakes  Rear brakes Front tire  Rear tire Front suspension  \\\n",
       "0    Single disc  Single disc        NaN        NaN              NaN   \n",
       "1            NaN          NaN        NaN        NaN              NaN   \n",
       "2    Single disc  Single disc        NaN        NaN              NaN   \n",
       "4            NaN          NaN        NaN        NaN              NaN   \n",
       "13   Single disc  Single disc   25/8-14   25/10-14               NaN   \n",
       "\n",
       "    Rear suspension      Color options  \n",
       "0               NaN                NaN  \n",
       "1               NaN                NaN  \n",
       "2               NaN                NaN  \n",
       "4               NaN       Custom made.  \n",
       "13              NaN  Black, white, red  \n",
       "\n",
       "[5 rows x 28 columns]"
      ]
     },
     "execution_count": 5,
     "metadata": {},
     "output_type": "execute_result"
    }
   ],
   "source": [
    "# Preview first five rows and admire our work\n",
    "df.head()"
   ]
  },
  {
   "cell_type": "markdown",
   "metadata": {},
   "source": [
    "<div class=\"alert alert-block alert-info\">\n",
    "There are a few things that we should look into prior to making a train_test_split; what do we believe will contribute to a higher rating for a motorcycle? Is there any data here that we can identify that may or may not give us those answers? Specifically we should see if we can make any sense out of all of the null values in this dataset. \n",
    "</div>"
   ]
  },
  {
   "cell_type": "markdown",
   "metadata": {},
   "source": [
    "## What makes a rating, good? "
   ]
  },
  {
   "cell_type": "code",
   "execution_count": 6,
   "metadata": {},
   "outputs": [
    {
     "data": {
      "text/plain": [
       "array([3.2, 2.6, 3.5, 3.1, 3.9, 2.8, 2.9, 1.9, 3.4, 2.2, 3.3, 3. , 2.7,\n",
       "       2.5, 3.7, 2. , 3.6, 3.8, 2.1, 2.4, 4. , 4.1, 2.3, 1.8, 4.2, 1.7,\n",
       "       4.4, 1.4, 4.3, 4.6, 1.6, 4.5, 1.5])"
      ]
     },
     "execution_count": 6,
     "metadata": {},
     "output_type": "execute_result"
    }
   ],
   "source": [
    "# .unique() will give you all of the potential scores found in the 'Rating' column \n",
    "df['Rating'].unique()"
   ]
  },
  {
   "cell_type": "markdown",
   "metadata": {},
   "source": [
    "<div class=\"alert alert-block alert-info\">\n",
    "Since it would appear that our ratings work on a 5 point system, let's take a look at the motorcycles whose rating performance we would like to replicate: the Yamaha MT-07 and the Suzuki SV650.\n",
    "</div>"
   ]
  },
  {
   "cell_type": "markdown",
   "metadata": {},
   "source": [
    "### Yamaha MT-07 & Suzuki SV650\n",
    "\n",
    "If like me, you are an avid motorcycle rider, you know, have known, or are someone on one of these bikes. \n",
    "\n",
    "<center><img src=\"pictures/mt07.jpg\" alt=\"Drawing\" style=\"width: 500px;\"/> </center>\n",
    "\n",
    "<center>MT-07, courtesy of Yamaha Powersports</center>\n",
    "<!-- <img src=\"pictures/yamaha mt07.jfif\" />\n",
    "<img src=\"pictures/suzuki sv650.jfif\" /> -->\n"
   ]
  },
  {
   "cell_type": "code",
   "execution_count": 7,
   "metadata": {},
   "outputs": [
    {
     "data": {
      "text/html": [
       "<div>\n",
       "<style scoped>\n",
       "    .dataframe tbody tr th:only-of-type {\n",
       "        vertical-align: middle;\n",
       "    }\n",
       "\n",
       "    .dataframe tbody tr th {\n",
       "        vertical-align: top;\n",
       "    }\n",
       "\n",
       "    .dataframe thead th {\n",
       "        text-align: right;\n",
       "    }\n",
       "</style>\n",
       "<table border=\"1\" class=\"dataframe\">\n",
       "  <thead>\n",
       "    <tr style=\"text-align: right;\">\n",
       "      <th></th>\n",
       "      <th>Brand</th>\n",
       "      <th>Model</th>\n",
       "      <th>Year</th>\n",
       "      <th>Category</th>\n",
       "      <th>Rating</th>\n",
       "      <th>Displacement (ccm)</th>\n",
       "      <th>Power (hp)</th>\n",
       "      <th>Torque (Nm)</th>\n",
       "      <th>Engine cylinder</th>\n",
       "      <th>Engine stroke</th>\n",
       "      <th>...</th>\n",
       "      <th>Dry weight (kg)</th>\n",
       "      <th>Wheelbase (mm)</th>\n",
       "      <th>Seat height (mm)</th>\n",
       "      <th>Front brakes</th>\n",
       "      <th>Rear brakes</th>\n",
       "      <th>Front tire</th>\n",
       "      <th>Rear tire</th>\n",
       "      <th>Front suspension</th>\n",
       "      <th>Rear suspension</th>\n",
       "      <th>Color options</th>\n",
       "    </tr>\n",
       "  </thead>\n",
       "  <tbody>\n",
       "    <tr>\n",
       "      <th>35463</th>\n",
       "      <td>yamaha</td>\n",
       "      <td>mt-07</td>\n",
       "      <td>2014</td>\n",
       "      <td>Naked bike</td>\n",
       "      <td>3.5</td>\n",
       "      <td>689.0</td>\n",
       "      <td>47.3</td>\n",
       "      <td>87.5</td>\n",
       "      <td>Twin</td>\n",
       "      <td>four-stroke</td>\n",
       "      <td>...</td>\n",
       "      <td>175.0</td>\n",
       "      <td>1440.0</td>\n",
       "      <td>815.0</td>\n",
       "      <td>Double disc. Hydraulic.</td>\n",
       "      <td>Single disc. Hydraulic.</td>\n",
       "      <td>120/70-ZR17</td>\n",
       "      <td>180/55-ZR17</td>\n",
       "      <td>Telescopic forks</td>\n",
       "      <td>Swingarm, (Link type suspension)</td>\n",
       "      <td>Black, white</td>\n",
       "    </tr>\n",
       "  </tbody>\n",
       "</table>\n",
       "<p>1 rows × 28 columns</p>\n",
       "</div>"
      ],
      "text/plain": [
       "        Brand  Model  Year    Category  Rating  Displacement (ccm)  \\\n",
       "35463  yamaha  mt-07  2014  Naked bike     3.5               689.0   \n",
       "\n",
       "       Power (hp)  Torque (Nm) Engine cylinder Engine stroke  ...  \\\n",
       "35463        47.3         87.5            Twin   four-stroke  ...   \n",
       "\n",
       "      Dry weight (kg)  Wheelbase (mm) Seat height (mm)  \\\n",
       "35463           175.0          1440.0            815.0   \n",
       "\n",
       "                   Front brakes               Rear brakes    Front tire  \\\n",
       "35463  Double disc. Hydraulic.   Single disc. Hydraulic.   120/70-ZR17    \n",
       "\n",
       "          Rear tire  Front suspension                   Rear suspension  \\\n",
       "35463  180/55-ZR17   Telescopic forks  Swingarm, (Link type suspension)   \n",
       "\n",
       "       Color options  \n",
       "35463   Black, white  \n",
       "\n",
       "[1 rows x 28 columns]"
      ]
     },
     "execution_count": 7,
     "metadata": {},
     "output_type": "execute_result"
    }
   ],
   "source": [
    "# Find all included models that are an MT-07\n",
    "df_yamaha = df.loc[df['Model'] == 'mt-07']\n",
    "df_yamaha.head(1)"
   ]
  },
  {
   "cell_type": "code",
   "execution_count": 8,
   "metadata": {},
   "outputs": [
    {
     "data": {
      "text/html": [
       "<div>\n",
       "<style scoped>\n",
       "    .dataframe tbody tr th:only-of-type {\n",
       "        vertical-align: middle;\n",
       "    }\n",
       "\n",
       "    .dataframe tbody tr th {\n",
       "        vertical-align: top;\n",
       "    }\n",
       "\n",
       "    .dataframe thead th {\n",
       "        text-align: right;\n",
       "    }\n",
       "</style>\n",
       "<table border=\"1\" class=\"dataframe\">\n",
       "  <thead>\n",
       "    <tr style=\"text-align: right;\">\n",
       "      <th></th>\n",
       "      <th>Brand</th>\n",
       "      <th>Model</th>\n",
       "      <th>Year</th>\n",
       "      <th>Category</th>\n",
       "      <th>Rating</th>\n",
       "      <th>Displacement (ccm)</th>\n",
       "      <th>Power (hp)</th>\n",
       "      <th>Torque (Nm)</th>\n",
       "      <th>Engine cylinder</th>\n",
       "      <th>Engine stroke</th>\n",
       "      <th>...</th>\n",
       "      <th>Dry weight (kg)</th>\n",
       "      <th>Wheelbase (mm)</th>\n",
       "      <th>Seat height (mm)</th>\n",
       "      <th>Front brakes</th>\n",
       "      <th>Rear brakes</th>\n",
       "      <th>Front tire</th>\n",
       "      <th>Rear tire</th>\n",
       "      <th>Front suspension</th>\n",
       "      <th>Rear suspension</th>\n",
       "      <th>Color options</th>\n",
       "    </tr>\n",
       "  </thead>\n",
       "  <tbody>\n",
       "    <tr>\n",
       "      <th>30500</th>\n",
       "      <td>suzuki</td>\n",
       "      <td>sv650</td>\n",
       "      <td>2008</td>\n",
       "      <td>Naked bike</td>\n",
       "      <td>3.9</td>\n",
       "      <td>645.0</td>\n",
       "      <td>NaN</td>\n",
       "      <td>NaN</td>\n",
       "      <td>V2</td>\n",
       "      <td>four-stroke</td>\n",
       "      <td>...</td>\n",
       "      <td>168.0</td>\n",
       "      <td>1440.0</td>\n",
       "      <td>800.0</td>\n",
       "      <td>Double disc</td>\n",
       "      <td>Single disc</td>\n",
       "      <td>120/60-ZR17</td>\n",
       "      <td>160/60-ZR17</td>\n",
       "      <td>Telescopic, coil spring, oil damped, fully adj...</td>\n",
       "      <td>Link-type, 7-way adjustable spring preload</td>\n",
       "      <td>Blue, Gray</td>\n",
       "    </tr>\n",
       "  </tbody>\n",
       "</table>\n",
       "<p>1 rows × 28 columns</p>\n",
       "</div>"
      ],
      "text/plain": [
       "        Brand  Model  Year    Category  Rating  Displacement (ccm)  \\\n",
       "30500  suzuki  sv650  2008  Naked bike     3.9               645.0   \n",
       "\n",
       "       Power (hp)  Torque (Nm) Engine cylinder Engine stroke  ...  \\\n",
       "30500         NaN          NaN              V2   four-stroke  ...   \n",
       "\n",
       "      Dry weight (kg)  Wheelbase (mm) Seat height (mm)  Front brakes  \\\n",
       "30500           168.0          1440.0            800.0   Double disc   \n",
       "\n",
       "       Rear brakes    Front tire     Rear tire  \\\n",
       "30500  Single disc  120/60-ZR17   160/60-ZR17    \n",
       "\n",
       "                                        Front suspension  \\\n",
       "30500  Telescopic, coil spring, oil damped, fully adj...   \n",
       "\n",
       "                                  Rear suspension  Color options  \n",
       "30500  Link-type, 7-way adjustable spring preload     Blue, Gray  \n",
       "\n",
       "[1 rows x 28 columns]"
      ]
     },
     "execution_count": 8,
     "metadata": {},
     "output_type": "execute_result"
    }
   ],
   "source": [
    "# Find all models that have the name SV650\n",
    "df_suzuki = df.loc[df['Model'] == 'sv650']\n",
    "df_suzuki.head(1)"
   ]
  },
  {
   "cell_type": "code",
   "execution_count": 9,
   "metadata": {},
   "outputs": [],
   "source": [
    "# Bring in numpy\n",
    "import numpy as np"
   ]
  },
  {
   "cell_type": "code",
   "execution_count": 10,
   "metadata": {},
   "outputs": [
    {
     "name": "stdout",
     "output_type": "stream",
     "text": [
      "The average score of all year-model MT-07 in dataset:3.35\n"
     ]
    }
   ],
   "source": [
    "# Average of ratings scores for the MT-07\n",
    "yamaha_mean = np.mean(df_yamaha['Rating'].unique())\n",
    "print('The average score of all year-model MT-07 in dataset:{}'.format(yamaha_mean))"
   ]
  },
  {
   "cell_type": "code",
   "execution_count": 11,
   "metadata": {},
   "outputs": [
    {
     "name": "stdout",
     "output_type": "stream",
     "text": [
      "The average score of all year-model SV650 in dataset:3.457142857142857\n"
     ]
    }
   ],
   "source": [
    "# Average of ratings scores for the SV650\n",
    "suzuki_mean = np.mean(df_suzuki['Rating'].unique())\n",
    "print('The average score of all year-model SV650 in dataset:{}'.format(suzuki_mean))"
   ]
  },
  {
   "cell_type": "code",
   "execution_count": 12,
   "metadata": {},
   "outputs": [
    {
     "name": "stdout",
     "output_type": "stream",
     "text": [
      "Ultimately, this will be our ratings goal:3.4035714285714285\n"
     ]
    }
   ],
   "source": [
    "# Nothing fancy here, find the average of the two scores\n",
    "rating_success = (yamaha_mean + suzuki_mean) / 2\n",
    "print('Ultimately, this will be our ratings goal:{}'.format(rating_success))"
   ]
  },
  {
   "cell_type": "markdown",
   "metadata": {},
   "source": [
    "### Binary values for 'Rating'\n",
    "Now that we have an average score for 'Rating', let's make a new column that will give us binary results, 1 being a rating above 3.4, 0 being a rating below. "
   ]
  },
  {
   "cell_type": "code",
   "execution_count": 13,
   "metadata": {},
   "outputs": [
    {
     "data": {
      "text/plain": [
       "array([3.2, 2.6, 3.5, 3.1, 3.9, 2.8, 2.9, 1.9, 3.4, 2.2, 3.3, 3. , 2.7,\n",
       "       2.5, 3.7, 2. , 3.6, 3.8, 2.1, 2.4, 4. , 4.1, 2.3, 1.8, 4.2, 1.7,\n",
       "       4.4, 1.4, 4.3, 4.6, 1.6, 4.5, 1.5])"
      ]
     },
     "execution_count": 13,
     "metadata": {},
     "output_type": "execute_result"
    }
   ],
   "source": [
    "# Let's look for all of the unique values for the column 'Rating'\n",
    "df['Rating'].unique()"
   ]
  },
  {
   "cell_type": "code",
   "execution_count": 14,
   "metadata": {},
   "outputs": [],
   "source": [
    "# As detailed above, anything lower than 3.4 is outside of our target\n",
    "rating_num = np.where(df[\"Rating\"]>=(3.4), 1, 0)"
   ]
  },
  {
   "cell_type": "code",
   "execution_count": 15,
   "metadata": {},
   "outputs": [
    {
     "data": {
      "text/plain": [
       "array([0, 0, 1, ..., 1, 1, 0])"
      ]
     },
     "execution_count": 15,
     "metadata": {},
     "output_type": "execute_result"
    }
   ],
   "source": [
    "# Our \"Rating\" column will now return a '1' for bikes that got a rating of 3.4 or above, 0 for scores\n",
    "# below 3.4\n",
    "rating_num"
   ]
  },
  {
   "cell_type": "code",
   "execution_count": 16,
   "metadata": {},
   "outputs": [
    {
     "data": {
      "text/html": [
       "<div>\n",
       "<style scoped>\n",
       "    .dataframe tbody tr th:only-of-type {\n",
       "        vertical-align: middle;\n",
       "    }\n",
       "\n",
       "    .dataframe tbody tr th {\n",
       "        vertical-align: top;\n",
       "    }\n",
       "\n",
       "    .dataframe thead th {\n",
       "        text-align: right;\n",
       "    }\n",
       "</style>\n",
       "<table border=\"1\" class=\"dataframe\">\n",
       "  <thead>\n",
       "    <tr style=\"text-align: right;\">\n",
       "      <th></th>\n",
       "      <th>Rating_</th>\n",
       "    </tr>\n",
       "  </thead>\n",
       "  <tbody>\n",
       "    <tr>\n",
       "      <th>0</th>\n",
       "      <td>0</td>\n",
       "    </tr>\n",
       "    <tr>\n",
       "      <th>1</th>\n",
       "      <td>0</td>\n",
       "    </tr>\n",
       "    <tr>\n",
       "      <th>2</th>\n",
       "      <td>1</td>\n",
       "    </tr>\n",
       "    <tr>\n",
       "      <th>3</th>\n",
       "      <td>0</td>\n",
       "    </tr>\n",
       "    <tr>\n",
       "      <th>4</th>\n",
       "      <td>1</td>\n",
       "    </tr>\n",
       "  </tbody>\n",
       "</table>\n",
       "</div>"
      ],
      "text/plain": [
       "   Rating_\n",
       "0        0\n",
       "1        0\n",
       "2        1\n",
       "3        0\n",
       "4        1"
      ]
     },
     "execution_count": 16,
     "metadata": {},
     "output_type": "execute_result"
    }
   ],
   "source": [
    "# In order to attach this data to our current table we will need to make it into a dataframe\n",
    "data = pd.DataFrame(rating_num, columns = ['Rating_'])\n",
    "data.head()"
   ]
  },
  {
   "cell_type": "code",
   "execution_count": 17,
   "metadata": {},
   "outputs": [
    {
     "data": {
      "text/plain": [
       "Rating_\n",
       "1          13008\n",
       "0           8780\n",
       "dtype: int64"
      ]
     },
     "execution_count": 17,
     "metadata": {},
     "output_type": "execute_result"
    }
   ],
   "source": [
    "# Preview binary rating counts\n",
    "data.value_counts()"
   ]
  },
  {
   "cell_type": "code",
   "execution_count": 18,
   "metadata": {},
   "outputs": [
    {
     "data": {
      "text/html": [
       "<div>\n",
       "<style scoped>\n",
       "    .dataframe tbody tr th:only-of-type {\n",
       "        vertical-align: middle;\n",
       "    }\n",
       "\n",
       "    .dataframe tbody tr th {\n",
       "        vertical-align: top;\n",
       "    }\n",
       "\n",
       "    .dataframe thead th {\n",
       "        text-align: right;\n",
       "    }\n",
       "</style>\n",
       "<table border=\"1\" class=\"dataframe\">\n",
       "  <thead>\n",
       "    <tr style=\"text-align: right;\">\n",
       "      <th></th>\n",
       "      <th>Brand</th>\n",
       "      <th>Model</th>\n",
       "      <th>Year</th>\n",
       "      <th>Category</th>\n",
       "      <th>Displacement (ccm)</th>\n",
       "      <th>Power (hp)</th>\n",
       "      <th>Torque (Nm)</th>\n",
       "      <th>Engine cylinder</th>\n",
       "      <th>Engine stroke</th>\n",
       "      <th>Gearbox</th>\n",
       "      <th>...</th>\n",
       "      <th>Dry weight (kg)</th>\n",
       "      <th>Wheelbase (mm)</th>\n",
       "      <th>Seat height (mm)</th>\n",
       "      <th>Front brakes</th>\n",
       "      <th>Rear brakes</th>\n",
       "      <th>Front tire</th>\n",
       "      <th>Rear tire</th>\n",
       "      <th>Front suspension</th>\n",
       "      <th>Rear suspension</th>\n",
       "      <th>Color options</th>\n",
       "    </tr>\n",
       "  </thead>\n",
       "  <tbody>\n",
       "    <tr>\n",
       "      <th>0</th>\n",
       "      <td>acabion</td>\n",
       "      <td>da vinci 650-vi</td>\n",
       "      <td>2011</td>\n",
       "      <td>Prototype / concept model</td>\n",
       "      <td>NaN</td>\n",
       "      <td>804.0</td>\n",
       "      <td>NaN</td>\n",
       "      <td>Electric</td>\n",
       "      <td>Electric</td>\n",
       "      <td>NaN</td>\n",
       "      <td>...</td>\n",
       "      <td>420.0</td>\n",
       "      <td>NaN</td>\n",
       "      <td>NaN</td>\n",
       "      <td>Single disc</td>\n",
       "      <td>Single disc</td>\n",
       "      <td>NaN</td>\n",
       "      <td>NaN</td>\n",
       "      <td>NaN</td>\n",
       "      <td>NaN</td>\n",
       "      <td>NaN</td>\n",
       "    </tr>\n",
       "    <tr>\n",
       "      <th>1</th>\n",
       "      <td>acabion</td>\n",
       "      <td>gtbo 55</td>\n",
       "      <td>2007</td>\n",
       "      <td>Sport</td>\n",
       "      <td>1300.0</td>\n",
       "      <td>541.0</td>\n",
       "      <td>420.0</td>\n",
       "      <td>In-line four</td>\n",
       "      <td>four-stroke</td>\n",
       "      <td>6-speed</td>\n",
       "      <td>...</td>\n",
       "      <td>360.0</td>\n",
       "      <td>NaN</td>\n",
       "      <td>NaN</td>\n",
       "      <td>NaN</td>\n",
       "      <td>NaN</td>\n",
       "      <td>NaN</td>\n",
       "      <td>NaN</td>\n",
       "      <td>NaN</td>\n",
       "      <td>NaN</td>\n",
       "      <td>NaN</td>\n",
       "    </tr>\n",
       "    <tr>\n",
       "      <th>2</th>\n",
       "      <td>acabion</td>\n",
       "      <td>gtbo 600 daytona-vi</td>\n",
       "      <td>2011</td>\n",
       "      <td>Prototype / concept model</td>\n",
       "      <td>NaN</td>\n",
       "      <td>536.0</td>\n",
       "      <td>NaN</td>\n",
       "      <td>Electric</td>\n",
       "      <td>Electric</td>\n",
       "      <td>NaN</td>\n",
       "      <td>...</td>\n",
       "      <td>420.0</td>\n",
       "      <td>NaN</td>\n",
       "      <td>NaN</td>\n",
       "      <td>Single disc</td>\n",
       "      <td>Single disc</td>\n",
       "      <td>NaN</td>\n",
       "      <td>NaN</td>\n",
       "      <td>NaN</td>\n",
       "      <td>NaN</td>\n",
       "      <td>NaN</td>\n",
       "    </tr>\n",
       "    <tr>\n",
       "      <th>4</th>\n",
       "      <td>acabion</td>\n",
       "      <td>gtbo 70</td>\n",
       "      <td>2007</td>\n",
       "      <td>Prototype / concept model</td>\n",
       "      <td>1300.0</td>\n",
       "      <td>689.0</td>\n",
       "      <td>490.0</td>\n",
       "      <td>In-line four</td>\n",
       "      <td>four-stroke</td>\n",
       "      <td>6-speed</td>\n",
       "      <td>...</td>\n",
       "      <td>300.0</td>\n",
       "      <td>NaN</td>\n",
       "      <td>NaN</td>\n",
       "      <td>NaN</td>\n",
       "      <td>NaN</td>\n",
       "      <td>NaN</td>\n",
       "      <td>NaN</td>\n",
       "      <td>NaN</td>\n",
       "      <td>NaN</td>\n",
       "      <td>Custom made.</td>\n",
       "    </tr>\n",
       "    <tr>\n",
       "      <th>13</th>\n",
       "      <td>access</td>\n",
       "      <td>ams 8.57 lux lv</td>\n",
       "      <td>2016</td>\n",
       "      <td>ATV</td>\n",
       "      <td>781.0</td>\n",
       "      <td>56.3</td>\n",
       "      <td>NaN</td>\n",
       "      <td>Single cylinder</td>\n",
       "      <td>four-stroke</td>\n",
       "      <td>Automatic</td>\n",
       "      <td>...</td>\n",
       "      <td>362.0</td>\n",
       "      <td>NaN</td>\n",
       "      <td>NaN</td>\n",
       "      <td>Single disc</td>\n",
       "      <td>Single disc</td>\n",
       "      <td>25/8-14</td>\n",
       "      <td>25/10-14</td>\n",
       "      <td>NaN</td>\n",
       "      <td>NaN</td>\n",
       "      <td>Black, white, red</td>\n",
       "    </tr>\n",
       "  </tbody>\n",
       "</table>\n",
       "<p>5 rows × 27 columns</p>\n",
       "</div>"
      ],
      "text/plain": [
       "      Brand                Model  Year                   Category  \\\n",
       "0   acabion      da vinci 650-vi  2011  Prototype / concept model   \n",
       "1   acabion              gtbo 55  2007                      Sport   \n",
       "2   acabion  gtbo 600 daytona-vi  2011  Prototype / concept model   \n",
       "4   acabion              gtbo 70  2007  Prototype / concept model   \n",
       "13   access      ams 8.57 lux lv  2016                        ATV   \n",
       "\n",
       "    Displacement (ccm)  Power (hp)  Torque (Nm)  Engine cylinder  \\\n",
       "0                  NaN       804.0          NaN         Electric   \n",
       "1               1300.0       541.0        420.0     In-line four   \n",
       "2                  NaN       536.0          NaN         Electric   \n",
       "4               1300.0       689.0        490.0     In-line four   \n",
       "13               781.0        56.3          NaN  Single cylinder   \n",
       "\n",
       "   Engine stroke    Gearbox  ...  Dry weight (kg) Wheelbase (mm)  \\\n",
       "0       Electric        NaN  ...            420.0            NaN   \n",
       "1    four-stroke    6-speed  ...            360.0            NaN   \n",
       "2       Electric        NaN  ...            420.0            NaN   \n",
       "4    four-stroke    6-speed  ...            300.0            NaN   \n",
       "13   four-stroke  Automatic  ...            362.0            NaN   \n",
       "\n",
       "    Seat height (mm) Front brakes  Rear brakes Front tire  Rear tire  \\\n",
       "0                NaN  Single disc  Single disc        NaN        NaN   \n",
       "1                NaN          NaN          NaN        NaN        NaN   \n",
       "2                NaN  Single disc  Single disc        NaN        NaN   \n",
       "4                NaN          NaN          NaN        NaN        NaN   \n",
       "13               NaN  Single disc  Single disc   25/8-14   25/10-14    \n",
       "\n",
       "    Front suspension  Rear suspension      Color options  \n",
       "0                NaN              NaN                NaN  \n",
       "1                NaN              NaN                NaN  \n",
       "2                NaN              NaN                NaN  \n",
       "4                NaN              NaN       Custom made.  \n",
       "13               NaN              NaN  Black, white, red  \n",
       "\n",
       "[5 rows x 27 columns]"
      ]
     },
     "execution_count": 18,
     "metadata": {},
     "output_type": "execute_result"
    }
   ],
   "source": [
    "# Drop 'Rating' column \n",
    "df = df.drop(columns = 'Rating', axis =1)\n",
    "df.head()"
   ]
  },
  {
   "cell_type": "code",
   "execution_count": 19,
   "metadata": {},
   "outputs": [],
   "source": [
    "# Put our new 'Rating_' column into our dataframe\n",
    "df = pd.concat([df,data], axis =1)"
   ]
  },
  {
   "cell_type": "code",
   "execution_count": 20,
   "metadata": {
    "scrolled": true
   },
   "outputs": [
    {
     "data": {
      "text/html": [
       "<div>\n",
       "<style scoped>\n",
       "    .dataframe tbody tr th:only-of-type {\n",
       "        vertical-align: middle;\n",
       "    }\n",
       "\n",
       "    .dataframe tbody tr th {\n",
       "        vertical-align: top;\n",
       "    }\n",
       "\n",
       "    .dataframe thead th {\n",
       "        text-align: right;\n",
       "    }\n",
       "</style>\n",
       "<table border=\"1\" class=\"dataframe\">\n",
       "  <thead>\n",
       "    <tr style=\"text-align: right;\">\n",
       "      <th></th>\n",
       "      <th>Brand</th>\n",
       "      <th>Model</th>\n",
       "      <th>Year</th>\n",
       "      <th>Category</th>\n",
       "      <th>Displacement (ccm)</th>\n",
       "      <th>Power (hp)</th>\n",
       "      <th>Torque (Nm)</th>\n",
       "      <th>Engine cylinder</th>\n",
       "      <th>Engine stroke</th>\n",
       "      <th>Gearbox</th>\n",
       "      <th>...</th>\n",
       "      <th>Wheelbase (mm)</th>\n",
       "      <th>Seat height (mm)</th>\n",
       "      <th>Front brakes</th>\n",
       "      <th>Rear brakes</th>\n",
       "      <th>Front tire</th>\n",
       "      <th>Rear tire</th>\n",
       "      <th>Front suspension</th>\n",
       "      <th>Rear suspension</th>\n",
       "      <th>Color options</th>\n",
       "      <th>Rating_</th>\n",
       "    </tr>\n",
       "  </thead>\n",
       "  <tbody>\n",
       "    <tr>\n",
       "      <th>0</th>\n",
       "      <td>acabion</td>\n",
       "      <td>da vinci 650-vi</td>\n",
       "      <td>2011.0</td>\n",
       "      <td>Prototype / concept model</td>\n",
       "      <td>NaN</td>\n",
       "      <td>804.0</td>\n",
       "      <td>NaN</td>\n",
       "      <td>Electric</td>\n",
       "      <td>Electric</td>\n",
       "      <td>NaN</td>\n",
       "      <td>...</td>\n",
       "      <td>NaN</td>\n",
       "      <td>NaN</td>\n",
       "      <td>Single disc</td>\n",
       "      <td>Single disc</td>\n",
       "      <td>NaN</td>\n",
       "      <td>NaN</td>\n",
       "      <td>NaN</td>\n",
       "      <td>NaN</td>\n",
       "      <td>NaN</td>\n",
       "      <td>0.0</td>\n",
       "    </tr>\n",
       "    <tr>\n",
       "      <th>1</th>\n",
       "      <td>acabion</td>\n",
       "      <td>gtbo 55</td>\n",
       "      <td>2007.0</td>\n",
       "      <td>Sport</td>\n",
       "      <td>1300.0</td>\n",
       "      <td>541.0</td>\n",
       "      <td>420.0</td>\n",
       "      <td>In-line four</td>\n",
       "      <td>four-stroke</td>\n",
       "      <td>6-speed</td>\n",
       "      <td>...</td>\n",
       "      <td>NaN</td>\n",
       "      <td>NaN</td>\n",
       "      <td>NaN</td>\n",
       "      <td>NaN</td>\n",
       "      <td>NaN</td>\n",
       "      <td>NaN</td>\n",
       "      <td>NaN</td>\n",
       "      <td>NaN</td>\n",
       "      <td>NaN</td>\n",
       "      <td>0.0</td>\n",
       "    </tr>\n",
       "    <tr>\n",
       "      <th>2</th>\n",
       "      <td>acabion</td>\n",
       "      <td>gtbo 600 daytona-vi</td>\n",
       "      <td>2011.0</td>\n",
       "      <td>Prototype / concept model</td>\n",
       "      <td>NaN</td>\n",
       "      <td>536.0</td>\n",
       "      <td>NaN</td>\n",
       "      <td>Electric</td>\n",
       "      <td>Electric</td>\n",
       "      <td>NaN</td>\n",
       "      <td>...</td>\n",
       "      <td>NaN</td>\n",
       "      <td>NaN</td>\n",
       "      <td>Single disc</td>\n",
       "      <td>Single disc</td>\n",
       "      <td>NaN</td>\n",
       "      <td>NaN</td>\n",
       "      <td>NaN</td>\n",
       "      <td>NaN</td>\n",
       "      <td>NaN</td>\n",
       "      <td>1.0</td>\n",
       "    </tr>\n",
       "    <tr>\n",
       "      <th>3</th>\n",
       "      <td>NaN</td>\n",
       "      <td>NaN</td>\n",
       "      <td>NaN</td>\n",
       "      <td>NaN</td>\n",
       "      <td>NaN</td>\n",
       "      <td>NaN</td>\n",
       "      <td>NaN</td>\n",
       "      <td>NaN</td>\n",
       "      <td>NaN</td>\n",
       "      <td>NaN</td>\n",
       "      <td>...</td>\n",
       "      <td>NaN</td>\n",
       "      <td>NaN</td>\n",
       "      <td>NaN</td>\n",
       "      <td>NaN</td>\n",
       "      <td>NaN</td>\n",
       "      <td>NaN</td>\n",
       "      <td>NaN</td>\n",
       "      <td>NaN</td>\n",
       "      <td>NaN</td>\n",
       "      <td>0.0</td>\n",
       "    </tr>\n",
       "    <tr>\n",
       "      <th>4</th>\n",
       "      <td>acabion</td>\n",
       "      <td>gtbo 70</td>\n",
       "      <td>2007.0</td>\n",
       "      <td>Prototype / concept model</td>\n",
       "      <td>1300.0</td>\n",
       "      <td>689.0</td>\n",
       "      <td>490.0</td>\n",
       "      <td>In-line four</td>\n",
       "      <td>four-stroke</td>\n",
       "      <td>6-speed</td>\n",
       "      <td>...</td>\n",
       "      <td>NaN</td>\n",
       "      <td>NaN</td>\n",
       "      <td>NaN</td>\n",
       "      <td>NaN</td>\n",
       "      <td>NaN</td>\n",
       "      <td>NaN</td>\n",
       "      <td>NaN</td>\n",
       "      <td>NaN</td>\n",
       "      <td>Custom made.</td>\n",
       "      <td>1.0</td>\n",
       "    </tr>\n",
       "  </tbody>\n",
       "</table>\n",
       "<p>5 rows × 28 columns</p>\n",
       "</div>"
      ],
      "text/plain": [
       "     Brand                Model    Year                   Category  \\\n",
       "0  acabion      da vinci 650-vi  2011.0  Prototype / concept model   \n",
       "1  acabion              gtbo 55  2007.0                      Sport   \n",
       "2  acabion  gtbo 600 daytona-vi  2011.0  Prototype / concept model   \n",
       "3      NaN                  NaN     NaN                        NaN   \n",
       "4  acabion              gtbo 70  2007.0  Prototype / concept model   \n",
       "\n",
       "   Displacement (ccm)  Power (hp)  Torque (Nm) Engine cylinder Engine stroke  \\\n",
       "0                 NaN       804.0          NaN        Electric      Electric   \n",
       "1              1300.0       541.0        420.0    In-line four   four-stroke   \n",
       "2                 NaN       536.0          NaN        Electric      Electric   \n",
       "3                 NaN         NaN          NaN             NaN           NaN   \n",
       "4              1300.0       689.0        490.0    In-line four   four-stroke   \n",
       "\n",
       "   Gearbox  ...  Wheelbase (mm) Seat height (mm)  Front brakes  Rear brakes  \\\n",
       "0      NaN  ...             NaN              NaN   Single disc  Single disc   \n",
       "1  6-speed  ...             NaN              NaN           NaN          NaN   \n",
       "2      NaN  ...             NaN              NaN   Single disc  Single disc   \n",
       "3      NaN  ...             NaN              NaN           NaN          NaN   \n",
       "4  6-speed  ...             NaN              NaN           NaN          NaN   \n",
       "\n",
       "  Front tire Rear tire Front suspension  Rear suspension  Color options  \\\n",
       "0        NaN       NaN              NaN              NaN            NaN   \n",
       "1        NaN       NaN              NaN              NaN            NaN   \n",
       "2        NaN       NaN              NaN              NaN            NaN   \n",
       "3        NaN       NaN              NaN              NaN            NaN   \n",
       "4        NaN       NaN              NaN              NaN   Custom made.   \n",
       "\n",
       "   Rating_  \n",
       "0      0.0  \n",
       "1      0.0  \n",
       "2      1.0  \n",
       "3      0.0  \n",
       "4      1.0  \n",
       "\n",
       "[5 rows x 28 columns]"
      ]
     },
     "execution_count": 20,
     "metadata": {},
     "output_type": "execute_result"
    }
   ],
   "source": [
    "# Make sure it worked\n",
    "df.head()"
   ]
  },
  {
   "cell_type": "code",
   "execution_count": 21,
   "metadata": {
    "scrolled": false
   },
   "outputs": [
    {
     "name": "stdout",
     "output_type": "stream",
     "text": [
      "<class 'pandas.core.frame.DataFrame'>\n",
      "Int64Index: 30541 entries, 0 to 38461\n",
      "Data columns (total 28 columns):\n",
      " #   Column               Non-Null Count  Dtype  \n",
      "---  ------               --------------  -----  \n",
      " 0   Brand                21788 non-null  object \n",
      " 1   Model                21784 non-null  object \n",
      " 2   Year                 21788 non-null  float64\n",
      " 3   Category             21788 non-null  object \n",
      " 4   Displacement (ccm)   21684 non-null  float64\n",
      " 5   Power (hp)           14892 non-null  float64\n",
      " 6   Torque (Nm)          10064 non-null  float64\n",
      " 7   Engine cylinder      21778 non-null  object \n",
      " 8   Engine stroke        21778 non-null  object \n",
      " 9   Gearbox              19569 non-null  object \n",
      " 10  Bore (mm)            17184 non-null  float64\n",
      " 11  Stroke (mm)          17184 non-null  object \n",
      " 12  Fuel capacity (lts)  18986 non-null  float64\n",
      " 13  Fuel system          14546 non-null  object \n",
      " 14  Fuel control         13444 non-null  object \n",
      " 15  Cooling system       19740 non-null  object \n",
      " 16  Transmission type    18547 non-null  object \n",
      " 17  Dry weight (kg)      12705 non-null  float64\n",
      " 18  Wheelbase (mm)       14347 non-null  float64\n",
      " 19  Seat height (mm)     14460 non-null  float64\n",
      " 20  Front brakes         20978 non-null  object \n",
      " 21  Rear brakes          20828 non-null  object \n",
      " 22  Front tire           17889 non-null  object \n",
      " 23  Rear tire            17899 non-null  object \n",
      " 24  Front suspension     13186 non-null  object \n",
      " 25  Rear suspension      13112 non-null  object \n",
      " 26  Color options        12322 non-null  object \n",
      " 27  Rating_              21788 non-null  float64\n",
      "dtypes: float64(10), object(18)\n",
      "memory usage: 6.8+ MB\n"
     ]
    }
   ],
   "source": [
    "# Preview data\n",
    "df.info()"
   ]
  },
  {
   "cell_type": "markdown",
   "metadata": {},
   "source": [
    "Our data is now ready for some preprocessing! "
   ]
  },
  {
   "cell_type": "markdown",
   "metadata": {},
   "source": [
    "## Preprocessing : Expert opinion\n",
    "While there is still a lot of data (and we anticipate MANY dummied columns if we keep all of these selections), let's consider what things our manufacturer, Fi Motors does NOT care about when making a bike. <br><br>\n",
    "____________________________________________________________________________________________________\n",
    "<br>\n",
    "After careful consideration from the team, it was decided that the following categories aren't incredibly important to Fi Motors as a manufacturer: <br><br>\n",
    "\n",
    "\n",
    "- Category: <br><br>\n",
    "There are several different types of vehicles in our data set, let's make sure that we aren't looking at anything that isn't a motorcycle.\n",
    "<br><br>\n",
    "- Fuel system: <br><br>\n",
    "Most new bikes now are fuel injected (fuel *infected* if you're an old person) and do not rely on a carburettor. Since most current motorcycle riders would find trouble using a carburettor (save for museum pieces like The Yamaha TW200, Honda XR650L or Suzuki DRZ400), we intend on making a modern motorcycle with modern features. Fuel injection, it is. \n",
    "<br><br> \n",
    "- Gearbox: <br><br>\n",
    "The only modern gearboxes are automatic (cvt transmissions like in the Honda Africa Twin or Rebel 1100), 5-speed (like on a Harley-Davidson) or 6-speed/6-speed with reverse (almost all modern sportbikes use 6-speed transmissions, reverse, again specifically for Honda, more specifically for the Goldwing). 6-speed transmissions are on both the Yamaha MT-07 and the SV650. \n",
    "<br><br>\n",
    "- Fuel control: <br><br>\n",
    "Fuel control most often comes down to SOHC (single overhead cam) or DOHC (dual overhead cam). Though there are differences, like Ducati's Desmodromic valve control system, most of the time the difference is writ elsewhere (like in horsepower and torque numbers). Ultimately this is a consideration in purchasing a bike (DOHC are often credited with producing more power out of the same displacement engine that a SOHC would) but not a huge consideration outside of racing. Even still, Fi is interested in seeing how fuel control might affect ratings. For the purposes of this model let's keep SOHC, DOHC, OHV, and the Desmodromic valve control system (because Ducati knows how to make a fun bike).   <br><br>\n",
    "\n",
    "- Front brakes: <br><br>\n",
    "Stopping and the ability to stop quickly is incredibly important for riders that find themselves on the track but likely the bike Fi intends on proposing will either have single or dual disc brakes; 7,451 of the bikes in our database utilize either single or dual disc brakes. Let's stick with these two selections.\n",
    "<br><br>\n",
    "\n",
    "- Rear brakes: <br><br>\n",
    "The rear brakes are often seen as an afterthought for entry level bikes. The bike needs to be able to stop but it is incredibly unlikely that we will need to know how the premium parts rank versus a bike that has a stock braking set up for the rear wheel. Likely the rear brake will mirror the setting of the front brake. \n",
    "<br><br>\n",
    "\n",
    "- Front tire: <br><br>\n",
    "The height of the front tire is often a consideration with adventure motorcycles and dirt bikes because a taller tire can traverse larger obstacles. This is a sub-genre of motorcycle riding and will likely not have a huge impact on the enjoyability of a motorcycle. \n",
    "<br><br>\n",
    "- Rear tire: <br><br>\n",
    "Unlike the front tire, the rear tire is usually judged on its width; the wider the tire, usually the wider the tire the better traction the rear wheel will be able to put power down to the ground. Sportbikes usually have a wider contact patch on the sides of the tire, where drag bikes will sometimes even run a car tire. Ultimately the rear tire is a consideration to make when changing out rubber, but not necessarily something that will make or break your ride. \n",
    "<br><br>\n",
    "\n",
    "- Front suspension: <br><br>\n",
    "Suspension is incredibly important when it comes to a motorcycle and certainly having a branded suspension set up is an attractive selling point (think WP or Ohlins for example). However, there are too many variables for suspension set ups in our data to make heads or tails of if a bike with upgraded suspension will rank higher than a bike that does not. Furthermore, these are entry-level motorcycles we are looking to potentially manufacture. In order to keep costs down, usually the brake system and suspension systems are unbranded generic parts bought at bulk discount. \n",
    "<br><br>\n",
    "\n",
    "- Rear suspension: <br><br>\n",
    "For the same reasons given on front suspension, we will remove rear suspension from our data for now. \n",
    "<br><br>\n",
    "\n",
    "- Color options: <br><br>\n",
    "The paint job on a bike is usually a subjective metric and throughout different model years, the big three Japanese manufacturers will put out different color options (most launch models are available in two due to cost saving measures). \n"
   ]
  },
  {
   "cell_type": "code",
   "execution_count": 22,
   "metadata": {
    "scrolled": true
   },
   "outputs": [],
   "source": [
    "# Drop categories that aren't actually a motorcycle\n",
    "df = df[df['Category'].str.contains('Trial') == False]\n",
    "df = df[df['Category'].str.contains('Speedway') == False]\n",
    "df = df[df['Category'].str.contains('Minibike, cross') == False]\n",
    "df = df[df['Category'].str.contains('ATV') == False]\n",
    "df = df[df['Category'].str.contains('Scooter') == False]\n",
    "df = df[df['Category'].str.contains('Unspecified category') == False]"
   ]
  },
  {
   "cell_type": "code",
   "execution_count": 23,
   "metadata": {},
   "outputs": [
    {
     "data": {
      "text/plain": [
       "array(['Prototype / concept model', 'Sport', 'Cross / motocross',\n",
       "       'Minibike, sport', 'Allround', 'Classic', 'Touring',\n",
       "       'Enduro / offroad', 'Super motard', 'Custom / cruiser',\n",
       "       'Naked bike', 'Sport touring'], dtype=object)"
      ]
     },
     "execution_count": 23,
     "metadata": {},
     "output_type": "execute_result"
    }
   ],
   "source": [
    "# Check in on our 'Category' values\n",
    "df['Category'].unique()"
   ]
  },
  {
   "cell_type": "markdown",
   "metadata": {},
   "source": [
    "# Speedway racing\n",
    "<img src=\"pictures/speedway motorcycle.jfif\"  /><br><br>\n",
    "\n",
    "With its skinny tires, low foot pegs, and racing DNA, we probably would not care how enjoyable a speedway bike is, regardless of how much fun it looks to race. "
   ]
  },
  {
   "cell_type": "code",
   "execution_count": 24,
   "metadata": {},
   "outputs": [],
   "source": [
    "# Drop unnecessary values from 'Gearbox'\n",
    "df = df[df['Gearbox'].str.contains('1-speed') == False]\n",
    "df = df[df['Gearbox'].str.contains('4-speed') == False]\n",
    "df = df[df['Gearbox'].str.contains('3-speed') == False]\n",
    "df = df[df['Gearbox'].str.contains('7-speed') == False]\n",
    "df = df[df['Gearbox'].str.contains('4-speed with reverse') == False]\n",
    "df = df[df['Gearbox'].str.contains('2-speed') == False]\n",
    "df = df[df['Gearbox'].str.contains('10-speed') == False]\n",
    "df = df[df['Gearbox'].str.contains('2-speed automatic') == False]\n",
    "df = df[df['Gearbox'].str.contains('3-speed automatic') == False]\n",
    "df = df[df['Gearbox'].str.contains('8-speed') == False]"
   ]
  },
  {
   "cell_type": "code",
   "execution_count": 25,
   "metadata": {},
   "outputs": [],
   "source": [
    "# Drop columns listed above\n",
    "df = df.drop(columns = 'Fuel system', axis = 1)\n",
    "df = df.drop(columns = 'Rear brakes', axis =1)\n",
    "df = df.drop(columns = 'Front tire', axis =1)\n",
    "df = df.drop(columns = 'Rear tire', axis =1)\n",
    "df = df.drop(columns = 'Front suspension', axis =1)\n",
    "df = df.drop(columns = 'Rear suspension', axis =1)\n",
    "df = df.drop(columns = 'Color options', axis =1)\n"
   ]
  },
  {
   "cell_type": "code",
   "execution_count": 26,
   "metadata": {},
   "outputs": [],
   "source": [
    "# Remove commas from 'Stroke (mm)'\n",
    "df['Stroke (mm)'] = df['Stroke (mm)'].str.replace(',','')"
   ]
  },
  {
   "cell_type": "code",
   "execution_count": 27,
   "metadata": {},
   "outputs": [],
   "source": [
    "# Make 'Stroke (mm)' into a float\n",
    "df['Stroke (mm)'] = df['Stroke (mm)'].astype('float64')"
   ]
  },
  {
   "cell_type": "code",
   "execution_count": 28,
   "metadata": {
    "scrolled": false
   },
   "outputs": [
    {
     "data": {
      "text/plain": [
       "array([nan, 'Overhead Valves (OHV)', 'Overhead Cams (OHC)',\n",
       "       'Single Overhead Cams (SOHC)',\n",
       "       'Double Overhead Cams/Twin Cam (DOHC)', 'Rotary valves',\n",
       "       'Membrane & variable discharge openings', 'Membrane',\n",
       "       'Port control', 'Desmodromic valve control', 'Standing valves',\n",
       "       'Membrane & power valve', 'Pushrods',\n",
       "       'Rotary valves & variable discharge openings'], dtype=object)"
      ]
     },
     "execution_count": 28,
     "metadata": {},
     "output_type": "execute_result"
    }
   ],
   "source": [
    "# View unique values for 'Fuel control'\n",
    "df['Fuel control'].unique()"
   ]
  },
  {
   "cell_type": "code",
   "execution_count": 29,
   "metadata": {},
   "outputs": [
    {
     "data": {
      "text/plain": [
       "Double Overhead Cams/Twin Cam (DOHC)           4940\n",
       "Single Overhead Cams (SOHC)                    1944\n",
       "Overhead Cams (OHC)                            1305\n",
       "Overhead Valves (OHV)                          1098\n",
       "Desmodromic valve control                       497\n",
       "Port control                                    259\n",
       "Membrane                                        165\n",
       "Rotary valves                                    65\n",
       "Membrane & variable discharge openings           58\n",
       "Membrane & power valve                           43\n",
       "Pushrods                                         11\n",
       "Rotary valves & variable discharge openings       3\n",
       "Standing valves                                   2\n",
       "Name: Fuel control, dtype: int64"
      ]
     },
     "execution_count": 29,
     "metadata": {},
     "output_type": "execute_result"
    }
   ],
   "source": [
    "# View instances of 'Fuel control'\n",
    "df['Fuel control'].value_counts()"
   ]
  },
  {
   "cell_type": "code",
   "execution_count": 30,
   "metadata": {},
   "outputs": [],
   "source": [
    "# Fi asked us to look at DOHC, SOHC, OHC, and Desmodromic valve control, only. \n",
    "df = df[df['Fuel control'].str.contains('nan') ==False]\n",
    "df = df[df['Fuel control'].str.contains('Port control') ==False]\n",
    "df = df[df['Fuel control'].str.contains('Membrane') ==False]\n",
    "df = df[df['Fuel control'].str.contains('Rotary valves') ==False]\n",
    "df = df[df['Fuel control'].str.contains('Membrane & variable discharge openings') ==False]\n",
    "df = df[df['Fuel control'].str.contains('Membrane & power valve') ==False]\n",
    "df = df[df['Fuel control'].str.contains('Pushrods') ==False]\n",
    "df = df[df['Fuel control'].str.contains('Rotary valves & variable discharge openings') ==False]\n",
    "df = df[df['Fuel control'].str.contains('Standing valves') ==False]"
   ]
  },
  {
   "cell_type": "code",
   "execution_count": 31,
   "metadata": {
    "scrolled": false
   },
   "outputs": [
    {
     "data": {
      "text/plain": [
       "Single disc                                                  2792\n",
       "Double disc                                                  1523\n",
       "Dual disc                                                    1353\n",
       "Expanding brake                                               212\n",
       "Double disc. ABS                                              183\n",
       "                                                             ... \n",
       "Double disc. 4-piston. Optional ABS.                            1\n",
       "Double disc. Semi floating single disc, 4 pistons caliper       1\n",
       "Double disc. 2 Piston Calipers                                  1\n",
       "Single disc. Single leading shoe drum (inboard)                 1\n",
       "Double disc. Single-action, twin-piston calipers                1\n",
       "Name: Front brakes, Length: 881, dtype: int64"
      ]
     },
     "execution_count": 31,
     "metadata": {},
     "output_type": "execute_result"
    }
   ],
   "source": [
    "# Preview the values for 'Front brakes'\n",
    "df['Front brakes'].value_counts()"
   ]
  },
  {
   "cell_type": "code",
   "execution_count": 32,
   "metadata": {},
   "outputs": [
    {
     "data": {
      "text/plain": [
       "array(['Expanding brake', 'Single disc. 2 piston caliper',\n",
       "       'Single disc. 2-piston calipers', 'Single disc',\n",
       "       'Single disc. 2 piston calliper',\n",
       "       'Single disc. double piston calliper',\n",
       "       'Single disc. Brembo 2-piston calipers', 'Double disc',\n",
       "       'Double disc. Floating discs',\n",
       "       'Single disc. 4-piston polished calipers',\n",
       "       'Double disc. 4-piston polished calipers', 'Double disc. ABS',\n",
       "       'Double disc. ABS. Four-piston Brembo monoblock radial calipers.',\n",
       "       'Double disc. ABS. Floating disk. Brembo M432 monoblock four-piston radial callipers.',\n",
       "       'Double disc. Brembo four-piston radial callipers. Metal braided brake hose.',\n",
       "       'Double disc. Bremo. ABS.',\n",
       "       'Double disc. ABS.Stainless steel wave floating wave disc. 4-piston.',\n",
       "       'Double disc. Bremo',\n",
       "       'Double disc. Bremo stainless steel semi-floating disks.',\n",
       "       'Double disc. ABS.Stainless steel floating disc. Radial calipers with four pistons. ',\n",
       "       'Double disc. ABS. Four-piston  radial calipers. ',\n",
       "       'Single disc. Two-piston calipers. ',\n",
       "       'Single disc. Stainless steel floating disc, four piston caliper. ',\n",
       "       'Single disc. FTE stainless steel floating disc',\n",
       "       'Single disc. Four piston radial caliper with radial master cylinder.',\n",
       "       nan,\n",
       "       'Single disc. Stainless steel disc with radial 4 piston calliper',\n",
       "       'Single disc. ABS. Stainless steel disc with radial 4 piston calliper.',\n",
       "       'Double disc. ABS. Brembo', 'Double disc. 4-piston calipers',\n",
       "       'Double disc. ABS. Ø 330 mm floating double disc with aluminium flange Brembo STYLEMA® 4-piston mono-block radial calipers Radial pump and metal braid brake pipe-',\n",
       "       'Double disc. Floating stainless steel disc',\n",
       "       'Double disc. ABS. Floating stainless steel disc',\n",
       "       'Double disc. ABS. Floating stainless steel disc with lightweight stainless steel rotor and aluminium flange with 6 pins',\n",
       "       'Double disc. Floating stainless steel disc with lightweight stainless steel rotor and aluminium flange with 6 pins',\n",
       "       'Double disc. ABS. Brembo M4 Floating stainless steel disc with lightweight stainless steel rotor and aluminium flange with 6 pins',\n",
       "       'Single disc. Floating calliper',\n",
       "       'Single disc. Stainless steel disc with floating caliper',\n",
       "       'Double disc. Stainless steel floating discs. Four piston radial calipers. Metal braided brake line',\n",
       "       'Double disc. Continental two channel ABS ',\n",
       "       'Double disc. ABS. Wave disc. ',\n",
       "       'Double disc. ABS. Wave disc. Four-piston radial calipers.',\n",
       "       'Single disc. Stainless steel disc with radial caliper.',\n",
       "       'Dual disc',\n",
       "       'Single disc. ABS. Stainless steel disc with radial 4 piston calliper',\n",
       "       'Double disc. ABS. Floating stainless steel discs with lightweight stainless steel rotor with 6 studs. Brembo radial callipers with 4 diam. horizontally opposed 32 mm pistons. Sintered pads. Axial pump master cylinder and metal braided brake hoses.',\n",
       "       'Double disc. ABS.  Floating double disc with aluminium flange Brembo M50 4-piston mono-block radial calipers Radial pump and metal braid brake pipe.',\n",
       "       'Double disc. Brembo monobloc calipers',\n",
       "       'Double disc. Floating stainless steel discs with lightweight stainless steel rotor with 6 studs',\n",
       "       'Double disc. Floating stainless steel discs with lightweight stainless steel rotor with 6 studs. Brembo radial callipers with 4 diam. horizontally opposed 32 mm pistons. Sintered pads. Axial pump master cylinder and metal braided brake hoses.',\n",
       "       'Single disc. Wave disc', 'Single disc. Dual piston, 240mm Rotor',\n",
       "       'Single disc. Dual Piston',\n",
       "       'Double disc. Floating rotor, 2-piston', 'Single disc. Hydraulic',\n",
       "       'Expanding brake (drum brake). Non-asbestos',\n",
       "       'Single disc. Petal Disc with floating caliper',\n",
       "       'Single disc. KBX twin piston caliper',\n",
       "       'Double disc. 4-piston, ABS',\n",
       "       'Double disc. Four-piston calipers. ABS.', 'Single disc. ABS',\n",
       "       'Double disc. 4 pistons caliper',\n",
       "       'Double disc. 4 pistons caliper. ABS.',\n",
       "       'Double disc. Floating discs. Four-piston calipers. ',\n",
       "       'Double disc. Radial calipers', 'Single disc. Wave',\n",
       "       'Double disc. Floating Wave disk mm with radial monoblock 4 pistons calipers',\n",
       "       'Single disc. Bremo, floating disk',\n",
       "       'Single disc. 3 piston caliper CBS',\n",
       "       'Double disc. 2 pistons caliper', 'Single disc. 2-piston caliper',\n",
       "       'Double disc. Twin floating disks',\n",
       "       'Double disc. Floating wave discs',\n",
       "       'Single disc. Twin floating disk',\n",
       "       'Single disc. Floating disks with 4-piston calipers',\n",
       "       'Double disc. Twin floating disks, 4-piston caliper',\n",
       "       'Double disc. 4-piston caliper', 'Single disc. Bremo',\n",
       "       'Single disc. Floating disk', 'Double disc. 4-piston cliper',\n",
       "       'Double disc. Bremo, 4-piston cliper',\n",
       "       'Single disc. double-piston floating caliper',\n",
       "       'Expanding brake (drum brake)', 'Single disc. 4-piston Diff bore',\n",
       "       'Single disc. 4-piston diff bore', 'Single disc. 4-piston',\n",
       "       'Double disc. Bremo, gold',\n",
       "       'Single disc. Brembo, 4-pistons, 4-pads with radial Brembo calipers',\n",
       "       'Double disc. Double Ø320 mm Floating Discs Brembo, Radial Caliper Brembo 4-Pistons, 4-Pads',\n",
       "       'Double disc. Double 320 mm floating discs Brembo, Radial Caliper Brembo 4-Pistons, 4-Pads',\n",
       "       'Double disc. Floating discs Brembo, Radial Caliper Brembo 4-Pistons, 4-Pads',\n",
       "       'Double disc. Floating discs Brembo, Radial caliper Brembo 4-Pistons, 4-Pads',\n",
       "       'Double disc. Radial caliper Brembo 4-Pistons, 4-Pads',\n",
       "       'Double disc. Floating discs,  4-Pistons',\n",
       "       'Double disc. 4-Pistons',\n",
       "       'Double disc. Brembo radial, 4 pistons calipers',\n",
       "       'Double disc. Brembo, 4-pistons, 4-pads with radial Brembo calipers',\n",
       "       'Double disc. 4-piston', 'Single disc. Bremo, 4-piston caliper',\n",
       "       'Single disc. Bremo, 4-piston', 'Single disc. Optional ABS',\n",
       "       'Single disc. Optional ABS. Can be switched off.',\n",
       "       'Single disc. ABS. Can be switched off.',\n",
       "       'Double disc. ABS. Floating discs. Two-piston calipers. ',\n",
       "       'Double disc. Optional ABS',\n",
       "       'Double disc. Optional ABS. Can be switched off.',\n",
       "       'Double disc. Floating discs. Four-piston calipers. ABS.',\n",
       "       'Double disc. ABS. Floating discs. Four-piston calipers. ',\n",
       "       'Double disc. ABS. Floating discs. Four-piston calipers. Radially mounted. ',\n",
       "       'Double disc. Optional Anti-Lock Brakes',\n",
       "       'Double disc. Optional ABS.', 'Double disc. ABS.',\n",
       "       'Single disc. Four-piston calipers. Radially mounted. ',\n",
       "       'Single disc. ABS. Four-piston calipers. Radially mounted. ',\n",
       "       'Single disc. ABS. 4-piston fixed caliper, radially bolted',\n",
       "       'Single disc. Floating discs. Two-piston calipers. Switchable ABS.',\n",
       "       'Single disc. Floating discs. Two-piston calipers. ',\n",
       "       'Single disc. ABS. Floating discs. Two-piston calipers. ',\n",
       "       'Single disc. Optional ABS. Double piston',\n",
       "       'Double disc. Optional anti-lock braking',\n",
       "       'Double disc. Optional ABS. Deactivable.',\n",
       "       'Double disc. Two-piston calipers. ',\n",
       "       'Double disc. ABS, 4-piston fixed calipers',\n",
       "       'Double disc. 4-piston fixed calipers. ABS',\n",
       "       'Double disc. Anti-Lock Brakes', 'Double disc. Anti-lock braking',\n",
       "       'Double disc. Floating discs. Four-piston calipers. Optional ABS.',\n",
       "       'Double disc. Integral ABS. Can be switched off.',\n",
       "       'Double disc. ABS. Four-piston calipers. ',\n",
       "       'Double disc. EVO brake system with the BMW Motorrad Integral ABS',\n",
       "       'Double disc. Four-piston calipers. ',\n",
       "       'Double disc. 4-piston. EVO brake system with the BMW Motorrad Integral ABS',\n",
       "       'Double disc. 6-piston calipers',\n",
       "       'Double disc. Optional ABS, can be switched off',\n",
       "       'Double disc. Optional integral ABS. Can be switched off.',\n",
       "       'Double disc. Floating discs. Four-piston calipers. Switchable ABS.',\n",
       "       'Single disc. ABS. Regenerative hub braking system in addition.',\n",
       "       'Double disc. Integral ABS',\n",
       "       'Double disc. 4 piston fixed calipers',\n",
       "       'Double disc. 4 piston fixed calipers, BMW Motorrad Integral ABS (partially integral)',\n",
       "       'Double disc. ABS, wight of entire system 2.5 kg. Optional DTC Dynamic Traction Control .',\n",
       "       'Double disc. Race ABS. Can be switched off.',\n",
       "       'Double disc. ABS. Floating discs. Four-piston fixed calipers. ',\n",
       "       'Double disc. Dual 4-piston caliper',\n",
       "       'Single disc. ZTL2-type brake, 8-piston, 4 pads, fixed caliper, 375 mm single-sided, inside out, stainless steel, floating rotor',\n",
       "       'Single disc. 8-piston calipers',\n",
       "       'Single disc. ZTL2-type brake, 8-piston, 4 pads, fixed caliper, single-sided, inside out, stainless steel, floating rotor',\n",
       "       'Single disc. Dual piston, floating caliper, stainless steel rotor',\n",
       "       'Single disc. ZTL™ type brake, 6-piston, fixed caliper, single-sided, inside out, stainless steel, floating rotor',\n",
       "       'Single disc. ZTL™ brake, 6-piston, fixed caliper; 375 mm, single-sided, inside-out, stainless steel, floating rotor',\n",
       "       'Single disc. 1, six-piston PM caliper',\n",
       "       'Single disc. ZTL™ brake, 6-piston, fixed caliper; single-sided, inside-out, stainless steel, floating rotor',\n",
       "       'Single disc. ZTL™ brake, 6-piston, fixed caliper; 375 mm single-sided, inside-out, stainless steel, floating rotor',\n",
       "       'Double disc. Bremo, 4-piston calipers',\n",
       "       'Single disc. 2 piston aluminum brake calipers',\n",
       "       'Double disc. Brembo. ABS.',\n",
       "       'Double disc. EBD, ABS. 4 piston calipers. Foot-actuated, fully integrated hydraulic 3-wheel braking system.',\n",
       "       'Double disc. EBD, ABS. 4 piston calipers',\n",
       "       'Double disc. EBD, ABS', 'Single disc. Brembo calliper',\n",
       "       'Single disc. Disc Hand Control', 'Double disc. Bremo, 4-piston',\n",
       "       'Double disc. Bremo 4-piston monoblock calipers. Radial pump technology. Carbon ceramics rotor. ',\n",
       "       'Double disc. Dual Beringer 4 Piston AEROTEC Radial Calipers; Dual Beringer AERONAL Floating Stainless Steel Discs ',\n",
       "       'Single disc. Wave, dual piston', 'Single disc. 2-piston',\n",
       "       'Single disc. Radial caliper', 'Single disc. Radial Caliper',\n",
       "       'Single disc. ABS, dual piston',\n",
       "       'Double disc. Semi-floating discs, radially mounted Brembo Monobloc M50 4-piston callipers ABS optional +2.5kg (+5.5lb)',\n",
       "       'Double disc. ABS. Floating discs. Radially mounted. ',\n",
       "       'Double disc. Semi-floating discs, radially mounted Brembo Monobloc M50 4-piston callipers. ABS.',\n",
       "       'Single disc. Scarab, hydraulic', 'Double disc. 4-pistons',\n",
       "       'Double disc. Floating discs. Four-piston calipers. Radially mounted. ',\n",
       "       'Double disc. Brembo callipers, 4-piston with ABS',\n",
       "       'Double disc. Semi-floating discs, radially mounted Brembo Monobloc callipers 4-piston, 2-pad',\n",
       "       'Double disc. ABS. Four-piston calipers.   Gold finished Brembo braking system.',\n",
       "       'Double disc. ABS. Bremo. Four-piston calipers. Radially mounted. ',\n",
       "       'Double disc. ABS. Brembo. Four-piston calipers. Radially mounted. ',\n",
       "       'Double disc. Optional ABS. Four-piston calipers. ',\n",
       "       'Double disc. Optional Anti-Lock braking',\n",
       "       'Double disc. Semi-floating discs, radially mounted Monobloc Brembo M4-32 callipers, 4-pistons, axiial pump with ABS as standard',\n",
       "       'Double disc. ABS. Bremo. Floating discs. Four-piston calipers. Radially mounted. ',\n",
       "       'Double disc. ABS. Brembo. Floating discs. Four-piston calipers. Radially mounted. ',\n",
       "       'Double disc. ABS. 2 x 320mm semi-floating discs, radially mounted Brembo callipers, 4-piston, 2-pad.',\n",
       "       'Double disc. 2 x 320mm semi-floating discs, radially mounted Brembo callipers, 4-piston, 2-pad. ABS as standard equipment ',\n",
       "       'Double disc. Brembo M50 Stylema monoblock 4-piston 2 pad calipers, ABS',\n",
       "       'Double disc. ABS. Brembo.',\n",
       "       'Single disc. ABS. Four-piston calipers. ',\n",
       "       'Double disc. Semi-floating discs, radially mounted Brembo Monobloc callipers 4-piston, 2-pad ',\n",
       "       'Double disc. Semi-floating discs, radially mounted Brembo Monobloc 4-piston callipers ',\n",
       "       'Double disc. ISR custom radial brake system',\n",
       "       'Single disc. 2-Piston caliper', 'Single disc. Two piston caliper',\n",
       "       'Single disc. Twin piston caliper',\n",
       "       'Double disc. Semi floating ISO multi-fin rotor with 8 piston ZTL2 caliper',\n",
       "       'Single disc. Four-piston calipers. ',\n",
       "       'Single disc. Four-piston calipers. ABS.',\n",
       "       'Double disc. Four piston radial Brembo Racing',\n",
       "       'Double disc. Dual semi-floating 310mm disc, Brembo master cylinder, Goodridge steel brake lines',\n",
       "       'Single disc. Bomba Nissin* y pinza de doble pistón Nissin',\n",
       "       'Single disc. Wave floating, 2-piston caliper',\n",
       "       'Single disc. Galfer wave  disc, 2-piston nissin brake caliper ',\n",
       "       'Single disc. Nissin',\n",
       "       'Single disc. Galfer ´Wave´ floating, 4-piston caliper',\n",
       "       'Single disc. Wave disk',\n",
       "       'Double disc. Stainless steel double disk, Ø 240 mm, two-piston caliper',\n",
       "       'Single disc. ABS. 4-piston', 'Double disc. ABS. 4-piston. ',\n",
       "       'Single disc. Dual-piston. Optional ABS.',\n",
       "       'Double disc. Optional ABS. 4-piston',\n",
       "       'Double disc. ABS. 4-piston', 'Single disc.  Dual-piston.',\n",
       "       'Single disc. ABS, 4-piston', 'Double disc. 4 piston. ABS.',\n",
       "       'Double disc. 4-piston fixed. Optional ABS.',\n",
       "       'Single disc. 4-piston fixed.', 'Single disc. 4-piston fixed ',\n",
       "       'Double disc. 4-piston fixed. ABS.',\n",
       "       'Single disc. 4-piston fixed. ABS.',\n",
       "       'Double disc. Optional ABS. 4-piston. ',\n",
       "       'Single disc. 4-piston, ABS',\n",
       "       'Double disc. 4-piston fixed caliper',\n",
       "       'Double disc. 4-piston calipers. Optional ABS.',\n",
       "       'Double disc. 4-piston fixed caliper. Optional ABS.',\n",
       "       'Double disc. 4-piston calipers. ABS.',\n",
       "       'Double disc. 4-piston fixed caliper. ABS optional.',\n",
       "       'Double disc. Brembo', 'Double disc. Patented fixed front rotor',\n",
       "       'Single disc. 4-piston. Optional ABS.',\n",
       "       'Single disc. 4-piston caliper',\n",
       "       'Single disc. 4-piston caliper. Optional ABS.',\n",
       "       'Single disc. 4-piston calipers',\n",
       "       'Single disc. 4-piston calipers. ABS.', 'Double disc. 6 piston.',\n",
       "       'Double disc. 6 piston caliper',\n",
       "       'Double disc. 6 piston caliper. ABS.',\n",
       "       'Single disc. 4-piston. Patented, uniform expansion rotors',\n",
       "       'Single disc. 4-piston fixed. Optional ABS.',\n",
       "       'Single disc. 4-piston fixed', 'Single disc. 0',\n",
       "       'Single disc. ABS. 4-piston fixed', 'Single disc. ABS. 4-piston.',\n",
       "       'Single disc. Optional ABS. 4-piston',\n",
       "       'Double disc. Optional ABS. 4-piston.',\n",
       "       'Double disc. ABS, 4-piston', 'Double disc. ABS, 4-piston fixed',\n",
       "       'Double disc. 4-piston.', 'Single disc. 4-piston. ABS.',\n",
       "       'Double disc. 4-piston. ABS.',\n",
       "       'Single disc. Dual piston, optional ABS.',\n",
       "       'Single disc. Optional ABS. Two-piston calliper.',\n",
       "       'Single disc. Dual piston',\n",
       "       'Single disc. Patented, uniform expansion rotors. Dual-piston.',\n",
       "       'Single disc. Twin piston, floating caliper',\n",
       "       'Single disc. Twin piston, floating caliper, optional ABS',\n",
       "       'Single disc. 2-piston floated front and rear',\n",
       "       'Single disc. 2-piston floated front and rear, optional ABS',\n",
       "       'Single disc. 2-piston floated, optional ABS',\n",
       "       'Single disc. Optional ABS. 4-piston fixed.',\n",
       "       'Double disc. 6 piston. ABS.', 'Double disc. ABS. 6 piston. ',\n",
       "       'Single disc. 4-piston calipers. Optional ABS.',\n",
       "       'Double disc. 4-piston. ABS available.',\n",
       "       'Single disc. Dual-piston.', 'Double disc. Dual 4-piston',\n",
       "       'Single disc. Non-asbestose', 'Single disc. Non Asbestoes type',\n",
       "       'Single disc. Optional drum brake',\n",
       "       'Single disc. Disc - 240mm Dia. Pad - Non Asbestoes type Drum - Drum Internal expanding shoe type (130mm) Liners - Non Asbestoes type',\n",
       "       'Single disc. 6-piston calipers', 'Brembo twin caliper',\n",
       "       'Single disc. 310 mm floating disk, Beringer six piston caliper',\n",
       "       'Single disc. Floating disk, six piston caliper',\n",
       "       'Double disc. Four-piston. Optional ABS.',\n",
       "       'Single disc. Twin-piston caliper',\n",
       "       'Double disc. Full-floating. 4-piston calipers.',\n",
       "       'Double disc. Switchable ABS. 4-piston calipers and sintered metal pads',\n",
       "       'Double disc. Switchable ABS.',\n",
       "       'Single disc. Disk, hydraulic (two pot)',\n",
       "       'Single disc. Cable operated',\n",
       "       'Single disc. Nissin 2-piston sliding caliper',\n",
       "       'Double disc. Dual-disc with twin-piston calipers',\n",
       "       'Double disc. (2) 2- piston calipers, with TRAC system',\n",
       "       'Double disc. daul disc twin piston calipers',\n",
       "       'Double disc. 2 piston calipers',\n",
       "       'Double disc. Dual radial-mounted four-piston calipers with full floating 320mm discs',\n",
       "       'Double disc. Anti-locking brakes',\n",
       "       'Double disc. Floating discs. Four-piston calipers.  ABS.',\n",
       "       'Single disc. Hydraulic dual-piston brake caliper and Radial mount Nissin 4-piston caliper.',\n",
       "       'Double disc. Anti-locking brakes (ABS)',\n",
       "       'Double disc. Four-piston Nissin hydraulic callipers. ',\n",
       "       'Double disc. Hydraulic, Anti-lock brake',\n",
       "       'Double disc. ABS. Six-piston Nissin hydraulic callipers. ',\n",
       "       'Double disc. Wave disc. Two-piston calipers. ',\n",
       "       'Single disc. ABS. Wave disc. Two-piston calipers. ',\n",
       "       'Single disc. ABS. Nissin radial-mount two piston calipers.',\n",
       "       'Double disc. ABS. Wave disc. Two-piston calipers. ',\n",
       "       'Double disc. Wave disc. Two-piston calipers. ABS.',\n",
       "       'Double disc. Wave disc. Two-piston calipers. Combined ABS',\n",
       "       'Double disc. Anti-lock braking (ABS)',\n",
       "       'Double disc. Twin piston caliper.',\n",
       "       'Double disc. ABS. Twin piston caliper.',\n",
       "       'Double disc. Hydraulic. Two-piston calipers. ',\n",
       "       'Double disc. Hydraulic. Dual-piston calipers and sintered metal pads.',\n",
       "       'Double disc. ABS. Hydraulic',\n",
       "       'Double disc. ABS. Radial-mount four-piston calipers.',\n",
       "       'Double disc. Dual piston calipers',\n",
       "       'Double disc. 2-piston caliper, sintered metal pads and Combined ABS ',\n",
       "       'Double disc. 3-piston callipers, ABS floating rotors and sintered metal pads ',\n",
       "       'Double disc. Floating discs. Hydraulic. Four-piston calipers. ',\n",
       "       'Single disc. 2-pod calliper and resin mould pads ',\n",
       "       'Single disc. 2-pod calliper and resin mould pads. ABS.',\n",
       "       'Double disc. Optional ABS. Twin piston caliper.',\n",
       "       'Double disc. Dual-piston callipers and sintered metal pads',\n",
       "       'Double disc. Combined three-piston callipers and sintered metal pads ',\n",
       "       'Double disc. 3-piston caliper',\n",
       "       'Double disc. Dual Piston Calipers', 'Single disc. Hydraulic. ',\n",
       "       'Double disc. Anti-Lock Brake',\n",
       "       'Double disc. Floating discs. Four-piston calipers. Radially mounted. ABS. ',\n",
       "       'Single disc. Disc with dual-piston caliper and sintered metal pads',\n",
       "       'Single disc. ABS. ',\n",
       "       'Double disc. Optional ABS. Three-piston calipers, floating rotors and sintered metal pads',\n",
       "       'Double disc. ABS. Three-piston calipers, floating rotors and sintered metal pads',\n",
       "       'Double disc. Dual radial-mounted four-piston calipers with 310mm discs',\n",
       "       'Double disc. Four-piston calipers. Radially mounted. ',\n",
       "       'Double disc. \\tDual radial-mounted four-piston calipers with full-floating ',\n",
       "       'Double disc. Dual radial-mounted four-piston calipers with 310mm discs; Honda Combined ABS',\n",
       "       'Double disc. ABS. Two-piston calipers. ',\n",
       "       'Double disc. Two-piston calipers. ABS.',\n",
       "       'Expanding brake (drum brake). Two leading shoe',\n",
       "       'Expanding brake (drum brake). Cable',\n",
       "       'Single disc. Hydraulic. Two-piston calipers. ',\n",
       "       'Single disc. Twin-piston calipers',\n",
       "       'Single disc. Two-piston calipers. ABS.',\n",
       "       'Double disc. dual floating hydraulic disc with 3-piston calipers, C-ABC and sintered metal pads',\n",
       "       'Double disc. Dual floating hydraulic disc with 3-piston calipers, C-ABC and sintered metal pads',\n",
       "       'Double disc. Combined ABS', 'Single disc. Dual-piston calliper ',\n",
       "       'Single disc. ABS. Two-piston calipers. ',\n",
       "       'Double disc. ABS and CBS with dual full-floating discs and three-piston calipers',\n",
       "       'Double disc. ABS. CBS three-piston calipers.',\n",
       "       'Double disc. Two-piston calipers',\n",
       "       'Double disc. Twin-piston caliper',\n",
       "       'Double disc. Twin-piston caliper; ABS and CBS',\n",
       "       'Single disc. 2 piston', 'Double disc. 2-piston caliper',\n",
       "       'Double disc. LBS 3-piston calipers',\n",
       "       'Double disc. LBS 3-piston calipers. Anti-Lock Braking System® (ABS®).',\n",
       "       'Double disc. Floating discs.  CBS three-piston calipers. ABS.',\n",
       "       'Double disc. Floating discs.  Three-piston calipers',\n",
       "       'Double disc. Floating discs.  6-piston calipers',\n",
       "       'Double disc. Floating discs.  6-piston calipers. ABS.',\n",
       "       'Double disc. Combined 3-piston callipers, ABS, floating rotors and sintered metal pads ',\n",
       "       'Double disc. CBS three-piston caliper',\n",
       "       'Double disc. Floating discs.  CBS three-piston calipers',\n",
       "       'Double disc. Dual full-floating discs with CBS three-piston calipers',\n",
       "       'Double disc. 3-piston calipers',\n",
       "       'Double disc. Dual full-floating 296mm discs with CBS three-piston calipers',\n",
       "       'Double disc. ABS. CBS three-piston calipers',\n",
       "       'Double disc. Anti-Lock Brakes (ABS)',\n",
       "       'Double disc. ABS. Three-piston caliper',\n",
       "       'Double disc. Floating discs. CBS three-piston calipers.',\n",
       "       'Double disc. Floating discs. ',\n",
       "       'Double disc. Floating discs.  CBS three-piston calipers.',\n",
       "       'Double disc. Floating discs. 3-piston caliper. ABS.',\n",
       "       'Double disc. Floating discs. CBS three-piston calipers',\n",
       "       'Double disc. Floating discs. ABS.',\n",
       "       'Single disc. Two-piston calipers',\n",
       "       'Single disc. Hydraulic. Optional ABS.',\n",
       "       'Single disc. Wavy hydraulic disc with 3-piston caliper and sintered metal pads ',\n",
       "       'Single disc. Hydraulic. Two-piston calipers. ABS.',\n",
       "       'Single disc. ABS. Hydraulic. Two-piston calipers. ',\n",
       "       'Double disc. Floating discs.  three-piston calipers. ABS',\n",
       "       'Double disc. Combined 3-piston callipers, ABS and sintered metal pads .',\n",
       "       'Double disc. Brembo. Hydraulic. Four-piston calipers. ',\n",
       "       'Single disc. ABS. Floating discs. Four-piston calipers. Radially mounted. ',\n",
       "       'Single disc. 2-piston calipers.', 'Double disc. ABS. ',\n",
       "       'Double disc. 3-piston caliper. Optional ABS.',\n",
       "       'Double disc. LBS 3-piston calipers.',\n",
       "       'Double disc. LBS 3-piston calipers. Anti-lock Braking System (ABS).',\n",
       "       'Double disc. Dual full-floating 310mm discs with CBS three-piston calipers; ABS Braking System',\n",
       "       'Double disc. ABS. Floating discs. ',\n",
       "       'Double disc. ABS. Floating discs. CBS three-piston calipers.',\n",
       "       'Double disc. Combined three-piston callipers, (ABS) and sintered metal pads ',\n",
       "       'Single disc. 2-piston caliper. Optional ABS.',\n",
       "       'Double disc. Dual-piston Combined three-piston callipers, ABS and sintered metal pads ',\n",
       "       'Double disc. Dual disc with twin-piston calipers',\n",
       "       'Single disc. ventilated, double caliper',\n",
       "       'Single disc. inboard ventilated cast iron disk, 2-piston calipers',\n",
       "       'Double disc. ´2-piston calipers',\n",
       "       'Double disc. Nissin 2 pot caliper',\n",
       "       'Double disc. Combined 3-piston calliper (ABS) and sintered metal pads ',\n",
       "       'Double disc. Full-floating.  LBS three-piston calipers',\n",
       "       'Double disc. CBS six-piston calipers with ABS',\n",
       "       'Double disc. ABS. Floating discs. Six-piston calipers. ',\n",
       "       'Double disc. 6-piston callipers, C-ABS and sintered metal pads ',\n",
       "       'Double disc. Dual full-floating 296mm discs with LBS three-piston calipers; ABS Braking System',\n",
       "       'Double disc. ABS. Floating discs. Hydraulic. Four-piston calipers. ',\n",
       "       'Single disc. twin piston caliper',\n",
       "       'Double disc. 2-piston calipers',\n",
       "       'Double disc. ABS. Twin-piston caliper',\n",
       "       'Single disc. Anti-lock braking (ABS)',\n",
       "       'Double disc. Twin-piston caliper. ABS',\n",
       "       'Single disc. Hydraulic disc with dual-piston caliper and sintered metal pads ',\n",
       "       'Single disc. Hydraulic disc with combined three-piston caliper, ABS and sintered metal pads ',\n",
       "       'Single disc. Dual-piston caliper and sintered metal pads ',\n",
       "       'Single disc. Single leading shoe drum (inboard)',\n",
       "       'Single disc. disc with twin-piston caliper',\n",
       "       'Double disc. Dual disc with LBS three-piston calipers',\n",
       "       'Double disc. With LBS three-piston calipers',\n",
       "       'Double disc. 296 x 4.5mm dual hydraulic disc with Combined 3-piston callipers (*ABS) and sintered metal pads',\n",
       "       'Double disc. ABS. Combined 3-piston callipers and sintered metal pads .',\n",
       "       'Double disc. C-ABS', 'Single disc. Hydraulic, ventilated',\n",
       "       'Single disc. Brembo two-piston floating caliper, stainless steel',\n",
       "       'Single disc. FTE four-piston radial mounted floating caliper, stainless steel',\n",
       "       'Single disc. FTE 4 piston radial mounted floating caliper, stainless steel',\n",
       "       'Single disc. Bremo FTE four-piston radial mounted floating caliper',\n",
       "       'Single disc. Bremo four-piston',\n",
       "       'Single disc. Brembo twin-piston floating calliper',\n",
       "       'Single disc. ABS. Brembo twin-piston floating calliper.',\n",
       "       'Single disc. Bosch 9M+ two-channel ABS',\n",
       "       'Single disc. Brembo four-piston radial fixed calliper',\n",
       "       'Single disc. Four-pot brake caliper ',\n",
       "       'Single disc. Brembo twin-piston floating calliper, brake disc',\n",
       "       'Single disc. Magura twin-piston floating calliper, brake disc',\n",
       "       'Single disc. Magura. Wave disk.',\n",
       "       'Single disc. Magura two-piston floating calliper',\n",
       "       'Single disc. Magura twin-piston floating calliper ',\n",
       "       'Single disc. Magura twin-piston floating calliper',\n",
       "       'Single disc. Brembo four-piston radial calipers  with sintered pads',\n",
       "       'Single disc. with 2-piston calipers',\n",
       "       'Single disc. with radial-mounted 4 piston clipers',\n",
       "       'Single disc. Radial-mounted 4 piston calipers',\n",
       "       'Single disc. Switchable ABS', 'Single disc. Wave design disc',\n",
       "       'Single disc. Brembo',\n",
       "       'Single disc. Fixed disc with hydraulic control and floating caliper',\n",
       "       'Single disc. Wave disc. ', 'Single disc. Wave design',\n",
       "       'Single disc. 4 opposed pistons caliper',\n",
       "       'Double disc. 2-piston clipers',\n",
       "       'Double disc. Semi Floating discs, 4 pistons calipers',\n",
       "       'Single disc. Semi floating disc',\n",
       "       'Double disc. Semi floating double discs, 2 pistons calipers',\n",
       "       'Single disc. 2 pistons caliper',\n",
       "       'Double disc. Semi floating discs, 2 pistons calipers',\n",
       "       'Single disc. Twin piston',\n",
       "       'Double disc. Semi floating single disc, 4 pistons caliper',\n",
       "       'Double disc. Optional ABS. Two-piston calipers. ',\n",
       "       'Double disc. 4-Piston Calipers',\n",
       "       'Double disc. Floating two piston calipers',\n",
       "       'Double disc. 2-piston', 'Double disc. Twin-piston calipers',\n",
       "       'Double disc. semi-floating 310 mm petal discs Dual radial-mount, opposed 4-piston, 4-pad. Optional ABS',\n",
       "       'Double disc. Semi-floating petal discs Dual radial-mount, opposed 4-piston, 4-pad. Optional ABS',\n",
       "       'Double disc. Floating discs. Dual radial-mount, opposed 4-piston, 4-pad caliper.',\n",
       "       'Double disc. ABS. Floating discs. Dual radial-mount, opposed 4-piston, 4-pad caliper.',\n",
       "       'Double disc. Petal discs. Dual radial-mount, opposed 4-piston, 4-pad caliper. Optional ABS.',\n",
       "       'Double disc. Petal discs with four-piston calipers with ABS                                     ',\n",
       "       'Double disc. Optional ABS. Floating discs. Four-piston calipers. ',\n",
       "       'Single disc. Dual piston calliper ',\n",
       "       'Double disc. Halfswimming stored 300-mm, double disk brake with Petal disks',\n",
       "       'Double disc. semi-floating 300 mm petal discs. Dual piston. Optional ABS',\n",
       "       'Double disc. Semi-floating 300 mm petal discs. Dual piston. Optional ABS',\n",
       "       'Double disc. Dual semi-floating 300 mm petal discs, dual piston',\n",
       "       'Double disc. With Petal disks, doppelkolben',\n",
       "       'Double disc. Dual piston',\n",
       "       'Double disc. Dual piston. Optional ABS',\n",
       "       'Double disc. Dual semi-floating 300 mm petal discs, dual piston caliper',\n",
       "       'Double disc. Petal discs. Caliper: 2-piston. ABS.',\n",
       "       'Single disc. 2-piston sliding caliper',\n",
       "       'Single disc. Petal-type disc, two-piston caliper',\n",
       "       'Single disc. Two-piston calipers. Petal-type disc.',\n",
       "       'Single disc. Twin-piston ',\n",
       "       'Single disc. Petal disc with a dual-piston caliper',\n",
       "       'Single disc. Petal disc.Twin-piston caliper.',\n",
       "       'Single disc. Two-piston hydraulic caliper ',\n",
       "       'Single disc. Dual -piston hydraulic caliper ',\n",
       "       'Single disc. Semi-floating petal disc with two-piston hydraulic caliper ',\n",
       "       'Single disc. Floating discs. Hydraulic. Two-piston calipers. ',\n",
       "       'Single disc. Hydraulic.', 'Single disc. Dual-piston',\n",
       "       'Single disc. Semi-floating petal disc, dual piston caliper ',\n",
       "       'Single disc. Petal disc with 2-piston caliper                                    ',\n",
       "       'Single disc. Semi-floating petal disc with dual-piston caliper                         ',\n",
       "       'Single disc. Petal disc with dual-piston caliper',\n",
       "       'Single disc. Semi-floating petal discs',\n",
       "       'Double disc. Big single piston calipers ',\n",
       "       'Double disc. 1-piston calipers',\n",
       "       'Expanding brake (drum brake). Internal expansion two-leading',\n",
       "       'Single disc. Single piston floating',\n",
       "       'Double disc. ABS. Four-piston calipers. Radially mounted. ',\n",
       "       'Single disc. Hydraulic. Two-piston calipers. Optional ABS.',\n",
       "       'Double disc. ABS. Two-piston calipers. Petal-type disc.',\n",
       "       'Double disc. Petal-type rotors with radial-mount four-piston calipers, optional ABS                                     ',\n",
       "       'Double disc. Petal-type rotors with radial-mount four-piston calipers, with ABS                                     ',\n",
       "       'Single disc. Hydralic',\n",
       "       'Single disc. Hydraulic petal disc with two-piston caliper                                     ',\n",
       "       'Single disc. Petal-type disc with two-piston hydraulic caliper                                     ',\n",
       "       'Single disc. Petal-type disc with two-piston hydraulic caliper and ABS                                     ',\n",
       "       'Single disc. Petal-type disc with two-piston hydraulic caliper and ABS.                                     ',\n",
       "       'Double disc. Optional ABS. Triple petal.',\n",
       "       'Single disc. Single  petal-type disc with 2-piston calipers. Optional ABS.',\n",
       "       'Double disc. Optional ABS. Triple petal disk.',\n",
       "       'Double disc. Anti-lock braking ABS)',\n",
       "       'Double disc. Petal discs with two-piston calipers                                     ',\n",
       "       'Double disc. Petal discs and two-piston calipers.                                ',\n",
       "       'Double disc. Petal discs and two-piston calipers. ABS.                                  ',\n",
       "       'Double disc. Petal discs and two-piston calipers. Optional ABS.                                  ',\n",
       "       'Double disc. ABS. Petal discs and two-piston calipers.                                ',\n",
       "       'Double disc. Dual 300mm Petal Disc with 2-Piston Caliper',\n",
       "       'Double disc. Dual radial-mount, opposed 4-piston Brembo Stylema® calipers, dual semi-floating disc. ABS.',\n",
       "       'Double disc. Brembo. Floating discs. Opposed 4-piston caliper',\n",
       "       'Double disc. Petal discs with dual four-piston radial-mount calipers                                     ',\n",
       "       'Double disc. Petal discs with dual radial-mounted four-piston calipers and optional ABS                                     ',\n",
       "       'Double disc. Petal discs with dual radial-mounted four-piston calipers and ABS                                     ',\n",
       "       'Double disc. Petal rotors with dual radial-mount, Nissin four-piston, monobloc calipers and KIBS ABS                                     ',\n",
       "       'Double disc. Hydralic petal disc with radial-mounted, opposed four-piston caliper.',\n",
       "       'Double disc. Floating discs. Optional ABS.',\n",
       "       'Double disc. Hydralic.',\n",
       "       'Double disc. Semi-floating petal discs with dual radial-mounted, four-piston calipers.',\n",
       "       'Double disc. Floating discs. Four-piston calipers. Radially mounted. Optional ABS.',\n",
       "       'Single disc. Dual piston caliper',\n",
       "       'Double disc. Dual semi-floating 300 mm petal discs',\n",
       "       'Double disc. Petal discs with two-piston caliper                                     ',\n",
       "       'Double disc. Petal discs. Dual opposed 4-piston caliper',\n",
       "       'Double disc. Semi-floating petal discs',\n",
       "       'Double disc. ABS. Petal discs. Dual opposed 4-piston caliper',\n",
       "       'Double disc. Two-piston calipers. Optional ABS.',\n",
       "       'Double disc. Petal discs with two-piston caliper. Bosch ABS.                               ',\n",
       "       'Double disc. semi-floating 300 mm petal discs',\n",
       "       'Double disc. Semi-floating 300 mm petal discs. Optional ABS.',\n",
       "       'Single disc. Six-piston calipers. ',\n",
       "       'Double disc. Dual 4-piston caliper.', 'Single disc. Twin-piston',\n",
       "       'Double disc. Dual 300 mm discs, Dual twin-piston caliper.',\n",
       "       'Double disc. Dual twin-piston calipers. K-ACT (Kawasaki Advanced Coactive-braking Technology) ABS.',\n",
       "       'Double disc. Anti-lock braking (ABS). Dual 4-piston.',\n",
       "       'Double disc. Hydraulic', 'Double disc. single piston calipers',\n",
       "       'Double disc. Dual-piston calipers. ',\n",
       "       'Double disc. Twin-piston caliper, ABS',\n",
       "       'Double disc. Single-action, twin-piston calipers',\n",
       "       'Double disc. Six-piston calipers. ',\n",
       "       'Double disc. Dual four-piston calipers, K-ACT II ABS.',\n",
       "       'Double disc. ABS, dual four-piston calipers, K-ACT II.',\n",
       "       'Double disc. 4-piston calipers.',\n",
       "       'Single disc. Hydraulic disc / 270mm hydraulic disc                                     ',\n",
       "       'Single disc. Hydraulic disc with two-piston caliper / 270mm hydraulic disc                                     ',\n",
       "       'Single disc. Hydraulic disc', 'Double disc. Drum',\n",
       "       'Single disc. Petal-style disc with 2-piston calipers, ABS',\n",
       "       'Double disc. Dual semi-floating 310mm petal discs. ABS. ',\n",
       "       'Double disc. Petal-type rotors with radial-mount four-piston calipers                                     ',\n",
       "       'Double disc. Dual semi-floating 310mm petal discs ',\n",
       "       'Double disc. Dual radial-mount, Brembo M50 monobloc, opposed 4-piston.',\n",
       "       'Double disc. Petal-type rotors with radial-mount four-piston calipers                            ',\n",
       "       'Double disc. Optional ABS. Petal-type rotors with radial-mount four-piston calipers.                            ',\n",
       "       'Double disc. Floating discs. Dual radial-mount, monobloc, opposed 4-piston. Optional ABS.',\n",
       "       'Double disc. Optional ABS. Floating discs. Dual radial-mount, monobloc, opposed 4-piston.',\n",
       "       'Double disc. Optional ABS. Floating discs. ',\n",
       "       'Single disc. Optional ABS.',\n",
       "       'Double disc. Petal-type rotors with two-piston calipers',\n",
       "       'Double disc. ABS. Petal-type rotors with two-piston calipers',\n",
       "       'Double disc. Optional ABS. Dual twin-piston.',\n",
       "       'Double disc. Dual semi-floating 300 mm petal discs Dual twin-piston',\n",
       "       'Double disc. Optional ABS. Dual radial-mount, opposed 4-piston caliper.',\n",
       "       'Double disc. Tokico, Four-piston calipers',\n",
       "       'Double disc. Tokico, four-piston calipers',\n",
       "       'Double disc. Dual radial-mount, opposed 4-piston, 4-pad.',\n",
       "       'Double disc. ABS. Dual radial-mount, opposed 4-piston, 4-pad ',\n",
       "       'Double disc. Wave disks', 'Double disc. Brem',\n",
       "       'Double disc. Brembo four piston, radially bolted caliper',\n",
       "       'Double disc. Radially mounted four-piston brake calipers; floating brake discs.',\n",
       "       'Double disc. Floating disc. Four-piston calipers. Radially mounted. ',\n",
       "       'Double disc. Bremo. Floating disc. Four-piston calipers. Radially mounted. ',\n",
       "       'Single disc. ABS. Four-pot brake caliper',\n",
       "       'Single disc. ABS. Four-piston radial fixed calliper',\n",
       "       'Double disc. ABS. Radially mounted four-piston brake calipers ',\n",
       "       'Double disc. ABS. Radially mounted four-piston brake calipers. ',\n",
       "       'Single disc. Brake calipers on floating bearings',\n",
       "       'Double disc. ABS. Four-piston radial fixed calliper.',\n",
       "       'Single disc. ABS. Four-piston radial fixed calliper.',\n",
       "       'Single disc. Floating discs. ',\n",
       "       'Single disc. Magura 4-piston, radially fixed caliper, brake disc Ø 310 mm (12.20´)',\n",
       "       'Single disc. Magura four piston, radially bolted caliper',\n",
       "       'Single disc. Brake calipers on floating bearings ',\n",
       "       'Single disc. Brembo two piston, floating caliper',\n",
       "       'Single disc. Bosch 9M+ ABS. Floating disc. Four-piston calipers. Radially mounted. ',\n",
       "       'Single disc. ABS. Floating disc. Four-piston calipers. Radially mounted. ',\n",
       "       'Single disc. Brembo four piston, radially bolted caliper',\n",
       "       'Double disc. Four-piston radial fixed calliper. ABS.',\n",
       "       'Double disc. 2 x Brembo two piston, floating caliper, floating brake disc. ABS.',\n",
       "       'Double disc. floating disc, Brembo twin-piston floating caliper, Bosch two-channel ABS.',\n",
       "       'Double disc. 2 x Brembo two piston, floating caliper, floating brake disc.',\n",
       "       'Double disc. 2 x Brembo four piston, radially bolted caliper',\n",
       "       'Double disc. Radially mounted four-piston brake calipers; floating brake discs',\n",
       "       'Double disc. 2 x Brembo four piston fixed-caliper, radially bolted',\n",
       "       'Double disc. Brembo four piston fixed-caliper, radial bolted, brake',\n",
       "       'Double disc. ABS.Four piston fixed-caliper, radial bolted, brake',\n",
       "       'Single disc. CBS', 'Double disc. Nissin double piston',\n",
       "       'Double disc. ABS. Two channels anti-block system.',\n",
       "       'Double disc. ABS. Stainless steel \\x1efloating disc, wave type, 4 opposed pistons.',\n",
       "       'Double disc. Stainless steel discs, floating Brembo calipers with 2 parallel pistons.',\n",
       "       'Single disc. 4 piston caliper',\n",
       "       'Single disc. 4 piston caliper. Anti-lock braking.',\n",
       "       'Double disc. Twin stainless steel floating disc, wave type, ¨ª 320 mm, 4 opposed pistons',\n",
       "       'Double disc. Two Brembo Oro series stainless steel flooating discs, with 4 piston calipers',\n",
       "       'Double disc. Brembo stainless steel floating disc, 4 piston calipers',\n",
       "       'Double disc. Brembo Serie Oro stainless steel floating disc, 4 piston calipers',\n",
       "       'Double disc. Stainless steel floating discs and two calipers with four opposed pistons',\n",
       "       'Double disc. Stainless steel wave discs, radial calipers with 4 opposed pistons.',\n",
       "       'Double disc. Perforated wave discs and 4  opposed piston calipers',\n",
       "       'Double disc. Perforated wave discs and 4 opposed piston calipers',\n",
       "       'Double disc. Floating discs, 4 pads radial caliper',\n",
       "       'Single disc. 4-piston calliper',\n",
       "       'Double disc. 4 piston calipers. ABS.',\n",
       "       'Double disc. Stainless steel floating discs and callipers with 4 horizontally opposed pistons - ABS',\n",
       "       'Double disc. ABS. Stainless steel floating discs and callipers with 4 horizontally opposed pistons - ABS',\n",
       "       'Single disc. 2 piston calipers',\n",
       "       'Double disc. ABS. Stainless steel wave discs, radial calipers with 4 opposed pistons.',\n",
       "       'Double disc. Bremo. Stainless steel wave discs, radial calipers with 4 opposed pistons.',\n",
       "       'Double disc. Brembo. Stainless steel wave discs, radial calipers with 4 opposed pistons.',\n",
       "       'Single disc. Bremo stainless steel disc 4 opposed calipers of differing diameters',\n",
       "       'Single disc. Stainless steel disc 4 opposed calipers of differing diameters',\n",
       "       'Single disc. Brembo Serie Oro',\n",
       "       'Single disc. ABS. Brembo caliper with 4 differentiated pistons',\n",
       "       'Double disc. Radial Brembo calipers with  4 opposed pistons. ABS.',\n",
       "       'Double disc. Bremo, 4-piston caliper',\n",
       "       'Single disc. Brembo Monoblock radial mount calipers',\n",
       "       'Double disc. Brembo monoblock (one-piece) brakes',\n",
       "       'Double disc. Floating disc. Brembo radial with 4 pistons caliper. ',\n",
       "       'Double disc. Floating disc. Brembo Radial-type, monobloc with 4 pistons.',\n",
       "       'Double disc. Optional ABS. Floating disc. Brembo radial-type, monobloc with 4 pistons.',\n",
       "       'Double disc. 4-piston, Bremo.',\n",
       "       'Double disc. Optional ABS. 4-piston, Bremo.',\n",
       "       'Double disc. ABS. 4-piston, Bremo.',\n",
       "       'Double disc. Floating disc, 4-piston',\n",
       "       'Double disc. Floating disc, 4-piston. Bremo.',\n",
       "       'Double disc. ABS. Floating disc, 4-piston. Bremo.',\n",
       "       'Double disc. ABS.Floating disc, 4-piston',\n",
       "       'Double disc. ABS. Floating disc, 4-piston',\n",
       "       'Double disc. Nissin, 6-piston',\n",
       "       'Double disc. Brembo radial-type monobloc, with 4 piston',\n",
       "       'Double disc. Brembo brake rotors controlled by monobloc calipers',\n",
       "       'Double disc. Brembo radial-type, single-piece with 4 pistons',\n",
       "       'Double disc. ABS. Brembo radial-type, single-piece with 4 pistons',\n",
       "       'Double disc. Optional ABS. Brembo radial-type, single-piece with 4 pistons',\n",
       "       'Double disc. Floating disc. Brembo GP radial-type, single-piece with 4 pistons.',\n",
       "       'Double disc. ABS. Floating disc. Brembo GP radial-type, single-piece with 4 pistons.',\n",
       "       'Double disc. ABS. Brembo radial-type, with 4 pistons.',\n",
       "       'Single disc. Bremo, 6-piston',\n",
       "       'Single disc. Monoblock radial caliper with 4 pistons.',\n",
       "       'Single disc. Rotor W/ Floating Caliper',\n",
       "       'Single disc. 4-piston Bremo', 'Single disc. Double piston grip',\n",
       "       'Double disc. Double piston caliper. Radial.',\n",
       "       'Double disc. Double piston caliper. ',\n",
       "       'Single disc. Double piston radial calliper',\n",
       "       'Double disc. semi-floating discs, radially mounted Brembo monobloc 4 piston Brembo caliper.',\n",
       "       'Single disc. Brembo 4-piston calipers',\n",
       "       'Single disc. Bremo 4-piston calipers', 'Single disc. Two-piston',\n",
       "       'Expanding brake (drum brake). AJP', 'Single disc. bremo',\n",
       "       'Single disc. AJP', 'Single disc. Hydraulically activated AJP',\n",
       "       'Single disc. Dual Piston AJP Disc Brakes',\n",
       "       'Double disc. 4-piston. ABS', 'Expanding brake (drum brake). drum',\n",
       "       'Single disc. Nissin twin-piston caliper',\n",
       "       'Single disc. Dual-piston caliper', 'Single disc. Floating rotor',\n",
       "       'Single disc. Floating rotor, dual-piston calipe',\n",
       "       'Single disc. Floating rotor, two-piston caliper',\n",
       "       'Single disc. Slotted Disc', 'Double disc. Digital ABS',\n",
       "       '(Unspecified)',\n",
       "       'Double disc. Dual hydraulic disc, four piston calipers',\n",
       "       'Double disc. Brembo. Optional ABS.',\n",
       "       'Double disc. Brembo 4-piston. Optional ABS.',\n",
       "       'Double disc. ABS. Brembo radial-mount monobloc calipers.',\n",
       "       'Double disc. ABS. Brembo monobloc calipers.',\n",
       "       'Double disc. Brembo, Monoblock Radial Mount Calipers',\n",
       "       'Double disc. Brembo 4-piston', 'Single disc. Petal',\n",
       "       'Double disc. Radial-mounted, four-piston Brembo monoblock calipers.',\n",
       "       'Double disc. Brembo, 4-piston',\n",
       "       'Double disc. Brembo 4-piston, ABS',\n",
       "       'Double disc. ABS, Brembo 4-piston',\n",
       "       'Double disc. ABS. Brembo, 4-piston.',\n",
       "       'Double disc. ABS. Brembo 4-piston. ',\n",
       "       'Double disc. ABS. Brembo 4-piston.',\n",
       "       'Double disc. ABS. Brembo 4-piston, ABS',\n",
       "       'Double disc. Dual -piston', 'Double disc. Nissin, 4-piston',\n",
       "       'Double disc. Nissin, 4-piston ABS',\n",
       "       'Double disc. Digital Antilock Brake System (ABS)',\n",
       "       'Single disc. Nissin 2-piston',\n",
       "       'Double disc. 4-piston. Optional ABS. ',\n",
       "       'Double disc. Tokico 4-piston calipers',\n",
       "       'Double disc. Dual 2-piston Calipers', 'Double disc. ABS. Bremo.',\n",
       "       'Double disc. ABS. Bremo monoblock calipers.',\n",
       "       'Double disc. Brembo Monobloc high-performance calipers and Antilock Brake System',\n",
       "       'Single disc. Single-piston caliper',\n",
       "       'Double disc. Radial Mount Brake Calipers.',\n",
       "       'Double disc. ABS. 4-piston calipers, Tokico.',\n",
       "       'Double disc. ABS. Tokico mono-block brake calipers',\n",
       "       'Double disc. Antilock Brake System',\n",
       "       'Double disc. Tokico 4-piston calipers ABS',\n",
       "       'Double disc. Tokico 2-piston calipers',\n",
       "       'Double disc. Tokico 2-piston calipers. ABS.',\n",
       "       'Double disc. Antilock Brake System (ABS)',\n",
       "       'Double disc. ABS. Tokico 2-piston calipers.',\n",
       "       'Single disc. Performance Machine',\n",
       "       'Single disc. 6-piston calipers. Polished rotor.',\n",
       "       'Single disc. 4-piston calipers. Polished rotor.',\n",
       "       'Single disc. Braking wave disk. With Nissin pump and caliper',\n",
       "       'Single disc. Braking wave Disk. With Nissin pump and caliper.',\n",
       "       'Single disc. Braking wave Disk. With Nissin pump and caliper',\n",
       "       'Single disc. Nissin pump and Brembo caliper',\n",
       "       'Single disc. Wave disk with Nissin pump and caliper',\n",
       "       'Single disc. Brembo radial pump and caliper',\n",
       "       'Single disc. Nissin 2-piston floating caliper',\n",
       "       'Single disc. Nissin 2 piston floating caliper',\n",
       "       'Single disc. ABS. Nissin 2-piston floating caliper',\n",
       "       'Double disc. ABS. Nissin 2-piston floating caliper',\n",
       "       'Single disc. ABS. Brembo 2-piston floating caliper',\n",
       "       'Double disc. ABS. Brembo 2-piston floating caliper',\n",
       "       'Single disc. ABS. Nissin 2-piston floating caliper.',\n",
       "       'Double disc. 4 piston calipers x 2',\n",
       "       'Double disc. Nissin 4-piston radial mono-block calipers',\n",
       "       'Double disc. Nissin 4-piston radial mono-block calipers. Switchable ABS model available.',\n",
       "       'Double disc. Nissin 4-piston radial mono-block calipers. Switchable ABS.',\n",
       "       'Double disc. Brembo 4-piston radial mono-block calipers',\n",
       "       'Double disc. Brembo 4-piston radial mono-block calipers, switchable ABS.',\n",
       "       'Double disc. Brembo M4.30 Stylema 4-piston radial monobloc calipers. ABS.',\n",
       "       'Double disc. Nissin 4-piston fixed calipers, Nissin ABS system',\n",
       "       'Double disc. Nissin 4-piston fixed calipers, Nissin ABS system.',\n",
       "       'Double disc. Nissin 4-piston fixed calipers. ABS system.',\n",
       "       'Double disc. Nissin 4-piston fixed calipers',\n",
       "       'Double disc. Nissin 4-piston fixed calipers. ABS.',\n",
       "       'Double disc. Brembo 2-piston floating caliper',\n",
       "       'Double disc. Brembo 4 piston 4 pad radial calipers',\n",
       "       'Double disc. Brembo 4-piston 4-pad radial calipers. ABS model available.',\n",
       "       'Double disc. ABS. Floating discs. Brembo. ',\n",
       "       'Double disc. Brembo 4-piston 4-pad radial calipers. ABS.',\n",
       "       'Double disc. Brembo 4-piston Monobloc radial calipers , Switchable ABS.',\n",
       "       'Double disc. Brembo 4-piston 4-pad radial calipers. Switchable ABS.',\n",
       "       'Double disc. Brembo 4-piston Monobloc radial calipers. Switchable ABS.',\n",
       "       'Double disc. Brembo 4-piston fixed calipers, ABS',\n",
       "       'Double disc. Nissin 2-piston floating calipers',\n",
       "       'Double disc. ABS.  Floating discs, Nissin 4-piston calipers',\n",
       "       'Single disc. Brembo four piston fixed caliper, ABS ´',\n",
       "       'Double disc. Nissin 2-piston sliding calipers',\n",
       "       'Double disc. Nissin 2-piston sliding calipers. Switchable ABS.',\n",
       "       'Double disc. Nissin 4-piston radial calipers',\n",
       "       'Double disc. Brembo M4.32 monobloc. Switchable ABS.',\n",
       "       'Double disc. Nissin 2-piston sliding calipers. ABS.',\n",
       "       'Single disc. ABS. Floating discs. Nissin two-piston calipers. ',\n",
       "       'Single disc. Dual piston caliper. Hard chromed cast iron disk',\n",
       "       'Double disc. 2 x twin piston alloy calipers, 2 x cast iron disks',\n",
       "       'Single disc. Twin piston caliper, Hard chromed cast iron disk',\n",
       "       'Single disc. ABS. Bremo floating discs Brembo 4-piston radial monobloc calipers.',\n",
       "       'Single disc. ABS.  Brembo. 4-piston radial monobloc calipers',\n",
       "       'Double disc. Floating discs, Nissin four-piston radial calipers',\n",
       "       'Double disc. Floating discs, radially mounted monobloc Brembo calipers, 4-piston, switchable ABS.',\n",
       "       'Double disc. Floating discs, radially mounted monobloc Brembo 4-piston calipers, switchable ABS',\n",
       "       'Double disc. Floating discs, radially mounted monobloc Brembo calipers, 4-piston, switchable ABS',\n",
       "       'Double disc. Floating discs, Nissin 2-piston floating calipers, Optional ABS.',\n",
       "       'Double disc. ABS. Floating discs, Nissin 2-piston floating calipers, Optional ABS.',\n",
       "       'Double disc. Floating discs, Nissin 2-piston sliding calipers, Switchable ABS. ',\n",
       "       'Double disc. Floating discs, Brembo 2-piston sliding calipers, Switchable ABS. ',\n",
       "       'Double disc. Floating discs, Brembo 2-piston sliding calipers, switchable ABS. ',\n",
       "       'Double disc. Floating discs, Brembo Stylema 4 piston Monobloc calipers. Radial front master cylinder, ABS',\n",
       "       'Double disc. Brembo radial-type monobloc,  with 4 pistons',\n",
       "       'Double disc. Switchable ABS',\n",
       "       'Double disc. Floating discs, Nissin 4-piston calipers, Switchable ABS',\n",
       "       'Double disc. ABS. Floating discs, Nissin 4-piston calipers, Switchable ABS',\n",
       "       'Double disc. Floating discs, Nissin 4-piston calipers, Switchable ABS.',\n",
       "       'Double disc. Floating discs, Nissin four-piston radial calipers. Switchable ABS.',\n",
       "       'Double disc. Floating discs, Nissin 4-piston calipers, ABS (non-switchable)',\n",
       "       'Double disc. 2 calipers Nissin',\n",
       "       'Double disc. Floating discs, Nissin 4-piston calipers, linked brakes (front brakes partially activated by rear), ABS (non-switchable)',\n",
       "       'Single disc. Petal disk',\n",
       "       'Single disc. Floating rotor with 3-piston caliper',\n",
       "       'Single disc. Floating rotor with 4-piston calipers. ',\n",
       "       'Single disc. Floating rotor with 4-piston calipers',\n",
       "       'Double disc. ABS. Floating rotor with 4-piston calipers',\n",
       "       'Double disc. Floating rotor with 4-piston calipers',\n",
       "       'Double disc. Optional ABS,  floating rotor with 4-piston calipers',\n",
       "       'Double disc. ABS,  floating rotor with 4-piston calipers',\n",
       "       'Double disc. Floating rotor with 4-piston calipers. ABS.',\n",
       "       'Double disc. ABS, floating rotor with 4-piston calipers',\n",
       "       'Single disc. Floating discs. Four-piston calipers. ',\n",
       "       'Single disc. ABS. Floating discs. Four-piston calipers. ',\n",
       "       'Single disc. Floating rotor with 4-piston caliper',\n",
       "       'Double disc. Dual 300mm floating rotor with 4-piston calipers',\n",
       "       'Double disc. Floating rotor with 4-piston calipers. ABS',\n",
       "       'Single disc. ABS. Floating rotor with 4-piston calipers. ',\n",
       "       'Double disc. ABS, floating rotor with 4-piston calipers.',\n",
       "       'Single disc. Brembo 4 piston caliper floating disk',\n",
       "       'Double disc. Floating rotor with 3-piston calipers. ABS.',\n",
       "       'Double disc. Dual 300mm floating rotors with 4-piston calipers. Linked.',\n",
       "       'Double disc. Floating rotors with 4-piston calipers. Anti-lock braking.',\n",
       "       'Single disc. 4-piston, chromed', 'Double disc. 4-piston clipers',\n",
       "       'Single disc. Ventilated', 'Double disc. 4 piston caliper',\n",
       "       'Single disc. 6-piston', 'Single disc. Wave-type disc',\n",
       "       'Double disc. Hydraulic. Two-piston calipers. Optional ABS.',\n",
       "       'Double disc. ABS. Hydraulic. ', 'Single disc. Anti-lock brakes',\n",
       "       'Double disc. Dual Slotted Discs, 2 piston calipers',\n",
       "       'Double disc. UBS ABS',\n",
       "       'Double disc. Unified Brake System and ABS',\n",
       "       'Double disc. Brembo 4-piston calipers',\n",
       "       'Double disc. Hydraulic. ',\n",
       "       'Double disc. Hydraulic. Optional ABS.',\n",
       "       'Double disc. Dual Advics four-piston calipers',\n",
       "       'Double disc. Floating discs w/4-piston calipers',\n",
       "       'Double disc. Floating disc. Four-piston calipers. ',\n",
       "       'Double disc. Anti-lock brakes',\n",
       "       'Double disc. Monobloc four-piston calipers',\n",
       "       'Single disc. Hydraulic disc. Hydraulic disc. ',\n",
       "       'Double disc. hydraulic discs', 'Double disc. Hydraulic disc. ',\n",
       "       'Double disc. Hydraulic disc. Optional ABS.',\n",
       "       'Double disc. ABS. Floating discs w/4-piston calipers',\n",
       "       'Single disc. 2 piston hydraulic',\n",
       "       'Single disc. ABS. Six-piston calipers. ',\n",
       "       'Double disc. Hydraulic ', 'Double disc. Hydraulic. ABS. ',\n",
       "       'Double disc. Hydraulic. ABS.',\n",
       "       'Double disc. Hydraulic.4-piston calipers. ABS.',\n",
       "       'Single disc. Hydraulic. ABS.',\n",
       "       'Double disc. Four-piston calipers with aluminum pistons and sintered brake pads',\n",
       "       'Double disc. Wave-style brake discs. ABS.',\n",
       "       'Double disc. ABS. Hydraulic disc. ',\n",
       "       'Double disc. Antilock Braking System (ABS) and Unified Braking System (UBS)',\n",
       "       'Double disc. ABS/Unified Brake System. Wave disks.',\n",
       "       'Double disc. Hydraulic. Selectable ABS:',\n",
       "       'Double disc. Wave-type discs; radial mount 6-piston calipers, Brembo® radial pump master cylinder',\n",
       "       'Double disc. ABS. Six-piston calipers. Radially mounted. ',\n",
       "       'Double disc. Six-piston calipers. Radially mounted. ',\n",
       "       'Double disc. Anti-lock braking, traction control,',\n",
       "       'Single disc. Wavy discs', 'Single disc. Wavy disc',\n",
       "       'Single disc. 1 Piston Caliper',\n",
       "       'Single disc. Hydraulic single-piston',\n",
       "       'Double disc. double action calipers',\n",
       "       'Double disc. Right hand operation',\n",
       "       'Double disc. 4 piston  caliper', 'Double disc. ABS. Hydraulic.',\n",
       "       'Double disc. Anti-lock brake', 'Single disc. 1-piston caliper',\n",
       "       'Double disc. ABS/Unified Brake System', 'Double disc. Hydraulic.',\n",
       "       'Double disc. Wave discs', 'Single disc. Hydraulic ',\n",
       "       'Single disc. Anti-lock braking', 'Single disc. ABS. Hydraulic.',\n",
       "       'Double disc. 0', 'Double disc. Single piston calipers',\n",
       "       'Single disc. Single piston', 'Double disc. Hydralic',\n",
       "       'Double disc. 2 Piston Calipers',\n",
       "       'Double disc. ABS. Hydraulic. Four-piston calipers. ',\n",
       "       'Double disc. Radial-mount forged 6-piston calipers',\n",
       "       'Single disc. Optional ABS. Radial caliper with floating disc.',\n",
       "       'Single disc. Radial caliper with floating disc.',\n",
       "       'Single disc. Hydraulic disc, Dual Piston Floating',\n",
       "       'Double disc. Floating disc; radial-mount 4-piston calipers'],\n",
       "      dtype=object)"
      ]
     },
     "execution_count": 32,
     "metadata": {},
     "output_type": "execute_result"
    }
   ],
   "source": [
    "df['Front brakes'].unique()"
   ]
  },
  {
   "cell_type": "markdown",
   "metadata": {},
   "source": [
    "Wow, there are a lot of different front brake configurations, 881 that exist in our dataset to be precise. We will only be looking at Single disc, Double disc, and Dual disc, so let's remove the others from our data.  "
   ]
  },
  {
   "cell_type": "code",
   "execution_count": 33,
   "metadata": {},
   "outputs": [],
   "source": [
    "Single_brakes = df[df['Front brakes']== 'Single disc']\n",
    "Dual_brakes = df[df['Front brakes'] == 'Dual disc']\n",
    "Double_brakes = df[df['Front brakes'] == 'Double disc']"
   ]
  },
  {
   "cell_type": "code",
   "execution_count": 34,
   "metadata": {},
   "outputs": [
    {
     "data": {
      "text/html": [
       "<div>\n",
       "<style scoped>\n",
       "    .dataframe tbody tr th:only-of-type {\n",
       "        vertical-align: middle;\n",
       "    }\n",
       "\n",
       "    .dataframe tbody tr th {\n",
       "        vertical-align: top;\n",
       "    }\n",
       "\n",
       "    .dataframe thead th {\n",
       "        text-align: right;\n",
       "    }\n",
       "</style>\n",
       "<table border=\"1\" class=\"dataframe\">\n",
       "  <thead>\n",
       "    <tr style=\"text-align: right;\">\n",
       "      <th></th>\n",
       "      <th>Brand</th>\n",
       "      <th>Model</th>\n",
       "      <th>Year</th>\n",
       "      <th>Category</th>\n",
       "      <th>Displacement (ccm)</th>\n",
       "      <th>Power (hp)</th>\n",
       "      <th>Torque (Nm)</th>\n",
       "      <th>Engine cylinder</th>\n",
       "      <th>Engine stroke</th>\n",
       "      <th>Gearbox</th>\n",
       "      <th>...</th>\n",
       "      <th>Stroke (mm)</th>\n",
       "      <th>Fuel capacity (lts)</th>\n",
       "      <th>Fuel control</th>\n",
       "      <th>Cooling system</th>\n",
       "      <th>Transmission type</th>\n",
       "      <th>Dry weight (kg)</th>\n",
       "      <th>Wheelbase (mm)</th>\n",
       "      <th>Seat height (mm)</th>\n",
       "      <th>Front brakes</th>\n",
       "      <th>Rating_</th>\n",
       "    </tr>\n",
       "  </thead>\n",
       "  <tbody>\n",
       "    <tr>\n",
       "      <th>358</th>\n",
       "      <td>ajp</td>\n",
       "      <td>pr4 125 enduro</td>\n",
       "      <td>2006.0</td>\n",
       "      <td>Enduro / offroad</td>\n",
       "      <td>124.0</td>\n",
       "      <td>12.5</td>\n",
       "      <td>NaN</td>\n",
       "      <td>Single cylinder</td>\n",
       "      <td>four-stroke</td>\n",
       "      <td>5-speed</td>\n",
       "      <td>...</td>\n",
       "      <td>49.5</td>\n",
       "      <td>8.0</td>\n",
       "      <td>Single Overhead Cams (SOHC)</td>\n",
       "      <td>Air</td>\n",
       "      <td>Chain</td>\n",
       "      <td>105.0</td>\n",
       "      <td>1410.0</td>\n",
       "      <td>910.0</td>\n",
       "      <td>Single disc</td>\n",
       "      <td>0.0</td>\n",
       "    </tr>\n",
       "    <tr>\n",
       "      <th>359</th>\n",
       "      <td>ajp</td>\n",
       "      <td>pr4 125 enduro</td>\n",
       "      <td>2007.0</td>\n",
       "      <td>Enduro / offroad</td>\n",
       "      <td>124.1</td>\n",
       "      <td>12.4</td>\n",
       "      <td>NaN</td>\n",
       "      <td>Single cylinder</td>\n",
       "      <td>four-stroke</td>\n",
       "      <td>5-speed</td>\n",
       "      <td>...</td>\n",
       "      <td>49.5</td>\n",
       "      <td>8.0</td>\n",
       "      <td>Single Overhead Cams (SOHC)</td>\n",
       "      <td>Air</td>\n",
       "      <td>NaN</td>\n",
       "      <td>105.0</td>\n",
       "      <td>1410.0</td>\n",
       "      <td>910.0</td>\n",
       "      <td>Single disc</td>\n",
       "      <td>0.0</td>\n",
       "    </tr>\n",
       "    <tr>\n",
       "      <th>362</th>\n",
       "      <td>ajp</td>\n",
       "      <td>pr4 125 enduro</td>\n",
       "      <td>2015.0</td>\n",
       "      <td>Enduro / offroad</td>\n",
       "      <td>124.0</td>\n",
       "      <td>12.6</td>\n",
       "      <td>8.5</td>\n",
       "      <td>Single cylinder</td>\n",
       "      <td>four-stroke</td>\n",
       "      <td>5-speed</td>\n",
       "      <td>...</td>\n",
       "      <td>NaN</td>\n",
       "      <td>7.0</td>\n",
       "      <td>Overhead Cams (OHC)</td>\n",
       "      <td>Air</td>\n",
       "      <td>Chain</td>\n",
       "      <td>105.0</td>\n",
       "      <td>1380.0</td>\n",
       "      <td>920.0</td>\n",
       "      <td>Single disc</td>\n",
       "      <td>0.0</td>\n",
       "    </tr>\n",
       "    <tr>\n",
       "      <th>366</th>\n",
       "      <td>ajp</td>\n",
       "      <td>pr4 125 supermotard</td>\n",
       "      <td>2005.0</td>\n",
       "      <td>Super motard</td>\n",
       "      <td>125.0</td>\n",
       "      <td>14.8</td>\n",
       "      <td>NaN</td>\n",
       "      <td>Single cylinder</td>\n",
       "      <td>four-stroke</td>\n",
       "      <td>5-speed</td>\n",
       "      <td>...</td>\n",
       "      <td>NaN</td>\n",
       "      <td>9.0</td>\n",
       "      <td>Overhead Cams (OHC)</td>\n",
       "      <td>Air</td>\n",
       "      <td>Chain</td>\n",
       "      <td>99.0</td>\n",
       "      <td>1410.0</td>\n",
       "      <td>850.0</td>\n",
       "      <td>Single disc</td>\n",
       "      <td>0.0</td>\n",
       "    </tr>\n",
       "    <tr>\n",
       "      <th>367</th>\n",
       "      <td>ajp</td>\n",
       "      <td>pr4 125 supermotard</td>\n",
       "      <td>2006.0</td>\n",
       "      <td>Super motard</td>\n",
       "      <td>124.0</td>\n",
       "      <td>12.7</td>\n",
       "      <td>NaN</td>\n",
       "      <td>Single cylinder</td>\n",
       "      <td>four-stroke</td>\n",
       "      <td>5-speed</td>\n",
       "      <td>...</td>\n",
       "      <td>49.5</td>\n",
       "      <td>8.0</td>\n",
       "      <td>Single Overhead Cams (SOHC)</td>\n",
       "      <td>Air</td>\n",
       "      <td>NaN</td>\n",
       "      <td>101.0</td>\n",
       "      <td>1410.0</td>\n",
       "      <td>905.0</td>\n",
       "      <td>Single disc</td>\n",
       "      <td>1.0</td>\n",
       "    </tr>\n",
       "  </tbody>\n",
       "</table>\n",
       "<p>5 rows × 21 columns</p>\n",
       "</div>"
      ],
      "text/plain": [
       "    Brand                Model    Year          Category  Displacement (ccm)  \\\n",
       "358   ajp       pr4 125 enduro  2006.0  Enduro / offroad               124.0   \n",
       "359   ajp       pr4 125 enduro  2007.0  Enduro / offroad               124.1   \n",
       "362   ajp       pr4 125 enduro  2015.0  Enduro / offroad               124.0   \n",
       "366   ajp  pr4 125 supermotard  2005.0      Super motard               125.0   \n",
       "367   ajp  pr4 125 supermotard  2006.0      Super motard               124.0   \n",
       "\n",
       "     Power (hp)  Torque (Nm)  Engine cylinder Engine stroke  Gearbox  ...  \\\n",
       "358        12.5          NaN  Single cylinder   four-stroke  5-speed  ...   \n",
       "359        12.4          NaN  Single cylinder   four-stroke  5-speed  ...   \n",
       "362        12.6          8.5  Single cylinder   four-stroke  5-speed  ...   \n",
       "366        14.8          NaN  Single cylinder   four-stroke  5-speed  ...   \n",
       "367        12.7          NaN  Single cylinder   four-stroke  5-speed  ...   \n",
       "\n",
       "     Stroke (mm)  Fuel capacity (lts)                 Fuel control  \\\n",
       "358         49.5                  8.0  Single Overhead Cams (SOHC)   \n",
       "359         49.5                  8.0  Single Overhead Cams (SOHC)   \n",
       "362          NaN                  7.0          Overhead Cams (OHC)   \n",
       "366          NaN                  9.0          Overhead Cams (OHC)   \n",
       "367         49.5                  8.0  Single Overhead Cams (SOHC)   \n",
       "\n",
       "    Cooling system Transmission type Dry weight (kg)  Wheelbase (mm)  \\\n",
       "358            Air             Chain           105.0          1410.0   \n",
       "359            Air               NaN           105.0          1410.0   \n",
       "362            Air             Chain           105.0          1380.0   \n",
       "366            Air             Chain            99.0          1410.0   \n",
       "367            Air               NaN           101.0          1410.0   \n",
       "\n",
       "     Seat height (mm)  Front brakes Rating_  \n",
       "358             910.0   Single disc     0.0  \n",
       "359             910.0   Single disc     0.0  \n",
       "362             920.0   Single disc     0.0  \n",
       "366             850.0   Single disc     0.0  \n",
       "367             905.0   Single disc     1.0  \n",
       "\n",
       "[5 rows x 21 columns]"
      ]
     },
     "execution_count": 34,
     "metadata": {},
     "output_type": "execute_result"
    }
   ],
   "source": [
    "brakes = [Single_brakes, Dual_brakes, Double_brakes]\n",
    "df = pd.concat(brakes)\n",
    "df.head()"
   ]
  },
  {
   "cell_type": "code",
   "execution_count": 35,
   "metadata": {},
   "outputs": [
    {
     "name": "stdout",
     "output_type": "stream",
     "text": [
      "<class 'pandas.core.frame.DataFrame'>\n",
      "Int64Index: 5668 entries, 358 to 38273\n",
      "Data columns (total 21 columns):\n",
      " #   Column               Non-Null Count  Dtype  \n",
      "---  ------               --------------  -----  \n",
      " 0   Brand                5668 non-null   object \n",
      " 1   Model                5668 non-null   object \n",
      " 2   Year                 5668 non-null   float64\n",
      " 3   Category             5668 non-null   object \n",
      " 4   Displacement (ccm)   5668 non-null   float64\n",
      " 5   Power (hp)           3931 non-null   float64\n",
      " 6   Torque (Nm)          1748 non-null   float64\n",
      " 7   Engine cylinder      5668 non-null   object \n",
      " 8   Engine stroke        5668 non-null   object \n",
      " 9   Gearbox              5668 non-null   object \n",
      " 10  Bore (mm)            5404 non-null   float64\n",
      " 11  Stroke (mm)          4476 non-null   float64\n",
      " 12  Fuel capacity (lts)  5468 non-null   float64\n",
      " 13  Fuel control         5668 non-null   object \n",
      " 14  Cooling system       5551 non-null   object \n",
      " 15  Transmission type    5299 non-null   object \n",
      " 16  Dry weight (kg)      2307 non-null   float64\n",
      " 17  Wheelbase (mm)       3192 non-null   float64\n",
      " 18  Seat height (mm)     3090 non-null   float64\n",
      " 19  Front brakes         5668 non-null   object \n",
      " 20  Rating_              3281 non-null   float64\n",
      "dtypes: float64(11), object(10)\n",
      "memory usage: 974.2+ KB\n"
     ]
    }
   ],
   "source": [
    "# Preview our data \n",
    "df.info()"
   ]
  },
  {
   "cell_type": "markdown",
   "metadata": {},
   "source": [
    "### One thing they did say was important: Displacement (ccm)\n",
    "\n",
    "There's no replacement for displacement"
   ]
  },
  {
   "cell_type": "code",
   "execution_count": 36,
   "metadata": {},
   "outputs": [
    {
     "name": "stdout",
     "output_type": "stream",
     "text": [
      "249.0     232\n",
      "1337.0    145\n",
      "748.0     132\n",
      "124.0     131\n",
      "998.0     125\n",
      "         ... \n",
      "651.9       1\n",
      "999.8       1\n",
      "1402.0      1\n",
      "995.0       1\n",
      "296.0       1\n",
      "Name: Displacement (ccm), Length: 473, dtype: int64\n",
      "\n",
      "There are 0 null values in \"Displacement (ccm)\" \n"
     ]
    }
   ],
   "source": [
    "# 'Displacement (ccm)' would be how many cubic centimeters of engine displacement/size a bike's \n",
    "# engine has\n",
    "print(df['Displacement (ccm)'].value_counts())\n",
    "print()\n",
    "print('There are {} null values in \"Displacement (ccm)\" '.format(df['Displacement (ccm)'].isnull().sum()))"
   ]
  },
  {
   "cell_type": "markdown",
   "metadata": {},
   "source": [
    "<div class=\"alert alert-block alert-info\">\n",
    "0 null values in 'Displacement (ccm)', let's remove them!\n",
    "</div>"
   ]
  },
  {
   "cell_type": "code",
   "execution_count": 37,
   "metadata": {},
   "outputs": [],
   "source": [
    "# Drop null values for displacement\n",
    "df = df.dropna(subset =['Displacement (ccm)'])"
   ]
  },
  {
   "cell_type": "code",
   "execution_count": 38,
   "metadata": {},
   "outputs": [
    {
     "data": {
      "text/html": [
       "<div>\n",
       "<style scoped>\n",
       "    .dataframe tbody tr th:only-of-type {\n",
       "        vertical-align: middle;\n",
       "    }\n",
       "\n",
       "    .dataframe tbody tr th {\n",
       "        vertical-align: top;\n",
       "    }\n",
       "\n",
       "    .dataframe thead th {\n",
       "        text-align: right;\n",
       "    }\n",
       "</style>\n",
       "<table border=\"1\" class=\"dataframe\">\n",
       "  <thead>\n",
       "    <tr style=\"text-align: right;\">\n",
       "      <th></th>\n",
       "      <th>Brand</th>\n",
       "      <th>Model</th>\n",
       "      <th>Year</th>\n",
       "      <th>Category</th>\n",
       "      <th>Displacement (ccm)</th>\n",
       "      <th>Power (hp)</th>\n",
       "      <th>Torque (Nm)</th>\n",
       "      <th>Engine cylinder</th>\n",
       "      <th>Engine stroke</th>\n",
       "      <th>Gearbox</th>\n",
       "      <th>...</th>\n",
       "      <th>Stroke (mm)</th>\n",
       "      <th>Fuel capacity (lts)</th>\n",
       "      <th>Fuel control</th>\n",
       "      <th>Cooling system</th>\n",
       "      <th>Transmission type</th>\n",
       "      <th>Dry weight (kg)</th>\n",
       "      <th>Wheelbase (mm)</th>\n",
       "      <th>Seat height (mm)</th>\n",
       "      <th>Front brakes</th>\n",
       "      <th>Rating_</th>\n",
       "    </tr>\n",
       "  </thead>\n",
       "  <tbody>\n",
       "    <tr>\n",
       "      <th>358</th>\n",
       "      <td>ajp</td>\n",
       "      <td>pr4 125 enduro</td>\n",
       "      <td>2006.0</td>\n",
       "      <td>Enduro / offroad</td>\n",
       "      <td>124.0</td>\n",
       "      <td>12.5</td>\n",
       "      <td>NaN</td>\n",
       "      <td>Single cylinder</td>\n",
       "      <td>four-stroke</td>\n",
       "      <td>5-speed</td>\n",
       "      <td>...</td>\n",
       "      <td>49.5</td>\n",
       "      <td>8.0</td>\n",
       "      <td>Single Overhead Cams (SOHC)</td>\n",
       "      <td>Air</td>\n",
       "      <td>Chain</td>\n",
       "      <td>105.0</td>\n",
       "      <td>1410.0</td>\n",
       "      <td>910.0</td>\n",
       "      <td>Single disc</td>\n",
       "      <td>0.0</td>\n",
       "    </tr>\n",
       "    <tr>\n",
       "      <th>359</th>\n",
       "      <td>ajp</td>\n",
       "      <td>pr4 125 enduro</td>\n",
       "      <td>2007.0</td>\n",
       "      <td>Enduro / offroad</td>\n",
       "      <td>124.1</td>\n",
       "      <td>12.4</td>\n",
       "      <td>NaN</td>\n",
       "      <td>Single cylinder</td>\n",
       "      <td>four-stroke</td>\n",
       "      <td>5-speed</td>\n",
       "      <td>...</td>\n",
       "      <td>49.5</td>\n",
       "      <td>8.0</td>\n",
       "      <td>Single Overhead Cams (SOHC)</td>\n",
       "      <td>Air</td>\n",
       "      <td>NaN</td>\n",
       "      <td>105.0</td>\n",
       "      <td>1410.0</td>\n",
       "      <td>910.0</td>\n",
       "      <td>Single disc</td>\n",
       "      <td>0.0</td>\n",
       "    </tr>\n",
       "    <tr>\n",
       "      <th>362</th>\n",
       "      <td>ajp</td>\n",
       "      <td>pr4 125 enduro</td>\n",
       "      <td>2015.0</td>\n",
       "      <td>Enduro / offroad</td>\n",
       "      <td>124.0</td>\n",
       "      <td>12.6</td>\n",
       "      <td>8.5</td>\n",
       "      <td>Single cylinder</td>\n",
       "      <td>four-stroke</td>\n",
       "      <td>5-speed</td>\n",
       "      <td>...</td>\n",
       "      <td>NaN</td>\n",
       "      <td>7.0</td>\n",
       "      <td>Overhead Cams (OHC)</td>\n",
       "      <td>Air</td>\n",
       "      <td>Chain</td>\n",
       "      <td>105.0</td>\n",
       "      <td>1380.0</td>\n",
       "      <td>920.0</td>\n",
       "      <td>Single disc</td>\n",
       "      <td>0.0</td>\n",
       "    </tr>\n",
       "    <tr>\n",
       "      <th>366</th>\n",
       "      <td>ajp</td>\n",
       "      <td>pr4 125 supermotard</td>\n",
       "      <td>2005.0</td>\n",
       "      <td>Super motard</td>\n",
       "      <td>125.0</td>\n",
       "      <td>14.8</td>\n",
       "      <td>NaN</td>\n",
       "      <td>Single cylinder</td>\n",
       "      <td>four-stroke</td>\n",
       "      <td>5-speed</td>\n",
       "      <td>...</td>\n",
       "      <td>NaN</td>\n",
       "      <td>9.0</td>\n",
       "      <td>Overhead Cams (OHC)</td>\n",
       "      <td>Air</td>\n",
       "      <td>Chain</td>\n",
       "      <td>99.0</td>\n",
       "      <td>1410.0</td>\n",
       "      <td>850.0</td>\n",
       "      <td>Single disc</td>\n",
       "      <td>0.0</td>\n",
       "    </tr>\n",
       "    <tr>\n",
       "      <th>367</th>\n",
       "      <td>ajp</td>\n",
       "      <td>pr4 125 supermotard</td>\n",
       "      <td>2006.0</td>\n",
       "      <td>Super motard</td>\n",
       "      <td>124.0</td>\n",
       "      <td>12.7</td>\n",
       "      <td>NaN</td>\n",
       "      <td>Single cylinder</td>\n",
       "      <td>four-stroke</td>\n",
       "      <td>5-speed</td>\n",
       "      <td>...</td>\n",
       "      <td>49.5</td>\n",
       "      <td>8.0</td>\n",
       "      <td>Single Overhead Cams (SOHC)</td>\n",
       "      <td>Air</td>\n",
       "      <td>NaN</td>\n",
       "      <td>101.0</td>\n",
       "      <td>1410.0</td>\n",
       "      <td>905.0</td>\n",
       "      <td>Single disc</td>\n",
       "      <td>1.0</td>\n",
       "    </tr>\n",
       "  </tbody>\n",
       "</table>\n",
       "<p>5 rows × 21 columns</p>\n",
       "</div>"
      ],
      "text/plain": [
       "    Brand                Model    Year          Category  Displacement (ccm)  \\\n",
       "358   ajp       pr4 125 enduro  2006.0  Enduro / offroad               124.0   \n",
       "359   ajp       pr4 125 enduro  2007.0  Enduro / offroad               124.1   \n",
       "362   ajp       pr4 125 enduro  2015.0  Enduro / offroad               124.0   \n",
       "366   ajp  pr4 125 supermotard  2005.0      Super motard               125.0   \n",
       "367   ajp  pr4 125 supermotard  2006.0      Super motard               124.0   \n",
       "\n",
       "     Power (hp)  Torque (Nm)  Engine cylinder Engine stroke  Gearbox  ...  \\\n",
       "358        12.5          NaN  Single cylinder   four-stroke  5-speed  ...   \n",
       "359        12.4          NaN  Single cylinder   four-stroke  5-speed  ...   \n",
       "362        12.6          8.5  Single cylinder   four-stroke  5-speed  ...   \n",
       "366        14.8          NaN  Single cylinder   four-stroke  5-speed  ...   \n",
       "367        12.7          NaN  Single cylinder   four-stroke  5-speed  ...   \n",
       "\n",
       "     Stroke (mm)  Fuel capacity (lts)                 Fuel control  \\\n",
       "358         49.5                  8.0  Single Overhead Cams (SOHC)   \n",
       "359         49.5                  8.0  Single Overhead Cams (SOHC)   \n",
       "362          NaN                  7.0          Overhead Cams (OHC)   \n",
       "366          NaN                  9.0          Overhead Cams (OHC)   \n",
       "367         49.5                  8.0  Single Overhead Cams (SOHC)   \n",
       "\n",
       "    Cooling system Transmission type Dry weight (kg)  Wheelbase (mm)  \\\n",
       "358            Air             Chain           105.0          1410.0   \n",
       "359            Air               NaN           105.0          1410.0   \n",
       "362            Air             Chain           105.0          1380.0   \n",
       "366            Air             Chain            99.0          1410.0   \n",
       "367            Air               NaN           101.0          1410.0   \n",
       "\n",
       "     Seat height (mm)  Front brakes Rating_  \n",
       "358             910.0   Single disc     0.0  \n",
       "359             910.0   Single disc     0.0  \n",
       "362             920.0   Single disc     0.0  \n",
       "366             850.0   Single disc     0.0  \n",
       "367             905.0   Single disc     1.0  \n",
       "\n",
       "[5 rows x 21 columns]"
      ]
     },
     "execution_count": 38,
     "metadata": {},
     "output_type": "execute_result"
    }
   ],
   "source": [
    "# Preview dataset and identify what other work needs to be done\n",
    "df.head()"
   ]
  },
  {
   "cell_type": "markdown",
   "metadata": {},
   "source": [
    "<div class=\"alert alert-block alert-info\">\n",
    "Now that we have preprocessed one column in our dataset, let's take a look at what other columns we should consider processing. \n",
    "</div>"
   ]
  },
  {
   "cell_type": "code",
   "execution_count": 39,
   "metadata": {},
   "outputs": [
    {
     "data": {
      "text/plain": [
       "0"
      ]
     },
     "execution_count": 39,
     "metadata": {},
     "output_type": "execute_result"
    }
   ],
   "source": [
    "# Number of null values in df['Displacement (ccm)']\n",
    "df['Displacement (ccm)'].isnull().sum()"
   ]
  },
  {
   "cell_type": "code",
   "execution_count": 40,
   "metadata": {},
   "outputs": [
    {
     "name": "stdout",
     "output_type": "stream",
     "text": [
      "<class 'pandas.core.frame.DataFrame'>\n",
      "Int64Index: 5668 entries, 358 to 38273\n",
      "Data columns (total 21 columns):\n",
      " #   Column               Non-Null Count  Dtype  \n",
      "---  ------               --------------  -----  \n",
      " 0   Brand                5668 non-null   object \n",
      " 1   Model                5668 non-null   object \n",
      " 2   Year                 5668 non-null   float64\n",
      " 3   Category             5668 non-null   object \n",
      " 4   Displacement (ccm)   5668 non-null   float64\n",
      " 5   Power (hp)           3931 non-null   float64\n",
      " 6   Torque (Nm)          1748 non-null   float64\n",
      " 7   Engine cylinder      5668 non-null   object \n",
      " 8   Engine stroke        5668 non-null   object \n",
      " 9   Gearbox              5668 non-null   object \n",
      " 10  Bore (mm)            5404 non-null   float64\n",
      " 11  Stroke (mm)          4476 non-null   float64\n",
      " 12  Fuel capacity (lts)  5468 non-null   float64\n",
      " 13  Fuel control         5668 non-null   object \n",
      " 14  Cooling system       5551 non-null   object \n",
      " 15  Transmission type    5299 non-null   object \n",
      " 16  Dry weight (kg)      2307 non-null   float64\n",
      " 17  Wheelbase (mm)       3192 non-null   float64\n",
      " 18  Seat height (mm)     3090 non-null   float64\n",
      " 19  Front brakes         5668 non-null   object \n",
      " 20  Rating_              3281 non-null   float64\n",
      "dtypes: float64(11), object(10)\n",
      "memory usage: 974.2+ KB\n"
     ]
    }
   ],
   "source": [
    "# Preview data\n",
    "df.info()"
   ]
  },
  {
   "cell_type": "markdown",
   "metadata": {},
   "source": [
    "### Missing values in 'Torque (Nm)'\n",
    "\n",
    "A dynamometer test is typically used to tell you the torque capabilities in your engine. Developed first in 1798, the technology has come a _long_ way since. <br><br>\n",
    "\n",
    "<img src=\"pictures/DIY_dyno_complete1.jpg.crdownload\" width = '500'/>\n",
    "<center>Photo of DIY Dyno build from skrunkwerks.com</center><br><br>\n",
    "Modern dynamometer testing is done by pushing air into the air filter (or turbo if you're on a drag monster) in order to simulate flow at speed and to push cool air into the radiator. By strapping the bike to the dyno, we are then able to get power readouts via sensors in the flywheel where the rear tire can put power to the device. <br><br>\n",
    "I suspect that the bikes that do not have a torque reading either did not get tested due to extenuating circumstances (smaller displacement bikes, cruisers, and dirt bikes are usually not tested) or, the modern dynamometer was not available for some years of model submission. <br><br>\n",
    "____________________________________________________________________________________________________\n",
    "<div class=\"alert alert-block alert-warning\">\n",
    "There are a few considerations that we should make; there are 21684 total entries and we can assume that any column with fewer than that are null values. There are however a few things to keep in mind when rationalizing whether or not we should drop these values and ultimately, whether or not we should keep them at all. \n",
    "<br><br>    \n",
    "Looking specifically at 'Torque (Nm)', this would imply that the motorcycle in question has at one point or another been put on a dyno to read out torque specs. While this is typically considered the \"fun\" value in a bike, there is currently no way for us to account for torque as a valid point of data. <br><br>\n",
    "\n",
    "To elaborate, torque is a by-product of horsepower and is typically calculable, however we are missing a crucial piece of information: redline of the engine, but to be blunt, the only true way of testing torque is via a dynamometer. Without this information, and with so much of it lacking inside of our data, we will have to move on without it. \n",
    "    \n",
    "    \n",
    "<br><br>\n",
    "Further reading on torque and power: https://motofomo.com/power-and-torque-math/\n",
    "</div>"
   ]
  },
  {
   "cell_type": "markdown",
   "metadata": {},
   "source": [
    "## Removing 'Torque (Nm)'\n",
    "While this is typically considered a useful metric in how a motorcycle will perform, you may notice thaat many of the bikes in our dataset do not have a value for 'Torque (Nm)'. Typically a value-added prospect like the MT-07 or SV650 do not launch with torque figures intact and these figures may be added by enthusiasts in future iterations. For now though, we will remove. "
   ]
  },
  {
   "cell_type": "code",
   "execution_count": 41,
   "metadata": {
    "scrolled": true
   },
   "outputs": [
    {
     "data": {
      "text/html": [
       "<div>\n",
       "<style scoped>\n",
       "    .dataframe tbody tr th:only-of-type {\n",
       "        vertical-align: middle;\n",
       "    }\n",
       "\n",
       "    .dataframe tbody tr th {\n",
       "        vertical-align: top;\n",
       "    }\n",
       "\n",
       "    .dataframe thead th {\n",
       "        text-align: right;\n",
       "    }\n",
       "</style>\n",
       "<table border=\"1\" class=\"dataframe\">\n",
       "  <thead>\n",
       "    <tr style=\"text-align: right;\">\n",
       "      <th></th>\n",
       "      <th>Brand</th>\n",
       "      <th>Model</th>\n",
       "      <th>Year</th>\n",
       "      <th>Category</th>\n",
       "      <th>Displacement (ccm)</th>\n",
       "      <th>Power (hp)</th>\n",
       "      <th>Engine cylinder</th>\n",
       "      <th>Engine stroke</th>\n",
       "      <th>Gearbox</th>\n",
       "      <th>Bore (mm)</th>\n",
       "      <th>Stroke (mm)</th>\n",
       "      <th>Fuel capacity (lts)</th>\n",
       "      <th>Fuel control</th>\n",
       "      <th>Cooling system</th>\n",
       "      <th>Transmission type</th>\n",
       "      <th>Dry weight (kg)</th>\n",
       "      <th>Wheelbase (mm)</th>\n",
       "      <th>Seat height (mm)</th>\n",
       "      <th>Front brakes</th>\n",
       "      <th>Rating_</th>\n",
       "    </tr>\n",
       "  </thead>\n",
       "  <tbody>\n",
       "    <tr>\n",
       "      <th>358</th>\n",
       "      <td>ajp</td>\n",
       "      <td>pr4 125 enduro</td>\n",
       "      <td>2006.0</td>\n",
       "      <td>Enduro / offroad</td>\n",
       "      <td>124.0</td>\n",
       "      <td>12.5</td>\n",
       "      <td>Single cylinder</td>\n",
       "      <td>four-stroke</td>\n",
       "      <td>5-speed</td>\n",
       "      <td>56.5</td>\n",
       "      <td>49.5</td>\n",
       "      <td>8.0</td>\n",
       "      <td>Single Overhead Cams (SOHC)</td>\n",
       "      <td>Air</td>\n",
       "      <td>Chain</td>\n",
       "      <td>105.0</td>\n",
       "      <td>1410.0</td>\n",
       "      <td>910.0</td>\n",
       "      <td>Single disc</td>\n",
       "      <td>0.0</td>\n",
       "    </tr>\n",
       "    <tr>\n",
       "      <th>359</th>\n",
       "      <td>ajp</td>\n",
       "      <td>pr4 125 enduro</td>\n",
       "      <td>2007.0</td>\n",
       "      <td>Enduro / offroad</td>\n",
       "      <td>124.1</td>\n",
       "      <td>12.4</td>\n",
       "      <td>Single cylinder</td>\n",
       "      <td>four-stroke</td>\n",
       "      <td>5-speed</td>\n",
       "      <td>56.5</td>\n",
       "      <td>49.5</td>\n",
       "      <td>8.0</td>\n",
       "      <td>Single Overhead Cams (SOHC)</td>\n",
       "      <td>Air</td>\n",
       "      <td>NaN</td>\n",
       "      <td>105.0</td>\n",
       "      <td>1410.0</td>\n",
       "      <td>910.0</td>\n",
       "      <td>Single disc</td>\n",
       "      <td>0.0</td>\n",
       "    </tr>\n",
       "    <tr>\n",
       "      <th>362</th>\n",
       "      <td>ajp</td>\n",
       "      <td>pr4 125 enduro</td>\n",
       "      <td>2015.0</td>\n",
       "      <td>Enduro / offroad</td>\n",
       "      <td>124.0</td>\n",
       "      <td>12.6</td>\n",
       "      <td>Single cylinder</td>\n",
       "      <td>four-stroke</td>\n",
       "      <td>5-speed</td>\n",
       "      <td>NaN</td>\n",
       "      <td>NaN</td>\n",
       "      <td>7.0</td>\n",
       "      <td>Overhead Cams (OHC)</td>\n",
       "      <td>Air</td>\n",
       "      <td>Chain</td>\n",
       "      <td>105.0</td>\n",
       "      <td>1380.0</td>\n",
       "      <td>920.0</td>\n",
       "      <td>Single disc</td>\n",
       "      <td>0.0</td>\n",
       "    </tr>\n",
       "    <tr>\n",
       "      <th>366</th>\n",
       "      <td>ajp</td>\n",
       "      <td>pr4 125 supermotard</td>\n",
       "      <td>2005.0</td>\n",
       "      <td>Super motard</td>\n",
       "      <td>125.0</td>\n",
       "      <td>14.8</td>\n",
       "      <td>Single cylinder</td>\n",
       "      <td>four-stroke</td>\n",
       "      <td>5-speed</td>\n",
       "      <td>NaN</td>\n",
       "      <td>NaN</td>\n",
       "      <td>9.0</td>\n",
       "      <td>Overhead Cams (OHC)</td>\n",
       "      <td>Air</td>\n",
       "      <td>Chain</td>\n",
       "      <td>99.0</td>\n",
       "      <td>1410.0</td>\n",
       "      <td>850.0</td>\n",
       "      <td>Single disc</td>\n",
       "      <td>0.0</td>\n",
       "    </tr>\n",
       "    <tr>\n",
       "      <th>367</th>\n",
       "      <td>ajp</td>\n",
       "      <td>pr4 125 supermotard</td>\n",
       "      <td>2006.0</td>\n",
       "      <td>Super motard</td>\n",
       "      <td>124.0</td>\n",
       "      <td>12.7</td>\n",
       "      <td>Single cylinder</td>\n",
       "      <td>four-stroke</td>\n",
       "      <td>5-speed</td>\n",
       "      <td>56.5</td>\n",
       "      <td>49.5</td>\n",
       "      <td>8.0</td>\n",
       "      <td>Single Overhead Cams (SOHC)</td>\n",
       "      <td>Air</td>\n",
       "      <td>NaN</td>\n",
       "      <td>101.0</td>\n",
       "      <td>1410.0</td>\n",
       "      <td>905.0</td>\n",
       "      <td>Single disc</td>\n",
       "      <td>1.0</td>\n",
       "    </tr>\n",
       "  </tbody>\n",
       "</table>\n",
       "</div>"
      ],
      "text/plain": [
       "    Brand                Model    Year          Category  Displacement (ccm)  \\\n",
       "358   ajp       pr4 125 enduro  2006.0  Enduro / offroad               124.0   \n",
       "359   ajp       pr4 125 enduro  2007.0  Enduro / offroad               124.1   \n",
       "362   ajp       pr4 125 enduro  2015.0  Enduro / offroad               124.0   \n",
       "366   ajp  pr4 125 supermotard  2005.0      Super motard               125.0   \n",
       "367   ajp  pr4 125 supermotard  2006.0      Super motard               124.0   \n",
       "\n",
       "     Power (hp)  Engine cylinder Engine stroke  Gearbox  Bore (mm)  \\\n",
       "358        12.5  Single cylinder   four-stroke  5-speed       56.5   \n",
       "359        12.4  Single cylinder   four-stroke  5-speed       56.5   \n",
       "362        12.6  Single cylinder   four-stroke  5-speed        NaN   \n",
       "366        14.8  Single cylinder   four-stroke  5-speed        NaN   \n",
       "367        12.7  Single cylinder   four-stroke  5-speed       56.5   \n",
       "\n",
       "     Stroke (mm)  Fuel capacity (lts)                 Fuel control  \\\n",
       "358         49.5                  8.0  Single Overhead Cams (SOHC)   \n",
       "359         49.5                  8.0  Single Overhead Cams (SOHC)   \n",
       "362          NaN                  7.0          Overhead Cams (OHC)   \n",
       "366          NaN                  9.0          Overhead Cams (OHC)   \n",
       "367         49.5                  8.0  Single Overhead Cams (SOHC)   \n",
       "\n",
       "    Cooling system Transmission type  Dry weight (kg)  Wheelbase (mm)  \\\n",
       "358            Air             Chain            105.0          1410.0   \n",
       "359            Air               NaN            105.0          1410.0   \n",
       "362            Air             Chain            105.0          1380.0   \n",
       "366            Air             Chain             99.0          1410.0   \n",
       "367            Air               NaN            101.0          1410.0   \n",
       "\n",
       "     Seat height (mm) Front brakes  Rating_  \n",
       "358             910.0  Single disc      0.0  \n",
       "359             910.0  Single disc      0.0  \n",
       "362             920.0  Single disc      0.0  \n",
       "366             850.0  Single disc      0.0  \n",
       "367             905.0  Single disc      1.0  "
      ]
     },
     "execution_count": 41,
     "metadata": {},
     "output_type": "execute_result"
    }
   ],
   "source": [
    "df = df.drop(columns = 'Torque (Nm)', axis = 1)\n",
    "df.head()"
   ]
  },
  {
   "cell_type": "markdown",
   "metadata": {},
   "source": [
    "### If the value is null, it has to go\n",
    "After careful consideration it would seem in our best interest to get the most complete data that we can. "
   ]
  },
  {
   "cell_type": "code",
   "execution_count": 42,
   "metadata": {},
   "outputs": [],
   "source": [
    "# Drop null values data that we intend on using for modeling\n",
    "df = df.dropna(subset =['Power (hp)', 'Engine cylinder', 'Engine stroke', 'Gearbox', 'Bore (mm)', 'Stroke (mm)',\n",
    "                       'Fuel capacity (lts)',  'Cooling system', 'Transmission type', \n",
    "                       'Dry weight (kg)', 'Wheelbase (mm)', 'Seat height (mm)', 'Rating_'])"
   ]
  },
  {
   "cell_type": "code",
   "execution_count": 43,
   "metadata": {},
   "outputs": [
    {
     "data": {
      "text/html": [
       "<div>\n",
       "<style scoped>\n",
       "    .dataframe tbody tr th:only-of-type {\n",
       "        vertical-align: middle;\n",
       "    }\n",
       "\n",
       "    .dataframe tbody tr th {\n",
       "        vertical-align: top;\n",
       "    }\n",
       "\n",
       "    .dataframe thead th {\n",
       "        text-align: right;\n",
       "    }\n",
       "</style>\n",
       "<table border=\"1\" class=\"dataframe\">\n",
       "  <thead>\n",
       "    <tr style=\"text-align: right;\">\n",
       "      <th></th>\n",
       "      <th>Brand</th>\n",
       "      <th>Model</th>\n",
       "      <th>Year</th>\n",
       "      <th>Category</th>\n",
       "      <th>Displacement (ccm)</th>\n",
       "      <th>Power (hp)</th>\n",
       "      <th>Engine cylinder</th>\n",
       "      <th>Engine stroke</th>\n",
       "      <th>Gearbox</th>\n",
       "      <th>Bore (mm)</th>\n",
       "      <th>Stroke (mm)</th>\n",
       "      <th>Fuel capacity (lts)</th>\n",
       "      <th>Fuel control</th>\n",
       "      <th>Cooling system</th>\n",
       "      <th>Transmission type</th>\n",
       "      <th>Dry weight (kg)</th>\n",
       "      <th>Wheelbase (mm)</th>\n",
       "      <th>Seat height (mm)</th>\n",
       "      <th>Front brakes</th>\n",
       "      <th>Rating_</th>\n",
       "    </tr>\n",
       "  </thead>\n",
       "  <tbody>\n",
       "    <tr>\n",
       "      <th>358</th>\n",
       "      <td>ajp</td>\n",
       "      <td>pr4 125 enduro</td>\n",
       "      <td>2006.0</td>\n",
       "      <td>Enduro / offroad</td>\n",
       "      <td>124.0</td>\n",
       "      <td>12.5</td>\n",
       "      <td>Single cylinder</td>\n",
       "      <td>four-stroke</td>\n",
       "      <td>5-speed</td>\n",
       "      <td>56.5</td>\n",
       "      <td>49.5</td>\n",
       "      <td>8.0</td>\n",
       "      <td>Single Overhead Cams (SOHC)</td>\n",
       "      <td>Air</td>\n",
       "      <td>Chain</td>\n",
       "      <td>105.0</td>\n",
       "      <td>1410.0</td>\n",
       "      <td>910.0</td>\n",
       "      <td>Single disc</td>\n",
       "      <td>0.0</td>\n",
       "    </tr>\n",
       "    <tr>\n",
       "      <th>373</th>\n",
       "      <td>ajp</td>\n",
       "      <td>pr4 200 enduro</td>\n",
       "      <td>2007.0</td>\n",
       "      <td>Enduro / offroad</td>\n",
       "      <td>198.2</td>\n",
       "      <td>18.0</td>\n",
       "      <td>Single cylinder</td>\n",
       "      <td>four-stroke</td>\n",
       "      <td>5-speed</td>\n",
       "      <td>69.0</td>\n",
       "      <td>53.0</td>\n",
       "      <td>8.0</td>\n",
       "      <td>Single Overhead Cams (SOHC)</td>\n",
       "      <td>Oil &amp; air</td>\n",
       "      <td>Chain</td>\n",
       "      <td>105.0</td>\n",
       "      <td>1410.0</td>\n",
       "      <td>910.0</td>\n",
       "      <td>Single disc</td>\n",
       "      <td>0.0</td>\n",
       "    </tr>\n",
       "    <tr>\n",
       "      <th>416</th>\n",
       "      <td>ajs</td>\n",
       "      <td>125 eco commuter</td>\n",
       "      <td>2011.0</td>\n",
       "      <td>Allround</td>\n",
       "      <td>124.0</td>\n",
       "      <td>10.1</td>\n",
       "      <td>Single cylinder</td>\n",
       "      <td>four-stroke</td>\n",
       "      <td>5-speed</td>\n",
       "      <td>54.0</td>\n",
       "      <td>54.0</td>\n",
       "      <td>10.0</td>\n",
       "      <td>Overhead Cams (OHC)</td>\n",
       "      <td>Air</td>\n",
       "      <td>Chain</td>\n",
       "      <td>114.0</td>\n",
       "      <td>1080.0</td>\n",
       "      <td>760.0</td>\n",
       "      <td>Single disc</td>\n",
       "      <td>0.0</td>\n",
       "    </tr>\n",
       "    <tr>\n",
       "      <th>445</th>\n",
       "      <td>ajs</td>\n",
       "      <td>eco-3</td>\n",
       "      <td>2016.0</td>\n",
       "      <td>Allround</td>\n",
       "      <td>124.0</td>\n",
       "      <td>10.1</td>\n",
       "      <td>Single cylinder</td>\n",
       "      <td>four-stroke</td>\n",
       "      <td>5-speed</td>\n",
       "      <td>54.0</td>\n",
       "      <td>54.0</td>\n",
       "      <td>10.0</td>\n",
       "      <td>Overhead Cams (OHC)</td>\n",
       "      <td>Air</td>\n",
       "      <td>Chain</td>\n",
       "      <td>110.0</td>\n",
       "      <td>1275.0</td>\n",
       "      <td>760.0</td>\n",
       "      <td>Single disc</td>\n",
       "      <td>0.0</td>\n",
       "    </tr>\n",
       "    <tr>\n",
       "      <th>471</th>\n",
       "      <td>ajs</td>\n",
       "      <td>jsm 50 motard</td>\n",
       "      <td>2012.0</td>\n",
       "      <td>Super motard</td>\n",
       "      <td>49.3</td>\n",
       "      <td>4.7</td>\n",
       "      <td>Single cylinder</td>\n",
       "      <td>two-stroke</td>\n",
       "      <td>6-speed</td>\n",
       "      <td>40.0</td>\n",
       "      <td>39.2</td>\n",
       "      <td>8.5</td>\n",
       "      <td>Overhead Cams (OHC)</td>\n",
       "      <td>Liquid</td>\n",
       "      <td>Chain</td>\n",
       "      <td>105.0</td>\n",
       "      <td>1400.0</td>\n",
       "      <td>820.0</td>\n",
       "      <td>Single disc</td>\n",
       "      <td>1.0</td>\n",
       "    </tr>\n",
       "  </tbody>\n",
       "</table>\n",
       "</div>"
      ],
      "text/plain": [
       "    Brand             Model    Year          Category  Displacement (ccm)  \\\n",
       "358   ajp    pr4 125 enduro  2006.0  Enduro / offroad               124.0   \n",
       "373   ajp    pr4 200 enduro  2007.0  Enduro / offroad               198.2   \n",
       "416   ajs  125 eco commuter  2011.0          Allround               124.0   \n",
       "445   ajs             eco-3  2016.0          Allround               124.0   \n",
       "471   ajs     jsm 50 motard  2012.0      Super motard                49.3   \n",
       "\n",
       "     Power (hp)  Engine cylinder Engine stroke  Gearbox  Bore (mm)  \\\n",
       "358        12.5  Single cylinder   four-stroke  5-speed       56.5   \n",
       "373        18.0  Single cylinder   four-stroke  5-speed       69.0   \n",
       "416        10.1  Single cylinder   four-stroke  5-speed       54.0   \n",
       "445        10.1  Single cylinder   four-stroke  5-speed       54.0   \n",
       "471         4.7  Single cylinder    two-stroke  6-speed       40.0   \n",
       "\n",
       "     Stroke (mm)  Fuel capacity (lts)                 Fuel control  \\\n",
       "358         49.5                  8.0  Single Overhead Cams (SOHC)   \n",
       "373         53.0                  8.0  Single Overhead Cams (SOHC)   \n",
       "416         54.0                 10.0          Overhead Cams (OHC)   \n",
       "445         54.0                 10.0          Overhead Cams (OHC)   \n",
       "471         39.2                  8.5          Overhead Cams (OHC)   \n",
       "\n",
       "    Cooling system Transmission type  Dry weight (kg)  Wheelbase (mm)  \\\n",
       "358            Air             Chain            105.0          1410.0   \n",
       "373      Oil & air             Chain            105.0          1410.0   \n",
       "416            Air             Chain            114.0          1080.0   \n",
       "445            Air             Chain            110.0          1275.0   \n",
       "471         Liquid             Chain            105.0          1400.0   \n",
       "\n",
       "     Seat height (mm) Front brakes  Rating_  \n",
       "358             910.0  Single disc      0.0  \n",
       "373             910.0  Single disc      0.0  \n",
       "416             760.0  Single disc      0.0  \n",
       "445             760.0  Single disc      0.0  \n",
       "471             820.0  Single disc      1.0  "
      ]
     },
     "execution_count": 43,
     "metadata": {},
     "output_type": "execute_result"
    }
   ],
   "source": [
    "# Preview our new dataset\n",
    "df.head()"
   ]
  },
  {
   "cell_type": "code",
   "execution_count": 44,
   "metadata": {
    "scrolled": false
   },
   "outputs": [
    {
     "name": "stdout",
     "output_type": "stream",
     "text": [
      "<class 'pandas.core.frame.DataFrame'>\n",
      "Int64Index: 516 entries, 358 to 20911\n",
      "Data columns (total 20 columns):\n",
      " #   Column               Non-Null Count  Dtype  \n",
      "---  ------               --------------  -----  \n",
      " 0   Brand                516 non-null    object \n",
      " 1   Model                516 non-null    object \n",
      " 2   Year                 516 non-null    float64\n",
      " 3   Category             516 non-null    object \n",
      " 4   Displacement (ccm)   516 non-null    float64\n",
      " 5   Power (hp)           516 non-null    float64\n",
      " 6   Engine cylinder      516 non-null    object \n",
      " 7   Engine stroke        516 non-null    object \n",
      " 8   Gearbox              516 non-null    object \n",
      " 9   Bore (mm)            516 non-null    float64\n",
      " 10  Stroke (mm)          516 non-null    float64\n",
      " 11  Fuel capacity (lts)  516 non-null    float64\n",
      " 12  Fuel control         516 non-null    object \n",
      " 13  Cooling system       516 non-null    object \n",
      " 14  Transmission type    516 non-null    object \n",
      " 15  Dry weight (kg)      516 non-null    float64\n",
      " 16  Wheelbase (mm)       516 non-null    float64\n",
      " 17  Seat height (mm)     516 non-null    float64\n",
      " 18  Front brakes         516 non-null    object \n",
      " 19  Rating_              516 non-null    float64\n",
      "dtypes: float64(10), object(10)\n",
      "memory usage: 84.7+ KB\n"
     ]
    }
   ],
   "source": [
    "# Information on our new dataset\n",
    "df.info()"
   ]
  },
  {
   "cell_type": "markdown",
   "metadata": {},
   "source": [
    "### Correlation to 'Rating_'"
   ]
  },
  {
   "cell_type": "code",
   "execution_count": 45,
   "metadata": {},
   "outputs": [],
   "source": [
    "# What categories are highly correlated to 'Rating_'? \n",
    "preds = []\n",
    "for i in df.corr()['Rating_'].index:\n",
    "    if abs(df.corr()['Rating_'][i]) > 0:\n",
    "        preds.append(i)"
   ]
  },
  {
   "cell_type": "code",
   "execution_count": 46,
   "metadata": {
    "scrolled": true
   },
   "outputs": [
    {
     "data": {
      "text/html": [
       "<div>\n",
       "<style scoped>\n",
       "    .dataframe tbody tr th:only-of-type {\n",
       "        vertical-align: middle;\n",
       "    }\n",
       "\n",
       "    .dataframe tbody tr th {\n",
       "        vertical-align: top;\n",
       "    }\n",
       "\n",
       "    .dataframe thead th {\n",
       "        text-align: right;\n",
       "    }\n",
       "</style>\n",
       "<table border=\"1\" class=\"dataframe\">\n",
       "  <thead>\n",
       "    <tr style=\"text-align: right;\">\n",
       "      <th></th>\n",
       "      <th>Year</th>\n",
       "      <th>Displacement (ccm)</th>\n",
       "      <th>Power (hp)</th>\n",
       "      <th>Bore (mm)</th>\n",
       "      <th>Stroke (mm)</th>\n",
       "      <th>Fuel capacity (lts)</th>\n",
       "      <th>Dry weight (kg)</th>\n",
       "      <th>Wheelbase (mm)</th>\n",
       "      <th>Seat height (mm)</th>\n",
       "      <th>Rating_</th>\n",
       "    </tr>\n",
       "  </thead>\n",
       "  <tbody>\n",
       "    <tr>\n",
       "      <th>Year</th>\n",
       "      <td>1.000000</td>\n",
       "      <td>-0.337349</td>\n",
       "      <td>-0.257630</td>\n",
       "      <td>-0.284521</td>\n",
       "      <td>-0.238690</td>\n",
       "      <td>-0.151144</td>\n",
       "      <td>-0.302834</td>\n",
       "      <td>-0.173680</td>\n",
       "      <td>-0.099380</td>\n",
       "      <td>-0.028520</td>\n",
       "    </tr>\n",
       "    <tr>\n",
       "      <th>Displacement (ccm)</th>\n",
       "      <td>-0.337349</td>\n",
       "      <td>1.000000</td>\n",
       "      <td>0.857028</td>\n",
       "      <td>0.787990</td>\n",
       "      <td>0.614096</td>\n",
       "      <td>0.532286</td>\n",
       "      <td>0.766003</td>\n",
       "      <td>0.462317</td>\n",
       "      <td>0.148615</td>\n",
       "      <td>0.087513</td>\n",
       "    </tr>\n",
       "    <tr>\n",
       "      <th>Power (hp)</th>\n",
       "      <td>-0.257630</td>\n",
       "      <td>0.857028</td>\n",
       "      <td>1.000000</td>\n",
       "      <td>0.681644</td>\n",
       "      <td>0.281906</td>\n",
       "      <td>0.461287</td>\n",
       "      <td>0.543885</td>\n",
       "      <td>0.266603</td>\n",
       "      <td>0.227292</td>\n",
       "      <td>0.038587</td>\n",
       "    </tr>\n",
       "    <tr>\n",
       "      <th>Bore (mm)</th>\n",
       "      <td>-0.284521</td>\n",
       "      <td>0.787990</td>\n",
       "      <td>0.681644</td>\n",
       "      <td>1.000000</td>\n",
       "      <td>0.668311</td>\n",
       "      <td>0.289990</td>\n",
       "      <td>0.407443</td>\n",
       "      <td>0.314528</td>\n",
       "      <td>0.430651</td>\n",
       "      <td>0.093688</td>\n",
       "    </tr>\n",
       "    <tr>\n",
       "      <th>Stroke (mm)</th>\n",
       "      <td>-0.238690</td>\n",
       "      <td>0.614096</td>\n",
       "      <td>0.281906</td>\n",
       "      <td>0.668311</td>\n",
       "      <td>1.000000</td>\n",
       "      <td>0.179734</td>\n",
       "      <td>0.475017</td>\n",
       "      <td>0.335401</td>\n",
       "      <td>0.083302</td>\n",
       "      <td>0.068971</td>\n",
       "    </tr>\n",
       "    <tr>\n",
       "      <th>Fuel capacity (lts)</th>\n",
       "      <td>-0.151144</td>\n",
       "      <td>0.532286</td>\n",
       "      <td>0.461287</td>\n",
       "      <td>0.289990</td>\n",
       "      <td>0.179734</td>\n",
       "      <td>1.000000</td>\n",
       "      <td>0.624825</td>\n",
       "      <td>0.318021</td>\n",
       "      <td>-0.015831</td>\n",
       "      <td>0.072827</td>\n",
       "    </tr>\n",
       "    <tr>\n",
       "      <th>Dry weight (kg)</th>\n",
       "      <td>-0.302834</td>\n",
       "      <td>0.766003</td>\n",
       "      <td>0.543885</td>\n",
       "      <td>0.407443</td>\n",
       "      <td>0.475017</td>\n",
       "      <td>0.624825</td>\n",
       "      <td>1.000000</td>\n",
       "      <td>0.642187</td>\n",
       "      <td>-0.234611</td>\n",
       "      <td>0.079371</td>\n",
       "    </tr>\n",
       "    <tr>\n",
       "      <th>Wheelbase (mm)</th>\n",
       "      <td>-0.173680</td>\n",
       "      <td>0.462317</td>\n",
       "      <td>0.266603</td>\n",
       "      <td>0.314528</td>\n",
       "      <td>0.335401</td>\n",
       "      <td>0.318021</td>\n",
       "      <td>0.642187</td>\n",
       "      <td>1.000000</td>\n",
       "      <td>-0.113196</td>\n",
       "      <td>0.035608</td>\n",
       "    </tr>\n",
       "    <tr>\n",
       "      <th>Seat height (mm)</th>\n",
       "      <td>-0.099380</td>\n",
       "      <td>0.148615</td>\n",
       "      <td>0.227292</td>\n",
       "      <td>0.430651</td>\n",
       "      <td>0.083302</td>\n",
       "      <td>-0.015831</td>\n",
       "      <td>-0.234611</td>\n",
       "      <td>-0.113196</td>\n",
       "      <td>1.000000</td>\n",
       "      <td>-0.055325</td>\n",
       "    </tr>\n",
       "    <tr>\n",
       "      <th>Rating_</th>\n",
       "      <td>-0.028520</td>\n",
       "      <td>0.087513</td>\n",
       "      <td>0.038587</td>\n",
       "      <td>0.093688</td>\n",
       "      <td>0.068971</td>\n",
       "      <td>0.072827</td>\n",
       "      <td>0.079371</td>\n",
       "      <td>0.035608</td>\n",
       "      <td>-0.055325</td>\n",
       "      <td>1.000000</td>\n",
       "    </tr>\n",
       "  </tbody>\n",
       "</table>\n",
       "</div>"
      ],
      "text/plain": [
       "                         Year  Displacement (ccm)  Power (hp)  Bore (mm)  \\\n",
       "Year                 1.000000           -0.337349   -0.257630  -0.284521   \n",
       "Displacement (ccm)  -0.337349            1.000000    0.857028   0.787990   \n",
       "Power (hp)          -0.257630            0.857028    1.000000   0.681644   \n",
       "Bore (mm)           -0.284521            0.787990    0.681644   1.000000   \n",
       "Stroke (mm)         -0.238690            0.614096    0.281906   0.668311   \n",
       "Fuel capacity (lts) -0.151144            0.532286    0.461287   0.289990   \n",
       "Dry weight (kg)     -0.302834            0.766003    0.543885   0.407443   \n",
       "Wheelbase (mm)      -0.173680            0.462317    0.266603   0.314528   \n",
       "Seat height (mm)    -0.099380            0.148615    0.227292   0.430651   \n",
       "Rating_             -0.028520            0.087513    0.038587   0.093688   \n",
       "\n",
       "                     Stroke (mm)  Fuel capacity (lts)  Dry weight (kg)  \\\n",
       "Year                   -0.238690            -0.151144        -0.302834   \n",
       "Displacement (ccm)      0.614096             0.532286         0.766003   \n",
       "Power (hp)              0.281906             0.461287         0.543885   \n",
       "Bore (mm)               0.668311             0.289990         0.407443   \n",
       "Stroke (mm)             1.000000             0.179734         0.475017   \n",
       "Fuel capacity (lts)     0.179734             1.000000         0.624825   \n",
       "Dry weight (kg)         0.475017             0.624825         1.000000   \n",
       "Wheelbase (mm)          0.335401             0.318021         0.642187   \n",
       "Seat height (mm)        0.083302            -0.015831        -0.234611   \n",
       "Rating_                 0.068971             0.072827         0.079371   \n",
       "\n",
       "                     Wheelbase (mm)  Seat height (mm)   Rating_  \n",
       "Year                      -0.173680         -0.099380 -0.028520  \n",
       "Displacement (ccm)         0.462317          0.148615  0.087513  \n",
       "Power (hp)                 0.266603          0.227292  0.038587  \n",
       "Bore (mm)                  0.314528          0.430651  0.093688  \n",
       "Stroke (mm)                0.335401          0.083302  0.068971  \n",
       "Fuel capacity (lts)        0.318021         -0.015831  0.072827  \n",
       "Dry weight (kg)            0.642187         -0.234611  0.079371  \n",
       "Wheelbase (mm)             1.000000         -0.113196  0.035608  \n",
       "Seat height (mm)          -0.113196          1.000000 -0.055325  \n",
       "Rating_                    0.035608         -0.055325  1.000000  "
      ]
     },
     "execution_count": 46,
     "metadata": {},
     "output_type": "execute_result"
    }
   ],
   "source": [
    "# Correlation to 'Rating', all null values removed\n",
    "df[preds].corr()"
   ]
  },
  {
   "cell_type": "markdown",
   "metadata": {},
   "source": [
    "To round out our preprocessing step, we should take out any unnecessary information, like 'Brand' and 'Model'.  "
   ]
  },
  {
   "cell_type": "code",
   "execution_count": 47,
   "metadata": {},
   "outputs": [],
   "source": [
    "# Drop df['Brand']\n",
    "df = df.drop(columns = 'Brand', axis =1)"
   ]
  },
  {
   "cell_type": "code",
   "execution_count": 48,
   "metadata": {},
   "outputs": [],
   "source": [
    "# Drop df['Model']\n",
    "df = df.drop(columns = 'Model', axis =1)"
   ]
  },
  {
   "cell_type": "code",
   "execution_count": 49,
   "metadata": {},
   "outputs": [],
   "source": [
    "# Drop df['Year']\n",
    "df = df.drop(columns = 'Year', axis =1)"
   ]
  },
  {
   "cell_type": "markdown",
   "metadata": {},
   "source": [
    "<div class=\"alert alert-block alert-info\">\n",
    "Now that we have pruned all null information from our data set let's address remaining categorical data by dummying them. "
   ]
  },
  {
   "cell_type": "markdown",
   "metadata": {},
   "source": [
    "### Dummy categorical columns\n",
    "\n",
    "Let's split our data into a categorical variable and dummy them into binary columns."
   ]
  },
  {
   "cell_type": "code",
   "execution_count": 50,
   "metadata": {
    "scrolled": true
   },
   "outputs": [
    {
     "data": {
      "text/html": [
       "<div>\n",
       "<style scoped>\n",
       "    .dataframe tbody tr th:only-of-type {\n",
       "        vertical-align: middle;\n",
       "    }\n",
       "\n",
       "    .dataframe tbody tr th {\n",
       "        vertical-align: top;\n",
       "    }\n",
       "\n",
       "    .dataframe thead th {\n",
       "        text-align: right;\n",
       "    }\n",
       "</style>\n",
       "<table border=\"1\" class=\"dataframe\">\n",
       "  <thead>\n",
       "    <tr style=\"text-align: right;\">\n",
       "      <th></th>\n",
       "      <th>Displacement (ccm)</th>\n",
       "      <th>Power (hp)</th>\n",
       "      <th>Bore (mm)</th>\n",
       "      <th>Fuel capacity (lts)</th>\n",
       "      <th>Dry weight (kg)</th>\n",
       "      <th>Wheelbase (mm)</th>\n",
       "      <th>Seat height (mm)</th>\n",
       "      <th>Rating_</th>\n",
       "      <th>Category_Allround</th>\n",
       "      <th>Category_Classic</th>\n",
       "      <th>...</th>\n",
       "      <th>Transmission type_Chain</th>\n",
       "      <th>Transmission type_Shaft drive</th>\n",
       "      <th>Fuel control_Desmodromic valve control</th>\n",
       "      <th>Fuel control_Double Overhead Cams/Twin Cam (DOHC)</th>\n",
       "      <th>Fuel control_Overhead Cams (OHC)</th>\n",
       "      <th>Fuel control_Overhead Valves (OHV)</th>\n",
       "      <th>Fuel control_Single Overhead Cams (SOHC)</th>\n",
       "      <th>Front brakes_Double disc</th>\n",
       "      <th>Front brakes_Dual disc</th>\n",
       "      <th>Front brakes_Single disc</th>\n",
       "    </tr>\n",
       "  </thead>\n",
       "  <tbody>\n",
       "    <tr>\n",
       "      <th>358</th>\n",
       "      <td>124.0</td>\n",
       "      <td>12.5</td>\n",
       "      <td>56.5</td>\n",
       "      <td>8.0</td>\n",
       "      <td>105.0</td>\n",
       "      <td>1410.0</td>\n",
       "      <td>910.0</td>\n",
       "      <td>0.0</td>\n",
       "      <td>0</td>\n",
       "      <td>0</td>\n",
       "      <td>...</td>\n",
       "      <td>1</td>\n",
       "      <td>0</td>\n",
       "      <td>0</td>\n",
       "      <td>0</td>\n",
       "      <td>0</td>\n",
       "      <td>0</td>\n",
       "      <td>1</td>\n",
       "      <td>0</td>\n",
       "      <td>0</td>\n",
       "      <td>1</td>\n",
       "    </tr>\n",
       "    <tr>\n",
       "      <th>373</th>\n",
       "      <td>198.2</td>\n",
       "      <td>18.0</td>\n",
       "      <td>69.0</td>\n",
       "      <td>8.0</td>\n",
       "      <td>105.0</td>\n",
       "      <td>1410.0</td>\n",
       "      <td>910.0</td>\n",
       "      <td>0.0</td>\n",
       "      <td>0</td>\n",
       "      <td>0</td>\n",
       "      <td>...</td>\n",
       "      <td>1</td>\n",
       "      <td>0</td>\n",
       "      <td>0</td>\n",
       "      <td>0</td>\n",
       "      <td>0</td>\n",
       "      <td>0</td>\n",
       "      <td>1</td>\n",
       "      <td>0</td>\n",
       "      <td>0</td>\n",
       "      <td>1</td>\n",
       "    </tr>\n",
       "    <tr>\n",
       "      <th>416</th>\n",
       "      <td>124.0</td>\n",
       "      <td>10.1</td>\n",
       "      <td>54.0</td>\n",
       "      <td>10.0</td>\n",
       "      <td>114.0</td>\n",
       "      <td>1080.0</td>\n",
       "      <td>760.0</td>\n",
       "      <td>0.0</td>\n",
       "      <td>1</td>\n",
       "      <td>0</td>\n",
       "      <td>...</td>\n",
       "      <td>1</td>\n",
       "      <td>0</td>\n",
       "      <td>0</td>\n",
       "      <td>0</td>\n",
       "      <td>1</td>\n",
       "      <td>0</td>\n",
       "      <td>0</td>\n",
       "      <td>0</td>\n",
       "      <td>0</td>\n",
       "      <td>1</td>\n",
       "    </tr>\n",
       "    <tr>\n",
       "      <th>445</th>\n",
       "      <td>124.0</td>\n",
       "      <td>10.1</td>\n",
       "      <td>54.0</td>\n",
       "      <td>10.0</td>\n",
       "      <td>110.0</td>\n",
       "      <td>1275.0</td>\n",
       "      <td>760.0</td>\n",
       "      <td>0.0</td>\n",
       "      <td>1</td>\n",
       "      <td>0</td>\n",
       "      <td>...</td>\n",
       "      <td>1</td>\n",
       "      <td>0</td>\n",
       "      <td>0</td>\n",
       "      <td>0</td>\n",
       "      <td>1</td>\n",
       "      <td>0</td>\n",
       "      <td>0</td>\n",
       "      <td>0</td>\n",
       "      <td>0</td>\n",
       "      <td>1</td>\n",
       "    </tr>\n",
       "    <tr>\n",
       "      <th>471</th>\n",
       "      <td>49.3</td>\n",
       "      <td>4.7</td>\n",
       "      <td>40.0</td>\n",
       "      <td>8.5</td>\n",
       "      <td>105.0</td>\n",
       "      <td>1400.0</td>\n",
       "      <td>820.0</td>\n",
       "      <td>1.0</td>\n",
       "      <td>0</td>\n",
       "      <td>0</td>\n",
       "      <td>...</td>\n",
       "      <td>1</td>\n",
       "      <td>0</td>\n",
       "      <td>0</td>\n",
       "      <td>0</td>\n",
       "      <td>1</td>\n",
       "      <td>0</td>\n",
       "      <td>0</td>\n",
       "      <td>0</td>\n",
       "      <td>0</td>\n",
       "      <td>1</td>\n",
       "    </tr>\n",
       "  </tbody>\n",
       "</table>\n",
       "<p>5 rows × 133 columns</p>\n",
       "</div>"
      ],
      "text/plain": [
       "     Displacement (ccm)  Power (hp)  Bore (mm)  Fuel capacity (lts)  \\\n",
       "358               124.0        12.5       56.5                  8.0   \n",
       "373               198.2        18.0       69.0                  8.0   \n",
       "416               124.0        10.1       54.0                 10.0   \n",
       "445               124.0        10.1       54.0                 10.0   \n",
       "471                49.3         4.7       40.0                  8.5   \n",
       "\n",
       "     Dry weight (kg)  Wheelbase (mm)  Seat height (mm)  Rating_  \\\n",
       "358            105.0          1410.0             910.0      0.0   \n",
       "373            105.0          1410.0             910.0      0.0   \n",
       "416            114.0          1080.0             760.0      0.0   \n",
       "445            110.0          1275.0             760.0      0.0   \n",
       "471            105.0          1400.0             820.0      1.0   \n",
       "\n",
       "     Category_Allround  Category_Classic  ...  Transmission type_Chain  \\\n",
       "358                  0                 0  ...                        1   \n",
       "373                  0                 0  ...                        1   \n",
       "416                  1                 0  ...                        1   \n",
       "445                  1                 0  ...                        1   \n",
       "471                  0                 0  ...                        1   \n",
       "\n",
       "     Transmission type_Shaft drive  Fuel control_Desmodromic valve control  \\\n",
       "358                              0                                       0   \n",
       "373                              0                                       0   \n",
       "416                              0                                       0   \n",
       "445                              0                                       0   \n",
       "471                              0                                       0   \n",
       "\n",
       "     Fuel control_Double Overhead Cams/Twin Cam (DOHC)  \\\n",
       "358                                                  0   \n",
       "373                                                  0   \n",
       "416                                                  0   \n",
       "445                                                  0   \n",
       "471                                                  0   \n",
       "\n",
       "     Fuel control_Overhead Cams (OHC)  Fuel control_Overhead Valves (OHV)  \\\n",
       "358                                 0                                   0   \n",
       "373                                 0                                   0   \n",
       "416                                 1                                   0   \n",
       "445                                 1                                   0   \n",
       "471                                 1                                   0   \n",
       "\n",
       "     Fuel control_Single Overhead Cams (SOHC)  Front brakes_Double disc  \\\n",
       "358                                         1                         0   \n",
       "373                                         1                         0   \n",
       "416                                         0                         0   \n",
       "445                                         0                         0   \n",
       "471                                         0                         0   \n",
       "\n",
       "     Front brakes_Dual disc  Front brakes_Single disc  \n",
       "358                       0                         1  \n",
       "373                       0                         1  \n",
       "416                       0                         1  \n",
       "445                       0                         1  \n",
       "471                       0                         1  \n",
       "\n",
       "[5 rows x 133 columns]"
      ]
     },
     "execution_count": 50,
     "metadata": {},
     "output_type": "execute_result"
    }
   ],
   "source": [
    "# Categorical/object columns can be found from df.info(), above\n",
    "categoricals = ['Category','Engine cylinder', 'Engine stroke', 'Gearbox', 'Stroke (mm)', \n",
    "                'Cooling system', 'Transmission type', 'Fuel control', 'Front brakes'\n",
    "                ]\n",
    "\n",
    "# Our dataframe needs to be encoded. OHE can also be utilized, for this time we will use \n",
    "# pd.get_dummies()\n",
    "df = pd.get_dummies(df, columns=categoricals)\n",
    "# Preview our dummied columns\n",
    "df.head()"
   ]
  },
  {
   "cell_type": "markdown",
   "metadata": {},
   "source": [
    "<div class=\"alert alert-block alert-success\">\n",
    "It looks like our columns were successfully dummied. Now we will need to split our data for modeling. \n",
    "</div>"
   ]
  },
  {
   "cell_type": "markdown",
   "metadata": {},
   "source": [
    "### train_test_split\n"
   ]
  },
  {
   "cell_type": "code",
   "execution_count": 51,
   "metadata": {},
   "outputs": [],
   "source": [
    "# target is 'y'\n",
    "target = df['Rating_']\n",
    "# X is the new name that we will use for our data. For testing purposes we may re-use \n",
    "#'df' if it produces better results.\n",
    "X = df.drop(columns = 'Rating_', axis =1)"
   ]
  },
  {
   "cell_type": "code",
   "execution_count": 52,
   "metadata": {},
   "outputs": [],
   "source": [
    "#import train_test_split\n",
    "from sklearn.model_selection import train_test_split\n",
    "\n",
    "# Create variables for modeling\n",
    "X_train, X_test, y_train, y_test = train_test_split (X, target, random_state = 42)"
   ]
  },
  {
   "cell_type": "markdown",
   "metadata": {},
   "source": [
    "## Feature Selection:\n",
    "Even though we have a target variable of boolean value (0 or 1), it is a great idea for our purposes to run a LinearRegression() model to find our best set of variables."
   ]
  },
  {
   "cell_type": "code",
   "execution_count": 53,
   "metadata": {},
   "outputs": [
    {
     "data": {
      "text/html": [
       "<div>\n",
       "<style scoped>\n",
       "    .dataframe tbody tr th:only-of-type {\n",
       "        vertical-align: middle;\n",
       "    }\n",
       "\n",
       "    .dataframe tbody tr th {\n",
       "        vertical-align: top;\n",
       "    }\n",
       "\n",
       "    .dataframe thead th {\n",
       "        text-align: right;\n",
       "    }\n",
       "</style>\n",
       "<table border=\"1\" class=\"dataframe\">\n",
       "  <thead>\n",
       "    <tr style=\"text-align: right;\">\n",
       "      <th></th>\n",
       "      <th>Displacement (ccm)</th>\n",
       "      <th>Power (hp)</th>\n",
       "      <th>Bore (mm)</th>\n",
       "      <th>Fuel capacity (lts)</th>\n",
       "      <th>Dry weight (kg)</th>\n",
       "      <th>Wheelbase (mm)</th>\n",
       "      <th>Seat height (mm)</th>\n",
       "      <th>Category_Allround</th>\n",
       "      <th>Category_Classic</th>\n",
       "      <th>Category_Cross / motocross</th>\n",
       "      <th>...</th>\n",
       "      <th>Transmission type_Chain</th>\n",
       "      <th>Transmission type_Shaft drive</th>\n",
       "      <th>Fuel control_Desmodromic valve control</th>\n",
       "      <th>Fuel control_Double Overhead Cams/Twin Cam (DOHC)</th>\n",
       "      <th>Fuel control_Overhead Cams (OHC)</th>\n",
       "      <th>Fuel control_Overhead Valves (OHV)</th>\n",
       "      <th>Fuel control_Single Overhead Cams (SOHC)</th>\n",
       "      <th>Front brakes_Double disc</th>\n",
       "      <th>Front brakes_Dual disc</th>\n",
       "      <th>Front brakes_Single disc</th>\n",
       "    </tr>\n",
       "  </thead>\n",
       "  <tbody>\n",
       "    <tr>\n",
       "      <th>0</th>\n",
       "      <td>1.561636</td>\n",
       "      <td>2.274465</td>\n",
       "      <td>-0.021105</td>\n",
       "      <td>0.773357</td>\n",
       "      <td>0.802435</td>\n",
       "      <td>1.368266</td>\n",
       "      <td>0.311241</td>\n",
       "      <td>-0.257130</td>\n",
       "      <td>-0.154303</td>\n",
       "      <td>-0.072075</td>\n",
       "      <td>...</td>\n",
       "      <td>-2.128044</td>\n",
       "      <td>2.626397</td>\n",
       "      <td>-0.502421</td>\n",
       "      <td>1.277753</td>\n",
       "      <td>-0.38075</td>\n",
       "      <td>-0.305320</td>\n",
       "      <td>-0.510477</td>\n",
       "      <td>0.862116</td>\n",
       "      <td>-0.072075</td>\n",
       "      <td>-0.853041</td>\n",
       "    </tr>\n",
       "    <tr>\n",
       "      <th>1</th>\n",
       "      <td>-0.195011</td>\n",
       "      <td>0.179278</td>\n",
       "      <td>-0.732760</td>\n",
       "      <td>1.011610</td>\n",
       "      <td>0.908778</td>\n",
       "      <td>0.351648</td>\n",
       "      <td>-0.248398</td>\n",
       "      <td>-0.257130</td>\n",
       "      <td>-0.154303</td>\n",
       "      <td>-0.072075</td>\n",
       "      <td>...</td>\n",
       "      <td>0.469915</td>\n",
       "      <td>-0.380750</td>\n",
       "      <td>-0.502421</td>\n",
       "      <td>1.277753</td>\n",
       "      <td>-0.38075</td>\n",
       "      <td>-0.305320</td>\n",
       "      <td>-0.510477</td>\n",
       "      <td>0.862116</td>\n",
       "      <td>-0.072075</td>\n",
       "      <td>-0.853041</td>\n",
       "    </tr>\n",
       "    <tr>\n",
       "      <th>2</th>\n",
       "      <td>0.817144</td>\n",
       "      <td>1.020935</td>\n",
       "      <td>1.128492</td>\n",
       "      <td>0.773357</td>\n",
       "      <td>0.249452</td>\n",
       "      <td>0.565673</td>\n",
       "      <td>1.110724</td>\n",
       "      <td>-0.257130</td>\n",
       "      <td>-0.154303</td>\n",
       "      <td>-0.072075</td>\n",
       "      <td>...</td>\n",
       "      <td>0.469915</td>\n",
       "      <td>-0.380750</td>\n",
       "      <td>-0.502421</td>\n",
       "      <td>1.277753</td>\n",
       "      <td>-0.38075</td>\n",
       "      <td>-0.305320</td>\n",
       "      <td>-0.510477</td>\n",
       "      <td>0.862116</td>\n",
       "      <td>-0.072075</td>\n",
       "      <td>-0.853041</td>\n",
       "    </tr>\n",
       "    <tr>\n",
       "      <th>3</th>\n",
       "      <td>-1.397341</td>\n",
       "      <td>-1.277951</td>\n",
       "      <td>-1.280187</td>\n",
       "      <td>0.058597</td>\n",
       "      <td>-1.239348</td>\n",
       "      <td>-2.109639</td>\n",
       "      <td>-0.648139</td>\n",
       "      <td>-0.257130</td>\n",
       "      <td>-0.154303</td>\n",
       "      <td>-0.072075</td>\n",
       "      <td>...</td>\n",
       "      <td>0.469915</td>\n",
       "      <td>-0.380750</td>\n",
       "      <td>-0.502421</td>\n",
       "      <td>-0.782624</td>\n",
       "      <td>-0.38075</td>\n",
       "      <td>3.275252</td>\n",
       "      <td>-0.510477</td>\n",
       "      <td>-1.159937</td>\n",
       "      <td>-0.072075</td>\n",
       "      <td>1.172277</td>\n",
       "    </tr>\n",
       "    <tr>\n",
       "      <th>4</th>\n",
       "      <td>-0.467738</td>\n",
       "      <td>-0.769824</td>\n",
       "      <td>0.466105</td>\n",
       "      <td>-1.230354</td>\n",
       "      <td>-0.339687</td>\n",
       "      <td>-0.643568</td>\n",
       "      <td>-2.438981</td>\n",
       "      <td>-0.257130</td>\n",
       "      <td>-0.154303</td>\n",
       "      <td>-0.072075</td>\n",
       "      <td>...</td>\n",
       "      <td>-2.128044</td>\n",
       "      <td>-0.380750</td>\n",
       "      <td>-0.502421</td>\n",
       "      <td>-0.782624</td>\n",
       "      <td>-0.38075</td>\n",
       "      <td>3.275252</td>\n",
       "      <td>-0.510477</td>\n",
       "      <td>-1.159937</td>\n",
       "      <td>-0.072075</td>\n",
       "      <td>1.172277</td>\n",
       "    </tr>\n",
       "    <tr>\n",
       "      <th>...</th>\n",
       "      <td>...</td>\n",
       "      <td>...</td>\n",
       "      <td>...</td>\n",
       "      <td>...</td>\n",
       "      <td>...</td>\n",
       "      <td>...</td>\n",
       "      <td>...</td>\n",
       "      <td>...</td>\n",
       "      <td>...</td>\n",
       "      <td>...</td>\n",
       "      <td>...</td>\n",
       "      <td>...</td>\n",
       "      <td>...</td>\n",
       "      <td>...</td>\n",
       "      <td>...</td>\n",
       "      <td>...</td>\n",
       "      <td>...</td>\n",
       "      <td>...</td>\n",
       "      <td>...</td>\n",
       "      <td>...</td>\n",
       "      <td>...</td>\n",
       "    </tr>\n",
       "    <tr>\n",
       "      <th>382</th>\n",
       "      <td>-0.448999</td>\n",
       "      <td>-0.922038</td>\n",
       "      <td>0.197866</td>\n",
       "      <td>-0.537037</td>\n",
       "      <td>0.058035</td>\n",
       "      <td>-0.932502</td>\n",
       "      <td>-0.008553</td>\n",
       "      <td>-0.257130</td>\n",
       "      <td>6.480741</td>\n",
       "      <td>-0.072075</td>\n",
       "      <td>...</td>\n",
       "      <td>0.469915</td>\n",
       "      <td>-0.380750</td>\n",
       "      <td>-0.502421</td>\n",
       "      <td>-0.782624</td>\n",
       "      <td>-0.38075</td>\n",
       "      <td>3.275252</td>\n",
       "      <td>-0.510477</td>\n",
       "      <td>-1.159937</td>\n",
       "      <td>-0.072075</td>\n",
       "      <td>1.172277</td>\n",
       "    </tr>\n",
       "    <tr>\n",
       "      <th>383</th>\n",
       "      <td>-1.396074</td>\n",
       "      <td>-1.213036</td>\n",
       "      <td>-2.101328</td>\n",
       "      <td>0.249200</td>\n",
       "      <td>-0.580022</td>\n",
       "      <td>-0.076402</td>\n",
       "      <td>-0.008553</td>\n",
       "      <td>-0.257130</td>\n",
       "      <td>-0.154303</td>\n",
       "      <td>-0.072075</td>\n",
       "      <td>...</td>\n",
       "      <td>0.469915</td>\n",
       "      <td>-0.380750</td>\n",
       "      <td>-0.502421</td>\n",
       "      <td>-0.782624</td>\n",
       "      <td>-0.38075</td>\n",
       "      <td>-0.305320</td>\n",
       "      <td>1.958954</td>\n",
       "      <td>-1.159937</td>\n",
       "      <td>-0.072075</td>\n",
       "      <td>1.172277</td>\n",
       "    </tr>\n",
       "    <tr>\n",
       "      <th>384</th>\n",
       "      <td>0.308154</td>\n",
       "      <td>0.344923</td>\n",
       "      <td>0.088380</td>\n",
       "      <td>0.058597</td>\n",
       "      <td>0.058035</td>\n",
       "      <td>0.094818</td>\n",
       "      <td>0.311241</td>\n",
       "      <td>3.889087</td>\n",
       "      <td>-0.154303</td>\n",
       "      <td>-0.072075</td>\n",
       "      <td>...</td>\n",
       "      <td>-2.128044</td>\n",
       "      <td>-0.380750</td>\n",
       "      <td>-0.502421</td>\n",
       "      <td>1.277753</td>\n",
       "      <td>-0.38075</td>\n",
       "      <td>-0.305320</td>\n",
       "      <td>-0.510477</td>\n",
       "      <td>0.862116</td>\n",
       "      <td>-0.072075</td>\n",
       "      <td>-0.853041</td>\n",
       "    </tr>\n",
       "    <tr>\n",
       "      <th>385</th>\n",
       "      <td>-0.193492</td>\n",
       "      <td>0.179278</td>\n",
       "      <td>-0.842245</td>\n",
       "      <td>0.773357</td>\n",
       "      <td>0.249452</td>\n",
       "      <td>0.244635</td>\n",
       "      <td>-0.248398</td>\n",
       "      <td>-0.257130</td>\n",
       "      <td>-0.154303</td>\n",
       "      <td>-0.072075</td>\n",
       "      <td>...</td>\n",
       "      <td>0.469915</td>\n",
       "      <td>-0.380750</td>\n",
       "      <td>-0.502421</td>\n",
       "      <td>1.277753</td>\n",
       "      <td>-0.38075</td>\n",
       "      <td>-0.305320</td>\n",
       "      <td>-0.510477</td>\n",
       "      <td>0.862116</td>\n",
       "      <td>-0.072075</td>\n",
       "      <td>-0.853041</td>\n",
       "    </tr>\n",
       "    <tr>\n",
       "      <th>386</th>\n",
       "      <td>0.173943</td>\n",
       "      <td>-0.525833</td>\n",
       "      <td>-0.075848</td>\n",
       "      <td>-1.227972</td>\n",
       "      <td>1.078927</td>\n",
       "      <td>1.122138</td>\n",
       "      <td>-0.856005</td>\n",
       "      <td>-0.257130</td>\n",
       "      <td>-0.154303</td>\n",
       "      <td>-0.072075</td>\n",
       "      <td>...</td>\n",
       "      <td>-2.128044</td>\n",
       "      <td>2.626397</td>\n",
       "      <td>-0.502421</td>\n",
       "      <td>-0.782624</td>\n",
       "      <td>-0.38075</td>\n",
       "      <td>-0.305320</td>\n",
       "      <td>1.958954</td>\n",
       "      <td>-1.159937</td>\n",
       "      <td>-0.072075</td>\n",
       "      <td>1.172277</td>\n",
       "    </tr>\n",
       "  </tbody>\n",
       "</table>\n",
       "<p>387 rows × 132 columns</p>\n",
       "</div>"
      ],
      "text/plain": [
       "     Displacement (ccm)  Power (hp)  Bore (mm)  Fuel capacity (lts)  \\\n",
       "0              1.561636    2.274465  -0.021105             0.773357   \n",
       "1             -0.195011    0.179278  -0.732760             1.011610   \n",
       "2              0.817144    1.020935   1.128492             0.773357   \n",
       "3             -1.397341   -1.277951  -1.280187             0.058597   \n",
       "4             -0.467738   -0.769824   0.466105            -1.230354   \n",
       "..                  ...         ...        ...                  ...   \n",
       "382           -0.448999   -0.922038   0.197866            -0.537037   \n",
       "383           -1.396074   -1.213036  -2.101328             0.249200   \n",
       "384            0.308154    0.344923   0.088380             0.058597   \n",
       "385           -0.193492    0.179278  -0.842245             0.773357   \n",
       "386            0.173943   -0.525833  -0.075848            -1.227972   \n",
       "\n",
       "     Dry weight (kg)  Wheelbase (mm)  Seat height (mm)  Category_Allround  \\\n",
       "0           0.802435        1.368266          0.311241          -0.257130   \n",
       "1           0.908778        0.351648         -0.248398          -0.257130   \n",
       "2           0.249452        0.565673          1.110724          -0.257130   \n",
       "3          -1.239348       -2.109639         -0.648139          -0.257130   \n",
       "4          -0.339687       -0.643568         -2.438981          -0.257130   \n",
       "..               ...             ...               ...                ...   \n",
       "382         0.058035       -0.932502         -0.008553          -0.257130   \n",
       "383        -0.580022       -0.076402         -0.008553          -0.257130   \n",
       "384         0.058035        0.094818          0.311241           3.889087   \n",
       "385         0.249452        0.244635         -0.248398          -0.257130   \n",
       "386         1.078927        1.122138         -0.856005          -0.257130   \n",
       "\n",
       "     Category_Classic  Category_Cross / motocross  ...  \\\n",
       "0           -0.154303                   -0.072075  ...   \n",
       "1           -0.154303                   -0.072075  ...   \n",
       "2           -0.154303                   -0.072075  ...   \n",
       "3           -0.154303                   -0.072075  ...   \n",
       "4           -0.154303                   -0.072075  ...   \n",
       "..                ...                         ...  ...   \n",
       "382          6.480741                   -0.072075  ...   \n",
       "383         -0.154303                   -0.072075  ...   \n",
       "384         -0.154303                   -0.072075  ...   \n",
       "385         -0.154303                   -0.072075  ...   \n",
       "386         -0.154303                   -0.072075  ...   \n",
       "\n",
       "     Transmission type_Chain  Transmission type_Shaft drive  \\\n",
       "0                  -2.128044                       2.626397   \n",
       "1                   0.469915                      -0.380750   \n",
       "2                   0.469915                      -0.380750   \n",
       "3                   0.469915                      -0.380750   \n",
       "4                  -2.128044                      -0.380750   \n",
       "..                       ...                            ...   \n",
       "382                 0.469915                      -0.380750   \n",
       "383                 0.469915                      -0.380750   \n",
       "384                -2.128044                      -0.380750   \n",
       "385                 0.469915                      -0.380750   \n",
       "386                -2.128044                       2.626397   \n",
       "\n",
       "     Fuel control_Desmodromic valve control  \\\n",
       "0                                 -0.502421   \n",
       "1                                 -0.502421   \n",
       "2                                 -0.502421   \n",
       "3                                 -0.502421   \n",
       "4                                 -0.502421   \n",
       "..                                      ...   \n",
       "382                               -0.502421   \n",
       "383                               -0.502421   \n",
       "384                               -0.502421   \n",
       "385                               -0.502421   \n",
       "386                               -0.502421   \n",
       "\n",
       "     Fuel control_Double Overhead Cams/Twin Cam (DOHC)  \\\n",
       "0                                             1.277753   \n",
       "1                                             1.277753   \n",
       "2                                             1.277753   \n",
       "3                                            -0.782624   \n",
       "4                                            -0.782624   \n",
       "..                                                 ...   \n",
       "382                                          -0.782624   \n",
       "383                                          -0.782624   \n",
       "384                                           1.277753   \n",
       "385                                           1.277753   \n",
       "386                                          -0.782624   \n",
       "\n",
       "     Fuel control_Overhead Cams (OHC)  Fuel control_Overhead Valves (OHV)  \\\n",
       "0                            -0.38075                           -0.305320   \n",
       "1                            -0.38075                           -0.305320   \n",
       "2                            -0.38075                           -0.305320   \n",
       "3                            -0.38075                            3.275252   \n",
       "4                            -0.38075                            3.275252   \n",
       "..                                ...                                 ...   \n",
       "382                          -0.38075                            3.275252   \n",
       "383                          -0.38075                           -0.305320   \n",
       "384                          -0.38075                           -0.305320   \n",
       "385                          -0.38075                           -0.305320   \n",
       "386                          -0.38075                           -0.305320   \n",
       "\n",
       "     Fuel control_Single Overhead Cams (SOHC)  Front brakes_Double disc  \\\n",
       "0                                   -0.510477                  0.862116   \n",
       "1                                   -0.510477                  0.862116   \n",
       "2                                   -0.510477                  0.862116   \n",
       "3                                   -0.510477                 -1.159937   \n",
       "4                                   -0.510477                 -1.159937   \n",
       "..                                        ...                       ...   \n",
       "382                                 -0.510477                 -1.159937   \n",
       "383                                  1.958954                 -1.159937   \n",
       "384                                 -0.510477                  0.862116   \n",
       "385                                 -0.510477                  0.862116   \n",
       "386                                  1.958954                 -1.159937   \n",
       "\n",
       "     Front brakes_Dual disc  Front brakes_Single disc  \n",
       "0                 -0.072075                 -0.853041  \n",
       "1                 -0.072075                 -0.853041  \n",
       "2                 -0.072075                 -0.853041  \n",
       "3                 -0.072075                  1.172277  \n",
       "4                 -0.072075                  1.172277  \n",
       "..                      ...                       ...  \n",
       "382               -0.072075                  1.172277  \n",
       "383               -0.072075                  1.172277  \n",
       "384               -0.072075                 -0.853041  \n",
       "385               -0.072075                 -0.853041  \n",
       "386               -0.072075                  1.172277  \n",
       "\n",
       "[387 rows x 132 columns]"
      ]
     },
     "execution_count": 53,
     "metadata": {},
     "output_type": "execute_result"
    }
   ],
   "source": [
    "# import StandardScaler and LinearRegression\n",
    "from sklearn.preprocessing import StandardScaler\n",
    "# Don't forget, we will use LassoCV to get best features\n",
    "from sklearn.linear_model import LinearRegression, LassoCV\n",
    "# Instantiate StandardScaler()\n",
    "scaler = StandardScaler()\n",
    "# Fit our scaler on X_train and X_test\n",
    "X_train_scaled = scaler.fit_transform(X_train)\n",
    "X_test_scaled = scaler.transform(X_test)\n",
    "# Use X.columns to make sure that X_train and X_test are both scaled\n",
    "X_train = pd.DataFrame(X_train_scaled, columns = X.columns)\n",
    "X_test = pd.DataFrame(X_test_scaled, columns = X.columns)\n",
    "\n",
    "X_train\n"
   ]
  },
  {
   "cell_type": "markdown",
   "metadata": {},
   "source": [
    "Great! All variables in our X data have been scaled and are ready for LinearRegression()"
   ]
  },
  {
   "cell_type": "markdown",
   "metadata": {},
   "source": [
    "### LinearRegression() to get best features"
   ]
  },
  {
   "cell_type": "code",
   "execution_count": 54,
   "metadata": {
    "scrolled": false
   },
   "outputs": [
    {
     "name": "stdout",
     "output_type": "stream",
     "text": [
      "Baseline R^2 training score: 0.3859733329504649\n"
     ]
    }
   ],
   "source": [
    "# Let's instantiate LinearRegression and fit it on our training data\n",
    "lr = LinearRegression()\n",
    "lr.fit(X_train, y_train)\n",
    "# While we're here, let's grab a baseline r-squared score on that same training data\n",
    "baseline = lr.score(X_train, y_train)\n",
    "print('Baseline R^2 training score: {}'.format(baseline))\n",
    "# Expected output: 0.1973318746969106"
   ]
  },
  {
   "cell_type": "markdown",
   "metadata": {},
   "source": [
    "Not the performance we are looking for but let's first try looking at how the data interacts with eachother. "
   ]
  },
  {
   "cell_type": "markdown",
   "metadata": {},
   "source": [
    "### Interactions at their best\n",
    "Oftentimes, the best way to rid your data of less useful features is by identifying the features that actually move the needle. "
   ]
  },
  {
   "cell_type": "code",
   "execution_count": 55,
   "metadata": {},
   "outputs": [],
   "source": [
    "#import combinations\n",
    "from itertools import combinations"
   ]
  },
  {
   "cell_type": "code",
   "execution_count": 56,
   "metadata": {},
   "outputs": [
    {
     "name": "stdout",
     "output_type": "stream",
     "text": [
      "Top 7 interactions:\n",
      "[(('Category_Sport touring', 'Stroke (mm)_76.0'), -4117665957836843.5), (('Stroke (mm)_54.0', 'Stroke (mm)_75.0'), -6621964071289418.0), (('Engine cylinder_Six cylinder boxer', 'Engine cylinder_V2'), -1.1025196974417412e+16), (('Engine cylinder_V2', 'Stroke (mm)_71.0'), -1.1025196974417412e+16), (('Stroke (mm)_57.2', 'Fuel control_Overhead Valves (OHV)'), -1.4947905802170388e+16), (('Engine stroke_ two-stroke', 'Stroke (mm)_54.0'), -2.0255438359714844e+16), (('Stroke (mm)_44.1', 'Stroke (mm)_55.4'), -3.439808260974515e+16)]\n"
     ]
    }
   ],
   "source": [
    "# WARNING: this cell will take a long time due to the number of columns in the data. \n",
    "# Set up data structure\n",
    "interactions = []\n",
    "\n",
    "# Find combinations of columns and loop over them\n",
    "column_pairs = list(combinations(X_train.columns, 2))\n",
    "for (col1, col2) in column_pairs: \n",
    "\n",
    "    # Make copies of X_train and X_test\n",
    "    features_train = X_train.copy()\n",
    "    features_test = X_test.copy()\n",
    "    \n",
    "    # Add interaction term to data\n",
    "    features_train[\"interaction\"] = features_train[col1] * features_train[col2]\n",
    "    features_test[\"interaction\"] = features_test[col1] * features_test[col2]\n",
    "    # Find r-squared score (fit on training data, evaluate on test data)\n",
    "    score = LinearRegression().fit(features_train, y_train).score(features_test, y_test)\n",
    "    \n",
    "    # Append to data structure\n",
    "    interactions.append(((col1, col2), score))\n",
    "    \n",
    "# Sort and subset the data structure to find the top 7\n",
    "top_7_interactions = sorted(interactions, key = lambda record: record[1],reverse = True)[:7] \n",
    "print(\"Top 7 interactions:\")\n",
    "print(top_7_interactions)\n",
    "# Expected output:"
   ]
  },
  {
   "cell_type": "markdown",
   "metadata": {},
   "source": [
    "Let's repeat this process to get polynomials (eg: column_name"
   ]
  },
  {
   "cell_type": "code",
   "execution_count": 57,
   "metadata": {},
   "outputs": [],
   "source": [
    "from sklearn.preprocessing import PolynomialFeatures"
   ]
  },
  {
   "cell_type": "code",
   "execution_count": 58,
   "metadata": {},
   "outputs": [
    {
     "name": "stdout",
     "output_type": "stream",
     "text": [
      "Top 7 polynomials:\n",
      "[('Fuel capacity (lts)', 4, -0.5782099804120995), ('Stroke (mm)_47.0', 2, -0.5796523751422826), ('Stroke (mm)_60.0', 4, -0.5800246057707643), ('Stroke (mm)_60.0', 2, -0.5800600571980419), ('Stroke (mm)_62.0', 2, -0.5801942411119894), ('Stroke (mm)_45.0', 2, -0.5802765657800322), ('Stroke (mm)_48.8', 3, -0.5803797288749419)]\n"
     ]
    }
   ],
   "source": [
    "# WARNING: this may take just as long as the previous code\n",
    "# Set up data structure\n",
    "polynomials = []\n",
    "# Loop over all columns\n",
    "for col in X_train.columns: \n",
    "    # Loop over degrees 2, 3, 4\n",
    "        for degree in (2,3,4): \n",
    "        # Make a copy of X_train and X_test\n",
    "            features_train = X_train.copy().reset_index()\n",
    "            features_test = X_test.copy().reset_index()\n",
    "        # Instantiate PolynomialFeatures with relevant degree\n",
    "            poly = PolynomialFeatures(degree, include_bias = False)\n",
    "        # Fit polynomial to column and transform column\n",
    "        # Hint: use the notation df[[column_name]] to get the right shape\n",
    "        # Hint: convert the result to a DataFrame\n",
    "            col_transformed_train = pd.DataFrame(poly.fit_transform(features_train[[col]]))\n",
    "            col_transformed_test = pd.DataFrame(poly.transform(features_test[[col]]))\n",
    "        # Add polynomial to data\n",
    "        # Hint: use pd.concat since you're combining two DataFrames\n",
    "        # Hint: drop the column before combining so it doesn't appear twice\n",
    "            features_train = pd.concat([features_train.drop(col, axis=1), col_transformed_train], axis = 1)\n",
    "            features_test = pd.concat([features_test.drop(col, axis =1), col_transformed_test], axis=1)\n",
    "        # Find r-squared score\n",
    "            score = LinearRegression().fit(features_train, y_train).score(features_test,y_test)\n",
    "        # Append to data structure\n",
    "            polynomials.append((col, degree, score))\n",
    "# Sort and subset the data structure to find the top 7\n",
    "top_7_polynomials = sorted(polynomials, key = lambda record: record[-1], reverse = True)[:7]\n",
    "print(\"Top 7 polynomials:\")\n",
    "print(top_7_polynomials)\n",
    "# Expected output:"
   ]
  },
  {
   "cell_type": "markdown",
   "metadata": {},
   "source": [
    "## Baseline Models"
   ]
  },
  {
   "cell_type": "markdown",
   "metadata": {},
   "source": [
    "### Baseline Model 1.0: \n",
    "First we will try a single DecisionTree"
   ]
  },
  {
   "cell_type": "code",
   "execution_count": 59,
   "metadata": {},
   "outputs": [
    {
     "data": {
      "text/plain": [
       "DecisionTreeClassifier(random_state=42)"
      ]
     },
     "execution_count": 59,
     "metadata": {},
     "output_type": "execute_result"
    }
   ],
   "source": [
    "#import DecisionTreeClassifier\n",
    "from sklearn.tree import DecisionTreeClassifier \n",
    "dtc = DecisionTreeClassifier(random_state=42)  \n",
    "# fit classifier onto training data\n",
    "dtc.fit(X_train, y_train) "
   ]
  },
  {
   "cell_type": "code",
   "execution_count": 60,
   "metadata": {},
   "outputs": [
    {
     "name": "stdout",
     "output_type": "stream",
     "text": [
      "DecisionTree Model training score: 0.958656330749354\n"
     ]
    }
   ],
   "source": [
    "print('DecisionTree Model training score: {}'.format(dtc.score(X_train, y_train)))"
   ]
  },
  {
   "cell_type": "code",
   "execution_count": 61,
   "metadata": {},
   "outputs": [
    {
     "name": "stdout",
     "output_type": "stream",
     "text": [
      "DecisionTree Model test score: 0.6124031007751938\n"
     ]
    }
   ],
   "source": [
    "print('DecisionTree Model test score: {}'.format(dtc.score(X_test, y_test)))"
   ]
  },
  {
   "cell_type": "markdown",
   "metadata": {},
   "source": [
    "<div class=\"alert alert-block alert-danger\">\n",
    "Our first model is built on a decision tree and the performance is not great; a training score that is nearly perfect paired with a test score of less than 60% would suggest that this first decision tree is overfitting to the data. This tree was created with no regard to hyperparameters, so let's call this our baseline model. In the notebook below we will see how we can improve it. \n",
    "</div>"
   ]
  },
  {
   "cell_type": "markdown",
   "metadata": {},
   "source": [
    "### KNN: K-Nearest-Neighbors\n",
    "KNN or K-Nearest-Neighbors is a distance based estimator; we will need to scale our data prior to modeling it in order to get best results. \n"
   ]
  },
  {
   "cell_type": "code",
   "execution_count": 62,
   "metadata": {},
   "outputs": [],
   "source": [
    "# This next step can be done without instantiating a pipeline but the tool makes the process simpler\n",
    "from sklearn.preprocessing import StandardScaler\n",
    "from sklearn.neighbors import KNeighborsClassifier\n",
    "from sklearn.pipeline import Pipeline\n",
    "knn_pipeline = Pipeline([('ss', StandardScaler()),\n",
    "                        ('knn', KNeighborsClassifier())])"
   ]
  },
  {
   "cell_type": "code",
   "execution_count": 63,
   "metadata": {},
   "outputs": [
    {
     "name": "stdout",
     "output_type": "stream",
     "text": [
      "KNN Training score:0.7571059431524548\n",
      "KNN Test score:0.5116279069767442\n"
     ]
    }
   ],
   "source": [
    "# Fit our knn_pipeline onto our training data, testing data and then see scores\n",
    "knn_pipeline.fit(X_train,y_train)\n",
    "\n",
    "print('KNN Training score:{}'.format(knn_pipeline.score(X_train,y_train)))\n",
    "print('KNN Test score:{}'.format(knn_pipeline.score(X_test,y_test)))"
   ]
  },
  {
   "cell_type": "markdown",
   "metadata": {},
   "source": [
    "Performance on our KNN model is not bad, but let's see if there is something that can give us a better test performance. "
   ]
  },
  {
   "cell_type": "markdown",
   "metadata": {},
   "source": [
    "### BaggingClassifier() 1.0: \n",
    "\n",
    "Bagging is a form of ensemble model training. If you think of planting a DecisionTree, this is like planting ANOTHER DecisionTree and using different parts of the data to improve our score."
   ]
  },
  {
   "cell_type": "code",
   "execution_count": 64,
   "metadata": {},
   "outputs": [
    {
     "data": {
      "text/plain": [
       "BaggingClassifier(base_estimator=DecisionTreeClassifier(criterion='entropy',\n",
       "                                                        max_depth=6),\n",
       "                  n_estimators=30, random_state=42)"
      ]
     },
     "execution_count": 64,
     "metadata": {},
     "output_type": "execute_result"
    }
   ],
   "source": [
    "# import BaggingClassifier\n",
    "from sklearn.ensemble import BaggingClassifier\n",
    "b_tree =  BaggingClassifier(DecisionTreeClassifier(criterion='entropy', max_depth=6), \n",
    "                                 n_estimators=30, random_state = 42)\n",
    "# fit model on training data\n",
    "b_tree.fit(X_train, y_train)"
   ]
  },
  {
   "cell_type": "code",
   "execution_count": 65,
   "metadata": {
    "scrolled": true
   },
   "outputs": [
    {
     "name": "stdout",
     "output_type": "stream",
     "text": [
      "Bagged model training score: 0.751937984496124\n"
     ]
    }
   ],
   "source": [
    "# Training data score\n",
    "print('Bagged model training score: {}'.format(b_tree.score(X_train, y_train)))\n"
   ]
  },
  {
   "cell_type": "code",
   "execution_count": 66,
   "metadata": {
    "scrolled": false
   },
   "outputs": [
    {
     "name": "stdout",
     "output_type": "stream",
     "text": [
      "Bagged model test score: 0.5891472868217055\n"
     ]
    }
   ],
   "source": [
    "# Testing data score\n",
    "print('Bagged model test score: {}'.format(b_tree.score(X_test, y_test)))\n"
   ]
  },
  {
   "cell_type": "markdown",
   "metadata": {},
   "source": [
    "<div class=\"alert alert-block alert-success\">\n",
    "Our model has made improvements and does not appear to be overfitting. Since these are our best scores so far we should keep them in mind but for now let's move onto models 2.0.\n",
    "</div>"
   ]
  },
  {
   "cell_type": "markdown",
   "metadata": {},
   "source": [
    "### BaggingClassifier() 2.0: \n",
    "\n",
    "Let's lower n_estimators and max_depth"
   ]
  },
  {
   "cell_type": "code",
   "execution_count": 67,
   "metadata": {},
   "outputs": [
    {
     "data": {
      "text/plain": [
       "dict_keys(['base_estimator', 'bootstrap', 'bootstrap_features', 'max_features', 'max_samples', 'n_estimators', 'n_jobs', 'oob_score', 'random_state', 'verbose', 'warm_start'])"
      ]
     },
     "execution_count": 67,
     "metadata": {},
     "output_type": "execute_result"
    }
   ],
   "source": [
    "BaggingClassifier().get_params().keys()"
   ]
  },
  {
   "cell_type": "code",
   "execution_count": 68,
   "metadata": {},
   "outputs": [
    {
     "data": {
      "text/plain": [
       "BaggingClassifier(base_estimator=DecisionTreeClassifier(criterion='entropy',\n",
       "                                                        max_depth=5),\n",
       "                  n_estimators=20, random_state=42)"
      ]
     },
     "execution_count": 68,
     "metadata": {},
     "output_type": "execute_result"
    }
   ],
   "source": [
    "b_tree1 =  BaggingClassifier(DecisionTreeClassifier(criterion='entropy', max_depth=5), \n",
    "                                 n_estimators=20, random_state = 42, bootstrap=True)\n",
    "# fit model on training data\n",
    "b_tree1.fit(X_train, y_train)"
   ]
  },
  {
   "cell_type": "code",
   "execution_count": 69,
   "metadata": {
    "scrolled": true
   },
   "outputs": [
    {
     "name": "stdout",
     "output_type": "stream",
     "text": [
      "Bagged model training score: 0.7338501291989664\n",
      "Bagged model test score: 0.5581395348837209\n"
     ]
    }
   ],
   "source": [
    "print('Bagged model training score: {}'.format(b_tree1.score(X_train, y_train)))\n",
    "print('Bagged model test score: {}'.format(b_tree1.score(X_test, y_test)))"
   ]
  },
  {
   "cell_type": "markdown",
   "metadata": {},
   "source": [
    "<div class=\"alert alert-block alert-success\">\n",
    "Great! Our model has improved around ~1.5% on our testing data.\n",
    "</div>"
   ]
  },
  {
   "cell_type": "code",
   "execution_count": 70,
   "metadata": {},
   "outputs": [
    {
     "name": "stdout",
     "output_type": "stream",
     "text": [
      "<class 'pandas.core.frame.DataFrame'>\n",
      "Int64Index: 516 entries, 358 to 20911\n",
      "Columns: 132 entries, Displacement (ccm) to Front brakes_Single disc\n",
      "dtypes: float64(7), uint8(125)\n",
      "memory usage: 95.2 KB\n"
     ]
    }
   ],
   "source": [
    "X.info()"
   ]
  },
  {
   "cell_type": "markdown",
   "metadata": {},
   "source": [
    "# DecisionTree Model 2.0: Cross-Validation\n",
    "\n",
    "We will try using cross-validation to see if we can up the score of our base Decision Tree Model 1.0. Cross-validation assists with overfitting, and even though it did not appear that our model overfit the data, it is still worth a try.  "
   ]
  },
  {
   "cell_type": "code",
   "execution_count": 71,
   "metadata": {},
   "outputs": [
    {
     "name": "stdout",
     "output_type": "stream",
     "text": [
      "Mean Cross-Validation Score:0.627972027972028\n"
     ]
    }
   ],
   "source": [
    "# import cross_val_score from sklearn\n",
    "from sklearn.model_selection import cross_val_score\n",
    "# We will re-use 'dtc', our DecisionTreeClassifier() from earlier\n",
    "\n",
    "dtc_cross_score = cross_val_score(dtc, X_train, y_train, cv = 5)\n",
    "mean_dtc_cross_score = np.mean(dtc_cross_score)\n",
    "\n",
    "print('Mean Cross-Validation Score:{}'.format(mean_dtc_cross_score))"
   ]
  },
  {
   "cell_type": "markdown",
   "metadata": {},
   "source": [
    "<div class=\"alert alert-block alert-danger\">\n",
    "The performance on this model is worse than the first base DecisionTree that we put together. We will scrap this version for now and move forward with our Bagged Decision Tree. \n",
    "</div>"
   ]
  },
  {
   "cell_type": "markdown",
   "metadata": {},
   "source": [
    "# RandomForestClassifier()\n",
    "We can identify and interpret feature importance from our second ensemble model, RandomForestClassifier() "
   ]
  },
  {
   "cell_type": "code",
   "execution_count": 72,
   "metadata": {},
   "outputs": [
    {
     "data": {
      "text/plain": [
       "RandomForestClassifier(max_depth=5, random_state=42)"
      ]
     },
     "execution_count": 72,
     "metadata": {},
     "output_type": "execute_result"
    }
   ],
   "source": [
    "# import RandomForestClassifier\n",
    "from sklearn.ensemble import RandomForestClassifier\n",
    "# forest variable, random_state = 42, max_depth = 5\n",
    "forest = RandomForestClassifier(random_state = 42, max_depth = 5)\n",
    "# fit classifier on training data\n",
    "forest.fit(X_train, y_train)"
   ]
  },
  {
   "cell_type": "code",
   "execution_count": 73,
   "metadata": {
    "scrolled": true
   },
   "outputs": [
    {
     "name": "stdout",
     "output_type": "stream",
     "text": [
      "RandomForest training score: 0.6976744186046512\n"
     ]
    }
   ],
   "source": [
    "print('RandomForest training score: {}'.format(forest.score(X_train, y_train)))"
   ]
  },
  {
   "cell_type": "code",
   "execution_count": 74,
   "metadata": {},
   "outputs": [
    {
     "name": "stdout",
     "output_type": "stream",
     "text": [
      "RandomForest testing score: 0.5581395348837209\n"
     ]
    }
   ],
   "source": [
    "print('RandomForest testing score: {}'.format(forest.score(X_test,y_test)))"
   ]
  },
  {
   "cell_type": "markdown",
   "metadata": {},
   "source": [
    "<div class=\"alert alert-block alert-danger\">\n",
    "Though this would not appear to be a successful model, let's begin hyperparameter tuning to see if we can get a score of above, say 80% on both the training and testing data\n",
    "</div>"
   ]
  },
  {
   "cell_type": "markdown",
   "metadata": {},
   "source": [
    "# Hyperparameter tuning on RandomForestClassifier()"
   ]
  },
  {
   "cell_type": "code",
   "execution_count": 75,
   "metadata": {},
   "outputs": [
    {
     "data": {
      "text/plain": [
       "dict_keys(['bootstrap', 'ccp_alpha', 'class_weight', 'criterion', 'max_depth', 'max_features', 'max_leaf_nodes', 'max_samples', 'min_impurity_decrease', 'min_impurity_split', 'min_samples_leaf', 'min_samples_split', 'min_weight_fraction_leaf', 'n_estimators', 'n_jobs', 'oob_score', 'random_state', 'verbose', 'warm_start'])"
      ]
     },
     "execution_count": 75,
     "metadata": {},
     "output_type": "execute_result"
    }
   ],
   "source": [
    "RandomForestClassifier().get_params().keys()"
   ]
  },
  {
   "cell_type": "code",
   "execution_count": 76,
   "metadata": {
    "scrolled": true
   },
   "outputs": [],
   "source": [
    "# Set a new variable for our second version of the RandomForestClassifier()\n",
    "# As a reminder: \n",
    "# forest = RandomForestClassifier(random_state =42, max_depth = 5)\n",
    "forest1 = RandomForestClassifier(random_state =42, max_depth =5, n_estimators=10)\n",
    "    "
   ]
  },
  {
   "cell_type": "code",
   "execution_count": 77,
   "metadata": {},
   "outputs": [
    {
     "name": "stdout",
     "output_type": "stream",
     "text": [
      "RandomForestClassifier training score n_estimators = 10: 0.7312661498708011\n",
      "RandomForestClassifier test score n_estimators =10: 0.5813953488372093\n"
     ]
    }
   ],
   "source": [
    "forest1.fit(X_train,y_train)\n",
    "print('RandomForestClassifier training score n_estimators = 10: {}'.format(forest1.score(X_train, y_train)))\n",
    "print('RandomForestClassifier test score n_estimators =10: {}'.format(forest1.score(X_test, y_test)))"
   ]
  },
  {
   "cell_type": "code",
   "execution_count": 78,
   "metadata": {
    "scrolled": true
   },
   "outputs": [
    {
     "name": "stdout",
     "output_type": "stream",
     "text": [
      "RandomForestClassifier training score n_estimators = 50: 0.7054263565891473\n",
      "RandomForestClassifier test score n_estimators =50: 0.5503875968992248\n"
     ]
    }
   ],
   "source": [
    "forest2 = RandomForestClassifier(criterion = 'gini',random_state = 42, max_depth =5, n_estimators =50)\n",
    "forest2.fit(X_train,y_train)\n",
    "print('RandomForestClassifier training score n_estimators = 50: {}'.format(forest2.score(X_train, y_train)))\n",
    "print('RandomForestClassifier test score n_estimators =50: {}'.format(forest2.score(X_test, y_test)))"
   ]
  },
  {
   "cell_type": "markdown",
   "metadata": {},
   "source": [
    "<div class=\"alert alert-block alert-danger\">\n",
    "Not exactly what we had in mind. We have created an ensemble model but are having a hard time determining parameters that will increase score. For this, let's use Random Search. \n",
    "</div>"
   ]
  },
  {
   "cell_type": "markdown",
   "metadata": {},
   "source": [
    "# Random Search Training"
   ]
  },
  {
   "cell_type": "code",
   "execution_count": 79,
   "metadata": {},
   "outputs": [],
   "source": [
    "# random_grid works the same way that a param_grid would: we will see what parameters are selected as \n",
    "# the 'best' parameters and build our next model based on these results. \n",
    "random_grid = {'bootstrap': [True, False],\n",
    "               'max_depth': [10,30,50,70,90,100, None],\n",
    "               'max_features': ['auto', 'sqrt'], \n",
    "               'n_estimators': [200, 400, 600]    \n",
    "}"
   ]
  },
  {
   "cell_type": "code",
   "execution_count": 80,
   "metadata": {
    "scrolled": true
   },
   "outputs": [
    {
     "data": {
      "text/plain": [
       "0.958656330749354"
      ]
     },
     "execution_count": 80,
     "metadata": {},
     "output_type": "execute_result"
    }
   ],
   "source": [
    "# This takes almost 20 minutes to run, Weird Al Yankovic's 'Sauerkraut' x 2 would be unbearable but...\n",
    "from sklearn.model_selection import RandomizedSearchCV\n",
    "rf = RandomForestClassifier()\n",
    "rf_cv = RandomizedSearchCV(estimator =rf,\n",
    "                          param_distributions = random_grid, \n",
    "                           n_iter = 100,\n",
    "                          cv = 3\n",
    "                          )\n",
    "rf_cv.fit(X_train, y_train)\n",
    "rf_cv.score(X_train, y_train)\n",
    "# Expected Output: 0.7567783094098883"
   ]
  },
  {
   "cell_type": "code",
   "execution_count": 81,
   "metadata": {
    "scrolled": true
   },
   "outputs": [
    {
     "data": {
      "text/plain": [
       "{'n_estimators': 200,\n",
       " 'max_features': 'sqrt',\n",
       " 'max_depth': 100,\n",
       " 'bootstrap': True}"
      ]
     },
     "execution_count": 81,
     "metadata": {},
     "output_type": "execute_result"
    }
   ],
   "source": [
    "# The best parameters in this first tuned model\n",
    "rf_cv.best_params_\n",
    "# Expected output: {'n_estimators': 600,\n",
    "#  'max_features': 'auto',\n",
    "#  'max_depth': 10,\n",
    "#  'bootstrap': True}"
   ]
  },
  {
   "cell_type": "markdown",
   "metadata": {},
   "source": [
    "<div class=\"alert alert-block alert-danger\">\n",
    "Thinking critically on these parameters then, 600 estimators was the most in our set, let's shoot for more in the following model, max_features: 'auto', max_depth: '(something in the single digits)', and 'bootstrap': False\n",
    "</div>"
   ]
  },
  {
   "cell_type": "markdown",
   "metadata": {},
   "source": [
    "# Random Search Training 2.0\n",
    "Again, taking into account the parameters that were selected as the 'best', let's expand on that idea by making our next set of parameters exploratory options referentially to our previous set of 'best_params'. "
   ]
  },
  {
   "cell_type": "code",
   "execution_count": 82,
   "metadata": {},
   "outputs": [],
   "source": [
    "# Set new parameters for new random_grid1\n",
    "random_grid1 = {'bootstrap': [True],\n",
    "               'max_depth': [1,5,7,10],\n",
    "               'max_features': ['auto'], \n",
    "               'n_estimators': [600,800,1000,1200]    \n",
    "}"
   ]
  },
  {
   "cell_type": "code",
   "execution_count": 83,
   "metadata": {
    "scrolled": true
   },
   "outputs": [
    {
     "data": {
      "text/plain": [
       "0.6666666666666666"
      ]
     },
     "execution_count": 83,
     "metadata": {},
     "output_type": "execute_result"
    }
   ],
   "source": [
    "rf_cv = RandomizedSearchCV(estimator =rf,\n",
    "                          param_distributions = random_grid1, \n",
    "                           n_iter = 100,\n",
    "                          cv = 3\n",
    "                          )\n",
    "rf_cv.fit(X_train, y_train)\n",
    "rf_cv.score(X_train, y_train)\n",
    "# Expected output: 0.7014634146341463"
   ]
  },
  {
   "cell_type": "code",
   "execution_count": 84,
   "metadata": {},
   "outputs": [
    {
     "data": {
      "text/plain": [
       "0.5348837209302325"
      ]
     },
     "execution_count": 84,
     "metadata": {},
     "output_type": "execute_result"
    }
   ],
   "source": [
    "rf_cv.score(X_test, y_test)\n",
    "# Expected output: 0.6549707602339181"
   ]
  },
  {
   "cell_type": "code",
   "execution_count": 85,
   "metadata": {
    "scrolled": true
   },
   "outputs": [
    {
     "data": {
      "text/plain": [
       "{'n_estimators': 600,\n",
       " 'max_features': 'auto',\n",
       " 'max_depth': 1,\n",
       " 'bootstrap': True}"
      ]
     },
     "execution_count": 85,
     "metadata": {},
     "output_type": "execute_result"
    }
   ],
   "source": [
    "rf_cv.best_params_\n",
    "# Expected output: {'n_estimators': 800,\n",
    "#  'max_features': 'auto',\n",
    "#  'max_depth': 10,\n",
    "#  'bootstrap': False}"
   ]
  },
  {
   "cell_type": "markdown",
   "metadata": {},
   "source": [
    "<div class=\"alert alert-block alert-danger\">\n",
    "Well there's a slight improvement, and we have gotten closer to the best score we've gotten so far from our BaggedClassifier(DecisionTreeClassifier()) but let's keep tuning. \n",
    "</div>"
   ]
  },
  {
   "cell_type": "markdown",
   "metadata": {},
   "source": [
    "# Random Search Training 3.0"
   ]
  },
  {
   "cell_type": "code",
   "execution_count": 86,
   "metadata": {},
   "outputs": [],
   "source": [
    "random_grid2 = {'bootstrap': [False],\n",
    "               'max_depth': [10,11,12,13,14,15,16,17,18,19,20],\n",
    "               'max_features': ['auto'], \n",
    "               'n_estimators': [700, 750, 800, 850, 900]    \n",
    "}"
   ]
  },
  {
   "cell_type": "code",
   "execution_count": 87,
   "metadata": {
    "scrolled": false
   },
   "outputs": [
    {
     "data": {
      "text/plain": [
       "0.9354005167958657"
      ]
     },
     "execution_count": 87,
     "metadata": {},
     "output_type": "execute_result"
    }
   ],
   "source": [
    "# 'Stairway to Heaven' like thrice\n",
    "rf_cv = RandomizedSearchCV(estimator =rf,\n",
    "                          param_distributions = random_grid2, \n",
    "                           n_iter = 100,\n",
    "                          cv = 5 # Changed from 3 to 5, probably accounts for the time\n",
    "                          )\n",
    "rf_cv.fit(X_train, y_train)\n",
    "rf_cv.score(X_train, y_train)\n",
    "# Expected output: 0.7346341463414634"
   ]
  },
  {
   "cell_type": "code",
   "execution_count": 88,
   "metadata": {},
   "outputs": [
    {
     "data": {
      "text/plain": [
       "0.6201550387596899"
      ]
     },
     "execution_count": 88,
     "metadata": {},
     "output_type": "execute_result"
    }
   ],
   "source": [
    "rf_cv.score(X_test, y_test)\n",
    "# Expected output: 0.652046783625731"
   ]
  },
  {
   "cell_type": "code",
   "execution_count": 89,
   "metadata": {
    "scrolled": false
   },
   "outputs": [
    {
     "data": {
      "text/plain": [
       "{'n_estimators': 700,\n",
       " 'max_features': 'auto',\n",
       " 'max_depth': 11,\n",
       " 'bootstrap': False}"
      ]
     },
     "execution_count": 89,
     "metadata": {},
     "output_type": "execute_result"
    }
   ],
   "source": [
    "rf_cv.best_params_\n",
    "#{'n_estimators': 900,\n",
    "#  'max_features': 'auto',\n",
    "#  'max_depth': 12,\n",
    "#  'bootstrap': False}"
   ]
  },
  {
   "cell_type": "code",
   "execution_count": 90,
   "metadata": {},
   "outputs": [],
   "source": [
    "random_grid3 = {'bootstrap': [False],\n",
    "               'max_depth': [12],\n",
    "               'max_features': ['auto'], \n",
    "               'n_estimators': [900, 925, 950, 975]    \n",
    "}"
   ]
  },
  {
   "cell_type": "code",
   "execution_count": 91,
   "metadata": {},
   "outputs": [
    {
     "data": {
      "text/plain": [
       "0.9354005167958657"
      ]
     },
     "execution_count": 91,
     "metadata": {},
     "output_type": "execute_result"
    }
   ],
   "source": [
    "# Stairway to Heaven twice?\n",
    "rf_cv = RandomizedSearchCV(estimator =rf,\n",
    "                          param_distributions = random_grid2, \n",
    "                           n_iter = 100,\n",
    "                          cv = 3 \n",
    "                          )\n",
    "rf_cv.fit(X_train, y_train)\n",
    "rf_cv.score(X_train, y_train)\n",
    "# Expected output: 0.7404878048780488"
   ]
  },
  {
   "cell_type": "code",
   "execution_count": 92,
   "metadata": {},
   "outputs": [
    {
     "data": {
      "text/plain": [
       "0.5968992248062015"
      ]
     },
     "execution_count": 92,
     "metadata": {},
     "output_type": "execute_result"
    }
   ],
   "source": [
    "rf_cv.score(X_test, y_test)\n",
    "# Expected output: 0.6549707602339181"
   ]
  },
  {
   "cell_type": "markdown",
   "metadata": {},
   "source": [
    "# AdaboostClassifier\n",
    "While our model is performing at a rate that could be considered passable, let's try using an AdaboostClassifier to see if we can improve a model. "
   ]
  },
  {
   "cell_type": "code",
   "execution_count": 93,
   "metadata": {},
   "outputs": [
    {
     "data": {
      "text/plain": [
       "dict_keys(['algorithm', 'base_estimator', 'learning_rate', 'n_estimators', 'random_state'])"
      ]
     },
     "execution_count": 93,
     "metadata": {},
     "output_type": "execute_result"
    }
   ],
   "source": [
    "# import AdaBoostClassifier from sklearn\n",
    "from sklearn.ensemble import AdaBoostClassifier\n",
    "AdaBoostClassifier().get_params().keys()"
   ]
  },
  {
   "cell_type": "code",
   "execution_count": 94,
   "metadata": {},
   "outputs": [],
   "source": [
    "# A pretty vanilla classifier to start\n",
    "ada = AdaBoostClassifier(random_state = 42)"
   ]
  },
  {
   "cell_type": "code",
   "execution_count": 95,
   "metadata": {
    "scrolled": true
   },
   "outputs": [
    {
     "data": {
      "text/plain": [
       "(0.8036175710594315, 0.5968992248062015)"
      ]
     },
     "execution_count": 95,
     "metadata": {},
     "output_type": "execute_result"
    }
   ],
   "source": [
    "ada.fit(X_train, y_train)\n",
    "ada.score(X_train, y_train), ada.score(X_test, y_test)"
   ]
  },
  {
   "cell_type": "code",
   "execution_count": 96,
   "metadata": {
    "scrolled": true
   },
   "outputs": [
    {
     "data": {
      "text/plain": [
       "(0.896640826873385, 0.5891472868217055)"
      ]
     },
     "execution_count": 96,
     "metadata": {},
     "output_type": "execute_result"
    }
   ],
   "source": [
    "# ada1 is our first attempt at improving the vanilla AdaBoostClassifier()\n",
    "ada1 = AdaBoostClassifier(random_state = 42, learning_rate = 1.0, n_estimators = 300 )\n",
    "ada1.fit(X_train, y_train)\n",
    "ada1.score(X_train, y_train), ada1.score(X_test, y_test)\n",
    "# Expected output: (0.8907317073170732, 0.6432748538011696)"
   ]
  },
  {
   "cell_type": "code",
   "execution_count": 97,
   "metadata": {
    "scrolled": true
   },
   "outputs": [
    {
     "data": {
      "text/plain": [
       "(0.7080103359173127, 0.5813953488372093)"
      ]
     },
     "execution_count": 97,
     "metadata": {},
     "output_type": "execute_result"
    }
   ],
   "source": [
    "# Trying out a learning_rate = 0.2, n_estimators = 300\n",
    "ada2 = AdaBoostClassifier(random_state = 42, learning_rate = 0.1, n_estimators = 100 )\n",
    "ada2.fit(X_train, y_train)\n",
    "ada2.score(X_train, y_train), ada2.score(X_test, y_test)\n",
    "# Expected output: (0.8126829268292682, 0.6491228070175439)"
   ]
  },
  {
   "cell_type": "code",
   "execution_count": 98,
   "metadata": {
    "scrolled": true
   },
   "outputs": [
    {
     "data": {
      "text/plain": [
       "(0.7700258397932817, 0.5891472868217055)"
      ]
     },
     "execution_count": 98,
     "metadata": {},
     "output_type": "execute_result"
    }
   ],
   "source": [
    "# Using the proposed learning_rate = 0.000975 and n_estimators = 500\n",
    "ada3 = AdaBoostClassifier(random_state = 42, learning_rate = 0.1, n_estimators = 200 )\n",
    "ada3.fit(X_train, y_train)\n",
    "ada3.score(X_train, y_train), ada3.score(X_test, y_test)\n",
    "# Expected output: (0.6068292682926829, 0.6461988304093568)"
   ]
  },
  {
   "cell_type": "code",
   "execution_count": 99,
   "metadata": {
    "scrolled": true
   },
   "outputs": [
    {
     "data": {
      "text/plain": [
       "(0.7493540051679587, 0.5813953488372093)"
      ]
     },
     "execution_count": 99,
     "metadata": {},
     "output_type": "execute_result"
    }
   ],
   "source": [
    "# n_estimators = 1500 to see if there is improvement by increasing n_estimators \n",
    "ada4 = AdaBoostClassifier(random_state = 42, learning_rate = 0.1, n_estimators = 150 )\n",
    "ada4.fit(X_train, y_train)\n",
    "ada4.score(X_train, y_train), ada4.score(X_test, y_test)\n",
    "# Expected output: (0.6253658536585366, 0.6578947368421053)"
   ]
  },
  {
   "cell_type": "markdown",
   "metadata": {},
   "source": [
    "<div class=\"alert alert-block alert-danger\">\n",
    "Unfortunately, since none of these models performed particularly well, we will move forward with ada4 and do some crossvalidation. First though, let's trying Gradient Boosting. \n",
    "</div>"
   ]
  },
  {
   "cell_type": "markdown",
   "metadata": {},
   "source": [
    "# Gradient Boosting"
   ]
  },
  {
   "cell_type": "code",
   "execution_count": 100,
   "metadata": {},
   "outputs": [
    {
     "data": {
      "text/plain": [
       "dict_keys(['ccp_alpha', 'criterion', 'init', 'learning_rate', 'loss', 'max_depth', 'max_features', 'max_leaf_nodes', 'min_impurity_decrease', 'min_impurity_split', 'min_samples_leaf', 'min_samples_split', 'min_weight_fraction_leaf', 'n_estimators', 'n_iter_no_change', 'presort', 'random_state', 'subsample', 'tol', 'validation_fraction', 'verbose', 'warm_start'])"
      ]
     },
     "execution_count": 100,
     "metadata": {},
     "output_type": "execute_result"
    }
   ],
   "source": [
    "from sklearn.ensemble import GradientBoostingClassifier\n",
    "GradientBoostingClassifier().get_params().keys()"
   ]
  },
  {
   "cell_type": "code",
   "execution_count": 101,
   "metadata": {},
   "outputs": [
    {
     "data": {
      "text/plain": [
       "(0.8449612403100775, 0.5736434108527132)"
      ]
     },
     "execution_count": 101,
     "metadata": {},
     "output_type": "execute_result"
    }
   ],
   "source": [
    "# This will serve as our vanilla GradientBoostingClassifier()\n",
    "gbt = GradientBoostingClassifier(random_state =42)\n",
    "gbt.fit(X_train, y_train)\n",
    "gbt.score(X_train, y_train), gbt.score(X_test, y_test)"
   ]
  },
  {
   "cell_type": "code",
   "execution_count": 102,
   "metadata": {
    "scrolled": false
   },
   "outputs": [
    {
     "data": {
      "text/plain": [
       "3591     0.0\n",
       "12578    0.0\n",
       "20908    0.0\n",
       "19625    0.0\n",
       "4814     0.0\n",
       "        ... \n",
       "8210     0.0\n",
       "14605    1.0\n",
       "3411    -1.0\n",
       "12534    0.0\n",
       "14320    0.0\n",
       "Name: Rating_, Length: 387, dtype: float64"
      ]
     },
     "execution_count": 102,
     "metadata": {},
     "output_type": "execute_result"
    }
   ],
   "source": [
    "y2 = y_train - gbt.predict(X_train)\n",
    "y2"
   ]
  },
  {
   "cell_type": "code",
   "execution_count": 103,
   "metadata": {},
   "outputs": [
    {
     "ename": "TypeError",
     "evalue": "unsupported operand type(s) for +: 'float' and 'DecisionTreeRegressor'",
     "output_type": "error",
     "traceback": [
      "\u001b[1;31m---------------------------------------------------------------------------\u001b[0m",
      "\u001b[1;31mTypeError\u001b[0m                                 Traceback (most recent call last)",
      "\u001b[1;32m<ipython-input-103-a3123c6fb3e8>\u001b[0m in \u001b[0;36m<module>\u001b[1;34m\u001b[0m\n\u001b[1;32m----> 1\u001b[1;33m \u001b[0my_preds\u001b[0m \u001b[1;33m=\u001b[0m \u001b[0mgbt\u001b[0m\u001b[1;33m.\u001b[0m\u001b[0mpredict\u001b[0m\u001b[1;33m(\u001b[0m\u001b[0mX_train\u001b[0m\u001b[1;33m)\u001b[0m \u001b[1;33m+\u001b[0m \u001b[0mgbt\u001b[0m\u001b[1;33m\u001b[0m\u001b[1;33m\u001b[0m\u001b[0m\n\u001b[0m",
      "\u001b[1;31mTypeError\u001b[0m: unsupported operand type(s) for +: 'float' and 'DecisionTreeRegressor'"
     ]
    }
   ],
   "source": [
    "y_preds = gbt.predict(X_train) + gbt"
   ]
  },
  {
   "cell_type": "code",
   "execution_count": null,
   "metadata": {},
   "outputs": [],
   "source": [
    "gbt2 = GradientBoostingClassifier(random_state =42)\n",
    "gbt2.fit(X_train, y2)"
   ]
  },
  {
   "cell_type": "code",
   "execution_count": null,
   "metadata": {},
   "outputs": [],
   "source": [
    "gbt.score(X_train, y2), gbt.score(X_test, y_test)"
   ]
  },
  {
   "cell_type": "code",
   "execution_count": null,
   "metadata": {},
   "outputs": [],
   "source": [
    "parameter_grid = {}"
   ]
  },
  {
   "cell_type": "code",
   "execution_count": null,
   "metadata": {},
   "outputs": [],
   "source": [
    "from sklearn.model_selection import GridSearchCV\n",
    "clf = GridSearchCV(GradientBoostingClassifier(max_depth = 3, random_state = 42, learning_rate =1,\n",
    "                                             n_estimators = 25), parameter_grid,cv=3)"
   ]
  },
  {
   "cell_type": "code",
   "execution_count": null,
   "metadata": {
    "scrolled": true
   },
   "outputs": [],
   "source": [
    "\n",
    "gbt1 = GradientBoostingClassifier(criterion = 'friedman_mse', \n",
    "                                 learning_rate = 1, \n",
    "                                 n_estimators = 25, \n",
    "                                 random_state = 42)\n",
    "gbt1.fit(X_train, y_train)\n",
    "gbt1.score(X_train, y_train), gbt1.score(X_test, y_test)"
   ]
  },
  {
   "cell_type": "code",
   "execution_count": null,
   "metadata": {},
   "outputs": [],
   "source": [
    "clf.fit(X_train, y_train)\n",
    "clf.score(X_train,y_train), clf.score(X_test, y_test)"
   ]
  },
  {
   "cell_type": "code",
   "execution_count": null,
   "metadata": {
    "scrolled": true
   },
   "outputs": [],
   "source": [
    "clf.best_params_"
   ]
  },
  {
   "cell_type": "code",
   "execution_count": null,
   "metadata": {},
   "outputs": [],
   "source": [
    "def my_gradient_boosting_classifier(n_estimators, X, target, random_state=42):\n",
    "    # Save the iteratively trained models and residuals\n",
    "    trained_weak_learners = []\n",
    "    past_residuals = []\n",
    "    \n",
    "    # Initial conditions\n",
    "    new_y = target\n",
    "    past_residuals.append(new_y)\n",
    "    # Iteratively train model\n",
    "    for n in range(n_estimators):\n",
    "        # Train the new model on past residuals (note first model trains on y)\n",
    "        new_model = DecisionTreeClassifier(max_depth=2, random_state=random_state)\n",
    "        new_model.fit(X,new_y)\n",
    "        # Find the new residuals (used to train the next model)\n",
    "        new_y = new_y - new_model.predict(X) \n",
    "        # Save the (trained) model and the new residuals\n",
    "        trained_weak_learners.append(new_model)\n",
    "        past_residuals.append(new_y)\n",
    "        \n",
    "    return trained_weak_learners, past_residuals"
   ]
  },
  {
   "cell_type": "code",
   "execution_count": null,
   "metadata": {},
   "outputs": [],
   "source": [
    "m,ys = my_gradient_boosting_classifier(3, X_train, y_train)"
   ]
  },
  {
   "cell_type": "code",
   "execution_count": null,
   "metadata": {},
   "outputs": [],
   "source": [
    "ys"
   ]
  },
  {
   "cell_type": "code",
   "execution_count": null,
   "metadata": {},
   "outputs": [],
   "source": []
  },
  {
   "cell_type": "code",
   "execution_count": null,
   "metadata": {
    "scrolled": true
   },
   "outputs": [],
   "source": [
    "# Our mean training score\n",
    "dtc_training_score = dtc_grid_search.score(X_train, y_train)\n",
    "\n",
    "# Mean Test score\n",
    "dtc_testing_score = dtc_grid_search.score(X_test, y_test)\n",
    "\n",
    "print(f\"Mean Training Score: {dtc_training_score :.2%}\")\n",
    "print(f\"Mean Test Score: {dtc_testing_score :.2%}\")\n",
    "print(\"Best Parameter Combination Found During Grid Search:\")\n",
    "dtc_grid_search.best_params_"
   ]
  },
  {
   "cell_type": "markdown",
   "metadata": {},
   "source": [
    "# Bagging Classifier 2.0: Model Prediction"
   ]
  },
  {
   "cell_type": "code",
   "execution_count": null,
   "metadata": {},
   "outputs": [],
   "source": [
    "# Fit our BaggingClassifier/best performant model onto the entire set of data\n",
    "b_tree1.fit(X,target)"
   ]
  },
  {
   "cell_type": "code",
   "execution_count": null,
   "metadata": {},
   "outputs": [],
   "source": [
    "# Take a look at the number of columns\n",
    "X.info()"
   ]
  },
  {
   "cell_type": "code",
   "execution_count": null,
   "metadata": {},
   "outputs": [],
   "source": [
    "# Preview columns in X\n",
    "X.head()"
   ]
  },
  {
   "cell_type": "markdown",
   "metadata": {},
   "source": [
    "Looking at our table of possible predictions it begins to look clear that we will have to make these predictions on the original table, label encode or make predictions early on the data set and see what they are after encoding. "
   ]
  },
  {
   "cell_type": "markdown",
   "metadata": {},
   "source": [
    "## The Model\n",
    "\n",
    "So, we have done many things so far, but we will have to duplicate some of our efforts in order to get a prediction on whether or not a bike with certain features will be a ratings success or flop. Let's begin with the original data. "
   ]
  },
  {
   "cell_type": "code",
   "execution_count": null,
   "metadata": {},
   "outputs": [],
   "source": [
    "# ds will be our the dataset we fit our predictive model onto. \n",
    "ds = pd.read_csv('all_bikez_curated.csv')\n",
    "ds.head()"
   ]
  },
  {
   "cell_type": "code",
   "execution_count": null,
   "metadata": {
    "scrolled": false
   },
   "outputs": [],
   "source": [
    "ds.info()"
   ]
  },
  {
   "cell_type": "markdown",
   "metadata": {},
   "source": [
    "### Harley-Davidson Street 500: Testing a 'bad' motorcycle\n",
    "\n",
    "FI is our manufacturer's brand so let's use them for 'Brand', for now let's use motorcycle type as the 'Model'"
   ]
  },
  {
   "cell_type": "code",
   "execution_count": null,
   "metadata": {},
   "outputs": [],
   "source": [
    "# The only categorical column not included is 'Rating'\n",
    "categorical = ['Brand', 'Model', 'Year', 'Category', 'Rating', 'Engine cylinder', 'Engine stroke', \n",
    "                'Gearbox', 'Stroke (mm)', 'Fuel system', 'Fuel control', 'Cooling system', \n",
    "               'Transmission type', 'Front brakes', 'Rear brakes', 'Front tire', 'Rear tire',\n",
    "               'Front suspension', 'Rear suspension']\n",
    "\n",
    "continuous = ['Displacement (ccm)', 'Power (hp)', 'Torque (Nm)', 'Bore (mm)', 'Fuel capacity (lts)',\n",
    "             'Dry weight (kg)', 'Wheelbase (mm)', 'Seat height (mm)']"
   ]
  },
  {
   "cell_type": "code",
   "execution_count": null,
   "metadata": {
    "scrolled": true
   },
   "outputs": [],
   "source": [
    "# We will need to fill all of these below columns\n",
    "used_cols = [*categorical, *continuous]\n",
    "used_cols"
   ]
  },
  {
   "cell_type": "code",
   "execution_count": null,
   "metadata": {
    "scrolled": true
   },
   "outputs": [],
   "source": [
    "pd.set_option('max_columns', None)\n",
    "df_500 = ds.loc[ds['Model'] == 'street 500']\n",
    "df_500.head()"
   ]
  },
  {
   "cell_type": "code",
   "execution_count": null,
   "metadata": {},
   "outputs": [],
   "source": [
    "new_row_cruiser = pd.DataFrame(columns = used_cols)"
   ]
  },
  {
   "cell_type": "code",
   "execution_count": null,
   "metadata": {},
   "outputs": [],
   "source": [
    "# To test our model performance, let's pick a cruiser motorcycle that is sort of like the infamous\n",
    "# Harley-Davidson Street 500, a bike in infamy because of the amount used for MSF courses \n",
    "new_row_cruiser = new_row_cruiser.append({\n",
    "    'Brand': 'FI', \n",
    "    'Model': 'street 500',\n",
    "    'Year': '2014',\n",
    "    'Category': 'Custom / cruiser', \n",
    "    'Engine cylinder': 'V2', \n",
    "    'Engine stroke': ' four-stroke', \n",
    "    'Gearbox': '6-speed', \n",
    "    'Stroke (mm)': '66.0', \n",
    "    'Fuel capacity (lts)': 13.25, \n",
    "    'Fuel system': 'Injection. Mikuni Single Port Fuel Injection', \n",
    "    'Fuel control': 'Single Overhead Cams (SOHC)', \n",
    "    'Cooling system': 'Liquid', \n",
    "    'Transmission type': 'Belt', \n",
    "    'Dry weight (kg)': 206.4, \n",
    "    'Wheelbase (mm)': 1534.0, \n",
    "    'Seat height (mm)': 653.0, \n",
    "    'Displacement (ccm)': 500,\n",
    "    'Power (hp)': 50, \n",
    "    'Torque (Nm)': 40,\n",
    "    'Bore (mm)': 69.1,\n",
    "    'Front brakes': 'Single disc. Twin piston, floating caliper', \n",
    "    'Rear brakes': 'Single disc. Twin piston, floating caliper', \n",
    "    'Front tire': '100/80-R17', \n",
    "    'Rear tire': '140/75-R15', \n",
    "    'Front suspension': 'Telescopic fork', \n",
    "    'Rear suspension': 'Dual shocks'\n",
    "    \n",
    "},ignore_index = True)"
   ]
  },
  {
   "cell_type": "code",
   "execution_count": null,
   "metadata": {},
   "outputs": [],
   "source": [
    "new_row_cruiser"
   ]
  },
  {
   "cell_type": "markdown",
   "metadata": {},
   "source": [
    "#### Preprocessing our model for the Fi Cruiser"
   ]
  },
  {
   "cell_type": "code",
   "execution_count": null,
   "metadata": {
    "scrolled": true
   },
   "outputs": [],
   "source": [
    "nrc = new_row_cruiser\n",
    "\n",
    "y_nrc = np.where(nrc['Rating']>=(3.4), 1,0)\n"
   ]
  },
  {
   "cell_type": "code",
   "execution_count": null,
   "metadata": {},
   "outputs": [],
   "source": [
    "nrc = nrc.drop(columns = 'Rating', axis = 1)\n",
    "nrc.head()"
   ]
  },
  {
   "cell_type": "code",
   "execution_count": null,
   "metadata": {
    "scrolled": true
   },
   "outputs": [],
   "source": [
    "nrc = pd.get_dummies(nrc, columns = categoricals)\n",
    "nrc.head()"
   ]
  },
  {
   "cell_type": "code",
   "execution_count": null,
   "metadata": {},
   "outputs": [],
   "source": [
    "nrc = nrc.drop(columns = 'Brand', axis =1)\n",
    "nrc = nrc.drop(columns = 'Year', axis =1)\n",
    "nrc = nrc.drop(columns = 'Model', axis =1)"
   ]
  },
  {
   "cell_type": "code",
   "execution_count": null,
   "metadata": {},
   "outputs": [],
   "source": [
    "b_tree1.fit(nrc, y_nrc)"
   ]
  },
  {
   "cell_type": "code",
   "execution_count": null,
   "metadata": {},
   "outputs": [],
   "source": [
    "b_tree1.predict(nrc)"
   ]
  },
  {
   "cell_type": "markdown",
   "metadata": {},
   "source": [
    "### Fi's Cruiser, but let's make it good"
   ]
  },
  {
   "cell_type": "code",
   "execution_count": null,
   "metadata": {},
   "outputs": [],
   "source": [
    "fi_cruiser = pd.DataFrame(columns = used_cols)\n",
    "\n",
    "fi_cruiser = new_row_cruiser.append({\n",
    "    'Brand': 'FI', \n",
    "    'Model': 'Cruiser',\n",
    "    'Year': '2023',\n",
    "    'Category': 'Custom / cruiser', \n",
    "    'Engine cylinder': 'V2', \n",
    "    'Engine stroke': ' four-stroke', \n",
    "    'Gearbox': '6-speed', \n",
    "    'Stroke (mm)': '66.0', \n",
    "    'Fuel capacity (lts)': 13.25, \n",
    "    'Fuel system': 'Injection. Mikuni Single Port Fuel Injection', \n",
    "    'Fuel control': 'Single Overhead Cams (SOHC)', \n",
    "    'Cooling system': 'Liquid', \n",
    "    'Transmission type': 'Belt', \n",
    "    'Dry weight (kg)': 206.4, \n",
    "    'Wheelbase (mm)': 1534.0, \n",
    "    'Seat height (mm)': 653.0, \n",
    "    'Displacement (ccm)': 500,\n",
    "    'Power (hp)': 50, \n",
    "    'Torque (Nm)': 40,\n",
    "    'Bore (mm)': 69.1,\n",
    "    'Front brakes': 'Single disc. Twin piston, floating caliper', \n",
    "    'Rear brakes': 'Single disc. Twin piston, floating caliper', \n",
    "    'Front tire': '100/80-R17', \n",
    "    'Rear tire': '140/75-R15', \n",
    "    'Front suspension': 'Telescopic fork', \n",
    "    'Rear suspension': 'Dual shocks'\n",
    "    \n",
    "},ignore_index = True)"
   ]
  }
 ],
 "metadata": {
  "kernelspec": {
   "display_name": "Python (learn-env)",
   "language": "python",
   "name": "lean-env"
  },
  "language_info": {
   "codemirror_mode": {
    "name": "ipython",
    "version": 3
   },
   "file_extension": ".py",
   "mimetype": "text/x-python",
   "name": "python",
   "nbconvert_exporter": "python",
   "pygments_lexer": "ipython3",
   "version": "3.8.5"
  },
  "toc": {
   "base_numbering": 1,
   "nav_menu": {},
   "number_sections": true,
   "sideBar": true,
   "skip_h1_title": true,
   "title_cell": "Table of Contents",
   "title_sidebar": "Contents",
   "toc_cell": true,
   "toc_position": {},
   "toc_section_display": true,
   "toc_window_display": false
  }
 },
 "nbformat": 4,
 "nbformat_minor": 4
}
