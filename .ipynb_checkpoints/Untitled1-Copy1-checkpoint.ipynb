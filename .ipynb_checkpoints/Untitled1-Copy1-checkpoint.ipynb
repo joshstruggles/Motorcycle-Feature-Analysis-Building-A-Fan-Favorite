{
 "cells": [
  {
   "cell_type": "markdown",
   "metadata": {},
   "source": [
    "# Phase 3 Project\n",
    "\n",
    "Our data science team has been contracted by a fairly new up and coming motorcycle manufacturer that is struggling to find their new formula for a sales success. Being a company of motorcycle riders, they have tasked our team to come up with a plan to replicate the successes of platforms like the Yamaha MT-07 and the Suzuki SV650. We will use the 'all_bikes_curated' dataset from Kaggle, curated by Emmanuel F. Werr\n",
    "\n",
    "\n",
    "<img src=\"pictures/092220-2021-bmw-m1000rr-f.webp\"  />\n",
    "<center>2022 BMW M1000RR</center>"
   ]
  },
  {
   "cell_type": "code",
   "execution_count": 1,
   "metadata": {},
   "outputs": [
    {
     "data": {
      "text/html": [
       "<div>\n",
       "<style scoped>\n",
       "    .dataframe tbody tr th:only-of-type {\n",
       "        vertical-align: middle;\n",
       "    }\n",
       "\n",
       "    .dataframe tbody tr th {\n",
       "        vertical-align: top;\n",
       "    }\n",
       "\n",
       "    .dataframe thead th {\n",
       "        text-align: right;\n",
       "    }\n",
       "</style>\n",
       "<table border=\"1\" class=\"dataframe\">\n",
       "  <thead>\n",
       "    <tr style=\"text-align: right;\">\n",
       "      <th></th>\n",
       "      <th>Brand</th>\n",
       "      <th>Model</th>\n",
       "      <th>Year</th>\n",
       "      <th>Category</th>\n",
       "      <th>Rating</th>\n",
       "      <th>Displacement (ccm)</th>\n",
       "      <th>Power (hp)</th>\n",
       "      <th>Torque (Nm)</th>\n",
       "      <th>Engine cylinder</th>\n",
       "      <th>Engine stroke</th>\n",
       "      <th>...</th>\n",
       "      <th>Dry weight (kg)</th>\n",
       "      <th>Wheelbase (mm)</th>\n",
       "      <th>Seat height (mm)</th>\n",
       "      <th>Front brakes</th>\n",
       "      <th>Rear brakes</th>\n",
       "      <th>Front tire</th>\n",
       "      <th>Rear tire</th>\n",
       "      <th>Front suspension</th>\n",
       "      <th>Rear suspension</th>\n",
       "      <th>Color options</th>\n",
       "    </tr>\n",
       "  </thead>\n",
       "  <tbody>\n",
       "    <tr>\n",
       "      <th>0</th>\n",
       "      <td>acabion</td>\n",
       "      <td>da vinci 650-vi</td>\n",
       "      <td>2011</td>\n",
       "      <td>Prototype / concept model</td>\n",
       "      <td>3.2</td>\n",
       "      <td>NaN</td>\n",
       "      <td>804.0</td>\n",
       "      <td>NaN</td>\n",
       "      <td>Electric</td>\n",
       "      <td>Electric</td>\n",
       "      <td>...</td>\n",
       "      <td>420.0</td>\n",
       "      <td>NaN</td>\n",
       "      <td>NaN</td>\n",
       "      <td>Single disc</td>\n",
       "      <td>Single disc</td>\n",
       "      <td>NaN</td>\n",
       "      <td>NaN</td>\n",
       "      <td>NaN</td>\n",
       "      <td>NaN</td>\n",
       "      <td>NaN</td>\n",
       "    </tr>\n",
       "    <tr>\n",
       "      <th>1</th>\n",
       "      <td>acabion</td>\n",
       "      <td>gtbo 55</td>\n",
       "      <td>2007</td>\n",
       "      <td>Sport</td>\n",
       "      <td>2.6</td>\n",
       "      <td>1300.0</td>\n",
       "      <td>541.0</td>\n",
       "      <td>420.0</td>\n",
       "      <td>In-line four</td>\n",
       "      <td>four-stroke</td>\n",
       "      <td>...</td>\n",
       "      <td>360.0</td>\n",
       "      <td>NaN</td>\n",
       "      <td>NaN</td>\n",
       "      <td>NaN</td>\n",
       "      <td>NaN</td>\n",
       "      <td>NaN</td>\n",
       "      <td>NaN</td>\n",
       "      <td>NaN</td>\n",
       "      <td>NaN</td>\n",
       "      <td>NaN</td>\n",
       "    </tr>\n",
       "    <tr>\n",
       "      <th>2</th>\n",
       "      <td>acabion</td>\n",
       "      <td>gtbo 600 daytona-vi</td>\n",
       "      <td>2011</td>\n",
       "      <td>Prototype / concept model</td>\n",
       "      <td>3.5</td>\n",
       "      <td>NaN</td>\n",
       "      <td>536.0</td>\n",
       "      <td>NaN</td>\n",
       "      <td>Electric</td>\n",
       "      <td>Electric</td>\n",
       "      <td>...</td>\n",
       "      <td>420.0</td>\n",
       "      <td>NaN</td>\n",
       "      <td>NaN</td>\n",
       "      <td>Single disc</td>\n",
       "      <td>Single disc</td>\n",
       "      <td>NaN</td>\n",
       "      <td>NaN</td>\n",
       "      <td>NaN</td>\n",
       "      <td>NaN</td>\n",
       "      <td>NaN</td>\n",
       "    </tr>\n",
       "    <tr>\n",
       "      <th>3</th>\n",
       "      <td>acabion</td>\n",
       "      <td>gtbo 600 daytona-vi</td>\n",
       "      <td>2021</td>\n",
       "      <td>Prototype / concept model</td>\n",
       "      <td>NaN</td>\n",
       "      <td>NaN</td>\n",
       "      <td>536.0</td>\n",
       "      <td>NaN</td>\n",
       "      <td>Electric</td>\n",
       "      <td>Electric</td>\n",
       "      <td>...</td>\n",
       "      <td>420.0</td>\n",
       "      <td>NaN</td>\n",
       "      <td>NaN</td>\n",
       "      <td>Single disc</td>\n",
       "      <td>Single disc</td>\n",
       "      <td>NaN</td>\n",
       "      <td>NaN</td>\n",
       "      <td>NaN</td>\n",
       "      <td>NaN</td>\n",
       "      <td>NaN</td>\n",
       "    </tr>\n",
       "    <tr>\n",
       "      <th>4</th>\n",
       "      <td>acabion</td>\n",
       "      <td>gtbo 70</td>\n",
       "      <td>2007</td>\n",
       "      <td>Prototype / concept model</td>\n",
       "      <td>3.1</td>\n",
       "      <td>1300.0</td>\n",
       "      <td>689.0</td>\n",
       "      <td>490.0</td>\n",
       "      <td>In-line four</td>\n",
       "      <td>four-stroke</td>\n",
       "      <td>...</td>\n",
       "      <td>300.0</td>\n",
       "      <td>NaN</td>\n",
       "      <td>NaN</td>\n",
       "      <td>NaN</td>\n",
       "      <td>NaN</td>\n",
       "      <td>NaN</td>\n",
       "      <td>NaN</td>\n",
       "      <td>NaN</td>\n",
       "      <td>NaN</td>\n",
       "      <td>Custom made.</td>\n",
       "    </tr>\n",
       "  </tbody>\n",
       "</table>\n",
       "<p>5 rows × 28 columns</p>\n",
       "</div>"
      ],
      "text/plain": [
       "     Brand                Model  Year                   Category  Rating  \\\n",
       "0  acabion      da vinci 650-vi  2011  Prototype / concept model     3.2   \n",
       "1  acabion              gtbo 55  2007                      Sport     2.6   \n",
       "2  acabion  gtbo 600 daytona-vi  2011  Prototype / concept model     3.5   \n",
       "3  acabion  gtbo 600 daytona-vi  2021  Prototype / concept model     NaN   \n",
       "4  acabion              gtbo 70  2007  Prototype / concept model     3.1   \n",
       "\n",
       "   Displacement (ccm)  Power (hp)  Torque (Nm) Engine cylinder Engine stroke  \\\n",
       "0                 NaN       804.0          NaN        Electric      Electric   \n",
       "1              1300.0       541.0        420.0    In-line four   four-stroke   \n",
       "2                 NaN       536.0          NaN        Electric      Electric   \n",
       "3                 NaN       536.0          NaN        Electric      Electric   \n",
       "4              1300.0       689.0        490.0    In-line four   four-stroke   \n",
       "\n",
       "   ... Dry weight (kg)  Wheelbase (mm) Seat height (mm)  Front brakes  \\\n",
       "0  ...           420.0             NaN              NaN   Single disc   \n",
       "1  ...           360.0             NaN              NaN           NaN   \n",
       "2  ...           420.0             NaN              NaN   Single disc   \n",
       "3  ...           420.0             NaN              NaN   Single disc   \n",
       "4  ...           300.0             NaN              NaN           NaN   \n",
       "\n",
       "   Rear brakes Front tire Rear tire Front suspension  Rear suspension  \\\n",
       "0  Single disc        NaN       NaN              NaN              NaN   \n",
       "1          NaN        NaN       NaN              NaN              NaN   \n",
       "2  Single disc        NaN       NaN              NaN              NaN   \n",
       "3  Single disc        NaN       NaN              NaN              NaN   \n",
       "4          NaN        NaN       NaN              NaN              NaN   \n",
       "\n",
       "   Color options  \n",
       "0            NaN  \n",
       "1            NaN  \n",
       "2            NaN  \n",
       "3            NaN  \n",
       "4   Custom made.  \n",
       "\n",
       "[5 rows x 28 columns]"
      ]
     },
     "execution_count": 1,
     "metadata": {},
     "output_type": "execute_result"
    }
   ],
   "source": [
    "# Import warnings \n",
    "import warnings\n",
    "warnings.filterwarnings('ignore')\n",
    "\n",
    "# Import pandas to read our data\n",
    "import pandas as pd\n",
    "# 'all_bikez_curated.csv', with a 'z'\n",
    "df = pd.read_csv('all_bikez_curated.csv')\n",
    "# Show our data \n",
    "df.head()"
   ]
  },
  {
   "cell_type": "markdown",
   "metadata": {},
   "source": [
    "## Ever heard of 'acabion'? \n",
    "\n",
    "<img src=\"pictures/acabion_2.jpg\" />\n",
    "<center>Acabion GTBO450 (Not listed in dataset)</center>\n",
    "\n",
    "Let's look at the unique values for 'Brand' as it would immediately appear that we probably aren't familiar with all of these motorcycles. Also, at ~700 hp, this thing looks like a literal DEATHTRAP."
   ]
  },
  {
   "cell_type": "code",
   "execution_count": 2,
   "metadata": {},
   "outputs": [
    {
     "data": {
      "text/plain": [
       "array(['acabion', 'access', 'ace', 'adiva', 'adler', 'adly', 'aeon',\n",
       "       'aermacchi', 'agrati', 'ajp', 'ajs', 'alfer', 'alligator',\n",
       "       'allstate', 'alphasports', 'alta', 'amazonas', 'american eagle',\n",
       "       'american ironhorse', 'apc', 'aprilia', 'apsonic', 'arch',\n",
       "       'arctic cat', 'ardie', 'ariel', 'arlen ness', 'arqin', 'askoll',\n",
       "       'aspes', 'ather', 'atk', 'atlas honda', 'aurora',\n",
       "       'avanturaa choppers', 'avinton', 'avon', 'azel', 'bajaj', 'balkan',\n",
       "       'baltmotors', 'bamx', 'baotian', 'barossa', 'batavus', 'beeline',\n",
       "       'benelli', 'bennche', 'beta', 'better', 'big bear choppers',\n",
       "       'big dog', 'bimota', 'bintelli', 'black douglas', 'blackburne',\n",
       "       'blata', 'bluroc', 'bmc choppers', 'bmw', 'boom trikes', 'borile',\n",
       "       'boss hoss', 'bourget', 'bpg', 'brammo', 'bridgestone', 'britten',\n",
       "       'brixton', 'brockhouse', 'brough superior', 'brudeli', 'bsa',\n",
       "       'buccimoto', 'buell', 'bullit', 'bultaco', 'cagiva',\n",
       "       'california scooter', 'can-am', 'capirelli', 'cargobike', 'casal',\n",
       "       'caterham', 'ccm', 'cectek', 'cf moto', 'ch racing', 'chang-jiang',\n",
       "       'cheetah', 'cheney', 'christini', 'clarke', 'cleveland', 'clipic',\n",
       "       'clyno', 'cmc', 'cobra', 'combat motors', 'confederate',\n",
       "       'cosmos muscle bikes', 'cotton', 'coventry eagle', 'covingtons',\n",
       "       'cpi', 'cr&s', 'crocker', 'crp', 'csc motorcycles', 'csr',\n",
       "       'current motor', 'curtiss', 'cushman', 'cz', 'daelim', 'dafier',\n",
       "       'dafra', 'dam', 'damon', 'dandy', 'dayang', 'dayton', 'dayun',\n",
       "       'db motors', 'de dion-bouton', 'delfast', 'demak', 'derbi',\n",
       "       'derringer', 'df motor', 'dfang', 'di blasi', 'diamo', 'dihao',\n",
       "       'dinamo', 'dinli', 'dirico', 'dkw', 'dnepr', 'docker', 'dodge',\n",
       "       'dollar', 'donghai', 'douglas', 'drysdale', 'ducati', 'dürkopp',\n",
       "       'e-max', 'e-racer', 'e-ton', 'e-tropolis', 'eagle-wing', 'ebretti',\n",
       "       'eccity', 'ecosse', 'ecrp', 'eko', 'electric city',\n",
       "       'electric motion', 'emblem', 'emco', 'energica', 'enfield',\n",
       "       'erik buell racing', 'evader', 'evolet', 'evolve', 'excelsior',\n",
       "       'exile cycles', 'factory bike', 'falcon', 'fantic', 'fb mondial',\n",
       "       'fgr', 'fischer', 'flying merkel', 'flyrite choppers', 'fokamo',\n",
       "       'fosti', 'fuego', 'fx bikes', 'g&g', 'garelli', 'gas gas', 'geely',\n",
       "       'genata', 'generic', 'genuine scooter', 'geon', 'gg',\n",
       "       'ghezzi-brian', 'giantco', 'gibbs', 'gilera', 'goes', 'gogo moto',\n",
       "       'gogoro', 'govecs', 'grc moto', 'greentrans', 'greeves', 'gymotor',\n",
       "       'hadin', 'hamachi', 'hanway', 'haojin', 'haojue',\n",
       "       'harley-davidson', 'hartford', 'hdm', 'headbanger', 'heinkel',\n",
       "       'henderson', 'herald', 'hercules', 'hero', 'hesketh', 'highland',\n",
       "       'hildebrand-wolfmüller', 'hm', 'hodaka', 'honda', 'horex',\n",
       "       'horwin', 'hp power', 'hunter', 'husaberg', 'husqvarna', 'hyosung',\n",
       "       'ice bear', 'indian', 'innoscooter', 'intrepid', 'irbis',\n",
       "       'italika', 'italjet', 'italmoto', 'izh', 'izuka', 'james', 'janus',\n",
       "       'jawa', 'jawa-cz', 'jialing', 'jianshe', 'jincheng', 'jinlun',\n",
       "       'joerns motor', 'johammer', 'johnny pag', 'jonway', 'jordan',\n",
       "       'jotagas', 'jrl', 'junak', 'k2o', 'kabirdass', 'kangda', 'kanuni',\n",
       "       'kasinski', 'kawasaki', 'kayo', 'keeway', 'kenbo', 'kentoya',\n",
       "       'kikker 5150', 'kinetic', 'kinroad', 'kollter', 'kramit', 'krc',\n",
       "       'kreidler', 'ksr', 'ktm', 'kuba', 'kuberg', 'kumpan', 'kurazai',\n",
       "       'kymco', 'lambretta', 'lauge jensen', 'laverda', 'lea francis',\n",
       "       'lectrix', 'lehman trikes', 'lem', 'leonart', 'leonhardt',\n",
       "       'lexmoto', 'lifan', 'lightning', 'ligier', 'linhai', 'lintex',\n",
       "       'lit motors', 'lito', 'livewire', 'lml', 'lohia', 'loncin',\n",
       "       'longjia', 'lsl', 'luxxon', 'macbor', 'magnat debon', 'magni',\n",
       "       'mahindra', 'maico', 'malaguti', 'malanca',\n",
       "       'marine turbine technologies', 'marks', 'marsh', 'marusho', 'mash',\n",
       "       'matchless', 'mavizen', 'mbk', 'mbs', 'megelli', 'metisse', 'mgb',\n",
       "       'mh', 'midual', 'mikilon', 'millet', 'mini', 'minsk', 'mission',\n",
       "       'mitt', 'mm', 'modenas', 'monark', 'mondial', 'montesa',\n",
       "       'monto motors', 'moto gima', 'moto guzzi', 'moto morini',\n",
       "       'moto union/omv', 'motobi', 'motoczysz', 'motolevo', 'motom',\n",
       "       'motomel', 'motoposh', 'motorhispania', 'motorino',\n",
       "       'motors europe', 'mototrans', 'motowell', 'motus', 'mustang',\n",
       "       'muz', 'mv agusta', 'mz', 'münch', 'ncr', 'neander', 'neco',\n",
       "       'nembo', 'new hudson', 'nimbus', 'nipponia', 'niu', 'norton',\n",
       "       'nox', 'nsu', 'nuuk', 'ohvale', 'okinawa', 'opel', 'orcal',\n",
       "       'orient', 'orion', 'oset', 'ossa', 'otto bike', 'over', 'oxygen',\n",
       "       'pagsta', 'palmo', 'pannonia', 'panther', 'paton', 'peda',\n",
       "       'penton', 'peraves', 'perks and birch', 'peugeot', 'pgo',\n",
       "       'piaggio', 'pierce', 'pitster pro', 'polaris', 'polini', 'pope',\n",
       "       'power chief', 'praga', 'prc (pro racing cycles)',\n",
       "       'precision cycle works', 'pro-one', 'proeco', 'puch', 'puma',\n",
       "       'qingqi', 'qjmotor', 'qlink', 'qooder', 'quadro', 'quantya',\n",
       "       'raleigh', 'ravi piaggio', 'raybar', 'reading standard',\n",
       "       'red wing', 'redneck', 'revolt', 'rewaco', 'rhino', 'rickman',\n",
       "       'ridley', 'riedel', 'rieju', 'rikuo', 'road hopper', 'rockford',\n",
       "       'roehr', 'rokon', 'romet', 'roxon', 'royal alloy', 'royal pioneer',\n",
       "       'rucker performance', 'rudge', 'sachs', 'samurai chopper',\n",
       "       'sanglas', 'sanya', 'sarolea', 'saxon', 'saxxx', 'schickel',\n",
       "       'schwinn', 'scomadi', 'scorpa', 'scott', 'sears', 'seat', 'senke',\n",
       "       'serpento', 'shanyang', 'sherco', 'shineray', 'shinetime',\n",
       "       'siamoto', 'silence', 'silk', 'simplex', 'simson', 'sinnis',\n",
       "       'skygo', 'skyteam', 'sommer', 'sonik', 'sora', 'soriano', 'sparta',\n",
       "       'standbike', 'starway/chu lan', 'stealth', 'stels',\n",
       "       'sucker punch sallys', 'sukida', 'sunbeam', 'sundiro',\n",
       "       'super gato', 'super motor', 'super soco', 'suzuki', 'suzuko',\n",
       "       'svm', 'swaygo', 'swift', 'swm', 'sym', 'tacita', 'tank sports',\n",
       "       'tao motor', 'tauris', 'tayo', 'techo electra', 'terra modena',\n",
       "       'terrot', 'tgb', 'thumpstar', 'tiger', 'titan', 'tm racing',\n",
       "       'tohqi', 'tomberlin', 'tomos', 'tork', 'torrot', 'track',\n",
       "       'travertson', 'triton', 'triumph', 'troll', 'trs', 'tunturi',\n",
       "       'tvs', 'ultra', 'um', 'unu', 'ural', 'vahrenkamp', 'valenti',\n",
       "       'van veen', 'vastro', 'vectrix', 'veli', 'velocette', 'veloci',\n",
       "       'vent', 'vento', 'vertemati', 'vertigo', 'vervemoto', 'vespa',\n",
       "       'vetter', 'viarelli', 'vibgyor', 'victoria', 'victory', 'vincent',\n",
       "       'vins', 'viper', 'vmoto', 'voge', 'volta', 'von dutch', 'vor',\n",
       "       'voskhod', 'voxan', 'vuka', 'vyrus', 'wakan', 'werner',\n",
       "       'west coast choppers', 'whizzer', 'wk', 'wrm', 'wsk', 'wt motors',\n",
       "       'xingfu', 'xingyue', 'xispa', 'xmotos', 'xor', 'yadea', 'yale',\n",
       "       'yamaha', 'yangtze', 'yiben', 'yobykes', 'yuki', 'zanella', 'zero',\n",
       "       'zest', 'zev', 'znen', 'zongshen', 'zontes', 'zweirad-union',\n",
       "       'zündapp'], dtype=object)"
      ]
     },
     "execution_count": 2,
     "metadata": {},
     "output_type": "execute_result"
    }
   ],
   "source": [
    "# .unique() will give you a view of all of the potential outcomes in 'Brand'\n",
    "df['Brand'].unique()"
   ]
  },
  {
   "cell_type": "markdown",
   "metadata": {},
   "source": [
    "## Brands you've never heard of aside, what are we looking for? \n",
    "\n",
    "Though there have historically been a huge number of manufacturers with varying degrees of success, we're specifically looking for diamonds, regardless of country of origin, make, or model: if our goal is critical acclaim, let's then look at what the critics say, but let's first make sure that the critics actually said something. "
   ]
  },
  {
   "cell_type": "code",
   "execution_count": 7,
   "metadata": {
    "scrolled": true
   },
   "outputs": [
    {
     "data": {
      "text/plain": [
       "219918"
      ]
     },
     "execution_count": 7,
     "metadata": {},
     "output_type": "execute_result"
    }
   ],
   "source": [
    "df.isnull().sum().sum()"
   ]
  },
  {
   "cell_type": "code",
   "execution_count": 8,
   "metadata": {
    "scrolled": true
   },
   "outputs": [
    {
     "name": "stdout",
     "output_type": "stream",
     "text": [
      "<class 'pandas.core.frame.DataFrame'>\n",
      "RangeIndex: 38472 entries, 0 to 38471\n",
      "Data columns (total 28 columns):\n",
      " #   Column               Non-Null Count  Dtype  \n",
      "---  ------               --------------  -----  \n",
      " 0   Brand                38472 non-null  object \n",
      " 1   Model                38444 non-null  object \n",
      " 2   Year                 38472 non-null  int64  \n",
      " 3   Category             38472 non-null  object \n",
      " 4   Rating               21788 non-null  float64\n",
      " 5   Displacement (ccm)   37461 non-null  float64\n",
      " 6   Power (hp)           26110 non-null  float64\n",
      " 7   Torque (Nm)          16634 non-null  float64\n",
      " 8   Engine cylinder      38461 non-null  object \n",
      " 9   Engine stroke        38461 non-null  object \n",
      " 10  Gearbox              32675 non-null  object \n",
      " 11  Bore (mm)            28689 non-null  float64\n",
      " 12  Stroke (mm)          28689 non-null  object \n",
      " 13  Fuel capacity (lts)  31704 non-null  float64\n",
      " 14  Fuel system          27844 non-null  object \n",
      " 15  Fuel control         22008 non-null  object \n",
      " 16  Cooling system       34258 non-null  object \n",
      " 17  Transmission type    32861 non-null  object \n",
      " 18  Dry weight (kg)      22483 non-null  float64\n",
      " 19  Wheelbase (mm)       25493 non-null  float64\n",
      " 20  Seat height (mm)     24182 non-null  float64\n",
      " 21  Front brakes         36889 non-null  object \n",
      " 22  Rear brakes          36696 non-null  object \n",
      " 23  Front tire           31982 non-null  object \n",
      " 24  Rear tire            32008 non-null  object \n",
      " 25  Front suspension     26109 non-null  object \n",
      " 26  Rear suspension      25625 non-null  object \n",
      " 27  Color options        24328 non-null  object \n",
      "dtypes: float64(9), int64(1), object(18)\n",
      "memory usage: 8.2+ MB\n"
     ]
    }
   ],
   "source": [
    "df.info()"
   ]
  },
  {
   "cell_type": "code",
   "execution_count": 9,
   "metadata": {},
   "outputs": [],
   "source": [
    "df = df.dropna()"
   ]
  },
  {
   "cell_type": "code",
   "execution_count": 12,
   "metadata": {},
   "outputs": [],
   "source": [
    "# What categories are highly correlated to 'Rating'? \n",
    "preds = []\n",
    "for i in df.corr()['Rating'].index:\n",
    "    if abs(df.corr()['Rating'][i]) > 0:\n",
    "        preds.append(i)"
   ]
  },
  {
   "cell_type": "code",
   "execution_count": 13,
   "metadata": {},
   "outputs": [
    {
     "data": {
      "text/html": [
       "<div>\n",
       "<style scoped>\n",
       "    .dataframe tbody tr th:only-of-type {\n",
       "        vertical-align: middle;\n",
       "    }\n",
       "\n",
       "    .dataframe tbody tr th {\n",
       "        vertical-align: top;\n",
       "    }\n",
       "\n",
       "    .dataframe thead th {\n",
       "        text-align: right;\n",
       "    }\n",
       "</style>\n",
       "<table border=\"1\" class=\"dataframe\">\n",
       "  <thead>\n",
       "    <tr style=\"text-align: right;\">\n",
       "      <th></th>\n",
       "      <th>Year</th>\n",
       "      <th>Rating</th>\n",
       "      <th>Displacement (ccm)</th>\n",
       "      <th>Power (hp)</th>\n",
       "      <th>Torque (Nm)</th>\n",
       "      <th>Bore (mm)</th>\n",
       "      <th>Fuel capacity (lts)</th>\n",
       "      <th>Dry weight (kg)</th>\n",
       "      <th>Wheelbase (mm)</th>\n",
       "      <th>Seat height (mm)</th>\n",
       "    </tr>\n",
       "  </thead>\n",
       "  <tbody>\n",
       "    <tr>\n",
       "      <th>Year</th>\n",
       "      <td>1.000000</td>\n",
       "      <td>-0.124482</td>\n",
       "      <td>0.073572</td>\n",
       "      <td>0.047298</td>\n",
       "      <td>0.090871</td>\n",
       "      <td>0.073073</td>\n",
       "      <td>0.030029</td>\n",
       "      <td>0.073778</td>\n",
       "      <td>0.072141</td>\n",
       "      <td>-0.035917</td>\n",
       "    </tr>\n",
       "    <tr>\n",
       "      <th>Rating</th>\n",
       "      <td>-0.124482</td>\n",
       "      <td>1.000000</td>\n",
       "      <td>0.264354</td>\n",
       "      <td>0.214983</td>\n",
       "      <td>0.265243</td>\n",
       "      <td>0.217992</td>\n",
       "      <td>0.279262</td>\n",
       "      <td>0.209896</td>\n",
       "      <td>0.182865</td>\n",
       "      <td>0.038402</td>\n",
       "    </tr>\n",
       "    <tr>\n",
       "      <th>Displacement (ccm)</th>\n",
       "      <td>0.073572</td>\n",
       "      <td>0.264354</td>\n",
       "      <td>1.000000</td>\n",
       "      <td>0.661359</td>\n",
       "      <td>0.962469</td>\n",
       "      <td>0.773344</td>\n",
       "      <td>0.654265</td>\n",
       "      <td>0.811809</td>\n",
       "      <td>0.711076</td>\n",
       "      <td>-0.255896</td>\n",
       "    </tr>\n",
       "    <tr>\n",
       "      <th>Power (hp)</th>\n",
       "      <td>0.047298</td>\n",
       "      <td>0.214983</td>\n",
       "      <td>0.661359</td>\n",
       "      <td>1.000000</td>\n",
       "      <td>0.797149</td>\n",
       "      <td>0.572155</td>\n",
       "      <td>0.566838</td>\n",
       "      <td>0.327473</td>\n",
       "      <td>0.324695</td>\n",
       "      <td>0.246490</td>\n",
       "    </tr>\n",
       "    <tr>\n",
       "      <th>Torque (Nm)</th>\n",
       "      <td>0.090871</td>\n",
       "      <td>0.265243</td>\n",
       "      <td>0.962469</td>\n",
       "      <td>0.797149</td>\n",
       "      <td>1.000000</td>\n",
       "      <td>0.761586</td>\n",
       "      <td>0.675614</td>\n",
       "      <td>0.728967</td>\n",
       "      <td>0.648251</td>\n",
       "      <td>-0.110939</td>\n",
       "    </tr>\n",
       "    <tr>\n",
       "      <th>Bore (mm)</th>\n",
       "      <td>0.073073</td>\n",
       "      <td>0.217992</td>\n",
       "      <td>0.773344</td>\n",
       "      <td>0.572155</td>\n",
       "      <td>0.761586</td>\n",
       "      <td>1.000000</td>\n",
       "      <td>0.502672</td>\n",
       "      <td>0.543578</td>\n",
       "      <td>0.574575</td>\n",
       "      <td>-0.003251</td>\n",
       "    </tr>\n",
       "    <tr>\n",
       "      <th>Fuel capacity (lts)</th>\n",
       "      <td>0.030029</td>\n",
       "      <td>0.279262</td>\n",
       "      <td>0.654265</td>\n",
       "      <td>0.566838</td>\n",
       "      <td>0.675614</td>\n",
       "      <td>0.502672</td>\n",
       "      <td>1.000000</td>\n",
       "      <td>0.667360</td>\n",
       "      <td>0.597111</td>\n",
       "      <td>0.033131</td>\n",
       "    </tr>\n",
       "    <tr>\n",
       "      <th>Dry weight (kg)</th>\n",
       "      <td>0.073778</td>\n",
       "      <td>0.209896</td>\n",
       "      <td>0.811809</td>\n",
       "      <td>0.327473</td>\n",
       "      <td>0.728967</td>\n",
       "      <td>0.543578</td>\n",
       "      <td>0.667360</td>\n",
       "      <td>1.000000</td>\n",
       "      <td>0.805321</td>\n",
       "      <td>-0.442269</td>\n",
       "    </tr>\n",
       "    <tr>\n",
       "      <th>Wheelbase (mm)</th>\n",
       "      <td>0.072141</td>\n",
       "      <td>0.182865</td>\n",
       "      <td>0.711076</td>\n",
       "      <td>0.324695</td>\n",
       "      <td>0.648251</td>\n",
       "      <td>0.574575</td>\n",
       "      <td>0.597111</td>\n",
       "      <td>0.805321</td>\n",
       "      <td>1.000000</td>\n",
       "      <td>-0.345611</td>\n",
       "    </tr>\n",
       "    <tr>\n",
       "      <th>Seat height (mm)</th>\n",
       "      <td>-0.035917</td>\n",
       "      <td>0.038402</td>\n",
       "      <td>-0.255896</td>\n",
       "      <td>0.246490</td>\n",
       "      <td>-0.110939</td>\n",
       "      <td>-0.003251</td>\n",
       "      <td>0.033131</td>\n",
       "      <td>-0.442269</td>\n",
       "      <td>-0.345611</td>\n",
       "      <td>1.000000</td>\n",
       "    </tr>\n",
       "  </tbody>\n",
       "</table>\n",
       "</div>"
      ],
      "text/plain": [
       "                         Year    Rating  Displacement (ccm)  Power (hp)  \\\n",
       "Year                 1.000000 -0.124482            0.073572    0.047298   \n",
       "Rating              -0.124482  1.000000            0.264354    0.214983   \n",
       "Displacement (ccm)   0.073572  0.264354            1.000000    0.661359   \n",
       "Power (hp)           0.047298  0.214983            0.661359    1.000000   \n",
       "Torque (Nm)          0.090871  0.265243            0.962469    0.797149   \n",
       "Bore (mm)            0.073073  0.217992            0.773344    0.572155   \n",
       "Fuel capacity (lts)  0.030029  0.279262            0.654265    0.566838   \n",
       "Dry weight (kg)      0.073778  0.209896            0.811809    0.327473   \n",
       "Wheelbase (mm)       0.072141  0.182865            0.711076    0.324695   \n",
       "Seat height (mm)    -0.035917  0.038402           -0.255896    0.246490   \n",
       "\n",
       "                     Torque (Nm)  Bore (mm)  Fuel capacity (lts)  \\\n",
       "Year                    0.090871   0.073073             0.030029   \n",
       "Rating                  0.265243   0.217992             0.279262   \n",
       "Displacement (ccm)      0.962469   0.773344             0.654265   \n",
       "Power (hp)              0.797149   0.572155             0.566838   \n",
       "Torque (Nm)             1.000000   0.761586             0.675614   \n",
       "Bore (mm)               0.761586   1.000000             0.502672   \n",
       "Fuel capacity (lts)     0.675614   0.502672             1.000000   \n",
       "Dry weight (kg)         0.728967   0.543578             0.667360   \n",
       "Wheelbase (mm)          0.648251   0.574575             0.597111   \n",
       "Seat height (mm)       -0.110939  -0.003251             0.033131   \n",
       "\n",
       "                     Dry weight (kg)  Wheelbase (mm)  Seat height (mm)  \n",
       "Year                        0.073778        0.072141         -0.035917  \n",
       "Rating                      0.209896        0.182865          0.038402  \n",
       "Displacement (ccm)          0.811809        0.711076         -0.255896  \n",
       "Power (hp)                  0.327473        0.324695          0.246490  \n",
       "Torque (Nm)                 0.728967        0.648251         -0.110939  \n",
       "Bore (mm)                   0.543578        0.574575         -0.003251  \n",
       "Fuel capacity (lts)         0.667360        0.597111          0.033131  \n",
       "Dry weight (kg)             1.000000        0.805321         -0.442269  \n",
       "Wheelbase (mm)              0.805321        1.000000         -0.345611  \n",
       "Seat height (mm)           -0.442269       -0.345611          1.000000  "
      ]
     },
     "execution_count": 13,
     "metadata": {},
     "output_type": "execute_result"
    }
   ],
   "source": [
    "df[preds].corr()"
   ]
  },
  {
   "cell_type": "code",
   "execution_count": 14,
   "metadata": {
    "scrolled": true
   },
   "outputs": [
    {
     "data": {
      "text/html": [
       "<div>\n",
       "<style scoped>\n",
       "    .dataframe tbody tr th:only-of-type {\n",
       "        vertical-align: middle;\n",
       "    }\n",
       "\n",
       "    .dataframe tbody tr th {\n",
       "        vertical-align: top;\n",
       "    }\n",
       "\n",
       "    .dataframe thead th {\n",
       "        text-align: right;\n",
       "    }\n",
       "</style>\n",
       "<table border=\"1\" class=\"dataframe\">\n",
       "  <thead>\n",
       "    <tr style=\"text-align: right;\">\n",
       "      <th></th>\n",
       "      <th>Brand</th>\n",
       "      <th>Model</th>\n",
       "      <th>Year</th>\n",
       "      <th>Category</th>\n",
       "      <th>Rating</th>\n",
       "      <th>Displacement (ccm)</th>\n",
       "      <th>Power (hp)</th>\n",
       "      <th>Torque (Nm)</th>\n",
       "      <th>Engine cylinder</th>\n",
       "      <th>Engine stroke</th>\n",
       "      <th>...</th>\n",
       "      <th>Dry weight (kg)</th>\n",
       "      <th>Wheelbase (mm)</th>\n",
       "      <th>Seat height (mm)</th>\n",
       "      <th>Front brakes</th>\n",
       "      <th>Rear brakes</th>\n",
       "      <th>Front tire</th>\n",
       "      <th>Rear tire</th>\n",
       "      <th>Front suspension</th>\n",
       "      <th>Rear suspension</th>\n",
       "      <th>Color options</th>\n",
       "    </tr>\n",
       "  </thead>\n",
       "  <tbody>\n",
       "    <tr>\n",
       "      <th>195</th>\n",
       "      <td>aeon</td>\n",
       "      <td>cobra 50</td>\n",
       "      <td>2012</td>\n",
       "      <td>ATV</td>\n",
       "      <td>2.6</td>\n",
       "      <td>49.3</td>\n",
       "      <td>3.0</td>\n",
       "      <td>3.7</td>\n",
       "      <td>Single cylinder</td>\n",
       "      <td>two-stroke</td>\n",
       "      <td>...</td>\n",
       "      <td>129.0</td>\n",
       "      <td>1050.0</td>\n",
       "      <td>800.0</td>\n",
       "      <td>Expanding brake (drum brake)</td>\n",
       "      <td>Single disc</td>\n",
       "      <td>19/7-8</td>\n",
       "      <td>18/10-8</td>\n",
       "      <td>Dual hydraulic shock, Single A-arm</td>\n",
       "      <td>Single hydraulic shock, Unit swing arm</td>\n",
       "      <td>White, black</td>\n",
       "    </tr>\n",
       "    <tr>\n",
       "      <th>203</th>\n",
       "      <td>aeon</td>\n",
       "      <td>crossland x4 400</td>\n",
       "      <td>2012</td>\n",
       "      <td>ATV</td>\n",
       "      <td>3.5</td>\n",
       "      <td>346.0</td>\n",
       "      <td>20.1</td>\n",
       "      <td>30.0</td>\n",
       "      <td>Single cylinder</td>\n",
       "      <td>four-stroke</td>\n",
       "      <td>...</td>\n",
       "      <td>236.0</td>\n",
       "      <td>1230.0</td>\n",
       "      <td>850.0</td>\n",
       "      <td>Double disc</td>\n",
       "      <td>Expanding brake (drum brake)</td>\n",
       "      <td>23/7-12</td>\n",
       "      <td>23/10-12</td>\n",
       "      <td>Double A-Arm</td>\n",
       "      <td>Swing Arm</td>\n",
       "      <td>Red, black</td>\n",
       "    </tr>\n",
       "    <tr>\n",
       "      <th>226</th>\n",
       "      <td>aeon</td>\n",
       "      <td>urban 350i</td>\n",
       "      <td>2012</td>\n",
       "      <td>Scooter</td>\n",
       "      <td>3.6</td>\n",
       "      <td>313.0</td>\n",
       "      <td>22.8</td>\n",
       "      <td>30.0</td>\n",
       "      <td>Single cylinder</td>\n",
       "      <td>four-stroke</td>\n",
       "      <td>...</td>\n",
       "      <td>177.0</td>\n",
       "      <td>1545.0</td>\n",
       "      <td>815.0</td>\n",
       "      <td>Single disc. Hydraulic</td>\n",
       "      <td>Single disc. Hydraulic</td>\n",
       "      <td>120/70-16</td>\n",
       "      <td>140/70-15</td>\n",
       "      <td>Telescopic fork</td>\n",
       "      <td>Dual-damper unit swing arm</td>\n",
       "      <td>White, black, silver</td>\n",
       "    </tr>\n",
       "    <tr>\n",
       "      <th>361</th>\n",
       "      <td>ajp</td>\n",
       "      <td>pr4 125 enduro</td>\n",
       "      <td>2010</td>\n",
       "      <td>Enduro / offroad</td>\n",
       "      <td>3.3</td>\n",
       "      <td>124.0</td>\n",
       "      <td>12.5</td>\n",
       "      <td>8.5</td>\n",
       "      <td>Single cylinder</td>\n",
       "      <td>four-stroke</td>\n",
       "      <td>...</td>\n",
       "      <td>105.0</td>\n",
       "      <td>1410.0</td>\n",
       "      <td>910.0</td>\n",
       "      <td>Single disc. 2 piston calliper</td>\n",
       "      <td>Single disc. 4 piston calliper</td>\n",
       "      <td>90/90-21</td>\n",
       "      <td>120/90-18</td>\n",
       "      <td>Paioli Hydraulic fork,</td>\n",
       "      <td>Sachs mono shock progressive action</td>\n",
       "      <td>Black</td>\n",
       "    </tr>\n",
       "    <tr>\n",
       "      <th>408</th>\n",
       "      <td>ajp</td>\n",
       "      <td>pr7 adventure 650</td>\n",
       "      <td>2018</td>\n",
       "      <td>Enduro / offroad</td>\n",
       "      <td>3.7</td>\n",
       "      <td>659.7</td>\n",
       "      <td>48.0</td>\n",
       "      <td>58.0</td>\n",
       "      <td>Single cylinder</td>\n",
       "      <td>four-stroke</td>\n",
       "      <td>...</td>\n",
       "      <td>155.0</td>\n",
       "      <td>1540.0</td>\n",
       "      <td>920.0</td>\n",
       "      <td>Single disc. 2-piston calipers</td>\n",
       "      <td>Single disc. Single-piston caliper</td>\n",
       "      <td>90/90-21</td>\n",
       "      <td>140/80-18</td>\n",
       "      <td>ZF Sachs Ø48mm fully adjustable</td>\n",
       "      <td>ZF Sachs progressive system with reservatory f...</td>\n",
       "      <td>White/red/black</td>\n",
       "    </tr>\n",
       "  </tbody>\n",
       "</table>\n",
       "<p>5 rows × 28 columns</p>\n",
       "</div>"
      ],
      "text/plain": [
       "    Brand              Model  Year          Category  Rating  \\\n",
       "195  aeon           cobra 50  2012               ATV     2.6   \n",
       "203  aeon   crossland x4 400  2012               ATV     3.5   \n",
       "226  aeon         urban 350i  2012           Scooter     3.6   \n",
       "361   ajp     pr4 125 enduro  2010  Enduro / offroad     3.3   \n",
       "408   ajp  pr7 adventure 650  2018  Enduro / offroad     3.7   \n",
       "\n",
       "     Displacement (ccm)  Power (hp)  Torque (Nm)  Engine cylinder  \\\n",
       "195                49.3         3.0          3.7  Single cylinder   \n",
       "203               346.0        20.1         30.0  Single cylinder   \n",
       "226               313.0        22.8         30.0  Single cylinder   \n",
       "361               124.0        12.5          8.5  Single cylinder   \n",
       "408               659.7        48.0         58.0  Single cylinder   \n",
       "\n",
       "    Engine stroke  ... Dry weight (kg)  Wheelbase (mm) Seat height (mm)  \\\n",
       "195    two-stroke  ...           129.0          1050.0            800.0   \n",
       "203   four-stroke  ...           236.0          1230.0            850.0   \n",
       "226   four-stroke  ...           177.0          1545.0            815.0   \n",
       "361   four-stroke  ...           105.0          1410.0            910.0   \n",
       "408   four-stroke  ...           155.0          1540.0            920.0   \n",
       "\n",
       "                       Front brakes                         Rear brakes  \\\n",
       "195    Expanding brake (drum brake)                         Single disc   \n",
       "203                     Double disc        Expanding brake (drum brake)   \n",
       "226          Single disc. Hydraulic              Single disc. Hydraulic   \n",
       "361  Single disc. 2 piston calliper      Single disc. 4 piston calliper   \n",
       "408  Single disc. 2-piston calipers  Single disc. Single-piston caliper   \n",
       "\n",
       "     Front tire   Rear tire                    Front suspension  \\\n",
       "195     19/7-8     18/10-8   Dual hydraulic shock, Single A-arm   \n",
       "203    23/7-12    23/10-12                         Double A-Arm   \n",
       "226  120/70-16   140/70-15                      Telescopic fork   \n",
       "361   90/90-21   120/90-18               Paioli Hydraulic fork,   \n",
       "408   90/90-21   140/80-18      ZF Sachs Ø48mm fully adjustable   \n",
       "\n",
       "                                       Rear suspension         Color options  \n",
       "195             Single hydraulic shock, Unit swing arm          White, black  \n",
       "203                                          Swing Arm            Red, black  \n",
       "226                         Dual-damper unit swing arm  White, black, silver  \n",
       "361                Sachs mono shock progressive action                 Black  \n",
       "408  ZF Sachs progressive system with reservatory f...       White/red/black  \n",
       "\n",
       "[5 rows x 28 columns]"
      ]
     },
     "execution_count": 14,
     "metadata": {},
     "output_type": "execute_result"
    }
   ],
   "source": [
    "# Preview first five rows and admire our work\n",
    "df.head()"
   ]
  },
  {
   "cell_type": "code",
   "execution_count": 15,
   "metadata": {},
   "outputs": [
    {
     "name": "stdout",
     "output_type": "stream",
     "text": [
      "<class 'pandas.core.frame.DataFrame'>\n",
      "Int64Index: 1747 entries, 195 to 38298\n",
      "Data columns (total 28 columns):\n",
      " #   Column               Non-Null Count  Dtype  \n",
      "---  ------               --------------  -----  \n",
      " 0   Brand                1747 non-null   object \n",
      " 1   Model                1747 non-null   object \n",
      " 2   Year                 1747 non-null   int64  \n",
      " 3   Category             1747 non-null   object \n",
      " 4   Rating               1747 non-null   float64\n",
      " 5   Displacement (ccm)   1747 non-null   float64\n",
      " 6   Power (hp)           1747 non-null   float64\n",
      " 7   Torque (Nm)          1747 non-null   float64\n",
      " 8   Engine cylinder      1747 non-null   object \n",
      " 9   Engine stroke        1747 non-null   object \n",
      " 10  Gearbox              1747 non-null   object \n",
      " 11  Bore (mm)            1747 non-null   float64\n",
      " 12  Stroke (mm)          1747 non-null   object \n",
      " 13  Fuel capacity (lts)  1747 non-null   float64\n",
      " 14  Fuel system          1747 non-null   object \n",
      " 15  Fuel control         1747 non-null   object \n",
      " 16  Cooling system       1747 non-null   object \n",
      " 17  Transmission type    1747 non-null   object \n",
      " 18  Dry weight (kg)      1747 non-null   float64\n",
      " 19  Wheelbase (mm)       1747 non-null   float64\n",
      " 20  Seat height (mm)     1747 non-null   float64\n",
      " 21  Front brakes         1747 non-null   object \n",
      " 22  Rear brakes          1747 non-null   object \n",
      " 23  Front tire           1747 non-null   object \n",
      " 24  Rear tire            1747 non-null   object \n",
      " 25  Front suspension     1747 non-null   object \n",
      " 26  Rear suspension      1747 non-null   object \n",
      " 27  Color options        1747 non-null   object \n",
      "dtypes: float64(9), int64(1), object(18)\n",
      "memory usage: 395.8+ KB\n"
     ]
    }
   ],
   "source": [
    "df.info()"
   ]
  },
  {
   "cell_type": "markdown",
   "metadata": {},
   "source": [
    "<div class=\"alert alert-block alert-info\">\n",
    "There are a few things that we should look into prior to making a train_test_split; what do we believe will contribute to a higher rating for a motorcycle? Is there any data here that we can identify that may or may not give us those answers? Specifically we should see if we can make any sense out of all of the null values in this dataset. \n",
    "</div>"
   ]
  },
  {
   "cell_type": "markdown",
   "metadata": {},
   "source": [
    "# What makes a rating, good? "
   ]
  },
  {
   "cell_type": "code",
   "execution_count": null,
   "metadata": {},
   "outputs": [],
   "source": [
    "# .unique() will give you all of the potential scores found in the 'Rating' column \n",
    "df['Rating'].unique()"
   ]
  },
  {
   "cell_type": "markdown",
   "metadata": {},
   "source": [
    "<div class=\"alert alert-block alert-info\">\n",
    "Since it would appear that our ratings work on a 5 point system, let's take a look at the motorcycle whose sales performance we would like to replicate: the Yamaha MT-07 and the Suzuki SV650.\n",
    "</div>"
   ]
  },
  {
   "cell_type": "markdown",
   "metadata": {},
   "source": [
    "# Yamaha MT-07 & Suzuki SV650\n",
    "\n",
    "If like me, you are an avid motorcycle rider, you know, have known, or are someone on one of these bikes. \n",
    "\n",
    "<center>\n",
    "<table><tr>\n",
    "<td> <img src=\"pictures/yamaha mt07.jfif\" alt=\"Drawing\" style=\"width: 250px;\"/> </td>\n",
    "<td> <img src=\"pictures/suzuki sv650.jfif\" alt=\"Drawing\" style=\"width: 250px;\"/> </td>\n",
    "</tr></table>\n",
    "MT-07 and SV650, respectively</center>\n",
    "<!-- <img src=\"pictures/yamaha mt07.jfif\" />\n",
    "<img src=\"pictures/suzuki sv650.jfif\" /> -->"
   ]
  },
  {
   "cell_type": "code",
   "execution_count": null,
   "metadata": {},
   "outputs": [],
   "source": [
    "# Find all included models that are an MT-07\n",
    "df_yamaha = df.loc[df['Model'] == 'mt-07']\n",
    "df_yamaha.head(1)"
   ]
  },
  {
   "cell_type": "code",
   "execution_count": null,
   "metadata": {},
   "outputs": [],
   "source": [
    "# Find all models that have the name SV650\n",
    "df_suzuki = df.loc[df['Model'] == 'sv650']\n",
    "df_suzuki.head(1)"
   ]
  },
  {
   "cell_type": "code",
   "execution_count": null,
   "metadata": {},
   "outputs": [],
   "source": [
    "# Bring in numpy\n",
    "import numpy as np"
   ]
  },
  {
   "cell_type": "code",
   "execution_count": null,
   "metadata": {},
   "outputs": [],
   "source": [
    "# Average of ratings scores for the MT-07\n",
    "yamaha_mean = np.mean(df_yamaha['Rating'].unique())\n",
    "print('The average score of all year-model MT-07 in dataset:{}'.format(yamaha_mean))"
   ]
  },
  {
   "cell_type": "code",
   "execution_count": null,
   "metadata": {},
   "outputs": [],
   "source": [
    "# Average of ratings scores for the SV650\n",
    "suzuki_mean = np.mean(df_suzuki['Rating'].unique())\n",
    "print('The average score of all year-model SV650 in dataset:{}'.format(suzuki_mean))"
   ]
  },
  {
   "cell_type": "code",
   "execution_count": null,
   "metadata": {},
   "outputs": [],
   "source": [
    "# Nothing fancy here, find the average of the two scores\n",
    "rating_success = (yamaha_mean + suzuki_mean) / 2\n",
    "print('Ultimately, this will be our ratings goal:{}'.format(rating_success))"
   ]
  },
  {
   "cell_type": "markdown",
   "metadata": {},
   "source": [
    "# Binary values for 'Rating'\n",
    "Now that we have an average score for 'Rating', let's make a new column that will give us binary results, 1 being a rating above 3.4, 0 being a rating below. "
   ]
  },
  {
   "cell_type": "code",
   "execution_count": null,
   "metadata": {},
   "outputs": [],
   "source": [
    "# Let's look for all of the unique values for the column 'Rating'\n",
    "df['Rating'].unique()"
   ]
  },
  {
   "cell_type": "code",
   "execution_count": null,
   "metadata": {},
   "outputs": [],
   "source": [
    "# As detailed above, anything lower than 3.4 is outside of our target\n",
    "rating_num = np.where(df[\"Rating\"]>=(3.4), 1, 0)"
   ]
  },
  {
   "cell_type": "code",
   "execution_count": null,
   "metadata": {},
   "outputs": [],
   "source": [
    "# Our \"Rating\" column will now return a '1' for bikes that got a rating of 3.4 or above, 0 for scores\n",
    "# below 3.4\n",
    "rating_num"
   ]
  },
  {
   "cell_type": "code",
   "execution_count": null,
   "metadata": {},
   "outputs": [],
   "source": [
    "# In order to attach this data to our current table we will need to make it into a dataframe\n",
    "data = pd.DataFrame(rating_num, columns = ['Rating_'])\n",
    "data.head()"
   ]
  },
  {
   "cell_type": "code",
   "execution_count": null,
   "metadata": {},
   "outputs": [],
   "source": [
    "# Preview binary rating counts\n",
    "data.value_counts()"
   ]
  },
  {
   "cell_type": "code",
   "execution_count": null,
   "metadata": {},
   "outputs": [],
   "source": [
    "# Drop 'Rating' column \n",
    "df = df.drop(columns = 'Rating', axis =1)\n",
    "df.head()"
   ]
  },
  {
   "cell_type": "code",
   "execution_count": null,
   "metadata": {},
   "outputs": [],
   "source": [
    "# Put our new 'Rating_' column into our dataframe\n",
    "df = pd.concat([df,data], axis =1)"
   ]
  },
  {
   "cell_type": "code",
   "execution_count": null,
   "metadata": {
    "scrolled": true
   },
   "outputs": [],
   "source": [
    "# Make sure it worked\n",
    "df.head()"
   ]
  },
  {
   "cell_type": "code",
   "execution_count": null,
   "metadata": {},
   "outputs": [],
   "source": [
    "# Preview data\n",
    "df.info()"
   ]
  },
  {
   "cell_type": "markdown",
   "metadata": {},
   "source": [
    "# Preprocessing data for train_test_split\n",
    "\n",
    "## There's no replacement for displacement"
   ]
  },
  {
   "cell_type": "code",
   "execution_count": null,
   "metadata": {},
   "outputs": [],
   "source": [
    "# 'Displacement (ccm)' would be how many cubic centimeters of engine displacement/size a bike's \n",
    "# engine has\n",
    "print(df['Displacement (ccm)'].value_counts())\n",
    "print()\n",
    "print('There are {} null values in \"Displacement (ccm)\" '.format(df['Displacement (ccm)'].isnull().sum()))"
   ]
  },
  {
   "cell_type": "markdown",
   "metadata": {},
   "source": [
    "<div class=\"alert alert-block alert-info\">\n",
    "Even though 8857 null values in 'Displacement (ccm)' would seem like a lot, engine displacement is an incredibly subjective parameter for a motorcycle. \n",
    "</div>"
   ]
  },
  {
   "cell_type": "code",
   "execution_count": null,
   "metadata": {},
   "outputs": [],
   "source": [
    "# Drop null values for displacement\n",
    "df = df.dropna(subset =['Displacement (ccm)'])"
   ]
  },
  {
   "cell_type": "code",
   "execution_count": null,
   "metadata": {},
   "outputs": [],
   "source": [
    "# Preview dataset and identify what other work needs to be done\n",
    "df.head()"
   ]
  },
  {
   "cell_type": "markdown",
   "metadata": {},
   "source": [
    "<div class=\"alert alert-block alert-info\">\n",
    "Now that we have preprocessed one column in our dataset, let's take a look at what other columns we should consider processing. \n",
    "</div>"
   ]
  },
  {
   "cell_type": "code",
   "execution_count": null,
   "metadata": {},
   "outputs": [],
   "source": [
    "# Number of null values in df['Displacement (ccm)']\n",
    "df['Displacement (ccm)'].isnull().sum()"
   ]
  },
  {
   "cell_type": "code",
   "execution_count": null,
   "metadata": {},
   "outputs": [],
   "source": [
    "# Preview data\n",
    "df.info()"
   ]
  },
  {
   "cell_type": "markdown",
   "metadata": {},
   "source": [
    "<div class=\"alert alert-block alert-warning\">\n",
    "There are a few considerations that we should make; there are 21684 total entries and we can assume that any column with fewer than that are null values. There are however a few things to keep in mind when rationalizing whether or not we should drop these values and ultimately, whether or not we should keep them at all. \n",
    "<br><br>    \n",
    "Looking specifically at 'Torque (Nm)', this would imply that the motorcycle in question has at one point or another been put on a dyno to read out torque specs. While this is typically considered the \"fun\" value in a bike, let's first make a model with all null values in 'Torque (Nm' expunged. Once we have that model created and fitted, let's also look at a model that does not take into account torque figures. \n",
    "</div>"
   ]
  },
  {
   "cell_type": "markdown",
   "metadata": {},
   "source": [
    "\n",
    "\n",
    "A dynamometer test is typically used to tell you the torque capabilities in your engine. Developed first in 1798, the technology has come a _long_ way since. <br><br>\n",
    "\n",
    "<img src=\"pictures/DIY_dyno_complete1.jpg.crdownload\" width = '500'/>\n",
    "<center>Photo of DIY Dyno build from skrunkwerks.com</center><br><br>\n",
    "Modern dynamometer testing is done by pushing air into the air filter (or turbo if you're on a drag monster) in order to simulate flow at speed and to push cool air into the radiator. By strapping the bike to the dyno, we are then able to get power readouts via sensors in the flywheel where the rear tire can put power to the device. <br><br>\n",
    "I suspect that the bikes that do not have a torque reading either did not get tested due to extenuating circumstances (smaller displacement bikes, cruisers, and dirt bikes are usually not tested) or, the modern dynamometer was not available for some years of model submission. "
   ]
  },
  {
   "cell_type": "markdown",
   "metadata": {},
   "source": [
    "# Model with torque numbers intact\n",
    "\n",
    "As suggested, we will first look at bikes that _have_ torque (nm) information. "
   ]
  },
  {
   "cell_type": "code",
   "execution_count": null,
   "metadata": {},
   "outputs": [],
   "source": [
    "# Remove null values from df['Torque (Nm)']\n",
    "df = df.dropna(subset =['Torque (Nm)'])"
   ]
  },
  {
   "cell_type": "code",
   "execution_count": null,
   "metadata": {},
   "outputs": [],
   "source": [
    "# Preview our data to see what other columns need pruning\n",
    "df.info()"
   ]
  },
  {
   "cell_type": "markdown",
   "metadata": {},
   "source": [
    "<div class=\"alert alert-block alert-warning\">\n",
    "There are a few considerations that we should in regards to null values and whether or not we believe these should be included in the first place. Since we have not made these values into numbers via encoding and therefore cannot yet see correlation to our target, responsibly we should only address lines with FULL information. <br><br> \n",
    "    \n",
    "In other words, we should rid our dataset of null values prior to cutting out any column information. \n",
    "    \n",
    "<br>\n",
    "This isn't always the case, but for our purposes:\n",
    "</div>"
   ]
  },
  {
   "cell_type": "markdown",
   "metadata": {},
   "source": [
    "# If the value is null, it has to go"
   ]
  },
  {
   "cell_type": "code",
   "execution_count": null,
   "metadata": {},
   "outputs": [],
   "source": [
    "# Drop null values data that we intend on using for modeling\n",
    "df = df.dropna(subset =['Model', 'Power (hp)', 'Engine cylinder', 'Engine stroke', 'Gearbox', 'Bore (mm)', 'Stroke (mm)',\n",
    "                       'Fuel capacity (lts)', 'Fuel system', 'Fuel control', 'Cooling system', 'Transmission type', \n",
    "                       'Dry weight (kg)', 'Wheelbase (mm)', 'Seat height (mm)', 'Front brakes', 'Rear brakes', 'Front tire',\n",
    "                       'Rear tire', 'Front suspension', 'Rear suspension', 'Rating_'])"
   ]
  },
  {
   "cell_type": "markdown",
   "metadata": {},
   "source": [
    "Because 'Color options' would seem to be a pretty objective thing and typically motorcycle manufacturers have up to 4-5 years to introducing new colorways per generation model of bike, this will ultimately be unnecessary for our model. "
   ]
  },
  {
   "cell_type": "code",
   "execution_count": null,
   "metadata": {},
   "outputs": [],
   "source": [
    "# Remove df['Color options']\n",
    "df = df.drop(columns = 'Color options', axis = 1)"
   ]
  },
  {
   "cell_type": "code",
   "execution_count": null,
   "metadata": {},
   "outputs": [],
   "source": [
    "# Preview our new dataset\n",
    "df.head()"
   ]
  },
  {
   "cell_type": "code",
   "execution_count": null,
   "metadata": {},
   "outputs": [],
   "source": [
    "# Information on our new dataset\n",
    "df.info()"
   ]
  },
  {
   "cell_type": "markdown",
   "metadata": {},
   "source": [
    "To round out our preprocessing step, we should take out any unnecessary information, like 'Brand' and 'Model'.  "
   ]
  },
  {
   "cell_type": "code",
   "execution_count": null,
   "metadata": {},
   "outputs": [],
   "source": [
    "# Drop df['Brand']\n",
    "df = df.drop(columns = 'Brand', axis =1)"
   ]
  },
  {
   "cell_type": "code",
   "execution_count": null,
   "metadata": {},
   "outputs": [],
   "source": [
    "# Drop df['Model']\n",
    "df = df.drop(columns = 'Model', axis =1)"
   ]
  },
  {
   "cell_type": "markdown",
   "metadata": {},
   "source": [
    "<div class=\"alert alert-block alert-info\">\n",
    "Now that we have pruned all null information from our data set let's address remaining categorical data by dummying them. "
   ]
  },
  {
   "cell_type": "markdown",
   "metadata": {},
   "source": [
    "# Dummy categorical columns\n",
    "\n",
    "Let's split our data into a categorical variable and dummy them into binary columns."
   ]
  },
  {
   "cell_type": "code",
   "execution_count": null,
   "metadata": {
    "scrolled": true
   },
   "outputs": [],
   "source": [
    "# Categorical/object columns can be found from df.info(), above\n",
    "categoricals = ['Category','Engine cylinder', 'Engine stroke', 'Gearbox', 'Stroke (mm)', 'Fuel system', 'Fuel control', \n",
    "                'Cooling system', 'Transmission type', 'Front brakes', 'Rear brakes', 'Front tire', 'Rear tire', \n",
    "                'Front suspension', 'Rear suspension']\n",
    "\n",
    "# Our dataframe needs to be encoded. OHE can also be utilized, for this time we will use \n",
    "# pd.get_dummies()\n",
    "df = pd.get_dummies(df, columns=categoricals)\n",
    "# Preview our dummied columns\n",
    "df.head()"
   ]
  },
  {
   "cell_type": "markdown",
   "metadata": {},
   "source": [
    "<div class=\"alert alert-block alert-success\">\n",
    "It looks like our columns were successfully dummied. Now we will need to split our data for modeling. \n",
    "</div>"
   ]
  },
  {
   "cell_type": "markdown",
   "metadata": {},
   "source": [
    "## train_test_split\n"
   ]
  },
  {
   "cell_type": "code",
   "execution_count": null,
   "metadata": {},
   "outputs": [],
   "source": [
    "# target is 'y'\n",
    "target = df['Rating_']\n",
    "# X is the new name that we will use for our data. For testing purposes we may re-use \n",
    "#'df' if it produces better results.\n",
    "X = df.drop(columns = 'Rating_', axis =1)"
   ]
  },
  {
   "cell_type": "code",
   "execution_count": null,
   "metadata": {},
   "outputs": [],
   "source": [
    "#import train_test_split\n",
    "from sklearn.model_selection import train_test_split\n",
    "\n",
    "# Create variables for modeling\n",
    "X_train, X_test, y_train, y_test = train_test_split (X, target, random_state = 42)"
   ]
  },
  {
   "cell_type": "markdown",
   "metadata": {},
   "source": [
    "#  Baseline Model 1.0: \n",
    "First we will try a single DecisionTree"
   ]
  },
  {
   "cell_type": "code",
   "execution_count": null,
   "metadata": {},
   "outputs": [],
   "source": [
    "#import DecisionTreeClassifier\n",
    "from sklearn.tree import DecisionTreeClassifier \n",
    "dtc = DecisionTreeClassifier(random_state=42)  \n",
    "# fit classifier onto training data\n",
    "dtc.fit(X_train, y_train) "
   ]
  },
  {
   "cell_type": "code",
   "execution_count": null,
   "metadata": {},
   "outputs": [],
   "source": [
    "print('DecisionTree Model training score: {}'.format(dtc.score(X_train, y_train)))"
   ]
  },
  {
   "cell_type": "code",
   "execution_count": null,
   "metadata": {},
   "outputs": [],
   "source": [
    "print('DecisionTree Model test score: {}'.format(dtc.score(X_test, y_test)))"
   ]
  },
  {
   "cell_type": "markdown",
   "metadata": {},
   "source": [
    "<div class=\"alert alert-block alert-danger\">\n",
    "Our first model is built on a decision tree and the performance is not great. This is done with no regard to hyperparameters, so let's call this our baseline model. If that's the case, let's see how we can improve it. \n",
    "</div>"
   ]
  },
  {
   "cell_type": "markdown",
   "metadata": {},
   "source": [
    "# KNN: K-Nearest-Neighbors\n",
    "KNN or K-Nearest-Neighbors is a distance based estimator; we will need to scale our data prior to modeling it in order to get best results. \n"
   ]
  },
  {
   "cell_type": "code",
   "execution_count": null,
   "metadata": {},
   "outputs": [],
   "source": [
    "# This next step can be done without instantiating a pipeline but the tool makes the process simpler\n",
    "from sklearn.preprocessing import StandardScaler\n",
    "from sklearn.neighbors import KNeighborsClassifier\n",
    "from sklearn.pipeline import Pipeline\n",
    "\n",
    "\n",
    "knn_pipeline = Pipeline([('ss', StandardScaler()),\n",
    "                        ('knn', KNeighborsClassifier())])"
   ]
  },
  {
   "cell_type": "code",
   "execution_count": null,
   "metadata": {},
   "outputs": [],
   "source": [
    "# Fit our knn_pipeline onto our training data, testing data and then see scores\n",
    "knn_pipeline.fit(X_train,y_train)\n",
    "\n",
    "print('KNN Training performance:{}'.format(knn_pipeline.score(X_train,y_train)))\n",
    "print('KNN Test performance:{}'.format(knn_pipeline.score(X_test,y_test)))"
   ]
  },
  {
   "cell_type": "markdown",
   "metadata": {},
   "source": [
    "Performance on our KNN model is not bad, but let's see if there is something that can give us a better test performance. "
   ]
  },
  {
   "cell_type": "markdown",
   "metadata": {},
   "source": [
    "# Bagged Decision Tree Model: \n",
    "\n",
    "Bagging is a form of ensemble model training. Bagging, the term is short for bootstrap aggregating."
   ]
  },
  {
   "cell_type": "code",
   "execution_count": null,
   "metadata": {},
   "outputs": [],
   "source": [
    "# import BaggingClassifier\n",
    "from sklearn.ensemble import BaggingClassifier\n",
    "b_tree =  BaggingClassifier(DecisionTreeClassifier(criterion='entropy', max_depth=5), \n",
    "                                 n_estimators=20, random_state = 42)\n",
    "# fit model on training data\n",
    "b_tree.fit(X_train, y_train)"
   ]
  },
  {
   "cell_type": "code",
   "execution_count": null,
   "metadata": {
    "scrolled": true
   },
   "outputs": [],
   "source": [
    "# Training data score\n",
    "print('Bagged model training score: {}'.format(b_tree.score(X_train, y_train)))\n"
   ]
  },
  {
   "cell_type": "code",
   "execution_count": null,
   "metadata": {
    "scrolled": true
   },
   "outputs": [],
   "source": [
    "# Testing data score\n",
    "print('Bagged model test score: {}'.format(b_tree.score(X_test, y_test)))\n"
   ]
  },
  {
   "cell_type": "markdown",
   "metadata": {},
   "source": [
    "<div class=\"alert alert-block alert-success\">\n",
    "Our model has made improvements and does not appear to be overfitting. We can move forward with these parameters but first, let's see if GridSearchCV can build a better model. \n",
    "</div>"
   ]
  },
  {
   "cell_type": "markdown",
   "metadata": {},
   "source": [
    "# DecisionTree Model 2.0: \n",
    "\n",
    "We will try using cross-validation to see if we can up the score of our base Decision Tree Model 1.0. Cross-validation assists with overfitting, and even though it did not appear that our model overfit the data, it is still worth a try.  "
   ]
  },
  {
   "cell_type": "code",
   "execution_count": null,
   "metadata": {},
   "outputs": [],
   "source": [
    "# import cross_val_score from sklearn\n",
    "from sklearn.model_selection import cross_val_score\n",
    "# We will re-use 'dtc', our DecisionTreeClassifier() from earlier\n",
    "\n",
    "dtc_cross_score = cross_val_score(dtc, X_train, y_train, cv = 3)\n",
    "mean_dtc_cross_score = np.mean(dtc_cross_score)\n",
    "\n",
    "print('Mean Cross-Validation Score:{}'.format(mean_dtc_cross_score))"
   ]
  },
  {
   "cell_type": "markdown",
   "metadata": {},
   "source": [
    "<div class=\"alert alert-block alert-danger\">\n",
    "The performance on this model is worse than the first base DecisionTree that we put together. We will scrap this version for now and move forward with our Bagged Decision Tree. \n",
    "</div>"
   ]
  },
  {
   "cell_type": "markdown",
   "metadata": {},
   "source": [
    "# Hyperparameter tuning on our First Decision Tree:\n",
    "\n",
    "We will tune our DecisionTree Model using GridsearchCV. <br><br>\n",
    "GridsearchCV is a very powerful tool that can tell us what tuning parameters are the best for this dataframe. "
   ]
  },
  {
   "cell_type": "code",
   "execution_count": null,
   "metadata": {
    "scrolled": true
   },
   "outputs": [],
   "source": [
    "# Bring in hyperparameter keys for DecisionTreeClassifier\n",
    "DecisionTreeClassifier().get_params().keys()"
   ]
  },
  {
   "cell_type": "code",
   "execution_count": null,
   "metadata": {
    "scrolled": true
   },
   "outputs": [],
   "source": [
    "# We should create a new param_grid for this section so that we can more easily \n",
    "# import GridSearchCV\n",
    "from sklearn.model_selection import GridSearchCV\n",
    "\n",
    "\n",
    "dtc_grid_search = GridSearchCV(estimator = (DecisionTreeClassifier(n_estimators=20, random_state = 42)), \n",
    "                               param_grid = {\n",
    "                                   'criterion': ['gini', 'entropy','log_loss'],\n",
    "                                   'max_depth': [10,20,30],\n",
    "                                   'random_state': [42]\n",
    "                               }, \n",
    "                                  cv = 3\n",
    "                                  )\n",
    "\n",
    "#Fit GridSearchCV function to our data\n",
    "dtc_grid_search.fit(X_train, y_train)"
   ]
  },
  {
   "cell_type": "code",
   "execution_count": null,
   "metadata": {
    "scrolled": true
   },
   "outputs": [],
   "source": [
    "# Our mean training score\n",
    "dtc_training_score = dtc_grid_search.score(X_train, y_train)\n",
    "\n",
    "# Mean Test score\n",
    "dtc_testing_score = dtc_grid_search.score(X_test, y_test)\n",
    "\n",
    "print(f\"Mean Training Score: {dtc_training_score :.2%}\")\n",
    "print(f\"Mean Test Score: {dtc_testing_score :.2%}\")\n",
    "print(\"Best Parameter Combination Found During Grid Search:\")\n",
    "dtc_grid_search.best_params_"
   ]
  },
  {
   "cell_type": "markdown",
   "metadata": {},
   "source": [
    "# Hyperparameter tuning on our Bagged Decision Tree:\n",
    "Since we tuned the hyperparameters on our worst performing model, let's see if we can improve the score on our best performing model. "
   ]
  },
  {
   "cell_type": "code",
   "execution_count": null,
   "metadata": {
    "scrolled": true
   },
   "outputs": [],
   "source": [
    "# Since we are hyperparameter tuning a BaggingClassifier for the first time, let's see what exactly\n",
    "# we are allowed to tune. Further reading : \n",
    "# https://scikit-learn.org/stable/modules/generated/sklearn.ensemble.BaggingClassifier.html\n",
    "from sklearn.ensemble import RandomForestClassifier\n",
    "RandomForestClassifier().get_params().keys()"
   ]
  },
  {
   "cell_type": "code",
   "execution_count": null,
   "metadata": {},
   "outputs": [],
   "source": [
    "classifier = BaggingClassifier(DecisionTreeClassifier(criterion='entropy', max_depth=5), \n",
    "                                 n_estimators=20, random_state = 42)"
   ]
  },
  {
   "cell_type": "code",
   "execution_count": null,
   "metadata": {},
   "outputs": [],
   "source": [
    "# For GridSearchCV, we can set possible parameters in this cell and fit GridsearchCV to cross-validate\n",
    "# all possible parameters for best outcome. \n",
    "\n",
    "# param_grid = {\n",
    "# #     'base_estimator': [None], # This will default to a DecisionTreeClassifier\n",
    "#     'bootstrap': [True], # Default option, true bootstrapping is done by replacement\n",
    "#     'bootstrap_features': [True], #Default option\n",
    "#     'max_features': [1,2,3], # This is the number of base_estimators to train from X\n",
    "#     'max_samples': [1,2,3,4], #Number of sample to draw from X to train each base_estimator\n",
    "#     'n_estimators': [20,50,100], #Number of base_estimators in ensemble\n",
    "# #     'n_jobs': [-1], # -1 uses all processors to fit and predict on model\n",
    "#     'oob_score': [True,False], # Whether or not to use 'out-of-bag' samples or not\n",
    "#     'random_state': [42], # The answer to the universe\n",
    "#     'verbose': [0], # Unsure what verbosity is, looking to see what happens\n",
    "#     'warm_start': [True,False] # When 'True', reuses previous solution and adds estimators to ensemble\n",
    "    \n",
    "# }"
   ]
  },
  {
   "cell_type": "code",
   "execution_count": null,
   "metadata": {},
   "outputs": [],
   "source": [
    "# Fun Fact: This will take around 3-4 minutes to run, 'Alright' by Kenrick Lamar is a good choice\n",
    "\n",
    "# We can re-use our Bagged DecisionTree, b_tree to improve performance on our Bagged DecisionTree\n",
    "# import GridSearchCV\n",
    "\n",
    "\n",
    "# Instantiate GridSearchCV\n",
    "b_tree_grid_search = GridSearchCV(bag_classifier, #bag_classifier is our bagged DecisionTree\n",
    "                                  param_grid = {\n",
    "                                   'criterion': ['gini', 'entropy','log_loss'],\n",
    "                                   'max_depth': [10,20,30],\n",
    "                                   'random_state': [42]\n",
    "                               }, \n",
    "                                  cv = 3 \n",
    "                                  )\n",
    "\n",
    "#Fit GridSearchCV function to our data\n",
    "b_tree_grid_search.fit(X_train, y_train)"
   ]
  },
  {
   "cell_type": "code",
   "execution_count": null,
   "metadata": {},
   "outputs": [],
   "source": [
    "# Our mean training score\n",
    "b_tree_training_score = b_tree_grid_search.score(X_train, y_train)\n",
    "\n",
    "# Mean Test score\n",
    "b_tree_testing_score = b_tree_grid_search.score(X_test, y_test)\n",
    "\n",
    "print(f\"Mean Training Score: {b_tree_training_score :.2%}\")\n",
    "print(f\"Mean Test Score: {b_tree_testing_score :.2%}\")\n",
    "print(\"Best Parameter Combination Found During Grid Search:\")\n",
    "b_tree_grid_search.best_params_"
   ]
  },
  {
   "cell_type": "code",
   "execution_count": null,
   "metadata": {},
   "outputs": [],
   "source": []
  },
  {
   "cell_type": "code",
   "execution_count": null,
   "metadata": {},
   "outputs": [],
   "source": []
  }
 ],
 "metadata": {
  "kernelspec": {
   "display_name": "Python (learn-env)",
   "language": "python",
   "name": "lean-env"
  },
  "language_info": {
   "codemirror_mode": {
    "name": "ipython",
    "version": 3
   },
   "file_extension": ".py",
   "mimetype": "text/x-python",
   "name": "python",
   "nbconvert_exporter": "python",
   "pygments_lexer": "ipython3",
   "version": "3.8.5"
  }
 },
 "nbformat": 4,
 "nbformat_minor": 4
}
